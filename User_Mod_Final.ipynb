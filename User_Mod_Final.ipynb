{
  "nbformat": 4,
  "nbformat_minor": 0,
  "metadata": {
    "colab": {
      "name": "User_Mod_File_v2.ipynb",
      "provenance": [],
      "collapsed_sections": [
        "a5AzuWo30uoa",
        "Mx34Jt520_6O",
        "9pTeKMaGRgym",
        "OvGS-BDORXZg",
        "pVcSkJx3RSxj",
        "DgyzklXwm4EC",
        "s_OB2XfGm_sh"
      ],
      "toc_visible": true
    },
    "kernelspec": {
      "name": "python3",
      "display_name": "Python 3"
    }
  },
  "cells": [
    {
      "cell_type": "markdown",
      "metadata": {
        "id": "a5AzuWo30uoa",
        "colab_type": "text"
      },
      "source": [
        "#Data Loading"
      ]
    },
    {
      "cell_type": "code",
      "metadata": {
        "id": "pHo00EVS0rJZ",
        "colab_type": "code",
        "colab": {}
      },
      "source": [
        "import pandas as pd\n",
        "import numpy as np\n",
        "import datetime as dt\n",
        "from sklearn.cluster import KMeans\n",
        "from sklearn.metrics import silhouette_samples, silhouette_score\n",
        "from sklearn.preprocessing import MinMaxScaler"
      ],
      "execution_count": 0,
      "outputs": []
    },
    {
      "cell_type": "code",
      "metadata": {
        "id": "2QtySAr-0yDv",
        "colab_type": "code",
        "colab": {}
      },
      "source": [
        "dev=pd.read_csv('/content/drive/My Drive/Project Future/Project/data/devices.csv')\n",
        "notif=pd.read_csv('/content/drive/My Drive/Project Future/Project/data/notifications.csv')\n",
        "tr1=pd.read_csv('/content/drive/My Drive/Project Future/Project/data/transactions_1.csv')\n",
        "tr2=pd.read_csv('/content/drive/My Drive/Project Future/Project/data/transactions_2.csv')\n",
        "tr3=pd.read_csv('/content/drive/My Drive/Project Future/Project/data/transactions_3.csv')\n",
        "us=pd.read_csv('/content/drive/My Drive/Project Future/Project/data/users.csv')"
      ],
      "execution_count": 0,
      "outputs": []
    },
    {
      "cell_type": "code",
      "metadata": {
        "id": "OMdno4Gv0zfK",
        "colab_type": "code",
        "colab": {}
      },
      "source": [
        "tr=pd.DataFrame()\n",
        "tr=tr.append(tr1)\n",
        "tr=tr.append(tr2)\n",
        "tr=tr.append(tr3)"
      ],
      "execution_count": 0,
      "outputs": []
    },
    {
      "cell_type": "markdown",
      "metadata": {
        "id": "Mx34Jt520_6O",
        "colab_type": "text"
      },
      "source": [
        "#Transactions"
      ]
    },
    {
      "cell_type": "code",
      "metadata": {
        "id": "AfN7uZdG07gW",
        "colab_type": "code",
        "outputId": "4dd64432-5d38-4273-b38c-057509cab83e",
        "colab": {
          "base_uri": "https://localhost:8080/"
        }
      },
      "source": [
        "trans=tr\n",
        "trans.columns"
      ],
      "execution_count": 0,
      "outputs": [
        {
          "output_type": "execute_result",
          "data": {
            "text/plain": [
              "Index(['transaction_id', 'transactions_type', 'transactions_currency',\n",
              "       'amount_usd', 'transactions_state', 'ea_cardholderpresence',\n",
              "       'ea_merchant_mcc', 'ea_merchant_city', 'ea_merchant_country',\n",
              "       'direction', 'user_id', 'created_date'],\n",
              "      dtype='object')"
            ]
          },
          "metadata": {
            "tags": []
          },
          "execution_count": 4
        }
      ]
    },
    {
      "cell_type": "code",
      "metadata": {
        "id": "8rkkAAch1EQz",
        "colab_type": "code",
        "outputId": "bbf43ef2-e116-4b16-8db5-d9b8197f197a",
        "colab": {
          "base_uri": "https://localhost:8080/"
        }
      },
      "source": [
        "trans=trans.drop(columns=[\"transaction_id\",\"transactions_currency\",\"ea_cardholderpresence\",\"ea_merchant_city\",\"ea_merchant_country\"])\n",
        "trans.columns"
      ],
      "execution_count": 0,
      "outputs": [
        {
          "output_type": "execute_result",
          "data": {
            "text/plain": [
              "Index(['transactions_type', 'amount_usd', 'transactions_state',\n",
              "       'ea_merchant_mcc', 'direction', 'user_id', 'created_date'],\n",
              "      dtype='object')"
            ]
          },
          "metadata": {
            "tags": []
          },
          "execution_count": 5
        }
      ]
    },
    {
      "cell_type": "code",
      "metadata": {
        "id": "21zDtrpK1ICx",
        "colab_type": "code",
        "outputId": "0f15ea7d-9122-406d-c053-f21c61f15118",
        "colab": {
          "base_uri": "https://localhost:8080/"
        }
      },
      "source": [
        "print(trans.transactions_state.value_counts(),\"\\n\")\n",
        "print(trans.transactions_type.value_counts(),\"\\n\")\n",
        "print(trans.direction.value_counts(),\"\\n\")"
      ],
      "execution_count": 0,
      "outputs": [
        {
          "output_type": "stream",
          "text": [
            "COMPLETED    1916387\n",
            "DECLINED      124226\n",
            "REVERTED       89330\n",
            "FAILED         32566\n",
            "PENDING        17153\n",
            "CANCELLED       1364\n",
            "Name: transactions_state, dtype: int64 \n",
            "\n",
            "CARD_PAYMENT    1173661\n",
            "TRANSFER         402126\n",
            "TOPUP            309740\n",
            "EXCHANGE         124800\n",
            "ATM               74181\n",
            "CASHBACK          65063\n",
            "FEE               18786\n",
            "CARD_REFUND        9209\n",
            "TAX                2267\n",
            "REFUND             1193\n",
            "Name: transactions_type, dtype: int64 \n",
            "\n",
            "OUTBOUND    1759079\n",
            "INBOUND      421947\n",
            "Name: direction, dtype: int64 \n",
            "\n"
          ],
          "name": "stdout"
        }
      ]
    },
    {
      "cell_type": "code",
      "metadata": {
        "id": "HAnLGL5w1L0s",
        "colab_type": "code",
        "outputId": "f8ac04d4-6c6a-436c-c8d6-854d5169d12c",
        "colab": {
          "base_uri": "https://localhost:8080/"
        }
      },
      "source": [
        "print(\"All rows \",trans.shape[0])\n",
        "trans=trans[trans.amount_usd<=2.5*10**6]\n",
        "print(\"amount_usd<2.5*10^6 rows: \",trans.shape[0])\n",
        "trans=trans[(trans.transactions_state==\"COMPLETED\")]\n",
        "print(\"Only completed trans: \",trans.shape[0])\n",
        "trans.describe()"
      ],
      "execution_count": 0,
      "outputs": [
        {
          "output_type": "stream",
          "text": [
            "All rows  2181026\n",
            "amount_usd<2.5*10^6 rows:  2180930\n",
            "Only completed trans:  1916387\n"
          ],
          "name": "stdout"
        },
        {
          "output_type": "execute_result",
          "data": {
            "text/html": [
              "<div>\n",
              "<style scoped>\n",
              "    .dataframe tbody tr th:only-of-type {\n",
              "        vertical-align: middle;\n",
              "    }\n",
              "\n",
              "    .dataframe tbody tr th {\n",
              "        vertical-align: top;\n",
              "    }\n",
              "\n",
              "    .dataframe thead th {\n",
              "        text-align: right;\n",
              "    }\n",
              "</style>\n",
              "<table border=\"1\" class=\"dataframe\">\n",
              "  <thead>\n",
              "    <tr style=\"text-align: right;\">\n",
              "      <th></th>\n",
              "      <th>amount_usd</th>\n",
              "      <th>ea_merchant_mcc</th>\n",
              "    </tr>\n",
              "  </thead>\n",
              "  <tbody>\n",
              "    <tr>\n",
              "      <th>count</th>\n",
              "      <td>1.916387e+06</td>\n",
              "      <td>1.070144e+06</td>\n",
              "    </tr>\n",
              "    <tr>\n",
              "      <th>mean</th>\n",
              "      <td>6.452131e+01</td>\n",
              "      <td>5.695772e+03</td>\n",
              "    </tr>\n",
              "    <tr>\n",
              "      <th>std</th>\n",
              "      <td>9.122444e+02</td>\n",
              "      <td>9.157216e+02</td>\n",
              "    </tr>\n",
              "    <tr>\n",
              "      <th>min</th>\n",
              "      <td>0.000000e+00</td>\n",
              "      <td>7.420000e+02</td>\n",
              "    </tr>\n",
              "    <tr>\n",
              "      <th>25%</th>\n",
              "      <td>2.400000e+00</td>\n",
              "      <td>5.411000e+03</td>\n",
              "    </tr>\n",
              "    <tr>\n",
              "      <th>50%</th>\n",
              "      <td>8.510000e+00</td>\n",
              "      <td>5.812000e+03</td>\n",
              "    </tr>\n",
              "    <tr>\n",
              "      <th>75%</th>\n",
              "      <td>2.809000e+01</td>\n",
              "      <td>5.815000e+03</td>\n",
              "    </tr>\n",
              "    <tr>\n",
              "      <th>max</th>\n",
              "      <td>6.127665e+05</td>\n",
              "      <td>9.406000e+03</td>\n",
              "    </tr>\n",
              "  </tbody>\n",
              "</table>\n",
              "</div>"
            ],
            "text/plain": [
              "         amount_usd  ea_merchant_mcc\n",
              "count  1.916387e+06     1.070144e+06\n",
              "mean   6.452131e+01     5.695772e+03\n",
              "std    9.122444e+02     9.157216e+02\n",
              "min    0.000000e+00     7.420000e+02\n",
              "25%    2.400000e+00     5.411000e+03\n",
              "50%    8.510000e+00     5.812000e+03\n",
              "75%    2.809000e+01     5.815000e+03\n",
              "max    6.127665e+05     9.406000e+03"
            ]
          },
          "metadata": {
            "tags": []
          },
          "execution_count": 7
        }
      ]
    },
    {
      "cell_type": "code",
      "metadata": {
        "id": "1Cu6O2DP1RHV",
        "colab_type": "code",
        "outputId": "68135fc7-1c28-4862-b9e5-cefcc1632678",
        "colab": {
          "base_uri": "https://localhost:8080/"
        }
      },
      "source": [
        "#Κρατάμε outbound Transfer, Exchange, card_payment, ATM και Inbound Transfer, TopUp\n",
        "test=trans.pivot_table(columns=\"direction\",index=[\"transactions_type\",\"transactions_state\"],\\\n",
        "                       values=\"amount_usd\",aggfunc=\"sum\",fill_value=\"\",margins=\"row grand total\")\n",
        "test"
      ],
      "execution_count": 0,
      "outputs": [
        {
          "output_type": "execute_result",
          "data": {
            "text/html": [
              "<div>\n",
              "<style scoped>\n",
              "    .dataframe tbody tr th:only-of-type {\n",
              "        vertical-align: middle;\n",
              "    }\n",
              "\n",
              "    .dataframe tbody tr th {\n",
              "        vertical-align: top;\n",
              "    }\n",
              "\n",
              "    .dataframe thead th {\n",
              "        text-align: right;\n",
              "    }\n",
              "</style>\n",
              "<table border=\"1\" class=\"dataframe\">\n",
              "  <thead>\n",
              "    <tr style=\"text-align: right;\">\n",
              "      <th></th>\n",
              "      <th>direction</th>\n",
              "      <th>INBOUND</th>\n",
              "      <th>OUTBOUND</th>\n",
              "      <th>All</th>\n",
              "    </tr>\n",
              "    <tr>\n",
              "      <th>transactions_type</th>\n",
              "      <th>transactions_state</th>\n",
              "      <th></th>\n",
              "      <th></th>\n",
              "      <th></th>\n",
              "    </tr>\n",
              "  </thead>\n",
              "  <tbody>\n",
              "    <tr>\n",
              "      <th>ATM</th>\n",
              "      <th>COMPLETED</th>\n",
              "      <td></td>\n",
              "      <td>4.34584e+06</td>\n",
              "      <td>4.34584e+06</td>\n",
              "    </tr>\n",
              "    <tr>\n",
              "      <th>CARD_PAYMENT</th>\n",
              "      <th>COMPLETED</th>\n",
              "      <td></td>\n",
              "      <td>2.0403e+07</td>\n",
              "      <td>2.0403e+07</td>\n",
              "    </tr>\n",
              "    <tr>\n",
              "      <th>CARD_REFUND</th>\n",
              "      <th>COMPLETED</th>\n",
              "      <td>598569</td>\n",
              "      <td></td>\n",
              "      <td>598569</td>\n",
              "    </tr>\n",
              "    <tr>\n",
              "      <th>CASHBACK</th>\n",
              "      <th>COMPLETED</th>\n",
              "      <td>5561.8</td>\n",
              "      <td></td>\n",
              "      <td>5561.8</td>\n",
              "    </tr>\n",
              "    <tr>\n",
              "      <th>EXCHANGE</th>\n",
              "      <th>COMPLETED</th>\n",
              "      <td></td>\n",
              "      <td>2.4137e+07</td>\n",
              "      <td>2.4137e+07</td>\n",
              "    </tr>\n",
              "    <tr>\n",
              "      <th>FEE</th>\n",
              "      <th>COMPLETED</th>\n",
              "      <td></td>\n",
              "      <td>152523</td>\n",
              "      <td>152523</td>\n",
              "    </tr>\n",
              "    <tr>\n",
              "      <th>REFUND</th>\n",
              "      <th>COMPLETED</th>\n",
              "      <td>477460</td>\n",
              "      <td></td>\n",
              "      <td>477460</td>\n",
              "    </tr>\n",
              "    <tr>\n",
              "      <th>TAX</th>\n",
              "      <th>COMPLETED</th>\n",
              "      <td></td>\n",
              "      <td>224.18</td>\n",
              "      <td>224.18</td>\n",
              "    </tr>\n",
              "    <tr>\n",
              "      <th>TOPUP</th>\n",
              "      <th>COMPLETED</th>\n",
              "      <td>4.62064e+07</td>\n",
              "      <td></td>\n",
              "      <td>4.62064e+07</td>\n",
              "    </tr>\n",
              "    <tr>\n",
              "      <th>TRANSFER</th>\n",
              "      <th>COMPLETED</th>\n",
              "      <td>2.07244e+06</td>\n",
              "      <td>2.52488e+07</td>\n",
              "      <td>2.73213e+07</td>\n",
              "    </tr>\n",
              "    <tr>\n",
              "      <th>All</th>\n",
              "      <th></th>\n",
              "      <td>4.93604e+07</td>\n",
              "      <td>7.42874e+07</td>\n",
              "      <td>1.23648e+08</td>\n",
              "    </tr>\n",
              "  </tbody>\n",
              "</table>\n",
              "</div>"
            ],
            "text/plain": [
              "direction                                 INBOUND     OUTBOUND          All\n",
              "transactions_type transactions_state                                       \n",
              "ATM               COMPLETED                        4.34584e+06  4.34584e+06\n",
              "CARD_PAYMENT      COMPLETED                         2.0403e+07   2.0403e+07\n",
              "CARD_REFUND       COMPLETED                598569                    598569\n",
              "CASHBACK          COMPLETED                5561.8                    5561.8\n",
              "EXCHANGE          COMPLETED                         2.4137e+07   2.4137e+07\n",
              "FEE               COMPLETED                             152523       152523\n",
              "REFUND            COMPLETED                477460                    477460\n",
              "TAX               COMPLETED                             224.18       224.18\n",
              "TOPUP             COMPLETED           4.62064e+07               4.62064e+07\n",
              "TRANSFER          COMPLETED           2.07244e+06  2.52488e+07  2.73213e+07\n",
              "All                                   4.93604e+07  7.42874e+07  1.23648e+08"
            ]
          },
          "metadata": {
            "tags": []
          },
          "execution_count": 8
        }
      ]
    },
    {
      "cell_type": "code",
      "metadata": {
        "id": "iuaABZc-2XzT",
        "colab_type": "code",
        "outputId": "ce695bfa-d538-4f74-f6d7-cbbb11bda794",
        "colab": {
          "base_uri": "https://localhost:8080/"
        }
      },
      "source": [
        "trans=trans[(trans.transactions_type==\"ATM\")|(trans.transactions_type==\"EXCHANGE\")|(trans.transactions_type==\"TOPUP\")|(trans.transactions_type==\"CARD_PAYMENT\")|(trans.transactions_type==\"TRANSFER\")]\n",
        "print(\"useful rows: \",trans.shape[0])\n",
        "test=trans.pivot_table(columns=\"direction\",index=[\"transactions_type\",\"transactions_state\"],values=\"amount_usd\",aggfunc=\"count\",fill_value=\"\",margins=\"row grand total\")\n",
        "test"
      ],
      "execution_count": 0,
      "outputs": [
        {
          "output_type": "stream",
          "text": [
            "useful rows:  1824680\n"
          ],
          "name": "stdout"
        },
        {
          "output_type": "execute_result",
          "data": {
            "text/html": [
              "<div>\n",
              "<style scoped>\n",
              "    .dataframe tbody tr th:only-of-type {\n",
              "        vertical-align: middle;\n",
              "    }\n",
              "\n",
              "    .dataframe tbody tr th {\n",
              "        vertical-align: top;\n",
              "    }\n",
              "\n",
              "    .dataframe thead th {\n",
              "        text-align: right;\n",
              "    }\n",
              "</style>\n",
              "<table border=\"1\" class=\"dataframe\">\n",
              "  <thead>\n",
              "    <tr style=\"text-align: right;\">\n",
              "      <th></th>\n",
              "      <th>direction</th>\n",
              "      <th>INBOUND</th>\n",
              "      <th>OUTBOUND</th>\n",
              "      <th>All</th>\n",
              "    </tr>\n",
              "    <tr>\n",
              "      <th>transactions_type</th>\n",
              "      <th>transactions_state</th>\n",
              "      <th></th>\n",
              "      <th></th>\n",
              "      <th></th>\n",
              "    </tr>\n",
              "  </thead>\n",
              "  <tbody>\n",
              "    <tr>\n",
              "      <th>ATM</th>\n",
              "      <th>COMPLETED</th>\n",
              "      <td></td>\n",
              "      <td>61518</td>\n",
              "      <td>61518</td>\n",
              "    </tr>\n",
              "    <tr>\n",
              "      <th>CARD_PAYMENT</th>\n",
              "      <th>COMPLETED</th>\n",
              "      <td></td>\n",
              "      <td>999418</td>\n",
              "      <td>999418</td>\n",
              "    </tr>\n",
              "    <tr>\n",
              "      <th>EXCHANGE</th>\n",
              "      <th>COMPLETED</th>\n",
              "      <td></td>\n",
              "      <td>124800</td>\n",
              "      <td>124800</td>\n",
              "    </tr>\n",
              "    <tr>\n",
              "      <th>TOPUP</th>\n",
              "      <th>COMPLETED</th>\n",
              "      <td>242621</td>\n",
              "      <td></td>\n",
              "      <td>242621</td>\n",
              "    </tr>\n",
              "    <tr>\n",
              "      <th>TRANSFER</th>\n",
              "      <th>COMPLETED</th>\n",
              "      <td>36169</td>\n",
              "      <td>360154</td>\n",
              "      <td>396323</td>\n",
              "    </tr>\n",
              "    <tr>\n",
              "      <th>All</th>\n",
              "      <th></th>\n",
              "      <td>278790</td>\n",
              "      <td>1545890</td>\n",
              "      <td>1824680</td>\n",
              "    </tr>\n",
              "  </tbody>\n",
              "</table>\n",
              "</div>"
            ],
            "text/plain": [
              "direction                            INBOUND OUTBOUND      All\n",
              "transactions_type transactions_state                          \n",
              "ATM               COMPLETED                     61518    61518\n",
              "CARD_PAYMENT      COMPLETED                    999418   999418\n",
              "EXCHANGE          COMPLETED                    124800   124800\n",
              "TOPUP             COMPLETED           242621            242621\n",
              "TRANSFER          COMPLETED            36169   360154   396323\n",
              "All                                   278790  1545890  1824680"
            ]
          },
          "metadata": {
            "tags": []
          },
          "execution_count": 9
        }
      ]
    },
    {
      "cell_type": "markdown",
      "metadata": {
        "id": "yCO5AoU9ViOu",
        "colab_type": "text"
      },
      "source": [
        "##Transaction statistics"
      ]
    },
    {
      "cell_type": "code",
      "metadata": {
        "id": "KSwnm-JLVgg5",
        "colab_type": "code",
        "outputId": "7c32f198-951c-478a-b23a-efe95bf18626",
        "colab": {
          "base_uri": "https://localhost:8080/"
        }
      },
      "source": [
        "test=trans[(trans.transactions_type==\"ATM\")|(trans.transactions_type==\"EXCHANGE\")|(trans.transactions_type==\"CARD_PAYMENT\")|(trans.transactions_type==\"TRANSFER\")|(trans.direction==\"OUTBOUND\")]\n",
        "trans_stat=test.pivot_table(index=\"user_id\",values=\"amount_usd\",aggfunc=[\"min\",\"max\",\"mean\"],fill_value=0)\n",
        "trans_stat=pd.DataFrame(trans_stat.to_records())\n",
        "trans_stat=trans_stat.rename(columns={\"('min', 'amount_usd')\":\"min_amount_usd\",\"('max', 'amount_usd')\":\"max_amount_usd\",\"('mean', 'amount_usd')\":\"mean_amount_usd\"})\n",
        "trans_stat"
      ],
      "execution_count": 0,
      "outputs": [
        {
          "output_type": "execute_result",
          "data": {
            "text/html": [
              "<div>\n",
              "<style scoped>\n",
              "    .dataframe tbody tr th:only-of-type {\n",
              "        vertical-align: middle;\n",
              "    }\n",
              "\n",
              "    .dataframe tbody tr th {\n",
              "        vertical-align: top;\n",
              "    }\n",
              "\n",
              "    .dataframe thead th {\n",
              "        text-align: right;\n",
              "    }\n",
              "</style>\n",
              "<table border=\"1\" class=\"dataframe\">\n",
              "  <thead>\n",
              "    <tr style=\"text-align: right;\">\n",
              "      <th></th>\n",
              "      <th>user_id</th>\n",
              "      <th>min_amount_usd</th>\n",
              "      <th>max_amount_usd</th>\n",
              "      <th>mean_amount_usd</th>\n",
              "    </tr>\n",
              "  </thead>\n",
              "  <tbody>\n",
              "    <tr>\n",
              "      <th>0</th>\n",
              "      <td>user_0</td>\n",
              "      <td>0.58</td>\n",
              "      <td>510.64</td>\n",
              "      <td>10.209723</td>\n",
              "    </tr>\n",
              "    <tr>\n",
              "      <th>1</th>\n",
              "      <td>user_1</td>\n",
              "      <td>0.94</td>\n",
              "      <td>851.06</td>\n",
              "      <td>61.938624</td>\n",
              "    </tr>\n",
              "    <tr>\n",
              "      <th>2</th>\n",
              "      <td>user_10</td>\n",
              "      <td>0.01</td>\n",
              "      <td>255.22</td>\n",
              "      <td>37.871972</td>\n",
              "    </tr>\n",
              "    <tr>\n",
              "      <th>3</th>\n",
              "      <td>user_100</td>\n",
              "      <td>2.03</td>\n",
              "      <td>339.18</td>\n",
              "      <td>47.975909</td>\n",
              "    </tr>\n",
              "    <tr>\n",
              "      <th>4</th>\n",
              "      <td>user_1000</td>\n",
              "      <td>0.08</td>\n",
              "      <td>158.87</td>\n",
              "      <td>21.760000</td>\n",
              "    </tr>\n",
              "    <tr>\n",
              "      <th>...</th>\n",
              "      <td>...</td>\n",
              "      <td>...</td>\n",
              "      <td>...</td>\n",
              "      <td>...</td>\n",
              "    </tr>\n",
              "    <tr>\n",
              "      <th>13846</th>\n",
              "      <td>user_9994</td>\n",
              "      <td>1.09</td>\n",
              "      <td>372.81</td>\n",
              "      <td>38.523548</td>\n",
              "    </tr>\n",
              "    <tr>\n",
              "      <th>13847</th>\n",
              "      <td>user_9995</td>\n",
              "      <td>51.71</td>\n",
              "      <td>82.96</td>\n",
              "      <td>62.453333</td>\n",
              "    </tr>\n",
              "    <tr>\n",
              "      <th>13848</th>\n",
              "      <td>user_9996</td>\n",
              "      <td>2.12</td>\n",
              "      <td>166.81</td>\n",
              "      <td>38.337308</td>\n",
              "    </tr>\n",
              "    <tr>\n",
              "      <th>13849</th>\n",
              "      <td>user_9997</td>\n",
              "      <td>0.80</td>\n",
              "      <td>1000.00</td>\n",
              "      <td>45.526458</td>\n",
              "    </tr>\n",
              "    <tr>\n",
              "      <th>13850</th>\n",
              "      <td>user_9998</td>\n",
              "      <td>0.00</td>\n",
              "      <td>59.65</td>\n",
              "      <td>16.086667</td>\n",
              "    </tr>\n",
              "  </tbody>\n",
              "</table>\n",
              "<p>13851 rows × 4 columns</p>\n",
              "</div>"
            ],
            "text/plain": [
              "         user_id  min_amount_usd  max_amount_usd  mean_amount_usd\n",
              "0         user_0            0.58          510.64        10.209723\n",
              "1         user_1            0.94          851.06        61.938624\n",
              "2        user_10            0.01          255.22        37.871972\n",
              "3       user_100            2.03          339.18        47.975909\n",
              "4      user_1000            0.08          158.87        21.760000\n",
              "...          ...             ...             ...              ...\n",
              "13846  user_9994            1.09          372.81        38.523548\n",
              "13847  user_9995           51.71           82.96        62.453333\n",
              "13848  user_9996            2.12          166.81        38.337308\n",
              "13849  user_9997            0.80         1000.00        45.526458\n",
              "13850  user_9998            0.00           59.65        16.086667\n",
              "\n",
              "[13851 rows x 4 columns]"
            ]
          },
          "metadata": {
            "tags": []
          },
          "execution_count": 10
        }
      ]
    },
    {
      "cell_type": "markdown",
      "metadata": {
        "id": "zRpx9fEu3HpH",
        "colab_type": "text"
      },
      "source": [
        "##Ανα mcc και τύπο Trans"
      ]
    },
    {
      "cell_type": "code",
      "metadata": {
        "id": "yewBj-3L2-w0",
        "colab_type": "code",
        "outputId": "5cbc1e71-1fbb-48dd-84af-60f82e3c88f7",
        "colab": {
          "base_uri": "https://localhost:8080/"
        }
      },
      "source": [
        "trans_type = trans.pivot_table(values=\"amount_usd\",index=\"user_id\",columns=[\"transactions_type\",\"direction\"],aggfunc=\"sum\",fill_value=0)\n",
        "trans_type = pd.DataFrame(trans_type.to_records())\n",
        "trans_type = trans_type.rename(columns={\"('ATM', 'OUTBOUND')\":\"ATM\",\"('CARD_PAYMENT', 'OUTBOUND')\":\"CARD_PAYMENT\",\"('EXCHANGE', 'OUTBOUND')\":\"EXCHANGE\",\\\n",
        "                                       \"('TRANSFER', 'INBOUND')\":\"TRANSFER_IN\",\"('TRANSFER', 'OUTBOUND')\":\"TRANSFER_OUT\",\"('All', '')\":\"TOTAL\",\\\n",
        "                                       \"('TOPUP', 'INBOUND')\":\"TOPUP_IN\"})\n",
        "trans_type[\"total_out\"]=trans_type.ATM+trans_type.CARD_PAYMENT+trans_type.TRANSFER_OUT+trans_type.EXCHANGE\n",
        "trans_type[\"total_in\"]=trans_type.TOPUP_IN+trans_type.TRANSFER_IN\n",
        "\n",
        "trans_type=trans_type.drop(columns=[\"CARD_PAYMENT\",\"ATM\"])\n",
        "\n",
        "trans_type.head(10)"
      ],
      "execution_count": 0,
      "outputs": [
        {
          "output_type": "execute_result",
          "data": {
            "text/html": [
              "<div>\n",
              "<style scoped>\n",
              "    .dataframe tbody tr th:only-of-type {\n",
              "        vertical-align: middle;\n",
              "    }\n",
              "\n",
              "    .dataframe tbody tr th {\n",
              "        vertical-align: top;\n",
              "    }\n",
              "\n",
              "    .dataframe thead th {\n",
              "        text-align: right;\n",
              "    }\n",
              "</style>\n",
              "<table border=\"1\" class=\"dataframe\">\n",
              "  <thead>\n",
              "    <tr style=\"text-align: right;\">\n",
              "      <th></th>\n",
              "      <th>user_id</th>\n",
              "      <th>EXCHANGE</th>\n",
              "      <th>TOPUP_IN</th>\n",
              "      <th>TRANSFER_IN</th>\n",
              "      <th>TRANSFER_OUT</th>\n",
              "      <th>total_out</th>\n",
              "      <th>total_in</th>\n",
              "    </tr>\n",
              "  </thead>\n",
              "  <tbody>\n",
              "    <tr>\n",
              "      <th>0</th>\n",
              "      <td>user_0</td>\n",
              "      <td>183.20</td>\n",
              "      <td>3226.37</td>\n",
              "      <td>55.96</td>\n",
              "      <td>1246.62</td>\n",
              "      <td>3629.75</td>\n",
              "      <td>3282.33</td>\n",
              "    </tr>\n",
              "    <tr>\n",
              "      <th>1</th>\n",
              "      <td>user_1</td>\n",
              "      <td>0.00</td>\n",
              "      <td>6204.23</td>\n",
              "      <td>261.28</td>\n",
              "      <td>2865.53</td>\n",
              "      <td>6490.03</td>\n",
              "      <td>6465.51</td>\n",
              "    </tr>\n",
              "    <tr>\n",
              "      <th>2</th>\n",
              "      <td>user_10</td>\n",
              "      <td>1.22</td>\n",
              "      <td>2264.05</td>\n",
              "      <td>0.00</td>\n",
              "      <td>803.07</td>\n",
              "      <td>2688.91</td>\n",
              "      <td>2264.05</td>\n",
              "    </tr>\n",
              "    <tr>\n",
              "      <th>3</th>\n",
              "      <td>user_100</td>\n",
              "      <td>0.00</td>\n",
              "      <td>2119.16</td>\n",
              "      <td>0.00</td>\n",
              "      <td>0.00</td>\n",
              "      <td>2110.94</td>\n",
              "      <td>2119.16</td>\n",
              "    </tr>\n",
              "    <tr>\n",
              "      <th>4</th>\n",
              "      <td>user_1000</td>\n",
              "      <td>0.00</td>\n",
              "      <td>428.96</td>\n",
              "      <td>0.00</td>\n",
              "      <td>0.08</td>\n",
              "      <td>391.68</td>\n",
              "      <td>428.96</td>\n",
              "    </tr>\n",
              "    <tr>\n",
              "      <th>5</th>\n",
              "      <td>user_10000</td>\n",
              "      <td>922.15</td>\n",
              "      <td>1261.35</td>\n",
              "      <td>342.79</td>\n",
              "      <td>312.88</td>\n",
              "      <td>2445.59</td>\n",
              "      <td>1604.14</td>\n",
              "    </tr>\n",
              "    <tr>\n",
              "      <th>6</th>\n",
              "      <td>user_10001</td>\n",
              "      <td>1120.00</td>\n",
              "      <td>1120.00</td>\n",
              "      <td>0.00</td>\n",
              "      <td>0.00</td>\n",
              "      <td>2226.32</td>\n",
              "      <td>1120.00</td>\n",
              "    </tr>\n",
              "    <tr>\n",
              "      <th>7</th>\n",
              "      <td>user_10002</td>\n",
              "      <td>3.92</td>\n",
              "      <td>13.98</td>\n",
              "      <td>0.00</td>\n",
              "      <td>0.00</td>\n",
              "      <td>11.12</td>\n",
              "      <td>13.98</td>\n",
              "    </tr>\n",
              "    <tr>\n",
              "      <th>8</th>\n",
              "      <td>user_10003</td>\n",
              "      <td>0.00</td>\n",
              "      <td>1604.79</td>\n",
              "      <td>0.00</td>\n",
              "      <td>462.16</td>\n",
              "      <td>1590.15</td>\n",
              "      <td>1604.79</td>\n",
              "    </tr>\n",
              "    <tr>\n",
              "      <th>9</th>\n",
              "      <td>user_10004</td>\n",
              "      <td>23.83</td>\n",
              "      <td>8.51</td>\n",
              "      <td>0.00</td>\n",
              "      <td>0.00</td>\n",
              "      <td>23.83</td>\n",
              "      <td>8.51</td>\n",
              "    </tr>\n",
              "  </tbody>\n",
              "</table>\n",
              "</div>"
            ],
            "text/plain": [
              "      user_id  EXCHANGE  TOPUP_IN  ...  TRANSFER_OUT  total_out  total_in\n",
              "0      user_0    183.20   3226.37  ...       1246.62    3629.75   3282.33\n",
              "1      user_1      0.00   6204.23  ...       2865.53    6490.03   6465.51\n",
              "2     user_10      1.22   2264.05  ...        803.07    2688.91   2264.05\n",
              "3    user_100      0.00   2119.16  ...          0.00    2110.94   2119.16\n",
              "4   user_1000      0.00    428.96  ...          0.08     391.68    428.96\n",
              "5  user_10000    922.15   1261.35  ...        312.88    2445.59   1604.14\n",
              "6  user_10001   1120.00   1120.00  ...          0.00    2226.32   1120.00\n",
              "7  user_10002      3.92     13.98  ...          0.00      11.12     13.98\n",
              "8  user_10003      0.00   1604.79  ...        462.16    1590.15   1604.79\n",
              "9  user_10004     23.83      8.51  ...          0.00      23.83      8.51\n",
              "\n",
              "[10 rows x 7 columns]"
            ]
          },
          "metadata": {
            "tags": []
          },
          "execution_count": 11
        }
      ]
    },
    {
      "cell_type": "code",
      "metadata": {
        "id": "KhniqC7r3S4P",
        "colab_type": "code",
        "outputId": "537e9417-5f9f-44d6-851c-6ed1df9c894b",
        "colab": {
          "base_uri": "https://localhost:8080/"
        }
      },
      "source": [
        "#MCC clustering\n",
        "trans.ea_merchant_mcc=trans.ea_merchant_mcc.fillna(11999)\n",
        " \n",
        "trans['mcc_group'] = pd.cut(trans.ea_merchant_mcc, bins=[0,1000,1500,1800,2000,4000,5000,5200,6000,6800,9000,9730,10000,12000],\\\n",
        "                                  labels=['Agriculture','Mining','Construction',\"not used\",\"Manufacturing\",\"Transportation\",\"Wholesale\",\\\n",
        "                                          \"Retail\",\"Finance\",\"Services\",\"Public_Admin\",\"Nonclassifiable\",\"Unknown\"], right=False)\n",
        "test=trans.pivot_table(index=\"mcc_group\",values=\"user_id\",aggfunc=\"count\",margins=\"row grand total\")\n",
        "test=pd.DataFrame(test.to_records())\n",
        "test.sort_values(\"user_id\",ascending=False)"
      ],
      "execution_count": 0,
      "outputs": [
        {
          "output_type": "execute_result",
          "data": {
            "text/html": [
              "<div>\n",
              "<style scoped>\n",
              "    .dataframe tbody tr th:only-of-type {\n",
              "        vertical-align: middle;\n",
              "    }\n",
              "\n",
              "    .dataframe tbody tr th {\n",
              "        vertical-align: top;\n",
              "    }\n",
              "\n",
              "    .dataframe thead th {\n",
              "        text-align: right;\n",
              "    }\n",
              "</style>\n",
              "<table border=\"1\" class=\"dataframe\">\n",
              "  <thead>\n",
              "    <tr style=\"text-align: right;\">\n",
              "      <th></th>\n",
              "      <th>mcc_group</th>\n",
              "      <th>user_id</th>\n",
              "    </tr>\n",
              "  </thead>\n",
              "  <tbody>\n",
              "    <tr>\n",
              "      <th>13</th>\n",
              "      <td>All</td>\n",
              "      <td>1824680</td>\n",
              "    </tr>\n",
              "    <tr>\n",
              "      <th>12</th>\n",
              "      <td>Unknown</td>\n",
              "      <td>763744</td>\n",
              "    </tr>\n",
              "    <tr>\n",
              "      <th>7</th>\n",
              "      <td>Retail</td>\n",
              "      <td>760162</td>\n",
              "    </tr>\n",
              "    <tr>\n",
              "      <th>5</th>\n",
              "      <td>Transportation</td>\n",
              "      <td>119706</td>\n",
              "    </tr>\n",
              "    <tr>\n",
              "      <th>9</th>\n",
              "      <td>Services</td>\n",
              "      <td>95847</td>\n",
              "    </tr>\n",
              "    <tr>\n",
              "      <th>8</th>\n",
              "      <td>Finance</td>\n",
              "      <td>63692</td>\n",
              "    </tr>\n",
              "    <tr>\n",
              "      <th>4</th>\n",
              "      <td>Manufacturing</td>\n",
              "      <td>8565</td>\n",
              "    </tr>\n",
              "    <tr>\n",
              "      <th>10</th>\n",
              "      <td>Public_Admin</td>\n",
              "      <td>5942</td>\n",
              "    </tr>\n",
              "    <tr>\n",
              "      <th>6</th>\n",
              "      <td>Wholesale</td>\n",
              "      <td>4176</td>\n",
              "    </tr>\n",
              "    <tr>\n",
              "      <th>0</th>\n",
              "      <td>Agriculture</td>\n",
              "      <td>1285</td>\n",
              "    </tr>\n",
              "    <tr>\n",
              "      <th>1</th>\n",
              "      <td>Mining</td>\n",
              "      <td>1090</td>\n",
              "    </tr>\n",
              "    <tr>\n",
              "      <th>2</th>\n",
              "      <td>Construction</td>\n",
              "      <td>471</td>\n",
              "    </tr>\n",
              "    <tr>\n",
              "      <th>3</th>\n",
              "      <td>not used</td>\n",
              "      <td>0</td>\n",
              "    </tr>\n",
              "    <tr>\n",
              "      <th>11</th>\n",
              "      <td>Nonclassifiable</td>\n",
              "      <td>0</td>\n",
              "    </tr>\n",
              "  </tbody>\n",
              "</table>\n",
              "</div>"
            ],
            "text/plain": [
              "          mcc_group  user_id\n",
              "13              All  1824680\n",
              "12          Unknown   763744\n",
              "7            Retail   760162\n",
              "5    Transportation   119706\n",
              "9          Services    95847\n",
              "8           Finance    63692\n",
              "4     Manufacturing     8565\n",
              "10     Public_Admin     5942\n",
              "6         Wholesale     4176\n",
              "0       Agriculture     1285\n",
              "1            Mining     1090\n",
              "2      Construction      471\n",
              "3          not used        0\n",
              "11  Nonclassifiable        0"
            ]
          },
          "metadata": {
            "tags": []
          },
          "execution_count": 12
        }
      ]
    },
    {
      "cell_type": "code",
      "metadata": {
        "id": "2Mki4Jxb5yXe",
        "colab_type": "code",
        "outputId": "11bff450-c021-424e-ef99-96462e457554",
        "colab": {
          "base_uri": "https://localhost:8080/"
        }
      },
      "source": [
        "trans_mcc_all = trans.pivot_table(values=\"amount_usd\",index=\"user_id\",columns=\"mcc_group\",aggfunc=\"sum\",fill_value=0)\n",
        "trans_mcc_all = pd.DataFrame(trans_mcc_all.to_records())\n",
        "trans_mcc_all=trans_mcc_all.drop(columns=\"Unknown\")\n",
        "trans_mcc_all.sample(5)"
      ],
      "execution_count": 0,
      "outputs": [
        {
          "output_type": "execute_result",
          "data": {
            "text/html": [
              "<div>\n",
              "<style scoped>\n",
              "    .dataframe tbody tr th:only-of-type {\n",
              "        vertical-align: middle;\n",
              "    }\n",
              "\n",
              "    .dataframe tbody tr th {\n",
              "        vertical-align: top;\n",
              "    }\n",
              "\n",
              "    .dataframe thead th {\n",
              "        text-align: right;\n",
              "    }\n",
              "</style>\n",
              "<table border=\"1\" class=\"dataframe\">\n",
              "  <thead>\n",
              "    <tr style=\"text-align: right;\">\n",
              "      <th></th>\n",
              "      <th>user_id</th>\n",
              "      <th>Agriculture</th>\n",
              "      <th>Mining</th>\n",
              "      <th>Construction</th>\n",
              "      <th>Manufacturing</th>\n",
              "      <th>Transportation</th>\n",
              "      <th>Wholesale</th>\n",
              "      <th>Retail</th>\n",
              "      <th>Finance</th>\n",
              "      <th>Services</th>\n",
              "      <th>Public_Admin</th>\n",
              "    </tr>\n",
              "  </thead>\n",
              "  <tbody>\n",
              "    <tr>\n",
              "      <th>14109</th>\n",
              "      <td>user_9355</td>\n",
              "      <td>0.0</td>\n",
              "      <td>0.0</td>\n",
              "      <td>0.0</td>\n",
              "      <td>341.89</td>\n",
              "      <td>998.70</td>\n",
              "      <td>4.48</td>\n",
              "      <td>6480.39</td>\n",
              "      <td>1865.41</td>\n",
              "      <td>806.57</td>\n",
              "      <td>0.0</td>\n",
              "    </tr>\n",
              "    <tr>\n",
              "      <th>2529</th>\n",
              "      <td>user_12386</td>\n",
              "      <td>0.0</td>\n",
              "      <td>0.0</td>\n",
              "      <td>0.0</td>\n",
              "      <td>195.27</td>\n",
              "      <td>167.67</td>\n",
              "      <td>0.00</td>\n",
              "      <td>1902.92</td>\n",
              "      <td>230.00</td>\n",
              "      <td>124.01</td>\n",
              "      <td>0.0</td>\n",
              "    </tr>\n",
              "    <tr>\n",
              "      <th>1818</th>\n",
              "      <td>user_11711</td>\n",
              "      <td>0.0</td>\n",
              "      <td>0.0</td>\n",
              "      <td>0.0</td>\n",
              "      <td>0.00</td>\n",
              "      <td>0.00</td>\n",
              "      <td>0.00</td>\n",
              "      <td>0.00</td>\n",
              "      <td>0.00</td>\n",
              "      <td>0.00</td>\n",
              "      <td>0.0</td>\n",
              "    </tr>\n",
              "    <tr>\n",
              "      <th>4722</th>\n",
              "      <td>user_14448</td>\n",
              "      <td>0.0</td>\n",
              "      <td>0.0</td>\n",
              "      <td>0.0</td>\n",
              "      <td>0.00</td>\n",
              "      <td>0.00</td>\n",
              "      <td>0.00</td>\n",
              "      <td>1.98</td>\n",
              "      <td>0.00</td>\n",
              "      <td>0.00</td>\n",
              "      <td>0.0</td>\n",
              "    </tr>\n",
              "    <tr>\n",
              "      <th>6604</th>\n",
              "      <td>user_2239</td>\n",
              "      <td>0.0</td>\n",
              "      <td>0.0</td>\n",
              "      <td>0.0</td>\n",
              "      <td>0.00</td>\n",
              "      <td>198.52</td>\n",
              "      <td>0.00</td>\n",
              "      <td>744.17</td>\n",
              "      <td>356.62</td>\n",
              "      <td>1498.24</td>\n",
              "      <td>0.0</td>\n",
              "    </tr>\n",
              "  </tbody>\n",
              "</table>\n",
              "</div>"
            ],
            "text/plain": [
              "          user_id  Agriculture  Mining  ...  Finance  Services  Public_Admin\n",
              "14109   user_9355          0.0     0.0  ...  1865.41    806.57           0.0\n",
              "2529   user_12386          0.0     0.0  ...   230.00    124.01           0.0\n",
              "1818   user_11711          0.0     0.0  ...     0.00      0.00           0.0\n",
              "4722   user_14448          0.0     0.0  ...     0.00      0.00           0.0\n",
              "6604    user_2239          0.0     0.0  ...   356.62   1498.24           0.0\n",
              "\n",
              "[5 rows x 11 columns]"
            ]
          },
          "metadata": {
            "tags": []
          },
          "execution_count": 13
        }
      ]
    },
    {
      "cell_type": "code",
      "metadata": {
        "id": "daf7rd_z6xbV",
        "colab_type": "code",
        "outputId": "e6e111a1-0028-43d3-8dae-2af4fe93f67d",
        "colab": {
          "base_uri": "https://localhost:8080/"
        }
      },
      "source": [
        "print(trans_mcc_all.shape)\n",
        "trans_type.shape"
      ],
      "execution_count": 0,
      "outputs": [
        {
          "output_type": "stream",
          "text": [
            "(14796, 11)\n"
          ],
          "name": "stdout"
        },
        {
          "output_type": "execute_result",
          "data": {
            "text/plain": [
              "(14796, 7)"
            ]
          },
          "metadata": {
            "tags": []
          },
          "execution_count": 14
        }
      ]
    },
    {
      "cell_type": "code",
      "metadata": {
        "id": "KiX6X_i16HaN",
        "colab_type": "code",
        "outputId": "4459316d-b5f9-4bba-b7f3-010dea26a6ba",
        "colab": {
          "base_uri": "https://localhost:8080/"
        }
      },
      "source": [
        "trans_merge=pd.merge(trans_mcc_all,trans_type,on=\"user_id\",how=\"inner\")\n",
        "print(trans_merge.shape)\n",
        "trans_merge.head()\n",
        "\n"
      ],
      "execution_count": 0,
      "outputs": [
        {
          "output_type": "stream",
          "text": [
            "(14796, 17)\n"
          ],
          "name": "stdout"
        },
        {
          "output_type": "execute_result",
          "data": {
            "text/html": [
              "<div>\n",
              "<style scoped>\n",
              "    .dataframe tbody tr th:only-of-type {\n",
              "        vertical-align: middle;\n",
              "    }\n",
              "\n",
              "    .dataframe tbody tr th {\n",
              "        vertical-align: top;\n",
              "    }\n",
              "\n",
              "    .dataframe thead th {\n",
              "        text-align: right;\n",
              "    }\n",
              "</style>\n",
              "<table border=\"1\" class=\"dataframe\">\n",
              "  <thead>\n",
              "    <tr style=\"text-align: right;\">\n",
              "      <th></th>\n",
              "      <th>user_id</th>\n",
              "      <th>Agriculture</th>\n",
              "      <th>Mining</th>\n",
              "      <th>Construction</th>\n",
              "      <th>Manufacturing</th>\n",
              "      <th>Transportation</th>\n",
              "      <th>Wholesale</th>\n",
              "      <th>Retail</th>\n",
              "      <th>Finance</th>\n",
              "      <th>Services</th>\n",
              "      <th>Public_Admin</th>\n",
              "      <th>EXCHANGE</th>\n",
              "      <th>TOPUP_IN</th>\n",
              "      <th>TRANSFER_IN</th>\n",
              "      <th>TRANSFER_OUT</th>\n",
              "      <th>total_out</th>\n",
              "      <th>total_in</th>\n",
              "    </tr>\n",
              "  </thead>\n",
              "  <tbody>\n",
              "    <tr>\n",
              "      <th>0</th>\n",
              "      <td>user_0</td>\n",
              "      <td>0.0</td>\n",
              "      <td>0.0</td>\n",
              "      <td>0.0</td>\n",
              "      <td>0.00</td>\n",
              "      <td>161.73</td>\n",
              "      <td>0.00</td>\n",
              "      <td>2019.30</td>\n",
              "      <td>0.00</td>\n",
              "      <td>18.90</td>\n",
              "      <td>0.00</td>\n",
              "      <td>183.20</td>\n",
              "      <td>3226.37</td>\n",
              "      <td>55.96</td>\n",
              "      <td>1246.62</td>\n",
              "      <td>3629.75</td>\n",
              "      <td>3282.33</td>\n",
              "    </tr>\n",
              "    <tr>\n",
              "      <th>1</th>\n",
              "      <td>user_1</td>\n",
              "      <td>0.0</td>\n",
              "      <td>0.0</td>\n",
              "      <td>0.0</td>\n",
              "      <td>0.00</td>\n",
              "      <td>58.51</td>\n",
              "      <td>0.00</td>\n",
              "      <td>1565.94</td>\n",
              "      <td>1183.02</td>\n",
              "      <td>759.00</td>\n",
              "      <td>58.03</td>\n",
              "      <td>0.00</td>\n",
              "      <td>6204.23</td>\n",
              "      <td>261.28</td>\n",
              "      <td>2865.53</td>\n",
              "      <td>6490.03</td>\n",
              "      <td>6465.51</td>\n",
              "    </tr>\n",
              "    <tr>\n",
              "      <th>2</th>\n",
              "      <td>user_10</td>\n",
              "      <td>0.0</td>\n",
              "      <td>0.0</td>\n",
              "      <td>0.0</td>\n",
              "      <td>255.22</td>\n",
              "      <td>0.00</td>\n",
              "      <td>190.66</td>\n",
              "      <td>1019.18</td>\n",
              "      <td>408.51</td>\n",
              "      <td>11.05</td>\n",
              "      <td>0.00</td>\n",
              "      <td>1.22</td>\n",
              "      <td>2264.05</td>\n",
              "      <td>0.00</td>\n",
              "      <td>803.07</td>\n",
              "      <td>2688.91</td>\n",
              "      <td>2264.05</td>\n",
              "    </tr>\n",
              "    <tr>\n",
              "      <th>3</th>\n",
              "      <td>user_100</td>\n",
              "      <td>0.0</td>\n",
              "      <td>0.0</td>\n",
              "      <td>0.0</td>\n",
              "      <td>119.51</td>\n",
              "      <td>60.29</td>\n",
              "      <td>40.58</td>\n",
              "      <td>1036.96</td>\n",
              "      <td>425.66</td>\n",
              "      <td>427.94</td>\n",
              "      <td>0.00</td>\n",
              "      <td>0.00</td>\n",
              "      <td>2119.16</td>\n",
              "      <td>0.00</td>\n",
              "      <td>0.00</td>\n",
              "      <td>2110.94</td>\n",
              "      <td>2119.16</td>\n",
              "    </tr>\n",
              "    <tr>\n",
              "      <th>4</th>\n",
              "      <td>user_1000</td>\n",
              "      <td>0.0</td>\n",
              "      <td>0.0</td>\n",
              "      <td>0.0</td>\n",
              "      <td>0.00</td>\n",
              "      <td>10.80</td>\n",
              "      <td>0.00</td>\n",
              "      <td>210.01</td>\n",
              "      <td>158.87</td>\n",
              "      <td>11.92</td>\n",
              "      <td>0.00</td>\n",
              "      <td>0.00</td>\n",
              "      <td>428.96</td>\n",
              "      <td>0.00</td>\n",
              "      <td>0.08</td>\n",
              "      <td>391.68</td>\n",
              "      <td>428.96</td>\n",
              "    </tr>\n",
              "  </tbody>\n",
              "</table>\n",
              "</div>"
            ],
            "text/plain": [
              "     user_id  Agriculture  Mining  ...  TRANSFER_OUT  total_out  total_in\n",
              "0     user_0          0.0     0.0  ...       1246.62    3629.75   3282.33\n",
              "1     user_1          0.0     0.0  ...       2865.53    6490.03   6465.51\n",
              "2    user_10          0.0     0.0  ...        803.07    2688.91   2264.05\n",
              "3   user_100          0.0     0.0  ...          0.00    2110.94   2119.16\n",
              "4  user_1000          0.0     0.0  ...          0.08     391.68    428.96\n",
              "\n",
              "[5 rows x 17 columns]"
            ]
          },
          "metadata": {
            "tags": []
          },
          "execution_count": 15
        }
      ]
    },
    {
      "cell_type": "code",
      "metadata": {
        "id": "kQHMEia07FfC",
        "colab_type": "code",
        "outputId": "63008181-a68f-44a6-f01d-535a859013d1",
        "colab": {
          "base_uri": "https://localhost:8080/"
        }
      },
      "source": [
        "trans_merge.Agriculture = round(trans_merge.Agriculture/trans_merge.total_out,4)*100\n",
        "trans_merge.Mining = round(trans_merge.Mining/trans_merge.total_out,4)*100\n",
        "trans_merge.Construction = round(trans_merge.Construction/trans_merge.total_out,4)*100\n",
        "trans_merge.Manufacturing = round(trans_merge.Manufacturing/trans_merge.total_out,4)*100\n",
        "trans_merge.Transportation = round(trans_merge.Transportation/trans_merge.total_out,4)*100\n",
        "trans_merge.Wholesale = round(trans_merge.Wholesale/trans_merge.total_out,4)*100\n",
        "trans_merge.Retail = round(trans_merge.Retail/trans_merge.total_out,4)*100\n",
        "trans_merge.Finance = round(trans_merge.Finance/trans_merge.total_out,4)*100\n",
        "trans_merge.Services = round(trans_merge.Services/trans_merge.total_out,4)*100\n",
        "trans_merge.Public_Admin = round(trans_merge.Public_Admin/trans_merge.total_out,4)*100\n",
        "\n",
        "trans_merge.EXCHANGE = round(trans_merge.EXCHANGE/trans_merge.total_out,4)*100\n",
        "trans_merge.TRANSFER_IN = round(trans_merge.TRANSFER_IN/trans_merge.total_in,4)*100\n",
        "trans_merge.TRANSFER_OUT = round(trans_merge.TRANSFER_OUT/trans_merge.total_out,4)*100\n",
        "trans_merge.TOPUP_IN = round(trans_merge.TOPUP_IN/trans_merge.total_in,4)*100\n",
        "\n",
        "trans_merge.sample(5)"
      ],
      "execution_count": 0,
      "outputs": [
        {
          "output_type": "execute_result",
          "data": {
            "text/html": [
              "<div>\n",
              "<style scoped>\n",
              "    .dataframe tbody tr th:only-of-type {\n",
              "        vertical-align: middle;\n",
              "    }\n",
              "\n",
              "    .dataframe tbody tr th {\n",
              "        vertical-align: top;\n",
              "    }\n",
              "\n",
              "    .dataframe thead th {\n",
              "        text-align: right;\n",
              "    }\n",
              "</style>\n",
              "<table border=\"1\" class=\"dataframe\">\n",
              "  <thead>\n",
              "    <tr style=\"text-align: right;\">\n",
              "      <th></th>\n",
              "      <th>user_id</th>\n",
              "      <th>Agriculture</th>\n",
              "      <th>Mining</th>\n",
              "      <th>Construction</th>\n",
              "      <th>Manufacturing</th>\n",
              "      <th>Transportation</th>\n",
              "      <th>Wholesale</th>\n",
              "      <th>Retail</th>\n",
              "      <th>Finance</th>\n",
              "      <th>Services</th>\n",
              "      <th>Public_Admin</th>\n",
              "      <th>EXCHANGE</th>\n",
              "      <th>TOPUP_IN</th>\n",
              "      <th>TRANSFER_IN</th>\n",
              "      <th>TRANSFER_OUT</th>\n",
              "      <th>total_out</th>\n",
              "      <th>total_in</th>\n",
              "    </tr>\n",
              "  </thead>\n",
              "  <tbody>\n",
              "    <tr>\n",
              "      <th>6444</th>\n",
              "      <td>user_2090</td>\n",
              "      <td>0.0</td>\n",
              "      <td>0.0</td>\n",
              "      <td>0.0</td>\n",
              "      <td>0.0</td>\n",
              "      <td>1.98</td>\n",
              "      <td>0.0</td>\n",
              "      <td>53.42</td>\n",
              "      <td>7.23</td>\n",
              "      <td>0.00</td>\n",
              "      <td>0.0</td>\n",
              "      <td>10.86</td>\n",
              "      <td>59.35</td>\n",
              "      <td>40.65</td>\n",
              "      <td>26.50</td>\n",
              "      <td>239.44</td>\n",
              "      <td>292.77</td>\n",
              "    </tr>\n",
              "    <tr>\n",
              "      <th>13515</th>\n",
              "      <td>user_8786</td>\n",
              "      <td>0.0</td>\n",
              "      <td>0.0</td>\n",
              "      <td>0.0</td>\n",
              "      <td>0.0</td>\n",
              "      <td>0.00</td>\n",
              "      <td>0.0</td>\n",
              "      <td>1.32</td>\n",
              "      <td>1.93</td>\n",
              "      <td>0.10</td>\n",
              "      <td>0.0</td>\n",
              "      <td>48.91</td>\n",
              "      <td>100.00</td>\n",
              "      <td>0.00</td>\n",
              "      <td>47.75</td>\n",
              "      <td>35327.09</td>\n",
              "      <td>17774.68</td>\n",
              "    </tr>\n",
              "    <tr>\n",
              "      <th>7358</th>\n",
              "      <td>user_2960</td>\n",
              "      <td>NaN</td>\n",
              "      <td>NaN</td>\n",
              "      <td>NaN</td>\n",
              "      <td>NaN</td>\n",
              "      <td>NaN</td>\n",
              "      <td>NaN</td>\n",
              "      <td>NaN</td>\n",
              "      <td>NaN</td>\n",
              "      <td>NaN</td>\n",
              "      <td>NaN</td>\n",
              "      <td>NaN</td>\n",
              "      <td>100.00</td>\n",
              "      <td>0.00</td>\n",
              "      <td>NaN</td>\n",
              "      <td>0.00</td>\n",
              "      <td>20.00</td>\n",
              "    </tr>\n",
              "    <tr>\n",
              "      <th>5545</th>\n",
              "      <td>user_15222</td>\n",
              "      <td>0.0</td>\n",
              "      <td>0.0</td>\n",
              "      <td>0.0</td>\n",
              "      <td>0.0</td>\n",
              "      <td>0.00</td>\n",
              "      <td>0.0</td>\n",
              "      <td>23.98</td>\n",
              "      <td>0.00</td>\n",
              "      <td>11.02</td>\n",
              "      <td>0.0</td>\n",
              "      <td>65.00</td>\n",
              "      <td>100.00</td>\n",
              "      <td>0.00</td>\n",
              "      <td>0.00</td>\n",
              "      <td>893.18</td>\n",
              "      <td>320.00</td>\n",
              "    </tr>\n",
              "    <tr>\n",
              "      <th>10490</th>\n",
              "      <td>user_5947</td>\n",
              "      <td>0.0</td>\n",
              "      <td>0.0</td>\n",
              "      <td>0.0</td>\n",
              "      <td>0.0</td>\n",
              "      <td>5.82</td>\n",
              "      <td>0.0</td>\n",
              "      <td>9.89</td>\n",
              "      <td>2.63</td>\n",
              "      <td>7.92</td>\n",
              "      <td>0.0</td>\n",
              "      <td>33.75</td>\n",
              "      <td>100.00</td>\n",
              "      <td>0.00</td>\n",
              "      <td>39.99</td>\n",
              "      <td>1355.59</td>\n",
              "      <td>918.76</td>\n",
              "    </tr>\n",
              "  </tbody>\n",
              "</table>\n",
              "</div>"
            ],
            "text/plain": [
              "          user_id  Agriculture  Mining  ...  TRANSFER_OUT  total_out  total_in\n",
              "6444    user_2090          0.0     0.0  ...         26.50     239.44    292.77\n",
              "13515   user_8786          0.0     0.0  ...         47.75   35327.09  17774.68\n",
              "7358    user_2960          NaN     NaN  ...           NaN       0.00     20.00\n",
              "5545   user_15222          0.0     0.0  ...          0.00     893.18    320.00\n",
              "10490   user_5947          0.0     0.0  ...         39.99    1355.59    918.76\n",
              "\n",
              "[5 rows x 17 columns]"
            ]
          },
          "metadata": {
            "tags": []
          },
          "execution_count": 16
        }
      ]
    },
    {
      "cell_type": "markdown",
      "metadata": {
        "id": "9pTeKMaGRgym",
        "colab_type": "text"
      },
      "source": [
        "#Notifications File"
      ]
    },
    {
      "cell_type": "code",
      "metadata": {
        "id": "Ff2q7MODpdRa",
        "colab_type": "code",
        "colab": {}
      },
      "source": [
        "ntf=notif"
      ],
      "execution_count": 0,
      "outputs": []
    },
    {
      "cell_type": "code",
      "metadata": {
        "id": "M4SWyciIOWLm",
        "colab_type": "code",
        "outputId": "dca5f4ac-c7c5-417f-a971-229f13850226",
        "colab": {
          "base_uri": "https://localhost:8080/"
        }
      },
      "source": [
        "ntf.columns"
      ],
      "execution_count": 0,
      "outputs": [
        {
          "output_type": "execute_result",
          "data": {
            "text/plain": [
              "Index(['reason', 'channel', 'status', 'user_id', 'created_date'], dtype='object')"
            ]
          },
          "metadata": {
            "tags": []
          },
          "execution_count": 18
        }
      ]
    },
    {
      "cell_type": "code",
      "metadata": {
        "id": "67PLTxUJjgJD",
        "colab_type": "code",
        "outputId": "bae42b38-f28e-4e5f-cff2-885ed3315b4c",
        "colab": {
          "base_uri": "https://localhost:8080/"
        }
      },
      "source": [
        "test=ntf.pivot_table(index=\"reason\",columns=\"channel\",values=\"user_id\",aggfunc=\"count\",fill_value=\"\",\\\n",
        "                     margins=\"row total\").drop(columns=[\"All\"])\n",
        "test"
      ],
      "execution_count": 0,
      "outputs": [
        {
          "output_type": "execute_result",
          "data": {
            "text/html": [
              "<div>\n",
              "<style scoped>\n",
              "    .dataframe tbody tr th:only-of-type {\n",
              "        vertical-align: middle;\n",
              "    }\n",
              "\n",
              "    .dataframe tbody tr th {\n",
              "        vertical-align: top;\n",
              "    }\n",
              "\n",
              "    .dataframe thead th {\n",
              "        text-align: right;\n",
              "    }\n",
              "</style>\n",
              "<table border=\"1\" class=\"dataframe\">\n",
              "  <thead>\n",
              "    <tr style=\"text-align: right;\">\n",
              "      <th>channel</th>\n",
              "      <th>EMAIL</th>\n",
              "      <th>PUSH</th>\n",
              "      <th>SMS</th>\n",
              "    </tr>\n",
              "    <tr>\n",
              "      <th>reason</th>\n",
              "      <th></th>\n",
              "      <th></th>\n",
              "      <th></th>\n",
              "    </tr>\n",
              "  </thead>\n",
              "  <tbody>\n",
              "    <tr>\n",
              "      <th>BLACK_FRIDAY</th>\n",
              "      <td></td>\n",
              "      <td>1681</td>\n",
              "      <td></td>\n",
              "    </tr>\n",
              "    <tr>\n",
              "      <th>BLUE_TUESDAY</th>\n",
              "      <td></td>\n",
              "      <td>555</td>\n",
              "      <td></td>\n",
              "    </tr>\n",
              "    <tr>\n",
              "      <th>ENGAGEMENT_SPLIT_BILL_RESTAURANT</th>\n",
              "      <td>1834</td>\n",
              "      <td></td>\n",
              "      <td></td>\n",
              "    </tr>\n",
              "    <tr>\n",
              "      <th>INVEST_IN_GOLD</th>\n",
              "      <td>6649</td>\n",
              "      <td></td>\n",
              "      <td></td>\n",
              "    </tr>\n",
              "    <tr>\n",
              "      <th>JOINING_ANNIVERSARY</th>\n",
              "      <td></td>\n",
              "      <td>3334</td>\n",
              "      <td></td>\n",
              "    </tr>\n",
              "    <tr>\n",
              "      <th>LOST_CARD_ORDER</th>\n",
              "      <td>1888</td>\n",
              "      <td>3053</td>\n",
              "      <td></td>\n",
              "    </tr>\n",
              "    <tr>\n",
              "      <th>MADE_MONEY_REQUEST_NOT_SPLIT_BILL</th>\n",
              "      <td>2851</td>\n",
              "      <td></td>\n",
              "      <td></td>\n",
              "    </tr>\n",
              "    <tr>\n",
              "      <th>METAL_RESERVE_PLAN</th>\n",
              "      <td></td>\n",
              "      <td>346</td>\n",
              "      <td>604</td>\n",
              "    </tr>\n",
              "    <tr>\n",
              "      <th>NO_INITIAL_CARD_ORDER</th>\n",
              "      <td>9071</td>\n",
              "      <td></td>\n",
              "      <td></td>\n",
              "    </tr>\n",
              "    <tr>\n",
              "      <th>NO_INITIAL_CARD_USE</th>\n",
              "      <td>9035</td>\n",
              "      <td></td>\n",
              "      <td></td>\n",
              "    </tr>\n",
              "    <tr>\n",
              "      <th>ONBOARDING_TIPS_ACTIVATED_USERS</th>\n",
              "      <td>2423</td>\n",
              "      <td></td>\n",
              "      <td></td>\n",
              "    </tr>\n",
              "    <tr>\n",
              "      <th>PROMO</th>\n",
              "      <td>10261</td>\n",
              "      <td>8726</td>\n",
              "      <td></td>\n",
              "    </tr>\n",
              "    <tr>\n",
              "      <th>PROMO_CARD_ORDER</th>\n",
              "      <td>4358</td>\n",
              "      <td></td>\n",
              "      <td></td>\n",
              "    </tr>\n",
              "    <tr>\n",
              "      <th>REENGAGEMENT_ACTIVE_FUNDS</th>\n",
              "      <td></td>\n",
              "      <td>27125</td>\n",
              "      <td>1707</td>\n",
              "    </tr>\n",
              "    <tr>\n",
              "      <th>SILVER_ENGAGEMENT_FEES_SAVED</th>\n",
              "      <td></td>\n",
              "      <td>528</td>\n",
              "      <td></td>\n",
              "    </tr>\n",
              "    <tr>\n",
              "      <th>SILVER_ENGAGEMENT_INACTIVE_CARD</th>\n",
              "      <td></td>\n",
              "      <td>896</td>\n",
              "      <td></td>\n",
              "    </tr>\n",
              "    <tr>\n",
              "      <th>WELCOME_BACK</th>\n",
              "      <td>779</td>\n",
              "      <td></td>\n",
              "      <td></td>\n",
              "    </tr>\n",
              "    <tr>\n",
              "      <th>All</th>\n",
              "      <td>49149</td>\n",
              "      <td>46244</td>\n",
              "      <td>2311</td>\n",
              "    </tr>\n",
              "  </tbody>\n",
              "</table>\n",
              "</div>"
            ],
            "text/plain": [
              "channel                            EMAIL   PUSH   SMS\n",
              "reason                                               \n",
              "BLACK_FRIDAY                               1681      \n",
              "BLUE_TUESDAY                                555      \n",
              "ENGAGEMENT_SPLIT_BILL_RESTAURANT    1834             \n",
              "INVEST_IN_GOLD                      6649             \n",
              "JOINING_ANNIVERSARY                        3334      \n",
              "LOST_CARD_ORDER                     1888   3053      \n",
              "MADE_MONEY_REQUEST_NOT_SPLIT_BILL   2851             \n",
              "METAL_RESERVE_PLAN                          346   604\n",
              "NO_INITIAL_CARD_ORDER               9071             \n",
              "NO_INITIAL_CARD_USE                 9035             \n",
              "ONBOARDING_TIPS_ACTIVATED_USERS     2423             \n",
              "PROMO                              10261   8726      \n",
              "PROMO_CARD_ORDER                    4358             \n",
              "REENGAGEMENT_ACTIVE_FUNDS                 27125  1707\n",
              "SILVER_ENGAGEMENT_FEES_SAVED                528      \n",
              "SILVER_ENGAGEMENT_INACTIVE_CARD             896      \n",
              "WELCOME_BACK                         779             \n",
              "All                                49149  46244  2311"
            ]
          },
          "metadata": {
            "tags": []
          },
          "execution_count": 19
        }
      ]
    },
    {
      "cell_type": "markdown",
      "metadata": {
        "id": "OvGS-BDORXZg",
        "colab_type": "text"
      },
      "source": [
        "#Devices File"
      ]
    },
    {
      "cell_type": "code",
      "metadata": {
        "id": "fFLwrD2eOREc",
        "colab_type": "code",
        "outputId": "1cf8b8ef-5e1b-4e0e-bc5e-a253629e1c23",
        "colab": {
          "base_uri": "https://localhost:8080/"
        }
      },
      "source": [
        "dev.columns"
      ],
      "execution_count": 0,
      "outputs": [
        {
          "output_type": "execute_result",
          "data": {
            "text/plain": [
              "Index(['brand', 'user_id'], dtype='object')"
            ]
          },
          "metadata": {
            "tags": []
          },
          "execution_count": 20
        }
      ]
    },
    {
      "cell_type": "code",
      "metadata": {
        "id": "2JnJxgaF8obX",
        "colab_type": "code",
        "colab": {}
      },
      "source": [
        ""
      ],
      "execution_count": 0,
      "outputs": []
    },
    {
      "cell_type": "markdown",
      "metadata": {
        "id": "pVcSkJx3RSxj",
        "colab_type": "text"
      },
      "source": [
        "#Users File"
      ]
    },
    {
      "cell_type": "code",
      "metadata": {
        "id": "0W6BI_w2pXNA",
        "colab_type": "code",
        "outputId": "06bb6a94-3d8d-4757-c058-e5902a210960",
        "colab": {
          "base_uri": "https://localhost:8080/"
        }
      },
      "source": [
        "users=us\n",
        "users.columns"
      ],
      "execution_count": 0,
      "outputs": [
        {
          "output_type": "execute_result",
          "data": {
            "text/plain": [
              "Index(['user_id', 'birth_year', 'country', 'city', 'created_date',\n",
              "       'user_settings_crypto_unlocked', 'plan',\n",
              "       'attributes_notifications_marketing_push',\n",
              "       'attributes_notifications_marketing_email', 'num_contacts',\n",
              "       'num_referrals', 'num_successful_referrals'],\n",
              "      dtype='object')"
            ]
          },
          "metadata": {
            "tags": []
          },
          "execution_count": 21
        }
      ]
    },
    {
      "cell_type": "code",
      "metadata": {
        "id": "nNNDU96GpA1H",
        "colab_type": "code",
        "outputId": "11297c71-1b13-4946-ca97-e38c8594d827",
        "colab": {
          "base_uri": "https://localhost:8080/"
        }
      },
      "source": [
        "users=users.drop(columns=[\"city\",'num_referrals', 'num_successful_referrals',\\\n",
        "                          'attributes_notifications_marketing_push','attributes_notifications_marketing_email'])\n",
        "users.columns"
      ],
      "execution_count": 0,
      "outputs": [
        {
          "output_type": "execute_result",
          "data": {
            "text/plain": [
              "Index(['user_id', 'birth_year', 'country', 'created_date',\n",
              "       'user_settings_crypto_unlocked', 'plan', 'num_contacts'],\n",
              "      dtype='object')"
            ]
          },
          "metadata": {
            "tags": []
          },
          "execution_count": 22
        }
      ]
    },
    {
      "cell_type": "code",
      "metadata": {
        "id": "jmcOsX8Gla4S",
        "colab_type": "code",
        "outputId": "12db8bbf-a699-4194-a6d8-12d982175691",
        "colab": {
          "base_uri": "https://localhost:8080/"
        }
      },
      "source": [
        "users[\"user_age\"] =  dt.date.today().year-users['birth_year']\n",
        "\n",
        "users=users.drop(columns=[\"created_date\",\"birth_year\"])\n",
        "users.sample(5)"
      ],
      "execution_count": 0,
      "outputs": [
        {
          "output_type": "execute_result",
          "data": {
            "text/html": [
              "<div>\n",
              "<style scoped>\n",
              "    .dataframe tbody tr th:only-of-type {\n",
              "        vertical-align: middle;\n",
              "    }\n",
              "\n",
              "    .dataframe tbody tr th {\n",
              "        vertical-align: top;\n",
              "    }\n",
              "\n",
              "    .dataframe thead th {\n",
              "        text-align: right;\n",
              "    }\n",
              "</style>\n",
              "<table border=\"1\" class=\"dataframe\">\n",
              "  <thead>\n",
              "    <tr style=\"text-align: right;\">\n",
              "      <th></th>\n",
              "      <th>user_id</th>\n",
              "      <th>country</th>\n",
              "      <th>user_settings_crypto_unlocked</th>\n",
              "      <th>plan</th>\n",
              "      <th>num_contacts</th>\n",
              "      <th>user_age</th>\n",
              "    </tr>\n",
              "  </thead>\n",
              "  <tbody>\n",
              "    <tr>\n",
              "      <th>14664</th>\n",
              "      <td>user_14664</td>\n",
              "      <td>PL</td>\n",
              "      <td>1</td>\n",
              "      <td>STANDARD</td>\n",
              "      <td>4</td>\n",
              "      <td>36</td>\n",
              "    </tr>\n",
              "    <tr>\n",
              "      <th>11932</th>\n",
              "      <td>user_11932</td>\n",
              "      <td>FR</td>\n",
              "      <td>0</td>\n",
              "      <td>STANDARD</td>\n",
              "      <td>1</td>\n",
              "      <td>30</td>\n",
              "    </tr>\n",
              "    <tr>\n",
              "      <th>4376</th>\n",
              "      <td>user_4376</td>\n",
              "      <td>LV</td>\n",
              "      <td>0</td>\n",
              "      <td>STANDARD</td>\n",
              "      <td>52</td>\n",
              "      <td>45</td>\n",
              "    </tr>\n",
              "    <tr>\n",
              "      <th>5108</th>\n",
              "      <td>user_5108</td>\n",
              "      <td>IE</td>\n",
              "      <td>0</td>\n",
              "      <td>STANDARD</td>\n",
              "      <td>0</td>\n",
              "      <td>64</td>\n",
              "    </tr>\n",
              "    <tr>\n",
              "      <th>12466</th>\n",
              "      <td>user_12466</td>\n",
              "      <td>FR</td>\n",
              "      <td>0</td>\n",
              "      <td>STANDARD</td>\n",
              "      <td>0</td>\n",
              "      <td>73</td>\n",
              "    </tr>\n",
              "  </tbody>\n",
              "</table>\n",
              "</div>"
            ],
            "text/plain": [
              "          user_id country  ...  num_contacts user_age\n",
              "14664  user_14664      PL  ...             4       36\n",
              "11932  user_11932      FR  ...             1       30\n",
              "4376    user_4376      LV  ...            52       45\n",
              "5108    user_5108      IE  ...             0       64\n",
              "12466  user_12466      FR  ...             0       73\n",
              "\n",
              "[5 rows x 6 columns]"
            ]
          },
          "metadata": {
            "tags": []
          },
          "execution_count": 23
        }
      ]
    },
    {
      "cell_type": "code",
      "metadata": {
        "id": "XUTRx_M_wV04",
        "colab_type": "code",
        "outputId": "41dbd695-3407-4132-d6a2-5768fbd46a8a",
        "colab": {
          "base_uri": "https://localhost:8080/"
        }
      },
      "source": [
        "#Countries clustering\n",
        "countries_cluster=pd.DataFrame({\"Cluster\":[\"CEE_EU\"]*8+[\"N_EU\"]*8+[\"S_EU\"]*7+[\"W_EU\"]*13+[\"Non_EU\"]*4,\"country\":\\\n",
        "                                ['BG','RO','PL','CZ','SI','HU','HR','SK',\\\n",
        "                                'LT','DK','EE','FI','IS','LV','NO','SE',\\\n",
        "                                'ES','MT','CY','GR','IT','GI','PT',\\\n",
        "                                'AT','IE','GB','BE','CH','DE','GG','IM','JE','LI','LU','NL',\"FR\",\\\n",
        "                                'AU','GP','MQ','RE']})\n",
        "countries_cluster\n",
        "\n",
        "users=pd.merge(users,countries_cluster,how=\"left\",on=\"country\")\n",
        "users=users.drop(columns=\"country\")\n",
        "users.head()"
      ],
      "execution_count": 0,
      "outputs": [
        {
          "output_type": "execute_result",
          "data": {
            "text/html": [
              "<div>\n",
              "<style scoped>\n",
              "    .dataframe tbody tr th:only-of-type {\n",
              "        vertical-align: middle;\n",
              "    }\n",
              "\n",
              "    .dataframe tbody tr th {\n",
              "        vertical-align: top;\n",
              "    }\n",
              "\n",
              "    .dataframe thead th {\n",
              "        text-align: right;\n",
              "    }\n",
              "</style>\n",
              "<table border=\"1\" class=\"dataframe\">\n",
              "  <thead>\n",
              "    <tr style=\"text-align: right;\">\n",
              "      <th></th>\n",
              "      <th>user_id</th>\n",
              "      <th>user_settings_crypto_unlocked</th>\n",
              "      <th>plan</th>\n",
              "      <th>num_contacts</th>\n",
              "      <th>user_age</th>\n",
              "      <th>Cluster</th>\n",
              "    </tr>\n",
              "  </thead>\n",
              "  <tbody>\n",
              "    <tr>\n",
              "      <th>0</th>\n",
              "      <td>user_0</td>\n",
              "      <td>0</td>\n",
              "      <td>STANDARD</td>\n",
              "      <td>3</td>\n",
              "      <td>28</td>\n",
              "      <td>S_EU</td>\n",
              "    </tr>\n",
              "    <tr>\n",
              "      <th>1</th>\n",
              "      <td>user_1</td>\n",
              "      <td>1</td>\n",
              "      <td>STANDARD</td>\n",
              "      <td>75</td>\n",
              "      <td>35</td>\n",
              "      <td>N_EU</td>\n",
              "    </tr>\n",
              "    <tr>\n",
              "      <th>2</th>\n",
              "      <td>user_2</td>\n",
              "      <td>0</td>\n",
              "      <td>STANDARD</td>\n",
              "      <td>71</td>\n",
              "      <td>24</td>\n",
              "      <td>W_EU</td>\n",
              "    </tr>\n",
              "    <tr>\n",
              "      <th>3</th>\n",
              "      <td>user_3</td>\n",
              "      <td>0</td>\n",
              "      <td>STANDARD</td>\n",
              "      <td>219</td>\n",
              "      <td>39</td>\n",
              "      <td>W_EU</td>\n",
              "    </tr>\n",
              "    <tr>\n",
              "      <th>4</th>\n",
              "      <td>user_4</td>\n",
              "      <td>0</td>\n",
              "      <td>STANDARD</td>\n",
              "      <td>0</td>\n",
              "      <td>28</td>\n",
              "      <td>W_EU</td>\n",
              "    </tr>\n",
              "  </tbody>\n",
              "</table>\n",
              "</div>"
            ],
            "text/plain": [
              "  user_id  user_settings_crypto_unlocked  ... user_age  Cluster\n",
              "0  user_0                              0  ...       28     S_EU\n",
              "1  user_1                              1  ...       35     N_EU\n",
              "2  user_2                              0  ...       24     W_EU\n",
              "3  user_3                              0  ...       39     W_EU\n",
              "4  user_4                              0  ...       28     W_EU\n",
              "\n",
              "[5 rows x 6 columns]"
            ]
          },
          "metadata": {
            "tags": []
          },
          "execution_count": 24
        }
      ]
    },
    {
      "cell_type": "code",
      "metadata": {
        "id": "u5cNGczL82M1",
        "colab_type": "code",
        "outputId": "5ffb0452-5ab6-4f45-bd1a-7618f37a14da",
        "colab": {
          "base_uri": "https://localhost:8080/"
        }
      },
      "source": [
        "users.loc[users['plan']== \"STANDARD\", 'paid_plan'] = 0 \n",
        "users.loc[users['plan']!= \"STANDARD\", 'paid_plan'] = 1 \n",
        "users=users.drop(columns=\"plan\")\n",
        "users.sample(5)"
      ],
      "execution_count": 0,
      "outputs": [
        {
          "output_type": "execute_result",
          "data": {
            "text/html": [
              "<div>\n",
              "<style scoped>\n",
              "    .dataframe tbody tr th:only-of-type {\n",
              "        vertical-align: middle;\n",
              "    }\n",
              "\n",
              "    .dataframe tbody tr th {\n",
              "        vertical-align: top;\n",
              "    }\n",
              "\n",
              "    .dataframe thead th {\n",
              "        text-align: right;\n",
              "    }\n",
              "</style>\n",
              "<table border=\"1\" class=\"dataframe\">\n",
              "  <thead>\n",
              "    <tr style=\"text-align: right;\">\n",
              "      <th></th>\n",
              "      <th>user_id</th>\n",
              "      <th>user_settings_crypto_unlocked</th>\n",
              "      <th>num_contacts</th>\n",
              "      <th>user_age</th>\n",
              "      <th>Cluster</th>\n",
              "      <th>paid_plan</th>\n",
              "    </tr>\n",
              "  </thead>\n",
              "  <tbody>\n",
              "    <tr>\n",
              "      <th>7669</th>\n",
              "      <td>user_7669</td>\n",
              "      <td>0</td>\n",
              "      <td>15</td>\n",
              "      <td>22</td>\n",
              "      <td>N_EU</td>\n",
              "      <td>0.0</td>\n",
              "    </tr>\n",
              "    <tr>\n",
              "      <th>3059</th>\n",
              "      <td>user_3059</td>\n",
              "      <td>0</td>\n",
              "      <td>20</td>\n",
              "      <td>27</td>\n",
              "      <td>CEE_EU</td>\n",
              "      <td>0.0</td>\n",
              "    </tr>\n",
              "    <tr>\n",
              "      <th>4927</th>\n",
              "      <td>user_4927</td>\n",
              "      <td>1</td>\n",
              "      <td>11</td>\n",
              "      <td>50</td>\n",
              "      <td>W_EU</td>\n",
              "      <td>0.0</td>\n",
              "    </tr>\n",
              "    <tr>\n",
              "      <th>9223</th>\n",
              "      <td>user_9223</td>\n",
              "      <td>0</td>\n",
              "      <td>0</td>\n",
              "      <td>55</td>\n",
              "      <td>W_EU</td>\n",
              "      <td>0.0</td>\n",
              "    </tr>\n",
              "    <tr>\n",
              "      <th>1202</th>\n",
              "      <td>user_1202</td>\n",
              "      <td>0</td>\n",
              "      <td>0</td>\n",
              "      <td>26</td>\n",
              "      <td>W_EU</td>\n",
              "      <td>0.0</td>\n",
              "    </tr>\n",
              "  </tbody>\n",
              "</table>\n",
              "</div>"
            ],
            "text/plain": [
              "        user_id  user_settings_crypto_unlocked  ...  Cluster  paid_plan\n",
              "7669  user_7669                              0  ...     N_EU        0.0\n",
              "3059  user_3059                              0  ...   CEE_EU        0.0\n",
              "4927  user_4927                              1  ...     W_EU        0.0\n",
              "9223  user_9223                              0  ...     W_EU        0.0\n",
              "1202  user_1202                              0  ...     W_EU        0.0\n",
              "\n",
              "[5 rows x 6 columns]"
            ]
          },
          "metadata": {
            "tags": []
          },
          "execution_count": 25
        }
      ]
    },
    {
      "cell_type": "code",
      "metadata": {
        "id": "ONd9PXRt8519",
        "colab_type": "code",
        "outputId": "61172a73-b33b-474c-ce64-c89d817d8ed4",
        "colab": {
          "base_uri": "https://localhost:8080/"
        }
      },
      "source": [
        "users=users.rename(columns={\"user_settings_crypto_unlocked\":\"crypto_on\"})\n",
        "users.sample(5)"
      ],
      "execution_count": 0,
      "outputs": [
        {
          "output_type": "execute_result",
          "data": {
            "text/html": [
              "<div>\n",
              "<style scoped>\n",
              "    .dataframe tbody tr th:only-of-type {\n",
              "        vertical-align: middle;\n",
              "    }\n",
              "\n",
              "    .dataframe tbody tr th {\n",
              "        vertical-align: top;\n",
              "    }\n",
              "\n",
              "    .dataframe thead th {\n",
              "        text-align: right;\n",
              "    }\n",
              "</style>\n",
              "<table border=\"1\" class=\"dataframe\">\n",
              "  <thead>\n",
              "    <tr style=\"text-align: right;\">\n",
              "      <th></th>\n",
              "      <th>user_id</th>\n",
              "      <th>crypto_on</th>\n",
              "      <th>num_contacts</th>\n",
              "      <th>user_age</th>\n",
              "      <th>Cluster</th>\n",
              "      <th>paid_plan</th>\n",
              "    </tr>\n",
              "  </thead>\n",
              "  <tbody>\n",
              "    <tr>\n",
              "      <th>12943</th>\n",
              "      <td>user_12943</td>\n",
              "      <td>0</td>\n",
              "      <td>44</td>\n",
              "      <td>36</td>\n",
              "      <td>N_EU</td>\n",
              "      <td>0.0</td>\n",
              "    </tr>\n",
              "    <tr>\n",
              "      <th>12277</th>\n",
              "      <td>user_12277</td>\n",
              "      <td>0</td>\n",
              "      <td>19</td>\n",
              "      <td>39</td>\n",
              "      <td>CEE_EU</td>\n",
              "      <td>0.0</td>\n",
              "    </tr>\n",
              "    <tr>\n",
              "      <th>14739</th>\n",
              "      <td>user_14739</td>\n",
              "      <td>0</td>\n",
              "      <td>0</td>\n",
              "      <td>20</td>\n",
              "      <td>W_EU</td>\n",
              "      <td>0.0</td>\n",
              "    </tr>\n",
              "    <tr>\n",
              "      <th>10239</th>\n",
              "      <td>user_10239</td>\n",
              "      <td>0</td>\n",
              "      <td>1</td>\n",
              "      <td>54</td>\n",
              "      <td>W_EU</td>\n",
              "      <td>0.0</td>\n",
              "    </tr>\n",
              "    <tr>\n",
              "      <th>1555</th>\n",
              "      <td>user_1555</td>\n",
              "      <td>0</td>\n",
              "      <td>6</td>\n",
              "      <td>38</td>\n",
              "      <td>W_EU</td>\n",
              "      <td>0.0</td>\n",
              "    </tr>\n",
              "  </tbody>\n",
              "</table>\n",
              "</div>"
            ],
            "text/plain": [
              "          user_id  crypto_on  num_contacts  user_age Cluster  paid_plan\n",
              "12943  user_12943          0            44        36    N_EU        0.0\n",
              "12277  user_12277          0            19        39  CEE_EU        0.0\n",
              "14739  user_14739          0             0        20    W_EU        0.0\n",
              "10239  user_10239          0             1        54    W_EU        0.0\n",
              "1555    user_1555          0             6        38    W_EU        0.0"
            ]
          },
          "metadata": {
            "tags": []
          },
          "execution_count": 26
        }
      ]
    },
    {
      "cell_type": "markdown",
      "metadata": {
        "id": "WE8RVZPVKHUc",
        "colab_type": "text"
      },
      "source": [
        "#User Modelling File"
      ]
    },
    {
      "cell_type": "markdown",
      "metadata": {
        "id": "nc6sgzIc207G",
        "colab_type": "text"
      },
      "source": [
        "##File Creation"
      ]
    },
    {
      "cell_type": "code",
      "metadata": {
        "id": "NwmdXWWao3Qy",
        "colab_type": "code",
        "outputId": "487dee08-8961-46c2-f42a-a625c9edcf2d",
        "colab": {
          "base_uri": "https://localhost:8080/",
          "height": 325
        }
      },
      "source": [
        "users_mod=pd.merge(left=users,right=trans_merge,on=\"user_id\",how=\"left\")\n",
        "users_mod=pd.merge(left=users_mod,right=dev,on=\"user_id\",how=\"left\")\n",
        "users_mod=pd.merge(left=users_mod,right=trans_stat,on=\"user_id\",how=\"left\")\n",
        "print(users_mod.columns)\n",
        "users_mod.sample(5)"
      ],
      "execution_count": 0,
      "outputs": [
        {
          "output_type": "stream",
          "text": [
            "Index(['user_id', 'crypto_on', 'num_contacts', 'user_age', 'Cluster',\n",
            "       'paid_plan', 'Agriculture', 'Mining', 'Construction', 'Manufacturing',\n",
            "       'Transportation', 'Wholesale', 'Retail', 'Finance', 'Services',\n",
            "       'Public_Admin', 'EXCHANGE', 'TOPUP_IN', 'TRANSFER_IN', 'TRANSFER_OUT',\n",
            "       'total_out', 'total_in', 'brand', 'min_amount_usd', 'max_amount_usd',\n",
            "       'mean_amount_usd'],\n",
            "      dtype='object')\n"
          ],
          "name": "stdout"
        },
        {
          "output_type": "execute_result",
          "data": {
            "text/html": [
              "<div>\n",
              "<style scoped>\n",
              "    .dataframe tbody tr th:only-of-type {\n",
              "        vertical-align: middle;\n",
              "    }\n",
              "\n",
              "    .dataframe tbody tr th {\n",
              "        vertical-align: top;\n",
              "    }\n",
              "\n",
              "    .dataframe thead th {\n",
              "        text-align: right;\n",
              "    }\n",
              "</style>\n",
              "<table border=\"1\" class=\"dataframe\">\n",
              "  <thead>\n",
              "    <tr style=\"text-align: right;\">\n",
              "      <th></th>\n",
              "      <th>user_id</th>\n",
              "      <th>crypto_on</th>\n",
              "      <th>num_contacts</th>\n",
              "      <th>user_age</th>\n",
              "      <th>Cluster</th>\n",
              "      <th>paid_plan</th>\n",
              "      <th>Agriculture</th>\n",
              "      <th>Mining</th>\n",
              "      <th>Construction</th>\n",
              "      <th>Manufacturing</th>\n",
              "      <th>Transportation</th>\n",
              "      <th>Wholesale</th>\n",
              "      <th>Retail</th>\n",
              "      <th>Finance</th>\n",
              "      <th>Services</th>\n",
              "      <th>Public_Admin</th>\n",
              "      <th>EXCHANGE</th>\n",
              "      <th>TOPUP_IN</th>\n",
              "      <th>TRANSFER_IN</th>\n",
              "      <th>TRANSFER_OUT</th>\n",
              "      <th>total_out</th>\n",
              "      <th>total_in</th>\n",
              "      <th>brand</th>\n",
              "      <th>min_amount_usd</th>\n",
              "      <th>max_amount_usd</th>\n",
              "      <th>mean_amount_usd</th>\n",
              "    </tr>\n",
              "  </thead>\n",
              "  <tbody>\n",
              "    <tr>\n",
              "      <th>8778</th>\n",
              "      <td>user_8778</td>\n",
              "      <td>0</td>\n",
              "      <td>2</td>\n",
              "      <td>33</td>\n",
              "      <td>S_EU</td>\n",
              "      <td>0.0</td>\n",
              "      <td>0.0</td>\n",
              "      <td>0.0</td>\n",
              "      <td>0.0</td>\n",
              "      <td>0.0</td>\n",
              "      <td>0.00</td>\n",
              "      <td>0.0</td>\n",
              "      <td>0.00</td>\n",
              "      <td>0.00</td>\n",
              "      <td>0.00</td>\n",
              "      <td>0.00</td>\n",
              "      <td>0.00</td>\n",
              "      <td>100.0</td>\n",
              "      <td>0.0</td>\n",
              "      <td>100.00</td>\n",
              "      <td>7.65</td>\n",
              "      <td>8.51</td>\n",
              "      <td>Apple</td>\n",
              "      <td>2.55</td>\n",
              "      <td>2.55</td>\n",
              "      <td>2.550000</td>\n",
              "    </tr>\n",
              "    <tr>\n",
              "      <th>1842</th>\n",
              "      <td>user_1842</td>\n",
              "      <td>0</td>\n",
              "      <td>0</td>\n",
              "      <td>49</td>\n",
              "      <td>W_EU</td>\n",
              "      <td>0.0</td>\n",
              "      <td>0.0</td>\n",
              "      <td>0.0</td>\n",
              "      <td>0.0</td>\n",
              "      <td>0.0</td>\n",
              "      <td>3.36</td>\n",
              "      <td>3.3</td>\n",
              "      <td>3.74</td>\n",
              "      <td>4.47</td>\n",
              "      <td>1.12</td>\n",
              "      <td>0.00</td>\n",
              "      <td>63.26</td>\n",
              "      <td>100.0</td>\n",
              "      <td>0.0</td>\n",
              "      <td>20.75</td>\n",
              "      <td>1904.95</td>\n",
              "      <td>1507.61</td>\n",
              "      <td>Android</td>\n",
              "      <td>1.28</td>\n",
              "      <td>500.00</td>\n",
              "      <td>90.711905</td>\n",
              "    </tr>\n",
              "    <tr>\n",
              "      <th>10156</th>\n",
              "      <td>user_10156</td>\n",
              "      <td>0</td>\n",
              "      <td>5</td>\n",
              "      <td>31</td>\n",
              "      <td>CEE_EU</td>\n",
              "      <td>0.0</td>\n",
              "      <td>0.0</td>\n",
              "      <td>0.0</td>\n",
              "      <td>0.0</td>\n",
              "      <td>0.0</td>\n",
              "      <td>8.46</td>\n",
              "      <td>0.0</td>\n",
              "      <td>88.44</td>\n",
              "      <td>0.00</td>\n",
              "      <td>1.14</td>\n",
              "      <td>0.00</td>\n",
              "      <td>0.00</td>\n",
              "      <td>100.0</td>\n",
              "      <td>0.0</td>\n",
              "      <td>1.96</td>\n",
              "      <td>1064.06</td>\n",
              "      <td>1077.71</td>\n",
              "      <td>Android</td>\n",
              "      <td>0.60</td>\n",
              "      <td>55.29</td>\n",
              "      <td>9.673273</td>\n",
              "    </tr>\n",
              "    <tr>\n",
              "      <th>146</th>\n",
              "      <td>user_146</td>\n",
              "      <td>0</td>\n",
              "      <td>0</td>\n",
              "      <td>39</td>\n",
              "      <td>W_EU</td>\n",
              "      <td>0.0</td>\n",
              "      <td>0.0</td>\n",
              "      <td>0.0</td>\n",
              "      <td>0.0</td>\n",
              "      <td>0.0</td>\n",
              "      <td>0.00</td>\n",
              "      <td>0.0</td>\n",
              "      <td>65.16</td>\n",
              "      <td>34.84</td>\n",
              "      <td>0.00</td>\n",
              "      <td>0.00</td>\n",
              "      <td>0.00</td>\n",
              "      <td>100.0</td>\n",
              "      <td>0.0</td>\n",
              "      <td>0.00</td>\n",
              "      <td>146.54</td>\n",
              "      <td>212.77</td>\n",
              "      <td>Apple</td>\n",
              "      <td>5.07</td>\n",
              "      <td>51.06</td>\n",
              "      <td>20.934286</td>\n",
              "    </tr>\n",
              "    <tr>\n",
              "      <th>7486</th>\n",
              "      <td>user_7486</td>\n",
              "      <td>0</td>\n",
              "      <td>0</td>\n",
              "      <td>75</td>\n",
              "      <td>W_EU</td>\n",
              "      <td>0.0</td>\n",
              "      <td>0.0</td>\n",
              "      <td>0.0</td>\n",
              "      <td>0.0</td>\n",
              "      <td>0.0</td>\n",
              "      <td>3.61</td>\n",
              "      <td>0.0</td>\n",
              "      <td>80.55</td>\n",
              "      <td>0.00</td>\n",
              "      <td>1.44</td>\n",
              "      <td>14.39</td>\n",
              "      <td>0.00</td>\n",
              "      <td>100.0</td>\n",
              "      <td>0.0</td>\n",
              "      <td>0.00</td>\n",
              "      <td>554.03</td>\n",
              "      <td>700.00</td>\n",
              "      <td>Android</td>\n",
              "      <td>1.00</td>\n",
              "      <td>85.55</td>\n",
              "      <td>26.382381</td>\n",
              "    </tr>\n",
              "  </tbody>\n",
              "</table>\n",
              "</div>"
            ],
            "text/plain": [
              "          user_id  crypto_on  ...  max_amount_usd  mean_amount_usd\n",
              "8778    user_8778          0  ...            2.55         2.550000\n",
              "1842    user_1842          0  ...          500.00        90.711905\n",
              "10156  user_10156          0  ...           55.29         9.673273\n",
              "146      user_146          0  ...           51.06        20.934286\n",
              "7486    user_7486          0  ...           85.55        26.382381\n",
              "\n",
              "[5 rows x 26 columns]"
            ]
          },
          "metadata": {
            "tags": []
          },
          "execution_count": 27
        }
      ]
    },
    {
      "cell_type": "code",
      "metadata": {
        "id": "nYp_rjo8RkJ5",
        "colab_type": "code",
        "outputId": "b92faa0e-deae-49d1-82f6-2c71cb68eb56",
        "colab": {
          "base_uri": "https://localhost:8080/",
          "height": 66
        }
      },
      "source": [
        "users_mod.paid_plan.value_counts()"
      ],
      "execution_count": 0,
      "outputs": [
        {
          "output_type": "execute_result",
          "data": {
            "text/plain": [
              "0.0    14394\n",
              "1.0     1150\n",
              "Name: paid_plan, dtype: int64"
            ]
          },
          "metadata": {
            "tags": []
          },
          "execution_count": 28
        }
      ]
    },
    {
      "cell_type": "code",
      "metadata": {
        "id": "ZcxLEJIYLLC1",
        "colab_type": "code",
        "outputId": "c4799afe-be5a-46ee-bcaa-d8a368cf3500",
        "colab": {
          "base_uri": "https://localhost:8080/",
          "height": 211
        }
      },
      "source": [
        "users_mod.loc[users_mod['brand']== \"Apple\", 'Apple'] = 1 \n",
        "users_mod.loc[users_mod['brand']!= \"Apple\", 'Apple'] = 0 \n",
        "users_mod=users_mod.drop(columns=\"brand\")\n",
        "users_mod.sample(5)"
      ],
      "execution_count": 0,
      "outputs": [
        {
          "output_type": "execute_result",
          "data": {
            "text/html": [
              "<div>\n",
              "<style scoped>\n",
              "    .dataframe tbody tr th:only-of-type {\n",
              "        vertical-align: middle;\n",
              "    }\n",
              "\n",
              "    .dataframe tbody tr th {\n",
              "        vertical-align: top;\n",
              "    }\n",
              "\n",
              "    .dataframe thead th {\n",
              "        text-align: right;\n",
              "    }\n",
              "</style>\n",
              "<table border=\"1\" class=\"dataframe\">\n",
              "  <thead>\n",
              "    <tr style=\"text-align: right;\">\n",
              "      <th></th>\n",
              "      <th>user_id</th>\n",
              "      <th>crypto_on</th>\n",
              "      <th>num_contacts</th>\n",
              "      <th>user_age</th>\n",
              "      <th>Cluster</th>\n",
              "      <th>paid_plan</th>\n",
              "      <th>Agriculture</th>\n",
              "      <th>Mining</th>\n",
              "      <th>Construction</th>\n",
              "      <th>Manufacturing</th>\n",
              "      <th>Transportation</th>\n",
              "      <th>Wholesale</th>\n",
              "      <th>Retail</th>\n",
              "      <th>Finance</th>\n",
              "      <th>Services</th>\n",
              "      <th>Public_Admin</th>\n",
              "      <th>EXCHANGE</th>\n",
              "      <th>TOPUP_IN</th>\n",
              "      <th>TRANSFER_IN</th>\n",
              "      <th>TRANSFER_OUT</th>\n",
              "      <th>total_out</th>\n",
              "      <th>total_in</th>\n",
              "      <th>min_amount_usd</th>\n",
              "      <th>max_amount_usd</th>\n",
              "      <th>mean_amount_usd</th>\n",
              "      <th>Apple</th>\n",
              "    </tr>\n",
              "  </thead>\n",
              "  <tbody>\n",
              "    <tr>\n",
              "      <th>10490</th>\n",
              "      <td>user_10490</td>\n",
              "      <td>0</td>\n",
              "      <td>20</td>\n",
              "      <td>32</td>\n",
              "      <td>S_EU</td>\n",
              "      <td>0.0</td>\n",
              "      <td>0.0</td>\n",
              "      <td>0.0</td>\n",
              "      <td>0.0</td>\n",
              "      <td>29.25</td>\n",
              "      <td>64.36</td>\n",
              "      <td>0.0</td>\n",
              "      <td>0.00</td>\n",
              "      <td>0.00</td>\n",
              "      <td>0.00</td>\n",
              "      <td>0.0</td>\n",
              "      <td>0.00</td>\n",
              "      <td>100.00</td>\n",
              "      <td>0.00</td>\n",
              "      <td>6.39</td>\n",
              "      <td>399.80</td>\n",
              "      <td>476.59</td>\n",
              "      <td>12.77</td>\n",
              "      <td>168.78</td>\n",
              "      <td>79.960000</td>\n",
              "      <td>0.0</td>\n",
              "    </tr>\n",
              "    <tr>\n",
              "      <th>7596</th>\n",
              "      <td>user_7596</td>\n",
              "      <td>0</td>\n",
              "      <td>23</td>\n",
              "      <td>32</td>\n",
              "      <td>S_EU</td>\n",
              "      <td>0.0</td>\n",
              "      <td>0.0</td>\n",
              "      <td>0.0</td>\n",
              "      <td>0.0</td>\n",
              "      <td>0.00</td>\n",
              "      <td>0.62</td>\n",
              "      <td>0.0</td>\n",
              "      <td>2.26</td>\n",
              "      <td>0.00</td>\n",
              "      <td>0.00</td>\n",
              "      <td>0.0</td>\n",
              "      <td>0.00</td>\n",
              "      <td>100.00</td>\n",
              "      <td>0.00</td>\n",
              "      <td>97.12</td>\n",
              "      <td>1701.72</td>\n",
              "      <td>1710.64</td>\n",
              "      <td>0.94</td>\n",
              "      <td>1652.69</td>\n",
              "      <td>170.172000</td>\n",
              "      <td>0.0</td>\n",
              "    </tr>\n",
              "    <tr>\n",
              "      <th>10546</th>\n",
              "      <td>user_10546</td>\n",
              "      <td>0</td>\n",
              "      <td>36</td>\n",
              "      <td>31</td>\n",
              "      <td>CEE_EU</td>\n",
              "      <td>0.0</td>\n",
              "      <td>0.0</td>\n",
              "      <td>0.0</td>\n",
              "      <td>0.0</td>\n",
              "      <td>0.00</td>\n",
              "      <td>0.00</td>\n",
              "      <td>0.0</td>\n",
              "      <td>25.29</td>\n",
              "      <td>1.14</td>\n",
              "      <td>18.78</td>\n",
              "      <td>0.0</td>\n",
              "      <td>13.75</td>\n",
              "      <td>97.63</td>\n",
              "      <td>2.37</td>\n",
              "      <td>41.04</td>\n",
              "      <td>783.99</td>\n",
              "      <td>770.19</td>\n",
              "      <td>0.11</td>\n",
              "      <td>147.24</td>\n",
              "      <td>4.637283</td>\n",
              "      <td>0.0</td>\n",
              "    </tr>\n",
              "    <tr>\n",
              "      <th>2073</th>\n",
              "      <td>user_2073</td>\n",
              "      <td>0</td>\n",
              "      <td>0</td>\n",
              "      <td>56</td>\n",
              "      <td>S_EU</td>\n",
              "      <td>0.0</td>\n",
              "      <td>NaN</td>\n",
              "      <td>NaN</td>\n",
              "      <td>NaN</td>\n",
              "      <td>NaN</td>\n",
              "      <td>NaN</td>\n",
              "      <td>NaN</td>\n",
              "      <td>NaN</td>\n",
              "      <td>NaN</td>\n",
              "      <td>NaN</td>\n",
              "      <td>NaN</td>\n",
              "      <td>NaN</td>\n",
              "      <td>NaN</td>\n",
              "      <td>NaN</td>\n",
              "      <td>NaN</td>\n",
              "      <td>NaN</td>\n",
              "      <td>NaN</td>\n",
              "      <td>NaN</td>\n",
              "      <td>NaN</td>\n",
              "      <td>NaN</td>\n",
              "      <td>0.0</td>\n",
              "    </tr>\n",
              "    <tr>\n",
              "      <th>10667</th>\n",
              "      <td>user_10667</td>\n",
              "      <td>0</td>\n",
              "      <td>25</td>\n",
              "      <td>21</td>\n",
              "      <td>CEE_EU</td>\n",
              "      <td>0.0</td>\n",
              "      <td>0.0</td>\n",
              "      <td>0.0</td>\n",
              "      <td>0.0</td>\n",
              "      <td>0.00</td>\n",
              "      <td>18.14</td>\n",
              "      <td>0.0</td>\n",
              "      <td>5.81</td>\n",
              "      <td>41.07</td>\n",
              "      <td>0.00</td>\n",
              "      <td>0.0</td>\n",
              "      <td>28.28</td>\n",
              "      <td>11.81</td>\n",
              "      <td>88.19</td>\n",
              "      <td>6.69</td>\n",
              "      <td>195.23</td>\n",
              "      <td>227.36</td>\n",
              "      <td>0.50</td>\n",
              "      <td>179.03</td>\n",
              "      <td>16.489167</td>\n",
              "      <td>0.0</td>\n",
              "    </tr>\n",
              "  </tbody>\n",
              "</table>\n",
              "</div>"
            ],
            "text/plain": [
              "          user_id  crypto_on  ...  mean_amount_usd  Apple\n",
              "10490  user_10490          0  ...        79.960000    0.0\n",
              "7596    user_7596          0  ...       170.172000    0.0\n",
              "10546  user_10546          0  ...         4.637283    0.0\n",
              "2073    user_2073          0  ...              NaN    0.0\n",
              "10667  user_10667          0  ...        16.489167    0.0\n",
              "\n",
              "[5 rows x 26 columns]"
            ]
          },
          "metadata": {
            "tags": []
          },
          "execution_count": 29
        }
      ]
    },
    {
      "cell_type": "code",
      "metadata": {
        "id": "aHh6CsV4wwj6",
        "colab_type": "code",
        "colab": {}
      },
      "source": [
        "#users_mod=pd.get_dummies(users_mod,columns=[\"Cluster\"])\n",
        "#users_mod=users_mod.drop(columns=[\"country\"])\n",
        "#users_mod.head()"
      ],
      "execution_count": 0,
      "outputs": []
    },
    {
      "cell_type": "code",
      "metadata": {
        "id": "CNwZSXSEMrn4",
        "colab_type": "code",
        "outputId": "002ecab2-bfd3-4832-d48e-114ac16f4709",
        "colab": {
          "base_uri": "https://localhost:8080/",
          "height": 235
        }
      },
      "source": [
        "info = pd.DataFrame(users_mod.dtypes).T.rename(index={0:'Data type'})\n",
        "info = info.append(pd.DataFrame(users_mod.isnull().sum()).T.rename(index={0: 'Zero values (number)'}))\n",
        "info = info.append(pd.DataFrame(100*users_mod.isnull().sum()/users_mod.shape[0]).T.rename(index={0: 'Zero values (%)'}))\n",
        "\n",
        "info"
      ],
      "execution_count": 0,
      "outputs": [
        {
          "output_type": "execute_result",
          "data": {
            "text/html": [
              "<div>\n",
              "<style scoped>\n",
              "    .dataframe tbody tr th:only-of-type {\n",
              "        vertical-align: middle;\n",
              "    }\n",
              "\n",
              "    .dataframe tbody tr th {\n",
              "        vertical-align: top;\n",
              "    }\n",
              "\n",
              "    .dataframe thead th {\n",
              "        text-align: right;\n",
              "    }\n",
              "</style>\n",
              "<table border=\"1\" class=\"dataframe\">\n",
              "  <thead>\n",
              "    <tr style=\"text-align: right;\">\n",
              "      <th></th>\n",
              "      <th>user_id</th>\n",
              "      <th>crypto_on</th>\n",
              "      <th>num_contacts</th>\n",
              "      <th>user_age</th>\n",
              "      <th>Cluster</th>\n",
              "      <th>paid_plan</th>\n",
              "      <th>Agriculture</th>\n",
              "      <th>Mining</th>\n",
              "      <th>Construction</th>\n",
              "      <th>Manufacturing</th>\n",
              "      <th>Transportation</th>\n",
              "      <th>Wholesale</th>\n",
              "      <th>Retail</th>\n",
              "      <th>Finance</th>\n",
              "      <th>Services</th>\n",
              "      <th>Public_Admin</th>\n",
              "      <th>EXCHANGE</th>\n",
              "      <th>TOPUP_IN</th>\n",
              "      <th>TRANSFER_IN</th>\n",
              "      <th>TRANSFER_OUT</th>\n",
              "      <th>total_out</th>\n",
              "      <th>total_in</th>\n",
              "      <th>min_amount_usd</th>\n",
              "      <th>max_amount_usd</th>\n",
              "      <th>mean_amount_usd</th>\n",
              "      <th>Apple</th>\n",
              "    </tr>\n",
              "  </thead>\n",
              "  <tbody>\n",
              "    <tr>\n",
              "      <th>Data type</th>\n",
              "      <td>object</td>\n",
              "      <td>int64</td>\n",
              "      <td>int64</td>\n",
              "      <td>int64</td>\n",
              "      <td>object</td>\n",
              "      <td>float64</td>\n",
              "      <td>float64</td>\n",
              "      <td>float64</td>\n",
              "      <td>float64</td>\n",
              "      <td>float64</td>\n",
              "      <td>float64</td>\n",
              "      <td>float64</td>\n",
              "      <td>float64</td>\n",
              "      <td>float64</td>\n",
              "      <td>float64</td>\n",
              "      <td>float64</td>\n",
              "      <td>float64</td>\n",
              "      <td>float64</td>\n",
              "      <td>float64</td>\n",
              "      <td>float64</td>\n",
              "      <td>float64</td>\n",
              "      <td>float64</td>\n",
              "      <td>float64</td>\n",
              "      <td>float64</td>\n",
              "      <td>float64</td>\n",
              "      <td>float64</td>\n",
              "    </tr>\n",
              "    <tr>\n",
              "      <th>Zero values (number)</th>\n",
              "      <td>0</td>\n",
              "      <td>0</td>\n",
              "      <td>0</td>\n",
              "      <td>0</td>\n",
              "      <td>0</td>\n",
              "      <td>0</td>\n",
              "      <td>1735</td>\n",
              "      <td>1735</td>\n",
              "      <td>1735</td>\n",
              "      <td>1735</td>\n",
              "      <td>1735</td>\n",
              "      <td>1735</td>\n",
              "      <td>1735</td>\n",
              "      <td>1735</td>\n",
              "      <td>1735</td>\n",
              "      <td>1735</td>\n",
              "      <td>1735</td>\n",
              "      <td>925</td>\n",
              "      <td>925</td>\n",
              "      <td>1735</td>\n",
              "      <td>748</td>\n",
              "      <td>748</td>\n",
              "      <td>1693</td>\n",
              "      <td>1693</td>\n",
              "      <td>1693</td>\n",
              "      <td>0</td>\n",
              "    </tr>\n",
              "    <tr>\n",
              "      <th>Zero values (%)</th>\n",
              "      <td>0</td>\n",
              "      <td>0</td>\n",
              "      <td>0</td>\n",
              "      <td>0</td>\n",
              "      <td>0</td>\n",
              "      <td>0</td>\n",
              "      <td>11.1619</td>\n",
              "      <td>11.1619</td>\n",
              "      <td>11.1619</td>\n",
              "      <td>11.1619</td>\n",
              "      <td>11.1619</td>\n",
              "      <td>11.1619</td>\n",
              "      <td>11.1619</td>\n",
              "      <td>11.1619</td>\n",
              "      <td>11.1619</td>\n",
              "      <td>11.1619</td>\n",
              "      <td>11.1619</td>\n",
              "      <td>5.95085</td>\n",
              "      <td>5.95085</td>\n",
              "      <td>11.1619</td>\n",
              "      <td>4.81215</td>\n",
              "      <td>4.81215</td>\n",
              "      <td>10.8917</td>\n",
              "      <td>10.8917</td>\n",
              "      <td>10.8917</td>\n",
              "      <td>0</td>\n",
              "    </tr>\n",
              "  </tbody>\n",
              "</table>\n",
              "</div>"
            ],
            "text/plain": [
              "                     user_id crypto_on  ... mean_amount_usd    Apple\n",
              "Data type             object     int64  ...         float64  float64\n",
              "Zero values (number)       0         0  ...            1693        0\n",
              "Zero values (%)            0         0  ...         10.8917        0\n",
              "\n",
              "[3 rows x 26 columns]"
            ]
          },
          "metadata": {
            "tags": []
          },
          "execution_count": 31
        }
      ]
    },
    {
      "cell_type": "code",
      "metadata": {
        "id": "FFQPyVLcqCs-",
        "colab_type": "code",
        "colab": {}
      },
      "source": [
        "#test=users_mod[users_mod.total_in==0]\n",
        "#test=test[test.total_out==0]\n",
        "#test.shape"
      ],
      "execution_count": 0,
      "outputs": []
    },
    {
      "cell_type": "code",
      "metadata": {
        "id": "vGNPcwikNM5J",
        "colab_type": "code",
        "outputId": "08d0f070-2ce1-426f-b026-b7b4b9e70258",
        "colab": {
          "base_uri": "https://localhost:8080/",
          "height": 235
        }
      },
      "source": [
        "users_mod=users_mod.fillna(0)\n",
        "\n",
        "info = pd.DataFrame(users_mod.dtypes).T.rename(index={0:'Data type'})\n",
        "info = info.append(pd.DataFrame(users_mod.isnull().sum()).T.rename(index={0: 'Zero values (number)'}))\n",
        "info = info.append(pd.DataFrame(100*users_mod.isnull().sum()/users_mod.shape[0]).T.rename(index={0: 'Zero values (%)'}))\n",
        "\n",
        "info"
      ],
      "execution_count": 0,
      "outputs": [
        {
          "output_type": "execute_result",
          "data": {
            "text/html": [
              "<div>\n",
              "<style scoped>\n",
              "    .dataframe tbody tr th:only-of-type {\n",
              "        vertical-align: middle;\n",
              "    }\n",
              "\n",
              "    .dataframe tbody tr th {\n",
              "        vertical-align: top;\n",
              "    }\n",
              "\n",
              "    .dataframe thead th {\n",
              "        text-align: right;\n",
              "    }\n",
              "</style>\n",
              "<table border=\"1\" class=\"dataframe\">\n",
              "  <thead>\n",
              "    <tr style=\"text-align: right;\">\n",
              "      <th></th>\n",
              "      <th>user_id</th>\n",
              "      <th>crypto_on</th>\n",
              "      <th>num_contacts</th>\n",
              "      <th>user_age</th>\n",
              "      <th>Cluster</th>\n",
              "      <th>paid_plan</th>\n",
              "      <th>Agriculture</th>\n",
              "      <th>Mining</th>\n",
              "      <th>Construction</th>\n",
              "      <th>Manufacturing</th>\n",
              "      <th>Transportation</th>\n",
              "      <th>Wholesale</th>\n",
              "      <th>Retail</th>\n",
              "      <th>Finance</th>\n",
              "      <th>Services</th>\n",
              "      <th>Public_Admin</th>\n",
              "      <th>EXCHANGE</th>\n",
              "      <th>TOPUP_IN</th>\n",
              "      <th>TRANSFER_IN</th>\n",
              "      <th>TRANSFER_OUT</th>\n",
              "      <th>total_out</th>\n",
              "      <th>total_in</th>\n",
              "      <th>min_amount_usd</th>\n",
              "      <th>max_amount_usd</th>\n",
              "      <th>mean_amount_usd</th>\n",
              "      <th>Apple</th>\n",
              "    </tr>\n",
              "  </thead>\n",
              "  <tbody>\n",
              "    <tr>\n",
              "      <th>Data type</th>\n",
              "      <td>object</td>\n",
              "      <td>int64</td>\n",
              "      <td>int64</td>\n",
              "      <td>int64</td>\n",
              "      <td>object</td>\n",
              "      <td>float64</td>\n",
              "      <td>float64</td>\n",
              "      <td>float64</td>\n",
              "      <td>float64</td>\n",
              "      <td>float64</td>\n",
              "      <td>float64</td>\n",
              "      <td>float64</td>\n",
              "      <td>float64</td>\n",
              "      <td>float64</td>\n",
              "      <td>float64</td>\n",
              "      <td>float64</td>\n",
              "      <td>float64</td>\n",
              "      <td>float64</td>\n",
              "      <td>float64</td>\n",
              "      <td>float64</td>\n",
              "      <td>float64</td>\n",
              "      <td>float64</td>\n",
              "      <td>float64</td>\n",
              "      <td>float64</td>\n",
              "      <td>float64</td>\n",
              "      <td>float64</td>\n",
              "    </tr>\n",
              "    <tr>\n",
              "      <th>Zero values (number)</th>\n",
              "      <td>0</td>\n",
              "      <td>0</td>\n",
              "      <td>0</td>\n",
              "      <td>0</td>\n",
              "      <td>0</td>\n",
              "      <td>0</td>\n",
              "      <td>0</td>\n",
              "      <td>0</td>\n",
              "      <td>0</td>\n",
              "      <td>0</td>\n",
              "      <td>0</td>\n",
              "      <td>0</td>\n",
              "      <td>0</td>\n",
              "      <td>0</td>\n",
              "      <td>0</td>\n",
              "      <td>0</td>\n",
              "      <td>0</td>\n",
              "      <td>0</td>\n",
              "      <td>0</td>\n",
              "      <td>0</td>\n",
              "      <td>0</td>\n",
              "      <td>0</td>\n",
              "      <td>0</td>\n",
              "      <td>0</td>\n",
              "      <td>0</td>\n",
              "      <td>0</td>\n",
              "    </tr>\n",
              "    <tr>\n",
              "      <th>Zero values (%)</th>\n",
              "      <td>0</td>\n",
              "      <td>0</td>\n",
              "      <td>0</td>\n",
              "      <td>0</td>\n",
              "      <td>0</td>\n",
              "      <td>0</td>\n",
              "      <td>0</td>\n",
              "      <td>0</td>\n",
              "      <td>0</td>\n",
              "      <td>0</td>\n",
              "      <td>0</td>\n",
              "      <td>0</td>\n",
              "      <td>0</td>\n",
              "      <td>0</td>\n",
              "      <td>0</td>\n",
              "      <td>0</td>\n",
              "      <td>0</td>\n",
              "      <td>0</td>\n",
              "      <td>0</td>\n",
              "      <td>0</td>\n",
              "      <td>0</td>\n",
              "      <td>0</td>\n",
              "      <td>0</td>\n",
              "      <td>0</td>\n",
              "      <td>0</td>\n",
              "      <td>0</td>\n",
              "    </tr>\n",
              "  </tbody>\n",
              "</table>\n",
              "</div>"
            ],
            "text/plain": [
              "                     user_id crypto_on  ... mean_amount_usd    Apple\n",
              "Data type             object     int64  ...         float64  float64\n",
              "Zero values (number)       0         0  ...               0        0\n",
              "Zero values (%)            0         0  ...               0        0\n",
              "\n",
              "[3 rows x 26 columns]"
            ]
          },
          "metadata": {
            "tags": []
          },
          "execution_count": 33
        }
      ]
    },
    {
      "cell_type": "code",
      "metadata": {
        "id": "tsjFgvVmk4pZ",
        "colab_type": "code",
        "outputId": "233b81b9-621e-4cfe-e490-dff5c3401f92",
        "colab": {
          "base_uri": "https://localhost:8080/",
          "height": 66
        }
      },
      "source": [
        "users_mod.loc[(users_mod.total_in == 0)|(users_mod.total_out == 0), 'No_Trans'] = 1 \n",
        "users_mod.loc[(users_mod.total_in > 0)|(users_mod.total_out > 0), 'No_Trans'] = 0\n",
        "\n",
        "print(users_mod.No_Trans.value_counts())"
      ],
      "execution_count": 0,
      "outputs": [
        {
          "output_type": "stream",
          "text": [
            "0.0    14795\n",
            "1.0      749\n",
            "Name: No_Trans, dtype: int64\n"
          ],
          "name": "stdout"
        }
      ]
    },
    {
      "cell_type": "markdown",
      "metadata": {
        "id": "86Iu9g2Mi6bK",
        "colab_type": "text"
      },
      "source": [
        "##User Modelling Clusters"
      ]
    },
    {
      "cell_type": "markdown",
      "metadata": {
        "id": "DgyzklXwm4EC",
        "colab_type": "text"
      },
      "source": [
        "###Test 1 (No Cluster) Kept No_Trans"
      ]
    },
    {
      "cell_type": "code",
      "metadata": {
        "id": "SkCd5LfGjc3h",
        "colab_type": "code",
        "outputId": "7c7b551f-d897-447b-fec9-082d83354387",
        "colab": {
          "base_uri": "https://localhost:8080/",
          "height": 131
        }
      },
      "source": [
        "users_mod.columns"
      ],
      "execution_count": 0,
      "outputs": [
        {
          "output_type": "execute_result",
          "data": {
            "text/plain": [
              "Index(['user_id', 'crypto_on', 'num_contacts', 'user_age', 'Cluster',\n",
              "       'paid_plan', 'Agriculture', 'Mining', 'Construction', 'Manufacturing',\n",
              "       'Transportation', 'Wholesale', 'Retail', 'Finance', 'Services',\n",
              "       'Public_Admin', 'EXCHANGE', 'TOPUP_IN', 'TRANSFER_IN', 'TRANSFER_OUT',\n",
              "       'total_out', 'total_in', 'min_amount_usd', 'max_amount_usd',\n",
              "       'mean_amount_usd', 'Apple', 'No_Trans'],\n",
              "      dtype='object')"
            ]
          },
          "metadata": {
            "tags": []
          },
          "execution_count": 36
        }
      ]
    },
    {
      "cell_type": "code",
      "metadata": {
        "id": "U8-KAC4k-S7W",
        "colab_type": "code",
        "colab": {}
      },
      "source": [
        "users_clust=users_mod.drop(columns=[\"user_id\",\"Cluster\"])"
      ],
      "execution_count": 0,
      "outputs": []
    },
    {
      "cell_type": "code",
      "metadata": {
        "id": "eWhsdI7_-NwM",
        "colab_type": "code",
        "outputId": "63839ab6-8d94-4bf4-83cf-ab346d2f338b",
        "colab": {
          "base_uri": "https://localhost:8080/",
          "height": 131
        }
      },
      "source": [
        "sc = MinMaxScaler()\n",
        "X = sc.fit_transform(users_clust.values)\n",
        "\n",
        "for k in range(3,10):\n",
        "    kmeans = KMeans(n_clusters = k, n_init=30, random_state=42)\n",
        "    kmeans.fit(X)\n",
        "    clusters = kmeans.predict(X)\n",
        "    silhouette_avg = silhouette_score(X, clusters)\n",
        "    print(\"For k =\", k, \"The average silhouette_score is :\", silhouette_avg)"
      ],
      "execution_count": 0,
      "outputs": [
        {
          "output_type": "stream",
          "text": [
            "For k = 3 The average silhouette_score is : 0.30260792678010495\n",
            "For k = 4 The average silhouette_score is : 0.31833922262037795\n",
            "For k = 5 The average silhouette_score is : 0.3466433534338579\n",
            "For k = 6 The average silhouette_score is : 0.36637555292953866\n",
            "For k = 7 The average silhouette_score is : 0.29149996520411486\n",
            "For k = 8 The average silhouette_score is : 0.2970134348171964\n",
            "For k = 9 The average silhouette_score is : 0.28043552885427264\n"
          ],
          "name": "stdout"
        }
      ]
    },
    {
      "cell_type": "markdown",
      "metadata": {
        "id": "5mRLz4Zyjvp-",
        "colab_type": "text"
      },
      "source": [
        "*The best silhouette is found for k =* **6**. "
      ]
    },
    {
      "cell_type": "code",
      "metadata": {
        "id": "k8nl3F7Qjq5p",
        "colab_type": "code",
        "outputId": "3eed92b6-12de-4e40-d7f7-37a7db035818",
        "colab": {
          "base_uri": "https://localhost:8080/",
          "height": 240
        }
      },
      "source": [
        "k_u = 6\n",
        "kmeans_cust = KMeans(n_clusters = k_u, n_init=30, random_state=42)\n",
        "cust_clusters = kmeans_cust.fit_predict(X)\n",
        "\n",
        "centroids = sc.inverse_transform(np.array(kmeans_cust.cluster_centers_))\n",
        "\n",
        "test=pd.DataFrame(centroids, columns=users_clust.columns)\n",
        "test=round(test,2)\n",
        "test=test.rename(columns={\"user_settings_crypto_unlocked\":\"crypto\"})\n",
        "test"
      ],
      "execution_count": 0,
      "outputs": [
        {
          "output_type": "execute_result",
          "data": {
            "text/html": [
              "<div>\n",
              "<style scoped>\n",
              "    .dataframe tbody tr th:only-of-type {\n",
              "        vertical-align: middle;\n",
              "    }\n",
              "\n",
              "    .dataframe tbody tr th {\n",
              "        vertical-align: top;\n",
              "    }\n",
              "\n",
              "    .dataframe thead th {\n",
              "        text-align: right;\n",
              "    }\n",
              "</style>\n",
              "<table border=\"1\" class=\"dataframe\">\n",
              "  <thead>\n",
              "    <tr style=\"text-align: right;\">\n",
              "      <th></th>\n",
              "      <th>crypto_on</th>\n",
              "      <th>num_contacts</th>\n",
              "      <th>user_age</th>\n",
              "      <th>paid_plan</th>\n",
              "      <th>Agriculture</th>\n",
              "      <th>Mining</th>\n",
              "      <th>Construction</th>\n",
              "      <th>Manufacturing</th>\n",
              "      <th>Transportation</th>\n",
              "      <th>Wholesale</th>\n",
              "      <th>Retail</th>\n",
              "      <th>Finance</th>\n",
              "      <th>Services</th>\n",
              "      <th>Public_Admin</th>\n",
              "      <th>EXCHANGE</th>\n",
              "      <th>TOPUP_IN</th>\n",
              "      <th>TRANSFER_IN</th>\n",
              "      <th>TRANSFER_OUT</th>\n",
              "      <th>total_out</th>\n",
              "      <th>total_in</th>\n",
              "      <th>min_amount_usd</th>\n",
              "      <th>max_amount_usd</th>\n",
              "      <th>mean_amount_usd</th>\n",
              "      <th>Apple</th>\n",
              "      <th>No_Trans</th>\n",
              "    </tr>\n",
              "  </thead>\n",
              "  <tbody>\n",
              "    <tr>\n",
              "      <th>0</th>\n",
              "      <td>-0.00</td>\n",
              "      <td>14.49</td>\n",
              "      <td>36.76</td>\n",
              "      <td>0.04</td>\n",
              "      <td>0.07</td>\n",
              "      <td>0.15</td>\n",
              "      <td>0.01</td>\n",
              "      <td>1.05</td>\n",
              "      <td>4.30</td>\n",
              "      <td>0.31</td>\n",
              "      <td>30.42</td>\n",
              "      <td>10.27</td>\n",
              "      <td>7.59</td>\n",
              "      <td>0.34</td>\n",
              "      <td>15.76</td>\n",
              "      <td>97.39</td>\n",
              "      <td>2.52</td>\n",
              "      <td>22.37</td>\n",
              "      <td>3487.83</td>\n",
              "      <td>2500.70</td>\n",
              "      <td>8.08</td>\n",
              "      <td>525.47</td>\n",
              "      <td>78.31</td>\n",
              "      <td>0.00</td>\n",
              "      <td>0.0</td>\n",
              "    </tr>\n",
              "    <tr>\n",
              "      <th>1</th>\n",
              "      <td>-0.00</td>\n",
              "      <td>19.88</td>\n",
              "      <td>36.78</td>\n",
              "      <td>0.06</td>\n",
              "      <td>0.08</td>\n",
              "      <td>0.09</td>\n",
              "      <td>0.02</td>\n",
              "      <td>1.12</td>\n",
              "      <td>3.95</td>\n",
              "      <td>0.27</td>\n",
              "      <td>29.83</td>\n",
              "      <td>9.98</td>\n",
              "      <td>7.17</td>\n",
              "      <td>0.29</td>\n",
              "      <td>15.55</td>\n",
              "      <td>96.62</td>\n",
              "      <td>3.01</td>\n",
              "      <td>23.18</td>\n",
              "      <td>5381.35</td>\n",
              "      <td>3422.92</td>\n",
              "      <td>12.10</td>\n",
              "      <td>824.46</td>\n",
              "      <td>99.37</td>\n",
              "      <td>1.00</td>\n",
              "      <td>0.0</td>\n",
              "    </tr>\n",
              "    <tr>\n",
              "      <th>2</th>\n",
              "      <td>1.00</td>\n",
              "      <td>18.89</td>\n",
              "      <td>34.72</td>\n",
              "      <td>0.16</td>\n",
              "      <td>0.06</td>\n",
              "      <td>0.04</td>\n",
              "      <td>0.01</td>\n",
              "      <td>0.98</td>\n",
              "      <td>4.12</td>\n",
              "      <td>0.33</td>\n",
              "      <td>29.06</td>\n",
              "      <td>9.90</td>\n",
              "      <td>6.64</td>\n",
              "      <td>0.39</td>\n",
              "      <td>21.47</td>\n",
              "      <td>95.56</td>\n",
              "      <td>4.04</td>\n",
              "      <td>24.65</td>\n",
              "      <td>7463.56</td>\n",
              "      <td>4487.97</td>\n",
              "      <td>1.79</td>\n",
              "      <td>843.84</td>\n",
              "      <td>60.76</td>\n",
              "      <td>-0.00</td>\n",
              "      <td>-0.0</td>\n",
              "    </tr>\n",
              "    <tr>\n",
              "      <th>3</th>\n",
              "      <td>1.00</td>\n",
              "      <td>24.44</td>\n",
              "      <td>34.92</td>\n",
              "      <td>0.28</td>\n",
              "      <td>0.05</td>\n",
              "      <td>0.08</td>\n",
              "      <td>0.02</td>\n",
              "      <td>1.08</td>\n",
              "      <td>3.99</td>\n",
              "      <td>0.33</td>\n",
              "      <td>28.63</td>\n",
              "      <td>8.98</td>\n",
              "      <td>7.16</td>\n",
              "      <td>0.38</td>\n",
              "      <td>22.91</td>\n",
              "      <td>95.08</td>\n",
              "      <td>4.59</td>\n",
              "      <td>24.07</td>\n",
              "      <td>9073.36</td>\n",
              "      <td>5884.39</td>\n",
              "      <td>5.71</td>\n",
              "      <td>1130.62</td>\n",
              "      <td>72.08</td>\n",
              "      <td>1.00</td>\n",
              "      <td>0.0</td>\n",
              "    </tr>\n",
              "    <tr>\n",
              "      <th>4</th>\n",
              "      <td>0.07</td>\n",
              "      <td>3.11</td>\n",
              "      <td>35.62</td>\n",
              "      <td>0.00</td>\n",
              "      <td>0.00</td>\n",
              "      <td>0.00</td>\n",
              "      <td>0.00</td>\n",
              "      <td>-0.00</td>\n",
              "      <td>0.00</td>\n",
              "      <td>-0.00</td>\n",
              "      <td>0.00</td>\n",
              "      <td>0.00</td>\n",
              "      <td>-0.00</td>\n",
              "      <td>0.00</td>\n",
              "      <td>-0.00</td>\n",
              "      <td>0.00</td>\n",
              "      <td>-0.00</td>\n",
              "      <td>-0.00</td>\n",
              "      <td>-0.00</td>\n",
              "      <td>-0.00</td>\n",
              "      <td>0.00</td>\n",
              "      <td>0.00</td>\n",
              "      <td>0.00</td>\n",
              "      <td>0.46</td>\n",
              "      <td>1.0</td>\n",
              "    </tr>\n",
              "    <tr>\n",
              "      <th>5</th>\n",
              "      <td>0.05</td>\n",
              "      <td>27.97</td>\n",
              "      <td>36.12</td>\n",
              "      <td>0.04</td>\n",
              "      <td>0.07</td>\n",
              "      <td>0.22</td>\n",
              "      <td>0.00</td>\n",
              "      <td>0.58</td>\n",
              "      <td>3.05</td>\n",
              "      <td>0.25</td>\n",
              "      <td>26.43</td>\n",
              "      <td>9.31</td>\n",
              "      <td>4.49</td>\n",
              "      <td>0.36</td>\n",
              "      <td>6.58</td>\n",
              "      <td>13.09</td>\n",
              "      <td>69.86</td>\n",
              "      <td>44.98</td>\n",
              "      <td>1925.78</td>\n",
              "      <td>1018.23</td>\n",
              "      <td>12.91</td>\n",
              "      <td>421.60</td>\n",
              "      <td>70.67</td>\n",
              "      <td>0.43</td>\n",
              "      <td>0.0</td>\n",
              "    </tr>\n",
              "  </tbody>\n",
              "</table>\n",
              "</div>"
            ],
            "text/plain": [
              "   crypto_on  num_contacts  user_age  ...  mean_amount_usd  Apple  No_Trans\n",
              "0      -0.00         14.49     36.76  ...            78.31   0.00       0.0\n",
              "1      -0.00         19.88     36.78  ...            99.37   1.00       0.0\n",
              "2       1.00         18.89     34.72  ...            60.76  -0.00      -0.0\n",
              "3       1.00         24.44     34.92  ...            72.08   1.00       0.0\n",
              "4       0.07          3.11     35.62  ...             0.00   0.46       1.0\n",
              "5       0.05         27.97     36.12  ...            70.67   0.43       0.0\n",
              "\n",
              "[6 rows x 25 columns]"
            ]
          },
          "metadata": {
            "tags": []
          },
          "execution_count": 39
        }
      ]
    },
    {
      "cell_type": "code",
      "metadata": {
        "id": "efuLWeppj2mx",
        "colab_type": "code",
        "outputId": "ae2e9f60-17c0-4966-b5c3-624a25887834",
        "colab": {
          "base_uri": "https://localhost:8080/",
          "height": 131
        }
      },
      "source": [
        "test=users_clust\n",
        "test[\"Clusters\"]=cust_clusters\n",
        "test.Clusters.value_counts()"
      ],
      "execution_count": 0,
      "outputs": [
        {
          "output_type": "execute_result",
          "data": {
            "text/plain": [
              "1    5773\n",
              "0    5463\n",
              "2    1497\n",
              "3    1241\n",
              "5     821\n",
              "4     749\n",
              "Name: Clusters, dtype: int64"
            ]
          },
          "metadata": {
            "tags": []
          },
          "execution_count": 40
        }
      ]
    },
    {
      "cell_type": "markdown",
      "metadata": {
        "colab_type": "text",
        "id": "s_OB2XfGm_sh"
      },
      "source": [
        "###Test 2 (No Cluster,user_age) Droped No_Trans"
      ]
    },
    {
      "cell_type": "code",
      "metadata": {
        "colab_type": "code",
        "outputId": "e7e8c3a7-5ae6-4d51-e032-6c97415ea68b",
        "id": "_fz3iX9fm_si",
        "colab": {
          "base_uri": "https://localhost:8080/"
        }
      },
      "source": [
        "users_mod.columns"
      ],
      "execution_count": 0,
      "outputs": [
        {
          "output_type": "execute_result",
          "data": {
            "text/plain": [
              "Index(['user_id', 'crypto_on', 'num_contacts', 'user_age', 'Cluster',\n",
              "       'paid_plan', 'Agriculture', 'Mining', 'Construction', 'Manufacturing',\n",
              "       'Transportation', 'Wholesale', 'Retail', 'Finance', 'Services',\n",
              "       'Public_Admin', 'EXCHANGE', 'TOPUP_IN', 'TRANSFER_IN', 'TRANSFER_OUT',\n",
              "       'total_out', 'total_in', 'min_amount_usd', 'max_amount_usd',\n",
              "       'mean_amount_usd', 'Apple', 'No_Trans'],\n",
              "      dtype='object')"
            ]
          },
          "metadata": {
            "tags": []
          },
          "execution_count": 41
        }
      ]
    },
    {
      "cell_type": "code",
      "metadata": {
        "colab_type": "code",
        "id": "hhqVtMzvm_sp",
        "colab": {}
      },
      "source": [
        "users_clust=users_mod.drop(columns=[\"user_id\",\"Cluster\",\"paid_plan\",\"user_age\"])\n",
        "users_clust=users_clust[users_clust.No_Trans==0]\n",
        "users_clust=users_clust.drop(columns=\"No_Trans\")"
      ],
      "execution_count": 0,
      "outputs": []
    },
    {
      "cell_type": "code",
      "metadata": {
        "colab_type": "code",
        "outputId": "fcf5c10a-cdf4-423f-f7f5-6975aed42dcc",
        "id": "8tenLapYm_ss",
        "colab": {
          "base_uri": "https://localhost:8080/"
        }
      },
      "source": [
        "sc = MinMaxScaler()\n",
        "X = sc.fit_transform(users_clust.values)\n",
        "\n",
        "for k in range(3,10):\n",
        "    kmeans = KMeans(n_clusters = k, n_init=30, random_state=42)\n",
        "    kmeans.fit(X)\n",
        "    clusters = kmeans.predict(X)\n",
        "    silhouette_avg = silhouette_score(X, clusters)\n",
        "    print(\"For k =\", k, \"The average silhouette_score is :\", silhouette_avg)"
      ],
      "execution_count": 0,
      "outputs": [
        {
          "output_type": "stream",
          "text": [
            "For k = 3 The average silhouette_score is : 0.3621390094274444\n",
            "For k = 4 The average silhouette_score is : 0.37095674151928365\n",
            "For k = 5 The average silhouette_score is : 0.4065367328957977\n",
            "For k = 6 The average silhouette_score is : 0.36378383957054017\n",
            "For k = 7 The average silhouette_score is : 0.3381142449547753\n",
            "For k = 8 The average silhouette_score is : 0.32384158351543724\n",
            "For k = 9 The average silhouette_score is : 0.316868671729214\n"
          ],
          "name": "stdout"
        }
      ]
    },
    {
      "cell_type": "markdown",
      "metadata": {
        "colab_type": "text",
        "id": "OyGrMPLwm_sv"
      },
      "source": [
        "*The best silhouette is found for k =* **5**. "
      ]
    },
    {
      "cell_type": "code",
      "metadata": {
        "colab_type": "code",
        "outputId": "b8124aed-ecb1-42dd-aa6c-5c49058c4e48",
        "id": "rGjuD8ODm_sw",
        "colab": {
          "base_uri": "https://localhost:8080/"
        }
      },
      "source": [
        "k_u = 5\n",
        "kmeans_cust = KMeans(n_clusters = k_u, n_init=30, random_state=42)\n",
        "cust_clusters = kmeans_cust.fit_predict(X)\n",
        "\n",
        "centroids = sc.inverse_transform(np.array(kmeans_cust.cluster_centers_))\n",
        "\n",
        "test=pd.DataFrame(centroids, columns=users_clust.columns)\n",
        "test=round(test,2)\n",
        "test=test.rename(columns={\"user_settings_crypto_unlocked\":\"crypto\"})\n",
        "test"
      ],
      "execution_count": 0,
      "outputs": [
        {
          "output_type": "execute_result",
          "data": {
            "text/html": [
              "<div>\n",
              "<style scoped>\n",
              "    .dataframe tbody tr th:only-of-type {\n",
              "        vertical-align: middle;\n",
              "    }\n",
              "\n",
              "    .dataframe tbody tr th {\n",
              "        vertical-align: top;\n",
              "    }\n",
              "\n",
              "    .dataframe thead th {\n",
              "        text-align: right;\n",
              "    }\n",
              "</style>\n",
              "<table border=\"1\" class=\"dataframe\">\n",
              "  <thead>\n",
              "    <tr style=\"text-align: right;\">\n",
              "      <th></th>\n",
              "      <th>crypto_on</th>\n",
              "      <th>num_contacts</th>\n",
              "      <th>Agriculture</th>\n",
              "      <th>Mining</th>\n",
              "      <th>Construction</th>\n",
              "      <th>Manufacturing</th>\n",
              "      <th>Transportation</th>\n",
              "      <th>Wholesale</th>\n",
              "      <th>Retail</th>\n",
              "      <th>Finance</th>\n",
              "      <th>Services</th>\n",
              "      <th>Public_Admin</th>\n",
              "      <th>EXCHANGE</th>\n",
              "      <th>TOPUP_IN</th>\n",
              "      <th>TRANSFER_IN</th>\n",
              "      <th>TRANSFER_OUT</th>\n",
              "      <th>total_out</th>\n",
              "      <th>total_in</th>\n",
              "      <th>min_amount_usd</th>\n",
              "      <th>max_amount_usd</th>\n",
              "      <th>mean_amount_usd</th>\n",
              "      <th>Apple</th>\n",
              "    </tr>\n",
              "  </thead>\n",
              "  <tbody>\n",
              "    <tr>\n",
              "      <th>0</th>\n",
              "      <td>1.00</td>\n",
              "      <td>18.89</td>\n",
              "      <td>0.06</td>\n",
              "      <td>0.04</td>\n",
              "      <td>0.01</td>\n",
              "      <td>1.01</td>\n",
              "      <td>4.12</td>\n",
              "      <td>0.33</td>\n",
              "      <td>29.04</td>\n",
              "      <td>9.90</td>\n",
              "      <td>6.64</td>\n",
              "      <td>0.39</td>\n",
              "      <td>21.48</td>\n",
              "      <td>95.51</td>\n",
              "      <td>4.09</td>\n",
              "      <td>24.64</td>\n",
              "      <td>7460.11</td>\n",
              "      <td>4486.06</td>\n",
              "      <td>1.79</td>\n",
              "      <td>843.83</td>\n",
              "      <td>60.75</td>\n",
              "      <td>-0.00</td>\n",
              "    </tr>\n",
              "    <tr>\n",
              "      <th>1</th>\n",
              "      <td>1.00</td>\n",
              "      <td>24.46</td>\n",
              "      <td>0.05</td>\n",
              "      <td>0.08</td>\n",
              "      <td>0.02</td>\n",
              "      <td>1.09</td>\n",
              "      <td>3.99</td>\n",
              "      <td>0.33</td>\n",
              "      <td>28.61</td>\n",
              "      <td>8.95</td>\n",
              "      <td>7.16</td>\n",
              "      <td>0.38</td>\n",
              "      <td>22.93</td>\n",
              "      <td>95.16</td>\n",
              "      <td>4.52</td>\n",
              "      <td>24.09</td>\n",
              "      <td>9053.88</td>\n",
              "      <td>5878.66</td>\n",
              "      <td>5.72</td>\n",
              "      <td>1130.84</td>\n",
              "      <td>72.08</td>\n",
              "      <td>1.00</td>\n",
              "    </tr>\n",
              "    <tr>\n",
              "      <th>2</th>\n",
              "      <td>0.00</td>\n",
              "      <td>19.86</td>\n",
              "      <td>0.08</td>\n",
              "      <td>0.09</td>\n",
              "      <td>0.02</td>\n",
              "      <td>1.11</td>\n",
              "      <td>3.93</td>\n",
              "      <td>0.25</td>\n",
              "      <td>29.84</td>\n",
              "      <td>9.94</td>\n",
              "      <td>7.17</td>\n",
              "      <td>0.29</td>\n",
              "      <td>15.56</td>\n",
              "      <td>96.75</td>\n",
              "      <td>3.01</td>\n",
              "      <td>23.20</td>\n",
              "      <td>5387.01</td>\n",
              "      <td>3426.93</td>\n",
              "      <td>12.10</td>\n",
              "      <td>824.93</td>\n",
              "      <td>99.43</td>\n",
              "      <td>1.00</td>\n",
              "    </tr>\n",
              "    <tr>\n",
              "      <th>3</th>\n",
              "      <td>-0.00</td>\n",
              "      <td>14.50</td>\n",
              "      <td>0.07</td>\n",
              "      <td>0.15</td>\n",
              "      <td>0.01</td>\n",
              "      <td>1.05</td>\n",
              "      <td>4.30</td>\n",
              "      <td>0.31</td>\n",
              "      <td>30.41</td>\n",
              "      <td>10.27</td>\n",
              "      <td>7.59</td>\n",
              "      <td>0.34</td>\n",
              "      <td>15.74</td>\n",
              "      <td>97.40</td>\n",
              "      <td>2.53</td>\n",
              "      <td>22.40</td>\n",
              "      <td>3487.43</td>\n",
              "      <td>2500.43</td>\n",
              "      <td>8.08</td>\n",
              "      <td>525.44</td>\n",
              "      <td>78.30</td>\n",
              "      <td>0.00</td>\n",
              "    </tr>\n",
              "    <tr>\n",
              "      <th>4</th>\n",
              "      <td>0.05</td>\n",
              "      <td>27.97</td>\n",
              "      <td>0.07</td>\n",
              "      <td>0.22</td>\n",
              "      <td>0.00</td>\n",
              "      <td>0.56</td>\n",
              "      <td>3.15</td>\n",
              "      <td>0.35</td>\n",
              "      <td>26.46</td>\n",
              "      <td>9.63</td>\n",
              "      <td>4.48</td>\n",
              "      <td>0.36</td>\n",
              "      <td>6.64</td>\n",
              "      <td>12.87</td>\n",
              "      <td>69.26</td>\n",
              "      <td>44.46</td>\n",
              "      <td>1957.87</td>\n",
              "      <td>1027.27</td>\n",
              "      <td>12.88</td>\n",
              "      <td>422.30</td>\n",
              "      <td>70.57</td>\n",
              "      <td>0.44</td>\n",
              "    </tr>\n",
              "  </tbody>\n",
              "</table>\n",
              "</div>"
            ],
            "text/plain": [
              "   crypto_on  num_contacts  Agriculture  ...  max_amount_usd  mean_amount_usd  Apple\n",
              "0       1.00         18.89         0.06  ...          843.83            60.75  -0.00\n",
              "1       1.00         24.46         0.05  ...         1130.84            72.08   1.00\n",
              "2       0.00         19.86         0.08  ...          824.93            99.43   1.00\n",
              "3      -0.00         14.50         0.07  ...          525.44            78.30   0.00\n",
              "4       0.05         27.97         0.07  ...          422.30            70.57   0.44\n",
              "\n",
              "[5 rows x 22 columns]"
            ]
          },
          "metadata": {
            "tags": []
          },
          "execution_count": 44
        }
      ]
    },
    {
      "cell_type": "code",
      "metadata": {
        "colab_type": "code",
        "outputId": "03ed9f6e-07b8-4fb9-b151-4003f08ee72f",
        "id": "xH6-UFCem_sz",
        "colab": {
          "base_uri": "https://localhost:8080/"
        }
      },
      "source": [
        "test=users_clust\n",
        "test[\"Clusters\"]=cust_clusters\n",
        "test.Clusters.value_counts()"
      ],
      "execution_count": 0,
      "outputs": [
        {
          "output_type": "execute_result",
          "data": {
            "text/plain": [
              "2    5765\n",
              "3    5464\n",
              "0    1498\n",
              "1    1240\n",
              "4     828\n",
              "Name: Clusters, dtype: int64"
            ]
          },
          "metadata": {
            "tags": []
          },
          "execution_count": 45
        }
      ]
    },
    {
      "cell_type": "code",
      "metadata": {
        "id": "biewWNEooGy_",
        "colab_type": "code",
        "colab": {}
      },
      "source": [
        ""
      ],
      "execution_count": 0,
      "outputs": []
    },
    {
      "cell_type": "markdown",
      "metadata": {
        "colab_type": "text",
        "id": "Je4N3Avruuwy"
      },
      "source": [
        "###Test 3 (No Cluster,user_age) Droped No_Trans\n",
        "\n"
      ]
    },
    {
      "cell_type": "markdown",
      "metadata": {
        "id": "Y5JRqK0YvLYd",
        "colab_type": "text"
      },
      "source": [
        "(No user_age,plan, num_contacts,Agriculture, Mining, Manufacture,Construction,Wholesale,Apple, Cluster) \\\n",
        " Droped No_Trans"
      ]
    },
    {
      "cell_type": "code",
      "metadata": {
        "colab_type": "code",
        "outputId": "0dd2bd4b-df9d-45fe-acc9-d8d3e33939b6",
        "id": "kGzyfNV2uuw3",
        "colab": {
          "base_uri": "https://localhost:8080/",
          "height": 131
        }
      },
      "source": [
        "users_mod.columns"
      ],
      "execution_count": 0,
      "outputs": [
        {
          "output_type": "execute_result",
          "data": {
            "text/plain": [
              "Index(['user_id', 'crypto_on', 'num_contacts', 'user_age', 'Cluster',\n",
              "       'paid_plan', 'Agriculture', 'Mining', 'Construction', 'Manufacturing',\n",
              "       'Transportation', 'Wholesale', 'Retail', 'Finance', 'Services',\n",
              "       'Public_Admin', 'EXCHANGE', 'TOPUP_IN', 'TRANSFER_IN', 'TRANSFER_OUT',\n",
              "       'total_out', 'total_in', 'min_amount_usd', 'max_amount_usd',\n",
              "       'mean_amount_usd', 'Apple', 'No_Trans'],\n",
              "      dtype='object')"
            ]
          },
          "metadata": {
            "tags": []
          },
          "execution_count": 46
        }
      ]
    },
    {
      "cell_type": "code",
      "metadata": {
        "colab_type": "code",
        "id": "LB2lMnwHuuw-",
        "colab": {}
      },
      "source": [
        "users_clust=users_mod.drop(columns=[\"user_id\",\"paid_plan\",\"user_age\",\"num_contacts\",\"Agriculture\", 'Mining', 'Construction', 'Manufacturing',\\\n",
        "                                    'Wholesale',\"Apple\",\"Cluster\",\"Public_Admin\",\"TOPUP_IN\",\"TRANSFER_IN\",\"total_in\"])\n",
        "users_clust=users_clust[users_clust.No_Trans==0]\n",
        "users_clust=users_clust.drop(columns=\"No_Trans\")\n",
        "#users_clust=pd.get_dummies(users_clust,columns=[\"Cluster\"])"
      ],
      "execution_count": 0,
      "outputs": []
    },
    {
      "cell_type": "code",
      "metadata": {
        "colab_type": "code",
        "outputId": "a0004056-e733-4ee2-a514-ce5e70819168",
        "id": "gffMXuSpuuxD",
        "colab": {
          "base_uri": "https://localhost:8080/",
          "height": 131
        }
      },
      "source": [
        "sc = MinMaxScaler()\n",
        "X = sc.fit_transform(users_clust.values)\n",
        "\n",
        "for k in range(3,10):\n",
        "    kmeans = KMeans(n_clusters = k, n_init=30, random_state=42)\n",
        "    kmeans.fit(X)\n",
        "    clusters = kmeans.predict(X)\n",
        "    silhouette_avg = silhouette_score(X, clusters)\n",
        "    print(\"For k =\", k, \"The average silhouette_score is :\", silhouette_avg)"
      ],
      "execution_count": 0,
      "outputs": [
        {
          "output_type": "stream",
          "text": [
            "For k = 3 The average silhouette_score is : 0.36675365354009143\n",
            "For k = 4 The average silhouette_score is : 0.3556588881504557\n",
            "For k = 5 The average silhouette_score is : 0.38916432309452537\n",
            "For k = 6 The average silhouette_score is : 0.39989368965611616\n",
            "For k = 7 The average silhouette_score is : 0.3788955818662298\n",
            "For k = 8 The average silhouette_score is : 0.38914589930051163\n",
            "For k = 9 The average silhouette_score is : 0.393773234463284\n"
          ],
          "name": "stdout"
        }
      ]
    },
    {
      "cell_type": "markdown",
      "metadata": {
        "colab_type": "text",
        "id": "bKt1GCaCuuxH"
      },
      "source": [
        "*The best silhouette is found for k =* **6**. "
      ]
    },
    {
      "cell_type": "code",
      "metadata": {
        "colab_type": "code",
        "outputId": "b5ed478a-7fd6-4278-c529-75caebe58bce",
        "id": "8C0nEwAGuuxH",
        "colab": {
          "base_uri": "https://localhost:8080/",
          "height": 220
        }
      },
      "source": [
        "k_u = 6\n",
        "\n",
        "kmeans_cust = KMeans(n_clusters = k_u, n_init=30, random_state=42)\n",
        "cust_clusters = kmeans_cust.fit_predict(X)\n",
        "\n",
        "centroids = sc.inverse_transform(np.array(kmeans_cust.cluster_centers_))\n",
        "\n",
        "test=pd.DataFrame(centroids, columns=users_clust.columns)\n",
        "test=round(test,2)\n",
        "test=test.rename(columns={\"user_settings_crypto_unlocked\":\"crypto\"})\n",
        "test"
      ],
      "execution_count": 0,
      "outputs": [
        {
          "output_type": "execute_result",
          "data": {
            "text/html": [
              "<div>\n",
              "<style scoped>\n",
              "    .dataframe tbody tr th:only-of-type {\n",
              "        vertical-align: middle;\n",
              "    }\n",
              "\n",
              "    .dataframe tbody tr th {\n",
              "        vertical-align: top;\n",
              "    }\n",
              "\n",
              "    .dataframe thead th {\n",
              "        text-align: right;\n",
              "    }\n",
              "</style>\n",
              "<table border=\"1\" class=\"dataframe\">\n",
              "  <thead>\n",
              "    <tr style=\"text-align: right;\">\n",
              "      <th></th>\n",
              "      <th>crypto_on</th>\n",
              "      <th>Transportation</th>\n",
              "      <th>Retail</th>\n",
              "      <th>Finance</th>\n",
              "      <th>Services</th>\n",
              "      <th>EXCHANGE</th>\n",
              "      <th>TRANSFER_OUT</th>\n",
              "      <th>total_out</th>\n",
              "      <th>min_amount_usd</th>\n",
              "      <th>max_amount_usd</th>\n",
              "      <th>mean_amount_usd</th>\n",
              "    </tr>\n",
              "  </thead>\n",
              "  <tbody>\n",
              "    <tr>\n",
              "      <th>0</th>\n",
              "      <td>-0.0</td>\n",
              "      <td>4.18</td>\n",
              "      <td>70.70</td>\n",
              "      <td>6.09</td>\n",
              "      <td>7.23</td>\n",
              "      <td>2.55</td>\n",
              "      <td>7.42</td>\n",
              "      <td>1815.49</td>\n",
              "      <td>2.71</td>\n",
              "      <td>207.04</td>\n",
              "      <td>21.90</td>\n",
              "    </tr>\n",
              "    <tr>\n",
              "      <th>1</th>\n",
              "      <td>-0.0</td>\n",
              "      <td>2.84</td>\n",
              "      <td>19.32</td>\n",
              "      <td>6.66</td>\n",
              "      <td>5.09</td>\n",
              "      <td>48.55</td>\n",
              "      <td>16.22</td>\n",
              "      <td>9035.74</td>\n",
              "      <td>11.76</td>\n",
              "      <td>1313.40</td>\n",
              "      <td>165.56</td>\n",
              "    </tr>\n",
              "    <tr>\n",
              "      <th>2</th>\n",
              "      <td>1.0</td>\n",
              "      <td>4.07</td>\n",
              "      <td>28.66</td>\n",
              "      <td>9.50</td>\n",
              "      <td>6.88</td>\n",
              "      <td>21.96</td>\n",
              "      <td>24.68</td>\n",
              "      <td>8104.70</td>\n",
              "      <td>3.55</td>\n",
              "      <td>965.48</td>\n",
              "      <td>65.98</td>\n",
              "    </tr>\n",
              "    <tr>\n",
              "      <th>3</th>\n",
              "      <td>-0.0</td>\n",
              "      <td>3.44</td>\n",
              "      <td>19.63</td>\n",
              "      <td>60.83</td>\n",
              "      <td>4.90</td>\n",
              "      <td>2.65</td>\n",
              "      <td>7.49</td>\n",
              "      <td>1922.09</td>\n",
              "      <td>5.23</td>\n",
              "      <td>248.23</td>\n",
              "      <td>43.43</td>\n",
              "    </tr>\n",
              "    <tr>\n",
              "      <th>4</th>\n",
              "      <td>-0.0</td>\n",
              "      <td>1.18</td>\n",
              "      <td>7.14</td>\n",
              "      <td>2.44</td>\n",
              "      <td>1.52</td>\n",
              "      <td>2.92</td>\n",
              "      <td>84.22</td>\n",
              "      <td>4239.76</td>\n",
              "      <td>30.25</td>\n",
              "      <td>941.17</td>\n",
              "      <td>162.32</td>\n",
              "    </tr>\n",
              "    <tr>\n",
              "      <th>5</th>\n",
              "      <td>-0.0</td>\n",
              "      <td>8.01</td>\n",
              "      <td>17.04</td>\n",
              "      <td>6.31</td>\n",
              "      <td>15.33</td>\n",
              "      <td>2.57</td>\n",
              "      <td>10.92</td>\n",
              "      <td>2233.13</td>\n",
              "      <td>3.18</td>\n",
              "      <td>312.60</td>\n",
              "      <td>24.25</td>\n",
              "    </tr>\n",
              "  </tbody>\n",
              "</table>\n",
              "</div>"
            ],
            "text/plain": [
              "   crypto_on  Transportation  ...  max_amount_usd  mean_amount_usd\n",
              "0       -0.0            4.18  ...          207.04            21.90\n",
              "1       -0.0            2.84  ...         1313.40           165.56\n",
              "2        1.0            4.07  ...          965.48            65.98\n",
              "3       -0.0            3.44  ...          248.23            43.43\n",
              "4       -0.0            1.18  ...          941.17           162.32\n",
              "5       -0.0            8.01  ...          312.60            24.25\n",
              "\n",
              "[6 rows x 11 columns]"
            ]
          },
          "metadata": {
            "tags": []
          },
          "execution_count": 49
        }
      ]
    },
    {
      "cell_type": "code",
      "metadata": {
        "colab_type": "code",
        "outputId": "5ed4dabe-a277-40ed-c97f-7e7e0c1f8781",
        "id": "IqwVkK7_uuxN",
        "colab": {
          "base_uri": "https://localhost:8080/",
          "height": 131
        }
      },
      "source": [
        "test=users_clust\n",
        "test[\"Clusters\"]=cust_clusters\n",
        "test.Clusters.value_counts()"
      ],
      "execution_count": 0,
      "outputs": [
        {
          "output_type": "execute_result",
          "data": {
            "text/plain": [
              "1    3242\n",
              "0    3095\n",
              "2    2783\n",
              "5    2566\n",
              "4    2140\n",
              "3     969\n",
              "Name: Clusters, dtype: int64"
            ]
          },
          "metadata": {
            "tags": []
          },
          "execution_count": 50
        }
      ]
    },
    {
      "cell_type": "code",
      "metadata": {
        "colab_type": "code",
        "id": "xCsCSSgwuuxT",
        "colab": {}
      },
      "source": [
        ""
      ],
      "execution_count": 0,
      "outputs": []
    }
  ]
}