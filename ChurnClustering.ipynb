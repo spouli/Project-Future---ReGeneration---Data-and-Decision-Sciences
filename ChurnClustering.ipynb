{
  "nbformat": 4,
  "nbformat_minor": 0,
  "metadata": {
    "colab": {
      "name": "Churned_stav.ipynb",
      "provenance": [],
      "toc_visible": true
    },
    "kernelspec": {
      "name": "python3",
      "display_name": "Python 3"
    }
  },
  "cells": [
    {
      "cell_type": "code",
      "metadata": {
        "id": "_PQ9G8VXWOkP",
        "colab_type": "code",
        "colab": {}
      },
      "source": [
        "import pandas as pd\n",
        "import numpy as np\n",
        "import datetime as dt"
      ],
      "execution_count": 0,
      "outputs": []
    },
    {
      "cell_type": "code",
      "metadata": {
        "id": "-H3hgbMxWm6N",
        "colab_type": "code",
        "colab": {}
      },
      "source": [
        "tr1=pd.read_csv('/content/drive/My Drive/Codehub Project/data/transactions_1.csv')\n",
        "tr2=pd.read_csv('/content/drive/My Drive/Codehub Project/data/transactions_2.csv')\n",
        "tr3=pd.read_csv('/content/drive/My Drive/Codehub Project/data/transactions_3.csv')"
      ],
      "execution_count": 0,
      "outputs": []
    },
    {
      "cell_type": "code",
      "metadata": {
        "id": "_Kdg3bHOXgPN",
        "colab_type": "code",
        "outputId": "37270b9a-51fc-4c14-f884-6c63c44af8d0",
        "colab": {
          "base_uri": "https://localhost:8080/",
          "height": 106
        }
      },
      "source": [
        "tr=pd.DataFrame()\n",
        "tr=tr.append(tr1)\n",
        "tr=tr.append(tr2)\n",
        "tr=tr.append(tr3)\n",
        "tr.columns"
      ],
      "execution_count": 125,
      "outputs": [
        {
          "output_type": "execute_result",
          "data": {
            "text/plain": [
              "Index(['transaction_id', 'transactions_type', 'transactions_currency',\n",
              "       'amount_usd', 'transactions_state', 'ea_cardholderpresence',\n",
              "       'ea_merchant_mcc', 'ea_merchant_city', 'ea_merchant_country',\n",
              "       'direction', 'user_id', 'created_date'],\n",
              "      dtype='object')"
            ]
          },
          "metadata": {
            "tags": []
          },
          "execution_count": 125
        }
      ]
    },
    {
      "cell_type": "markdown",
      "metadata": {
        "id": "ol5qVfBJ3Ku5",
        "colab_type": "text"
      },
      "source": [
        "#Transactions"
      ]
    },
    {
      "cell_type": "code",
      "metadata": {
        "id": "0FqoXszIX46u",
        "colab_type": "code",
        "outputId": "13cbe8f1-cd20-431d-a3c2-4129e53c8a12",
        "colab": {
          "base_uri": "https://localhost:8080/",
          "height": 70
        }
      },
      "source": [
        "trans=tr.drop(columns=[\"transaction_id\",\"transactions_currency\",\"ea_cardholderpresence\",\"ea_merchant_city\",\"ea_merchant_country\",\"ea_merchant_mcc\"])\n",
        "trans.columns"
      ],
      "execution_count": 126,
      "outputs": [
        {
          "output_type": "execute_result",
          "data": {
            "text/plain": [
              "Index(['transactions_type', 'amount_usd', 'transactions_state', 'direction',\n",
              "       'user_id', 'created_date'],\n",
              "      dtype='object')"
            ]
          },
          "metadata": {
            "tags": []
          },
          "execution_count": 126
        }
      ]
    },
    {
      "cell_type": "code",
      "metadata": {
        "id": "lrSf88ZQYbSO",
        "colab_type": "code",
        "outputId": "b5651cd9-d472-4634-9ca8-7f304910bd6c",
        "colab": {
          "base_uri": "https://localhost:8080/",
          "height": 52
        }
      },
      "source": [
        "print(trans.shape)\n",
        "trans=trans[(trans.transactions_state==\"COMPLETED\")&(trans.amount_usd<2.5*10**6)]\n",
        "\n",
        "#(trans.direction==\"OUTBOUND\")&(trans.transactions_state==\"COMPLETED\")&\n",
        "\n",
        "trans=trans.drop(columns=[\"direction\",\"transactions_state\"])\n",
        "trans.shape"
      ],
      "execution_count": 127,
      "outputs": [
        {
          "output_type": "stream",
          "text": [
            "(2181026, 6)\n"
          ],
          "name": "stdout"
        },
        {
          "output_type": "execute_result",
          "data": {
            "text/plain": [
              "(1916387, 4)"
            ]
          },
          "metadata": {
            "tags": []
          },
          "execution_count": 127
        }
      ]
    },
    {
      "cell_type": "code",
      "metadata": {
        "id": "S7A9hV6jY1wL",
        "colab_type": "code",
        "colab": {}
      },
      "source": [
        "trans[\"date_created\"] = [dt.datetime.strptime(d,\"%Y-%m-%d  %H:%M:%S.%f\") for d in trans[\"created_date\"]]\n",
        "trans[\"year_created\"] =trans[\"date_created\"].dt.year\n",
        "trans[\"month_created\"] =trans[\"date_created\"].dt.month\n",
        "trans[\"Q_created\"] =trans[\"date_created\"].dt.quarter"
      ],
      "execution_count": 0,
      "outputs": []
    },
    {
      "cell_type": "code",
      "metadata": {
        "id": "ze9j0QtaZdY6",
        "colab_type": "code",
        "outputId": "5fcdf579-3d0c-41bc-fb91-d2fce447ea59",
        "colab": {
          "base_uri": "https://localhost:8080/",
          "height": 394
        }
      },
      "source": [
        "trans=trans.drop(columns=\"created_date\")\n",
        "print(trans.columns)\n",
        "trans.sample(10)"
      ],
      "execution_count": 129,
      "outputs": [
        {
          "output_type": "stream",
          "text": [
            "Index(['transactions_type', 'amount_usd', 'user_id', 'date_created',\n",
            "       'year_created', 'month_created', 'Q_created'],\n",
            "      dtype='object')\n"
          ],
          "name": "stdout"
        },
        {
          "output_type": "execute_result",
          "data": {
            "text/html": [
              "<div>\n",
              "<style scoped>\n",
              "    .dataframe tbody tr th:only-of-type {\n",
              "        vertical-align: middle;\n",
              "    }\n",
              "\n",
              "    .dataframe tbody tr th {\n",
              "        vertical-align: top;\n",
              "    }\n",
              "\n",
              "    .dataframe thead th {\n",
              "        text-align: right;\n",
              "    }\n",
              "</style>\n",
              "<table border=\"1\" class=\"dataframe\">\n",
              "  <thead>\n",
              "    <tr style=\"text-align: right;\">\n",
              "      <th></th>\n",
              "      <th>transactions_type</th>\n",
              "      <th>amount_usd</th>\n",
              "      <th>user_id</th>\n",
              "      <th>date_created</th>\n",
              "      <th>year_created</th>\n",
              "      <th>month_created</th>\n",
              "      <th>Q_created</th>\n",
              "    </tr>\n",
              "  </thead>\n",
              "  <tbody>\n",
              "    <tr>\n",
              "      <th>82137</th>\n",
              "      <td>CARD_PAYMENT</td>\n",
              "      <td>9.87</td>\n",
              "      <td>user_10802</td>\n",
              "      <td>2018-06-29 15:20:51.156602</td>\n",
              "      <td>2018</td>\n",
              "      <td>6</td>\n",
              "      <td>2</td>\n",
              "    </tr>\n",
              "    <tr>\n",
              "      <th>179868</th>\n",
              "      <td>TOPUP</td>\n",
              "      <td>32.23</td>\n",
              "      <td>user_1196</td>\n",
              "      <td>2019-02-10 14:54:07.974449</td>\n",
              "      <td>2019</td>\n",
              "      <td>2</td>\n",
              "      <td>1</td>\n",
              "    </tr>\n",
              "    <tr>\n",
              "      <th>41571</th>\n",
              "      <td>CASHBACK</td>\n",
              "      <td>0.04</td>\n",
              "      <td>user_12683</td>\n",
              "      <td>2019-03-09 06:18:49.723187</td>\n",
              "      <td>2019</td>\n",
              "      <td>3</td>\n",
              "      <td>1</td>\n",
              "    </tr>\n",
              "    <tr>\n",
              "      <th>442114</th>\n",
              "      <td>CARD_PAYMENT</td>\n",
              "      <td>3.83</td>\n",
              "      <td>user_11911</td>\n",
              "      <td>2018-04-13 08:47:52.060378</td>\n",
              "      <td>2018</td>\n",
              "      <td>4</td>\n",
              "      <td>2</td>\n",
              "    </tr>\n",
              "    <tr>\n",
              "      <th>566316</th>\n",
              "      <td>CASHBACK</td>\n",
              "      <td>0.02</td>\n",
              "      <td>user_5927</td>\n",
              "      <td>2018-09-17 00:42:19.369420</td>\n",
              "      <td>2018</td>\n",
              "      <td>9</td>\n",
              "      <td>3</td>\n",
              "    </tr>\n",
              "    <tr>\n",
              "      <th>709996</th>\n",
              "      <td>TRANSFER</td>\n",
              "      <td>9.54</td>\n",
              "      <td>user_2847</td>\n",
              "      <td>2019-02-18 04:04:14.363706</td>\n",
              "      <td>2019</td>\n",
              "      <td>2</td>\n",
              "      <td>1</td>\n",
              "    </tr>\n",
              "    <tr>\n",
              "      <th>317087</th>\n",
              "      <td>TRANSFER</td>\n",
              "      <td>0.85</td>\n",
              "      <td>user_9340</td>\n",
              "      <td>2018-10-06 19:30:50.739721</td>\n",
              "      <td>2018</td>\n",
              "      <td>10</td>\n",
              "      <td>4</td>\n",
              "    </tr>\n",
              "    <tr>\n",
              "      <th>133345</th>\n",
              "      <td>TOPUP</td>\n",
              "      <td>500.00</td>\n",
              "      <td>user_4189</td>\n",
              "      <td>2018-10-28 06:34:50.751991</td>\n",
              "      <td>2018</td>\n",
              "      <td>10</td>\n",
              "      <td>4</td>\n",
              "    </tr>\n",
              "    <tr>\n",
              "      <th>152031</th>\n",
              "      <td>TOPUP</td>\n",
              "      <td>85.11</td>\n",
              "      <td>user_13791</td>\n",
              "      <td>2018-09-27 04:18:48.536698</td>\n",
              "      <td>2018</td>\n",
              "      <td>9</td>\n",
              "      <td>3</td>\n",
              "    </tr>\n",
              "    <tr>\n",
              "      <th>251571</th>\n",
              "      <td>CARD_PAYMENT</td>\n",
              "      <td>21.43</td>\n",
              "      <td>user_14627</td>\n",
              "      <td>2019-02-09 03:42:56.948560</td>\n",
              "      <td>2019</td>\n",
              "      <td>2</td>\n",
              "      <td>1</td>\n",
              "    </tr>\n",
              "  </tbody>\n",
              "</table>\n",
              "</div>"
            ],
            "text/plain": [
              "       transactions_type  amount_usd  ... month_created Q_created\n",
              "82137       CARD_PAYMENT        9.87  ...             6         2\n",
              "179868             TOPUP       32.23  ...             2         1\n",
              "41571           CASHBACK        0.04  ...             3         1\n",
              "442114      CARD_PAYMENT        3.83  ...             4         2\n",
              "566316          CASHBACK        0.02  ...             9         3\n",
              "709996          TRANSFER        9.54  ...             2         1\n",
              "317087          TRANSFER        0.85  ...            10         4\n",
              "133345             TOPUP      500.00  ...            10         4\n",
              "152031             TOPUP       85.11  ...             9         3\n",
              "251571      CARD_PAYMENT       21.43  ...             2         1\n",
              "\n",
              "[10 rows x 7 columns]"
            ]
          },
          "metadata": {
            "tags": []
          },
          "execution_count": 129
        }
      ]
    },
    {
      "cell_type": "markdown",
      "metadata": {
        "id": "QvHeWJhFlFoH",
        "colab_type": "text"
      },
      "source": [
        "# Churn\n"
      ]
    },
    {
      "cell_type": "code",
      "metadata": {
        "id": "U-tB2jegrBbG",
        "colab_type": "code",
        "colab": {}
      },
      "source": [
        "test5=trans.pivot_table(values='amount_usd',index='user_id',aggfunc=['sum','count'],margins=True)\n",
        "test5=pd.DataFrame(test5.to_records())\n",
        "test5=test5.rename(columns={\"('sum', 'amount_usd')\":\"total sum\",\"('count', 'amount_usd')\":\"total count\"})\n",
        "test5=round(test5,1)\n",
        "columns={\"('All', '')\":\"Total\"}"
      ],
      "execution_count": 0,
      "outputs": []
    },
    {
      "cell_type": "code",
      "metadata": {
        "id": "CIClEnxekwke",
        "colab_type": "code",
        "colab": {
          "base_uri": "https://localhost:8080/",
          "height": 399
        },
        "outputId": "36b889d3-ebf7-41ed-da1d-58431bef48f5"
      },
      "source": [
        "test5"
      ],
      "execution_count": 166,
      "outputs": [
        {
          "output_type": "execute_result",
          "data": {
            "text/html": [
              "<div>\n",
              "<style scoped>\n",
              "    .dataframe tbody tr th:only-of-type {\n",
              "        vertical-align: middle;\n",
              "    }\n",
              "\n",
              "    .dataframe tbody tr th {\n",
              "        vertical-align: top;\n",
              "    }\n",
              "\n",
              "    .dataframe thead th {\n",
              "        text-align: right;\n",
              "    }\n",
              "</style>\n",
              "<table border=\"1\" class=\"dataframe\">\n",
              "  <thead>\n",
              "    <tr style=\"text-align: right;\">\n",
              "      <th></th>\n",
              "      <th>user_id</th>\n",
              "      <th>total sum</th>\n",
              "      <th>total count</th>\n",
              "    </tr>\n",
              "  </thead>\n",
              "  <tbody>\n",
              "    <tr>\n",
              "      <th>0</th>\n",
              "      <td>user_0</td>\n",
              "      <td>6925.1</td>\n",
              "      <td>520</td>\n",
              "    </tr>\n",
              "    <tr>\n",
              "      <th>1</th>\n",
              "      <td>user_1</td>\n",
              "      <td>12955.5</td>\n",
              "      <td>133</td>\n",
              "    </tr>\n",
              "    <tr>\n",
              "      <th>2</th>\n",
              "      <td>user_10</td>\n",
              "      <td>5438.9</td>\n",
              "      <td>123</td>\n",
              "    </tr>\n",
              "    <tr>\n",
              "      <th>3</th>\n",
              "      <td>user_100</td>\n",
              "      <td>4230.1</td>\n",
              "      <td>55</td>\n",
              "    </tr>\n",
              "    <tr>\n",
              "      <th>4</th>\n",
              "      <td>user_1000</td>\n",
              "      <td>843.1</td>\n",
              "      <td>43</td>\n",
              "    </tr>\n",
              "    <tr>\n",
              "      <th>...</th>\n",
              "      <td>...</td>\n",
              "      <td>...</td>\n",
              "      <td>...</td>\n",
              "    </tr>\n",
              "    <tr>\n",
              "      <th>14817</th>\n",
              "      <td>user_9996</td>\n",
              "      <td>1681.8</td>\n",
              "      <td>31</td>\n",
              "    </tr>\n",
              "    <tr>\n",
              "      <th>14818</th>\n",
              "      <td>user_9997</td>\n",
              "      <td>7650.5</td>\n",
              "      <td>128</td>\n",
              "    </tr>\n",
              "    <tr>\n",
              "      <th>14819</th>\n",
              "      <td>user_9998</td>\n",
              "      <td>520.7</td>\n",
              "      <td>30</td>\n",
              "    </tr>\n",
              "    <tr>\n",
              "      <th>14820</th>\n",
              "      <td>user_9999</td>\n",
              "      <td>8.5</td>\n",
              "      <td>1</td>\n",
              "    </tr>\n",
              "    <tr>\n",
              "      <th>14821</th>\n",
              "      <td>All</td>\n",
              "      <td>123647798.2</td>\n",
              "      <td>1916387</td>\n",
              "    </tr>\n",
              "  </tbody>\n",
              "</table>\n",
              "<p>14822 rows × 3 columns</p>\n",
              "</div>"
            ],
            "text/plain": [
              "         user_id    total sum  total count\n",
              "0         user_0       6925.1          520\n",
              "1         user_1      12955.5          133\n",
              "2        user_10       5438.9          123\n",
              "3       user_100       4230.1           55\n",
              "4      user_1000        843.1           43\n",
              "...          ...          ...          ...\n",
              "14817  user_9996       1681.8           31\n",
              "14818  user_9997       7650.5          128\n",
              "14819  user_9998        520.7           30\n",
              "14820  user_9999          8.5            1\n",
              "14821        All  123647798.2      1916387\n",
              "\n",
              "[14822 rows x 3 columns]"
            ]
          },
          "metadata": {
            "tags": []
          },
          "execution_count": 166
        }
      ]
    },
    {
      "cell_type": "code",
      "metadata": {
        "id": "ovnQN31VjBSx",
        "colab_type": "code",
        "colab": {}
      },
      "source": [
        "last_date=max(trans.date_created)\n",
        "\n",
        "d_last_tr=trans.pivot_table(index=\"user_id\",values=\"date_created\",aggfunc=\"max\")\n",
        "d_last_tr=pd.DataFrame(d_last_tr.to_records())\n",
        "\n",
        "d_last_tr[\"days_last_trans\"]=(last_date-d_last_tr.date_created).dt.days"
      ],
      "execution_count": 0,
      "outputs": []
    },
    {
      "cell_type": "code",
      "metadata": {
        "id": "x8BveW2mIdvA",
        "colab_type": "code",
        "outputId": "8002be2d-691b-4519-c638-2bb16cc8088a",
        "colab": {
          "base_uri": "https://localhost:8080/",
          "height": 399
        }
      },
      "source": [
        "d_last_tr=d_last_tr.drop('date_created',1)\n",
        "d_last_tr"
      ],
      "execution_count": 168,
      "outputs": [
        {
          "output_type": "execute_result",
          "data": {
            "text/html": [
              "<div>\n",
              "<style scoped>\n",
              "    .dataframe tbody tr th:only-of-type {\n",
              "        vertical-align: middle;\n",
              "    }\n",
              "\n",
              "    .dataframe tbody tr th {\n",
              "        vertical-align: top;\n",
              "    }\n",
              "\n",
              "    .dataframe thead th {\n",
              "        text-align: right;\n",
              "    }\n",
              "</style>\n",
              "<table border=\"1\" class=\"dataframe\">\n",
              "  <thead>\n",
              "    <tr style=\"text-align: right;\">\n",
              "      <th></th>\n",
              "      <th>user_id</th>\n",
              "      <th>days_last_trans</th>\n",
              "    </tr>\n",
              "  </thead>\n",
              "  <tbody>\n",
              "    <tr>\n",
              "      <th>0</th>\n",
              "      <td>user_0</td>\n",
              "      <td>5</td>\n",
              "    </tr>\n",
              "    <tr>\n",
              "      <th>1</th>\n",
              "      <td>user_1</td>\n",
              "      <td>11</td>\n",
              "    </tr>\n",
              "    <tr>\n",
              "      <th>2</th>\n",
              "      <td>user_10</td>\n",
              "      <td>4</td>\n",
              "    </tr>\n",
              "    <tr>\n",
              "      <th>3</th>\n",
              "      <td>user_100</td>\n",
              "      <td>80</td>\n",
              "    </tr>\n",
              "    <tr>\n",
              "      <th>4</th>\n",
              "      <td>user_1000</td>\n",
              "      <td>10</td>\n",
              "    </tr>\n",
              "    <tr>\n",
              "      <th>...</th>\n",
              "      <td>...</td>\n",
              "      <td>...</td>\n",
              "    </tr>\n",
              "    <tr>\n",
              "      <th>14816</th>\n",
              "      <td>user_9995</td>\n",
              "      <td>14</td>\n",
              "    </tr>\n",
              "    <tr>\n",
              "      <th>14817</th>\n",
              "      <td>user_9996</td>\n",
              "      <td>127</td>\n",
              "    </tr>\n",
              "    <tr>\n",
              "      <th>14818</th>\n",
              "      <td>user_9997</td>\n",
              "      <td>18</td>\n",
              "    </tr>\n",
              "    <tr>\n",
              "      <th>14819</th>\n",
              "      <td>user_9998</td>\n",
              "      <td>61</td>\n",
              "    </tr>\n",
              "    <tr>\n",
              "      <th>14820</th>\n",
              "      <td>user_9999</td>\n",
              "      <td>5</td>\n",
              "    </tr>\n",
              "  </tbody>\n",
              "</table>\n",
              "<p>14821 rows × 2 columns</p>\n",
              "</div>"
            ],
            "text/plain": [
              "         user_id  days_last_trans\n",
              "0         user_0                5\n",
              "1         user_1               11\n",
              "2        user_10                4\n",
              "3       user_100               80\n",
              "4      user_1000               10\n",
              "...          ...              ...\n",
              "14816  user_9995               14\n",
              "14817  user_9996              127\n",
              "14818  user_9997               18\n",
              "14819  user_9998               61\n",
              "14820  user_9999                5\n",
              "\n",
              "[14821 rows x 2 columns]"
            ]
          },
          "metadata": {
            "tags": []
          },
          "execution_count": 168
        }
      ]
    },
    {
      "cell_type": "code",
      "metadata": {
        "id": "R06A6-XPHuhu",
        "colab_type": "code",
        "colab": {
          "base_uri": "https://localhost:8080/",
          "height": 399
        },
        "outputId": "7f805b1c-77e3-476d-d1ba-422cc75ed023"
      },
      "source": [
        "test6=pd.merge(test5,d_last_tr,on='user_id',how='left')\n",
        "test6"
      ],
      "execution_count": 172,
      "outputs": [
        {
          "output_type": "execute_result",
          "data": {
            "text/html": [
              "<div>\n",
              "<style scoped>\n",
              "    .dataframe tbody tr th:only-of-type {\n",
              "        vertical-align: middle;\n",
              "    }\n",
              "\n",
              "    .dataframe tbody tr th {\n",
              "        vertical-align: top;\n",
              "    }\n",
              "\n",
              "    .dataframe thead th {\n",
              "        text-align: right;\n",
              "    }\n",
              "</style>\n",
              "<table border=\"1\" class=\"dataframe\">\n",
              "  <thead>\n",
              "    <tr style=\"text-align: right;\">\n",
              "      <th></th>\n",
              "      <th>user_id</th>\n",
              "      <th>total sum</th>\n",
              "      <th>total count</th>\n",
              "      <th>days_last_trans</th>\n",
              "    </tr>\n",
              "  </thead>\n",
              "  <tbody>\n",
              "    <tr>\n",
              "      <th>0</th>\n",
              "      <td>user_0</td>\n",
              "      <td>6925.1</td>\n",
              "      <td>520</td>\n",
              "      <td>5.0</td>\n",
              "    </tr>\n",
              "    <tr>\n",
              "      <th>1</th>\n",
              "      <td>user_1</td>\n",
              "      <td>12955.5</td>\n",
              "      <td>133</td>\n",
              "      <td>11.0</td>\n",
              "    </tr>\n",
              "    <tr>\n",
              "      <th>2</th>\n",
              "      <td>user_10</td>\n",
              "      <td>5438.9</td>\n",
              "      <td>123</td>\n",
              "      <td>4.0</td>\n",
              "    </tr>\n",
              "    <tr>\n",
              "      <th>3</th>\n",
              "      <td>user_100</td>\n",
              "      <td>4230.1</td>\n",
              "      <td>55</td>\n",
              "      <td>80.0</td>\n",
              "    </tr>\n",
              "    <tr>\n",
              "      <th>4</th>\n",
              "      <td>user_1000</td>\n",
              "      <td>843.1</td>\n",
              "      <td>43</td>\n",
              "      <td>10.0</td>\n",
              "    </tr>\n",
              "    <tr>\n",
              "      <th>...</th>\n",
              "      <td>...</td>\n",
              "      <td>...</td>\n",
              "      <td>...</td>\n",
              "      <td>...</td>\n",
              "    </tr>\n",
              "    <tr>\n",
              "      <th>14817</th>\n",
              "      <td>user_9996</td>\n",
              "      <td>1681.8</td>\n",
              "      <td>31</td>\n",
              "      <td>127.0</td>\n",
              "    </tr>\n",
              "    <tr>\n",
              "      <th>14818</th>\n",
              "      <td>user_9997</td>\n",
              "      <td>7650.5</td>\n",
              "      <td>128</td>\n",
              "      <td>18.0</td>\n",
              "    </tr>\n",
              "    <tr>\n",
              "      <th>14819</th>\n",
              "      <td>user_9998</td>\n",
              "      <td>520.7</td>\n",
              "      <td>30</td>\n",
              "      <td>61.0</td>\n",
              "    </tr>\n",
              "    <tr>\n",
              "      <th>14820</th>\n",
              "      <td>user_9999</td>\n",
              "      <td>8.5</td>\n",
              "      <td>1</td>\n",
              "      <td>5.0</td>\n",
              "    </tr>\n",
              "    <tr>\n",
              "      <th>14821</th>\n",
              "      <td>All</td>\n",
              "      <td>123647798.2</td>\n",
              "      <td>1916387</td>\n",
              "      <td>NaN</td>\n",
              "    </tr>\n",
              "  </tbody>\n",
              "</table>\n",
              "<p>14822 rows × 4 columns</p>\n",
              "</div>"
            ],
            "text/plain": [
              "         user_id    total sum  total count  days_last_trans\n",
              "0         user_0       6925.1          520              5.0\n",
              "1         user_1      12955.5          133             11.0\n",
              "2        user_10       5438.9          123              4.0\n",
              "3       user_100       4230.1           55             80.0\n",
              "4      user_1000        843.1           43             10.0\n",
              "...          ...          ...          ...              ...\n",
              "14817  user_9996       1681.8           31            127.0\n",
              "14818  user_9997       7650.5          128             18.0\n",
              "14819  user_9998        520.7           30             61.0\n",
              "14820  user_9999          8.5            1              5.0\n",
              "14821        All  123647798.2      1916387              NaN\n",
              "\n",
              "[14822 rows x 4 columns]"
            ]
          },
          "metadata": {
            "tags": []
          },
          "execution_count": 172
        }
      ]
    },
    {
      "cell_type": "code",
      "metadata": {
        "id": "IdD6MMcJJThl",
        "colab_type": "code",
        "colab": {}
      },
      "source": [
        "test6=test6[:-1]"
      ],
      "execution_count": 0,
      "outputs": []
    },
    {
      "cell_type": "code",
      "metadata": {
        "id": "VQ_W_ZgAJbLs",
        "colab_type": "code",
        "outputId": "49d95162-aa76-4355-ee38-0a302aa26e1a",
        "colab": {
          "base_uri": "https://localhost:8080/",
          "height": 399
        }
      },
      "source": [
        "test6\n"
      ],
      "execution_count": 174,
      "outputs": [
        {
          "output_type": "execute_result",
          "data": {
            "text/html": [
              "<div>\n",
              "<style scoped>\n",
              "    .dataframe tbody tr th:only-of-type {\n",
              "        vertical-align: middle;\n",
              "    }\n",
              "\n",
              "    .dataframe tbody tr th {\n",
              "        vertical-align: top;\n",
              "    }\n",
              "\n",
              "    .dataframe thead th {\n",
              "        text-align: right;\n",
              "    }\n",
              "</style>\n",
              "<table border=\"1\" class=\"dataframe\">\n",
              "  <thead>\n",
              "    <tr style=\"text-align: right;\">\n",
              "      <th></th>\n",
              "      <th>user_id</th>\n",
              "      <th>total sum</th>\n",
              "      <th>total count</th>\n",
              "      <th>days_last_trans</th>\n",
              "    </tr>\n",
              "  </thead>\n",
              "  <tbody>\n",
              "    <tr>\n",
              "      <th>0</th>\n",
              "      <td>user_0</td>\n",
              "      <td>6925.1</td>\n",
              "      <td>520</td>\n",
              "      <td>5.0</td>\n",
              "    </tr>\n",
              "    <tr>\n",
              "      <th>1</th>\n",
              "      <td>user_1</td>\n",
              "      <td>12955.5</td>\n",
              "      <td>133</td>\n",
              "      <td>11.0</td>\n",
              "    </tr>\n",
              "    <tr>\n",
              "      <th>2</th>\n",
              "      <td>user_10</td>\n",
              "      <td>5438.9</td>\n",
              "      <td>123</td>\n",
              "      <td>4.0</td>\n",
              "    </tr>\n",
              "    <tr>\n",
              "      <th>3</th>\n",
              "      <td>user_100</td>\n",
              "      <td>4230.1</td>\n",
              "      <td>55</td>\n",
              "      <td>80.0</td>\n",
              "    </tr>\n",
              "    <tr>\n",
              "      <th>4</th>\n",
              "      <td>user_1000</td>\n",
              "      <td>843.1</td>\n",
              "      <td>43</td>\n",
              "      <td>10.0</td>\n",
              "    </tr>\n",
              "    <tr>\n",
              "      <th>...</th>\n",
              "      <td>...</td>\n",
              "      <td>...</td>\n",
              "      <td>...</td>\n",
              "      <td>...</td>\n",
              "    </tr>\n",
              "    <tr>\n",
              "      <th>14816</th>\n",
              "      <td>user_9995</td>\n",
              "      <td>239.8</td>\n",
              "      <td>4</td>\n",
              "      <td>14.0</td>\n",
              "    </tr>\n",
              "    <tr>\n",
              "      <th>14817</th>\n",
              "      <td>user_9996</td>\n",
              "      <td>1681.8</td>\n",
              "      <td>31</td>\n",
              "      <td>127.0</td>\n",
              "    </tr>\n",
              "    <tr>\n",
              "      <th>14818</th>\n",
              "      <td>user_9997</td>\n",
              "      <td>7650.5</td>\n",
              "      <td>128</td>\n",
              "      <td>18.0</td>\n",
              "    </tr>\n",
              "    <tr>\n",
              "      <th>14819</th>\n",
              "      <td>user_9998</td>\n",
              "      <td>520.7</td>\n",
              "      <td>30</td>\n",
              "      <td>61.0</td>\n",
              "    </tr>\n",
              "    <tr>\n",
              "      <th>14820</th>\n",
              "      <td>user_9999</td>\n",
              "      <td>8.5</td>\n",
              "      <td>1</td>\n",
              "      <td>5.0</td>\n",
              "    </tr>\n",
              "  </tbody>\n",
              "</table>\n",
              "<p>14821 rows × 4 columns</p>\n",
              "</div>"
            ],
            "text/plain": [
              "         user_id  total sum  total count  days_last_trans\n",
              "0         user_0     6925.1          520              5.0\n",
              "1         user_1    12955.5          133             11.0\n",
              "2        user_10     5438.9          123              4.0\n",
              "3       user_100     4230.1           55             80.0\n",
              "4      user_1000      843.1           43             10.0\n",
              "...          ...        ...          ...              ...\n",
              "14816  user_9995      239.8            4             14.0\n",
              "14817  user_9996     1681.8           31            127.0\n",
              "14818  user_9997     7650.5          128             18.0\n",
              "14819  user_9998      520.7           30             61.0\n",
              "14820  user_9999        8.5            1              5.0\n",
              "\n",
              "[14821 rows x 4 columns]"
            ]
          },
          "metadata": {
            "tags": []
          },
          "execution_count": 174
        }
      ]
    },
    {
      "cell_type": "code",
      "metadata": {
        "id": "hwylIMPpJq3x",
        "colab_type": "code",
        "colab": {}
      },
      "source": [
        "test6=test6.drop(columns=['user_id'])"
      ],
      "execution_count": 0,
      "outputs": []
    },
    {
      "cell_type": "code",
      "metadata": {
        "id": "-umvGWWHL3hx",
        "colab_type": "code",
        "colab": {
          "base_uri": "https://localhost:8080/",
          "height": 399
        },
        "outputId": "0ce0b3bf-6575-4a54-b6f3-23e346eb220a"
      },
      "source": [
        "test6"
      ],
      "execution_count": 176,
      "outputs": [
        {
          "output_type": "execute_result",
          "data": {
            "text/html": [
              "<div>\n",
              "<style scoped>\n",
              "    .dataframe tbody tr th:only-of-type {\n",
              "        vertical-align: middle;\n",
              "    }\n",
              "\n",
              "    .dataframe tbody tr th {\n",
              "        vertical-align: top;\n",
              "    }\n",
              "\n",
              "    .dataframe thead th {\n",
              "        text-align: right;\n",
              "    }\n",
              "</style>\n",
              "<table border=\"1\" class=\"dataframe\">\n",
              "  <thead>\n",
              "    <tr style=\"text-align: right;\">\n",
              "      <th></th>\n",
              "      <th>total sum</th>\n",
              "      <th>total count</th>\n",
              "      <th>days_last_trans</th>\n",
              "    </tr>\n",
              "  </thead>\n",
              "  <tbody>\n",
              "    <tr>\n",
              "      <th>0</th>\n",
              "      <td>6925.1</td>\n",
              "      <td>520</td>\n",
              "      <td>5.0</td>\n",
              "    </tr>\n",
              "    <tr>\n",
              "      <th>1</th>\n",
              "      <td>12955.5</td>\n",
              "      <td>133</td>\n",
              "      <td>11.0</td>\n",
              "    </tr>\n",
              "    <tr>\n",
              "      <th>2</th>\n",
              "      <td>5438.9</td>\n",
              "      <td>123</td>\n",
              "      <td>4.0</td>\n",
              "    </tr>\n",
              "    <tr>\n",
              "      <th>3</th>\n",
              "      <td>4230.1</td>\n",
              "      <td>55</td>\n",
              "      <td>80.0</td>\n",
              "    </tr>\n",
              "    <tr>\n",
              "      <th>4</th>\n",
              "      <td>843.1</td>\n",
              "      <td>43</td>\n",
              "      <td>10.0</td>\n",
              "    </tr>\n",
              "    <tr>\n",
              "      <th>...</th>\n",
              "      <td>...</td>\n",
              "      <td>...</td>\n",
              "      <td>...</td>\n",
              "    </tr>\n",
              "    <tr>\n",
              "      <th>14816</th>\n",
              "      <td>239.8</td>\n",
              "      <td>4</td>\n",
              "      <td>14.0</td>\n",
              "    </tr>\n",
              "    <tr>\n",
              "      <th>14817</th>\n",
              "      <td>1681.8</td>\n",
              "      <td>31</td>\n",
              "      <td>127.0</td>\n",
              "    </tr>\n",
              "    <tr>\n",
              "      <th>14818</th>\n",
              "      <td>7650.5</td>\n",
              "      <td>128</td>\n",
              "      <td>18.0</td>\n",
              "    </tr>\n",
              "    <tr>\n",
              "      <th>14819</th>\n",
              "      <td>520.7</td>\n",
              "      <td>30</td>\n",
              "      <td>61.0</td>\n",
              "    </tr>\n",
              "    <tr>\n",
              "      <th>14820</th>\n",
              "      <td>8.5</td>\n",
              "      <td>1</td>\n",
              "      <td>5.0</td>\n",
              "    </tr>\n",
              "  </tbody>\n",
              "</table>\n",
              "<p>14821 rows × 3 columns</p>\n",
              "</div>"
            ],
            "text/plain": [
              "       total sum  total count  days_last_trans\n",
              "0         6925.1          520              5.0\n",
              "1        12955.5          133             11.0\n",
              "2         5438.9          123              4.0\n",
              "3         4230.1           55             80.0\n",
              "4          843.1           43             10.0\n",
              "...          ...          ...              ...\n",
              "14816      239.8            4             14.0\n",
              "14817     1681.8           31            127.0\n",
              "14818     7650.5          128             18.0\n",
              "14819      520.7           30             61.0\n",
              "14820        8.5            1              5.0\n",
              "\n",
              "[14821 rows x 3 columns]"
            ]
          },
          "metadata": {
            "tags": []
          },
          "execution_count": 176
        }
      ]
    },
    {
      "cell_type": "code",
      "metadata": {
        "colab_type": "code",
        "outputId": "f9db3bf8-b07e-4b9d-950b-21ba77663724",
        "id": "pN2bFmk4J4_z",
        "colab": {
          "base_uri": "https://localhost:8080/",
          "height": 355
        }
      },
      "source": [
        "from sklearn.cluster import KMeans\n",
        "from sklearn.decomposition import PCA\n",
        "from sklearn.metrics import silhouette_samples, silhouette_score\n",
        "from sklearn.preprocessing import MinMaxScaler\n",
        "\n",
        "sc = MinMaxScaler()\n",
        "X = sc.fit_transform(test6.values)\n",
        "\n",
        "a=[]\n",
        "sscore=[]\n",
        "for k in range(2,21):\n",
        "    kmeans = KMeans(n_clusters = k, n_init=30, random_state=42)\n",
        "    kmeans.fit(X)\n",
        "    clusters = kmeans.predict(X)\n",
        "    silhouette_avg = silhouette_score(X, clusters)\n",
        "    a.append(k)\n",
        "    sscore.append(silhouette_avg)\n",
        "    print(\"For k =\", k, \"The average silhouette_score is :\", silhouette_avg)"
      ],
      "execution_count": 177,
      "outputs": [
        {
          "output_type": "stream",
          "text": [
            "For k = 2 The average silhouette_score is : 0.7054050444170867\n",
            "For k = 3 The average silhouette_score is : 0.6344354094376299\n",
            "For k = 4 The average silhouette_score is : 0.62042741999264\n",
            "For k = 5 The average silhouette_score is : 0.6039729799611093\n",
            "For k = 6 The average silhouette_score is : 0.5429657812571006\n",
            "For k = 7 The average silhouette_score is : 0.5561513055416264\n",
            "For k = 8 The average silhouette_score is : 0.5515246024880956\n",
            "For k = 9 The average silhouette_score is : 0.5234788310483444\n",
            "For k = 10 The average silhouette_score is : 0.5120969237806974\n",
            "For k = 11 The average silhouette_score is : 0.49246488806639127\n",
            "For k = 12 The average silhouette_score is : 0.4897470355276887\n",
            "For k = 13 The average silhouette_score is : 0.4650715433985623\n",
            "For k = 14 The average silhouette_score is : 0.46179500553044944\n",
            "For k = 15 The average silhouette_score is : 0.46370948203165135\n",
            "For k = 16 The average silhouette_score is : 0.465600474655589\n",
            "For k = 17 The average silhouette_score is : 0.4496520633152836\n",
            "For k = 18 The average silhouette_score is : 0.4422764716104911\n",
            "For k = 19 The average silhouette_score is : 0.43304122101736187\n",
            "For k = 20 The average silhouette_score is : 0.4283635527401657\n"
          ],
          "name": "stdout"
        }
      ]
    },
    {
      "cell_type": "code",
      "metadata": {
        "id": "v6A4-zEpAahz",
        "colab_type": "code",
        "colab": {
          "base_uri": "https://localhost:8080/",
          "height": 421
        },
        "outputId": "419688f7-710b-4978-96d7-5433b8daeab1"
      },
      "source": [
        "fig = plt.figure(figsize=(10, 6))\n",
        "\n",
        "plt.plot(a,sscore,c='purple',marker='o',linewidth=2)\n",
        "plt.xlabel('k') \n",
        "plt.ylabel('silhouette score')\n",
        "plt.title('Silhouette scores for different values of k')"
      ],
      "execution_count": 178,
      "outputs": [
        {
          "output_type": "execute_result",
          "data": {
            "text/plain": [
              "Text(0.5, 1.0, 'Silhouette scores for different values of k')"
            ]
          },
          "metadata": {
            "tags": []
          },
          "execution_count": 178
        },
        {
          "output_type": "display_data",
          "data": {
            "image/png": "[encoded data removed]",
            "text/plain": [
              "<Figure size 720x432 with 1 Axes>"
            ]
          },
          "metadata": {
            "tags": [],
            "needs_background": "light"
          }
        }
      ]
    },
    {
      "cell_type": "code",
      "metadata": {
        "colab_type": "code",
        "outputId": "e5e57d2b-6073-47a5-e706-212c6294b3cd",
        "id": "Ev6litT_J4_3",
        "colab": {
          "base_uri": "https://localhost:8080/",
          "height": 106
        }
      },
      "source": [
        "k_u = 2\n",
        "kmeans_cust = KMeans(n_clusters = k_u, n_init=30, random_state=42)\n",
        "cust_clusters = kmeans_cust.fit_predict(X)\n",
        "\n",
        "centroids = sc.inverse_transform(np.array(kmeans_cust.cluster_centers_))\n",
        "\n",
        "test=pd.DataFrame(centroids, columns=test6.columns)\n",
        "test=round(test,2)\n",
        "test"
      ],
      "execution_count": 179,
      "outputs": [
        {
          "output_type": "execute_result",
          "data": {
            "text/html": [
              "<div>\n",
              "<style scoped>\n",
              "    .dataframe tbody tr th:only-of-type {\n",
              "        vertical-align: middle;\n",
              "    }\n",
              "\n",
              "    .dataframe tbody tr th {\n",
              "        vertical-align: top;\n",
              "    }\n",
              "\n",
              "    .dataframe thead th {\n",
              "        text-align: right;\n",
              "    }\n",
              "</style>\n",
              "<table border=\"1\" class=\"dataframe\">\n",
              "  <thead>\n",
              "    <tr style=\"text-align: right;\">\n",
              "      <th></th>\n",
              "      <th>total sum</th>\n",
              "      <th>total count</th>\n",
              "      <th>days_last_trans</th>\n",
              "    </tr>\n",
              "  </thead>\n",
              "  <tbody>\n",
              "    <tr>\n",
              "      <th>0</th>\n",
              "      <td>10077.64</td>\n",
              "      <td>156.73</td>\n",
              "      <td>27.28</td>\n",
              "    </tr>\n",
              "    <tr>\n",
              "      <th>1</th>\n",
              "      <td>1349.58</td>\n",
              "      <td>18.74</td>\n",
              "      <td>254.23</td>\n",
              "    </tr>\n",
              "  </tbody>\n",
              "</table>\n",
              "</div>"
            ],
            "text/plain": [
              "   total sum  total count  days_last_trans\n",
              "0   10077.64       156.73            27.28\n",
              "1    1349.58        18.74           254.23"
            ]
          },
          "metadata": {
            "tags": []
          },
          "execution_count": 179
        }
      ]
    },
    {
      "cell_type": "code",
      "metadata": {
        "colab_type": "code",
        "outputId": "54dc0376-da2c-41d0-8859-c3f16ea94d8a",
        "id": "XoV6ls_3J4_6",
        "colab": {
          "base_uri": "https://localhost:8080/",
          "height": 70
        }
      },
      "source": [
        "test=test6\n",
        "test[\"Clusters\"]=cust_clusters\n",
        "test.Clusters.value_counts()"
      ],
      "execution_count": 180,
      "outputs": [
        {
          "output_type": "execute_result",
          "data": {
            "text/plain": [
              "0    11875\n",
              "1     2946\n",
              "Name: Clusters, dtype: int64"
            ]
          },
          "metadata": {
            "tags": []
          },
          "execution_count": 180
        }
      ]
    }
  ]
}