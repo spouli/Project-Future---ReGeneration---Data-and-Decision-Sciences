{
  "nbformat": 4,
  "nbformat_minor": 0,
  "metadata": {
    "colab": {
      "name": "Classification_train_test.ipynb",
      "provenance": []
    },
    "kernelspec": {
      "name": "python3",
      "display_name": "Python 3"
    }
  },
  "cells": [
    {
      "cell_type": "code",
      "metadata": {
        "id": "aTHspWFqy9Vx",
        "colab_type": "code",
        "colab": {}
      },
      "source": [
        "import pandas as pd\n",
        "import numpy as np\n",
        "import datetime as dt\n",
        "import matplotlib.pyplot as plt"
      ],
      "execution_count": 0,
      "outputs": []
    },
    {
      "cell_type": "markdown",
      "metadata": {
        "id": "eNr3E0fb03qU",
        "colab_type": "text"
      },
      "source": [
        "#Classifier Train Set"
      ]
    },
    {
      "cell_type": "code",
      "metadata": {
        "id": "F1MCxVifzd_3",
        "colab_type": "code",
        "colab": {}
      },
      "source": [
        "#Load Data\n",
        "dev1=pd.read_csv('/content/drive/My Drive/Project Future/Project/data/devices.csv')\n",
        "ntf_1=pd.read_csv('/content/drive/My Drive/Project Future/Project/data/notifications.csv')\n",
        "tr1_1=pd.read_csv('/content/drive/My Drive/Project Future/Project/data/transactions_1.csv')\n",
        "tr1_2=pd.read_csv('/content/drive/My Drive/Project Future/Project/data/transactions_2.csv')\n",
        "tr1_3=pd.read_csv('/content/drive/My Drive/Project Future/Project/data/transactions_3.csv')\n",
        "us1=pd.read_csv('/content/drive/My Drive/Project Future/Project/data/users.csv')"
      ],
      "execution_count": 0,
      "outputs": []
    },
    {
      "cell_type": "code",
      "metadata": {
        "id": "xjCl5PZIzlNb",
        "colab_type": "code",
        "colab": {}
      },
      "source": [
        "#Merge of transactions files\n",
        "tr1=pd.DataFrame()\n",
        "tr1=tr1.append(tr1_1)\n",
        "tr1=tr1.append(tr1_2)\n",
        "tr1=tr1.append(tr1_3)"
      ],
      "execution_count": 0,
      "outputs": []
    },
    {
      "cell_type": "markdown",
      "metadata": {
        "id": "plASpmh8of6-",
        "colab_type": "text"
      },
      "source": [
        "##Users File"
      ]
    },
    {
      "cell_type": "markdown",
      "metadata": {
        "id": "dsGydC7W1_iS",
        "colab_type": "text"
      },
      "source": [
        "###**Unique Values**"
      ]
    },
    {
      "cell_type": "code",
      "metadata": {
        "id": "dixQFCchtLAv",
        "colab_type": "code",
        "outputId": "26375174-9951-4ec8-a3d7-fe60e3032466",
        "colab": {
          "base_uri": "https://localhost:8080/",
          "height": 0
        }
      },
      "source": [
        "users=us1\n",
        "colnames=users.columns\n",
        "df=pd.DataFrame(columns=[\"Column\",\"NumOfMissingVal\",\"UniqueVal\"])\n",
        "for cn in colnames:\n",
        "  df=df.append({\"Column\" : cn,\"NumOfMissingVal\": sum(pd.isna(users[cn])),\"UniqueVal\":len(users[cn].unique())},ignore_index=True)\n",
        "\n",
        "df"
      ],
      "execution_count": 4,
      "outputs": [
        {
          "output_type": "execute_result",
          "data": {
            "text/html": [
              "<div>\n",
              "<style scoped>\n",
              "    .dataframe tbody tr th:only-of-type {\n",
              "        vertical-align: middle;\n",
              "    }\n",
              "\n",
              "    .dataframe tbody tr th {\n",
              "        vertical-align: top;\n",
              "    }\n",
              "\n",
              "    .dataframe thead th {\n",
              "        text-align: right;\n",
              "    }\n",
              "</style>\n",
              "<table border=\"1\" class=\"dataframe\">\n",
              "  <thead>\n",
              "    <tr style=\"text-align: right;\">\n",
              "      <th></th>\n",
              "      <th>Column</th>\n",
              "      <th>NumOfMissingVal</th>\n",
              "      <th>UniqueVal</th>\n",
              "    </tr>\n",
              "  </thead>\n",
              "  <tbody>\n",
              "    <tr>\n",
              "      <th>0</th>\n",
              "      <td>user_id</td>\n",
              "      <td>0</td>\n",
              "      <td>15544</td>\n",
              "    </tr>\n",
              "    <tr>\n",
              "      <th>1</th>\n",
              "      <td>birth_year</td>\n",
              "      <td>0</td>\n",
              "      <td>69</td>\n",
              "    </tr>\n",
              "    <tr>\n",
              "      <th>2</th>\n",
              "      <td>country</td>\n",
              "      <td>0</td>\n",
              "      <td>40</td>\n",
              "    </tr>\n",
              "    <tr>\n",
              "      <th>3</th>\n",
              "      <td>city</td>\n",
              "      <td>0</td>\n",
              "      <td>5197</td>\n",
              "    </tr>\n",
              "    <tr>\n",
              "      <th>4</th>\n",
              "      <td>created_date</td>\n",
              "      <td>0</td>\n",
              "      <td>15544</td>\n",
              "    </tr>\n",
              "    <tr>\n",
              "      <th>5</th>\n",
              "      <td>user_settings_crypto_unlocked</td>\n",
              "      <td>0</td>\n",
              "      <td>2</td>\n",
              "    </tr>\n",
              "    <tr>\n",
              "      <th>6</th>\n",
              "      <td>plan</td>\n",
              "      <td>0</td>\n",
              "      <td>3</td>\n",
              "    </tr>\n",
              "    <tr>\n",
              "      <th>7</th>\n",
              "      <td>attributes_notifications_marketing_push</td>\n",
              "      <td>5260</td>\n",
              "      <td>3</td>\n",
              "    </tr>\n",
              "    <tr>\n",
              "      <th>8</th>\n",
              "      <td>attributes_notifications_marketing_email</td>\n",
              "      <td>5260</td>\n",
              "      <td>3</td>\n",
              "    </tr>\n",
              "    <tr>\n",
              "      <th>9</th>\n",
              "      <td>num_contacts</td>\n",
              "      <td>0</td>\n",
              "      <td>283</td>\n",
              "    </tr>\n",
              "    <tr>\n",
              "      <th>10</th>\n",
              "      <td>num_referrals</td>\n",
              "      <td>0</td>\n",
              "      <td>1</td>\n",
              "    </tr>\n",
              "    <tr>\n",
              "      <th>11</th>\n",
              "      <td>num_successful_referrals</td>\n",
              "      <td>0</td>\n",
              "      <td>1</td>\n",
              "    </tr>\n",
              "  </tbody>\n",
              "</table>\n",
              "</div>"
            ],
            "text/plain": [
              "                                      Column NumOfMissingVal UniqueVal\n",
              "0                                    user_id               0     15544\n",
              "1                                 birth_year               0        69\n",
              "2                                    country               0        40\n",
              "3                                       city               0      5197\n",
              "4                               created_date               0     15544\n",
              "5              user_settings_crypto_unlocked               0         2\n",
              "6                                       plan               0         3\n",
              "7    attributes_notifications_marketing_push            5260         3\n",
              "8   attributes_notifications_marketing_email            5260         3\n",
              "9                               num_contacts               0       283\n",
              "10                             num_referrals               0         1\n",
              "11                  num_successful_referrals               0         1"
            ]
          },
          "metadata": {
            "tags": []
          },
          "execution_count": 4
        }
      ]
    },
    {
      "cell_type": "code",
      "metadata": {
        "id": "cw6Q0VNouqI-",
        "colab_type": "code",
        "colab": {}
      },
      "source": [
        "#Drop unnecessary columns\n",
        "#print(users.shape)\n",
        "#users=users.drop(labels={\"num_successful_referrals\",\"num_referrals\",\"city\",\"created_date\",\"attributes_notifications_marketing_email\",\"attributes_notifications_marketing_push\"},axis=1)\n",
        "#print(users.shape)\n",
        "#users.columns"
      ],
      "execution_count": 0,
      "outputs": []
    },
    {
      "cell_type": "code",
      "metadata": {
        "id": "51F5Qu0q3LVH",
        "colab_type": "code",
        "colab": {
          "base_uri": "https://localhost:8080/",
          "height": 0
        },
        "outputId": "26a48a1c-bef2-4631-f8b0-ebb17736163f"
      },
      "source": [
        "users.columns"
      ],
      "execution_count": 6,
      "outputs": [
        {
          "output_type": "execute_result",
          "data": {
            "text/plain": [
              "Index(['user_id', 'birth_year', 'country', 'city', 'created_date',\n",
              "       'user_settings_crypto_unlocked', 'plan',\n",
              "       'attributes_notifications_marketing_push',\n",
              "       'attributes_notifications_marketing_email', 'num_contacts',\n",
              "       'num_referrals', 'num_successful_referrals'],\n",
              "      dtype='object')"
            ]
          },
          "metadata": {
            "tags": []
          },
          "execution_count": 6
        }
      ]
    },
    {
      "cell_type": "code",
      "metadata": {
        "id": "DSKRrMios6mn",
        "colab_type": "code",
        "outputId": "09932a9d-6fc0-4641-9ca8-6eb505d9e831",
        "colab": {
          "base_uri": "https://localhost:8080/",
          "height": 0
        }
      },
      "source": [
        "colnames=users.columns\n",
        "for cn in colnames[1:3].append(colnames[5:9].append(colnames[10:12])):\n",
        "  print(cn,\"\\n\" , users[cn].unique(),\"\\n\")"
      ],
      "execution_count": 7,
      "outputs": [
        {
          "output_type": "stream",
          "text": [
            "birth_year \n",
            " [1992 1985 1996 1981 1990 1998 2000 1949 1960 1980 1962 1978 1995 1994\n",
            " 1979 1965 1997 1959 1957 1983 1986 1976 1991 1982 1946 1989 1973 1993\n",
            " 1977 1987 1999 1971 1975 1966 1988 1961 1958 1972 1974 1984 1968 1942\n",
            " 1950 1967 1970 1964 1956 1963 1941 1944 1954 1945 1947 1969 1955 1952\n",
            " 1948 1953 1951 1943 2001 1929 1940 1937 1935 1938 1934 1939 1930] \n",
            "\n",
            "country \n",
            " ['ES' 'LT' 'IE' 'GB' 'MT' 'FR' 'RO' 'PL' 'AT' 'IT' 'SI' 'CZ' 'BE' 'BG'\n",
            " 'GI' 'CH' 'GG' 'CY' 'LV' 'DE' 'SK' 'GR' 'DK' 'PT' 'LU' 'HR' 'NL' 'NO'\n",
            " 'SE' 'AU' 'IM' 'FI' 'EE' 'JE' 'HU' 'RE' 'IS' 'GP' 'LI' 'MQ'] \n",
            "\n",
            "user_settings_crypto_unlocked \n",
            " [0 1] \n",
            "\n",
            "plan \n",
            " ['STANDARD' 'GOLD' 'SILVER'] \n",
            "\n",
            "attributes_notifications_marketing_push \n",
            " [ 1. nan  0.] \n",
            "\n",
            "attributes_notifications_marketing_email \n",
            " [ 1. nan  0.] \n",
            "\n",
            "num_referrals \n",
            " [0] \n",
            "\n",
            "num_successful_referrals \n",
            " [0] \n",
            "\n"
          ],
          "name": "stdout"
        }
      ]
    },
    {
      "cell_type": "code",
      "metadata": {
        "id": "T26BhWXew4iu",
        "colab_type": "code",
        "outputId": "231b964c-8d17-4dfa-9a9b-6553d411c884",
        "colab": {
          "base_uri": "https://localhost:8080/",
          "height": 0
        }
      },
      "source": [
        "#Ypologismos Hlikias users\n",
        "users[\"user_age\"] =  dt.date.today().year-users['birth_year']\n",
        "\n",
        "#Calculation of days subscribed\n",
        "users[\"date_created\"] = [dt.datetime.strptime(d,\"%Y-%m-%d  %H:%M:%S.%f\") for d in users[\"created_date\"]]\n",
        "users[\"subscription_days\"] = (dt.datetime.today()- users.date_created).dt.days\n",
        "\n",
        "users.head()"
      ],
      "execution_count": 8,
      "outputs": [
        {
          "output_type": "execute_result",
          "data": {
            "text/html": [
              "<div>\n",
              "<style scoped>\n",
              "    .dataframe tbody tr th:only-of-type {\n",
              "        vertical-align: middle;\n",
              "    }\n",
              "\n",
              "    .dataframe tbody tr th {\n",
              "        vertical-align: top;\n",
              "    }\n",
              "\n",
              "    .dataframe thead th {\n",
              "        text-align: right;\n",
              "    }\n",
              "</style>\n",
              "<table border=\"1\" class=\"dataframe\">\n",
              "  <thead>\n",
              "    <tr style=\"text-align: right;\">\n",
              "      <th></th>\n",
              "      <th>user_id</th>\n",
              "      <th>birth_year</th>\n",
              "      <th>country</th>\n",
              "      <th>city</th>\n",
              "      <th>created_date</th>\n",
              "      <th>user_settings_crypto_unlocked</th>\n",
              "      <th>plan</th>\n",
              "      <th>attributes_notifications_marketing_push</th>\n",
              "      <th>attributes_notifications_marketing_email</th>\n",
              "      <th>num_contacts</th>\n",
              "      <th>num_referrals</th>\n",
              "      <th>num_successful_referrals</th>\n",
              "      <th>user_age</th>\n",
              "      <th>date_created</th>\n",
              "      <th>subscription_days</th>\n",
              "    </tr>\n",
              "  </thead>\n",
              "  <tbody>\n",
              "    <tr>\n",
              "      <th>0</th>\n",
              "      <td>user_0</td>\n",
              "      <td>1992</td>\n",
              "      <td>ES</td>\n",
              "      <td>Madrid</td>\n",
              "      <td>2018-09-10 18:46:42.843855</td>\n",
              "      <td>0</td>\n",
              "      <td>STANDARD</td>\n",
              "      <td>1.0</td>\n",
              "      <td>1.0</td>\n",
              "      <td>3</td>\n",
              "      <td>0</td>\n",
              "      <td>0</td>\n",
              "      <td>28</td>\n",
              "      <td>2018-09-10 18:46:42.843855</td>\n",
              "      <td>636</td>\n",
              "    </tr>\n",
              "    <tr>\n",
              "      <th>1</th>\n",
              "      <td>user_1</td>\n",
              "      <td>1985</td>\n",
              "      <td>LT</td>\n",
              "      <td>Klaipeda</td>\n",
              "      <td>2018-01-11 18:53:10.531146</td>\n",
              "      <td>1</td>\n",
              "      <td>STANDARD</td>\n",
              "      <td>NaN</td>\n",
              "      <td>NaN</td>\n",
              "      <td>75</td>\n",
              "      <td>0</td>\n",
              "      <td>0</td>\n",
              "      <td>35</td>\n",
              "      <td>2018-01-11 18:53:10.531146</td>\n",
              "      <td>878</td>\n",
              "    </tr>\n",
              "    <tr>\n",
              "      <th>2</th>\n",
              "      <td>user_2</td>\n",
              "      <td>1996</td>\n",
              "      <td>IE</td>\n",
              "      <td>Carrickmacross</td>\n",
              "      <td>2018-11-29 17:29:16.879324</td>\n",
              "      <td>0</td>\n",
              "      <td>STANDARD</td>\n",
              "      <td>NaN</td>\n",
              "      <td>NaN</td>\n",
              "      <td>71</td>\n",
              "      <td>0</td>\n",
              "      <td>0</td>\n",
              "      <td>24</td>\n",
              "      <td>2018-11-29 17:29:16.879324</td>\n",
              "      <td>557</td>\n",
              "    </tr>\n",
              "    <tr>\n",
              "      <th>3</th>\n",
              "      <td>user_3</td>\n",
              "      <td>1981</td>\n",
              "      <td>IE</td>\n",
              "      <td>Dublin</td>\n",
              "      <td>2018-02-17 11:58:08.319664</td>\n",
              "      <td>0</td>\n",
              "      <td>STANDARD</td>\n",
              "      <td>NaN</td>\n",
              "      <td>NaN</td>\n",
              "      <td>219</td>\n",
              "      <td>0</td>\n",
              "      <td>0</td>\n",
              "      <td>39</td>\n",
              "      <td>2018-02-17 11:58:08.319664</td>\n",
              "      <td>842</td>\n",
              "    </tr>\n",
              "    <tr>\n",
              "      <th>4</th>\n",
              "      <td>user_4</td>\n",
              "      <td>1992</td>\n",
              "      <td>GB</td>\n",
              "      <td>London</td>\n",
              "      <td>2018-01-08 18:40:21.097856</td>\n",
              "      <td>0</td>\n",
              "      <td>STANDARD</td>\n",
              "      <td>NaN</td>\n",
              "      <td>NaN</td>\n",
              "      <td>0</td>\n",
              "      <td>0</td>\n",
              "      <td>0</td>\n",
              "      <td>28</td>\n",
              "      <td>2018-01-08 18:40:21.097856</td>\n",
              "      <td>881</td>\n",
              "    </tr>\n",
              "  </tbody>\n",
              "</table>\n",
              "</div>"
            ],
            "text/plain": [
              "  user_id  birth_year  ...               date_created subscription_days\n",
              "0  user_0        1992  ... 2018-09-10 18:46:42.843855               636\n",
              "1  user_1        1985  ... 2018-01-11 18:53:10.531146               878\n",
              "2  user_2        1996  ... 2018-11-29 17:29:16.879324               557\n",
              "3  user_3        1981  ... 2018-02-17 11:58:08.319664               842\n",
              "4  user_4        1992  ... 2018-01-08 18:40:21.097856               881\n",
              "\n",
              "[5 rows x 15 columns]"
            ]
          },
          "metadata": {
            "tags": []
          },
          "execution_count": 8
        }
      ]
    },
    {
      "cell_type": "markdown",
      "metadata": {
        "id": "Ed5A6q-GL5Nw",
        "colab_type": "text"
      },
      "source": [
        "###Clustering"
      ]
    },
    {
      "cell_type": "code",
      "metadata": {
        "id": "GGM0qqXrhabf",
        "colab_type": "code",
        "outputId": "679ec2c0-a088-4641-cce4-bcedb1d2cf57",
        "colab": {
          "base_uri": "https://localhost:8080/",
          "height": 0
        }
      },
      "source": [
        "#Plan clustering\n",
        "users.loc[users['plan']== \"STANDARD\", 'grouped_plan'] = 0 \n",
        "users.loc[users['plan']!= \"STANDARD\", 'grouped_plan'] = 1 \n",
        "users=users.drop({\"plan\"},axis=1)\n",
        "users.head()"
      ],
      "execution_count": 9,
      "outputs": [
        {
          "output_type": "execute_result",
          "data": {
            "text/html": [
              "<div>\n",
              "<style scoped>\n",
              "    .dataframe tbody tr th:only-of-type {\n",
              "        vertical-align: middle;\n",
              "    }\n",
              "\n",
              "    .dataframe tbody tr th {\n",
              "        vertical-align: top;\n",
              "    }\n",
              "\n",
              "    .dataframe thead th {\n",
              "        text-align: right;\n",
              "    }\n",
              "</style>\n",
              "<table border=\"1\" class=\"dataframe\">\n",
              "  <thead>\n",
              "    <tr style=\"text-align: right;\">\n",
              "      <th></th>\n",
              "      <th>user_id</th>\n",
              "      <th>birth_year</th>\n",
              "      <th>country</th>\n",
              "      <th>city</th>\n",
              "      <th>created_date</th>\n",
              "      <th>user_settings_crypto_unlocked</th>\n",
              "      <th>attributes_notifications_marketing_push</th>\n",
              "      <th>attributes_notifications_marketing_email</th>\n",
              "      <th>num_contacts</th>\n",
              "      <th>num_referrals</th>\n",
              "      <th>num_successful_referrals</th>\n",
              "      <th>user_age</th>\n",
              "      <th>date_created</th>\n",
              "      <th>subscription_days</th>\n",
              "      <th>grouped_plan</th>\n",
              "    </tr>\n",
              "  </thead>\n",
              "  <tbody>\n",
              "    <tr>\n",
              "      <th>0</th>\n",
              "      <td>user_0</td>\n",
              "      <td>1992</td>\n",
              "      <td>ES</td>\n",
              "      <td>Madrid</td>\n",
              "      <td>2018-09-10 18:46:42.843855</td>\n",
              "      <td>0</td>\n",
              "      <td>1.0</td>\n",
              "      <td>1.0</td>\n",
              "      <td>3</td>\n",
              "      <td>0</td>\n",
              "      <td>0</td>\n",
              "      <td>28</td>\n",
              "      <td>2018-09-10 18:46:42.843855</td>\n",
              "      <td>636</td>\n",
              "      <td>0.0</td>\n",
              "    </tr>\n",
              "    <tr>\n",
              "      <th>1</th>\n",
              "      <td>user_1</td>\n",
              "      <td>1985</td>\n",
              "      <td>LT</td>\n",
              "      <td>Klaipeda</td>\n",
              "      <td>2018-01-11 18:53:10.531146</td>\n",
              "      <td>1</td>\n",
              "      <td>NaN</td>\n",
              "      <td>NaN</td>\n",
              "      <td>75</td>\n",
              "      <td>0</td>\n",
              "      <td>0</td>\n",
              "      <td>35</td>\n",
              "      <td>2018-01-11 18:53:10.531146</td>\n",
              "      <td>878</td>\n",
              "      <td>0.0</td>\n",
              "    </tr>\n",
              "    <tr>\n",
              "      <th>2</th>\n",
              "      <td>user_2</td>\n",
              "      <td>1996</td>\n",
              "      <td>IE</td>\n",
              "      <td>Carrickmacross</td>\n",
              "      <td>2018-11-29 17:29:16.879324</td>\n",
              "      <td>0</td>\n",
              "      <td>NaN</td>\n",
              "      <td>NaN</td>\n",
              "      <td>71</td>\n",
              "      <td>0</td>\n",
              "      <td>0</td>\n",
              "      <td>24</td>\n",
              "      <td>2018-11-29 17:29:16.879324</td>\n",
              "      <td>557</td>\n",
              "      <td>0.0</td>\n",
              "    </tr>\n",
              "    <tr>\n",
              "      <th>3</th>\n",
              "      <td>user_3</td>\n",
              "      <td>1981</td>\n",
              "      <td>IE</td>\n",
              "      <td>Dublin</td>\n",
              "      <td>2018-02-17 11:58:08.319664</td>\n",
              "      <td>0</td>\n",
              "      <td>NaN</td>\n",
              "      <td>NaN</td>\n",
              "      <td>219</td>\n",
              "      <td>0</td>\n",
              "      <td>0</td>\n",
              "      <td>39</td>\n",
              "      <td>2018-02-17 11:58:08.319664</td>\n",
              "      <td>842</td>\n",
              "      <td>0.0</td>\n",
              "    </tr>\n",
              "    <tr>\n",
              "      <th>4</th>\n",
              "      <td>user_4</td>\n",
              "      <td>1992</td>\n",
              "      <td>GB</td>\n",
              "      <td>London</td>\n",
              "      <td>2018-01-08 18:40:21.097856</td>\n",
              "      <td>0</td>\n",
              "      <td>NaN</td>\n",
              "      <td>NaN</td>\n",
              "      <td>0</td>\n",
              "      <td>0</td>\n",
              "      <td>0</td>\n",
              "      <td>28</td>\n",
              "      <td>2018-01-08 18:40:21.097856</td>\n",
              "      <td>881</td>\n",
              "      <td>0.0</td>\n",
              "    </tr>\n",
              "  </tbody>\n",
              "</table>\n",
              "</div>"
            ],
            "text/plain": [
              "  user_id  birth_year  ... subscription_days grouped_plan\n",
              "0  user_0        1992  ...               636          0.0\n",
              "1  user_1        1985  ...               878          0.0\n",
              "2  user_2        1996  ...               557          0.0\n",
              "3  user_3        1981  ...               842          0.0\n",
              "4  user_4        1992  ...               881          0.0\n",
              "\n",
              "[5 rows x 15 columns]"
            ]
          },
          "metadata": {
            "tags": []
          },
          "execution_count": 9
        }
      ]
    },
    {
      "cell_type": "code",
      "metadata": {
        "id": "lriHQVrMLmpm",
        "colab_type": "code",
        "outputId": "138b4d70-1918-4cde-95cc-3d1c02545ac1",
        "colab": {
          "base_uri": "https://localhost:8080/",
          "height": 0
        }
      },
      "source": [
        "#Countries clustering\n",
        "countries_cluster=pd.DataFrame({\"Cluster\":[\"CEE_EU\"]*8+[\"N_EU\"]*8+[\"S_EU\"]*7+[\"W_EU\"]*13+[\"Non_EU\"]*4,\"country\":\\\n",
        "                                ['BG','RO','PL','CZ','SI','HU','HR','SK',\\\n",
        "                                'LT','DK','EE','FI','IS','LV','NO','SE',\\\n",
        "                                'ES','MT','CY','GR','IT','GI','PT',\\\n",
        "                                'AT','IE','GB','BE','CH','DE','GG','IM','JE','LI','LU','NL',\"FR\",\\\n",
        "                                'AU','GP','MQ','RE']})\n",
        "countries_cluster\n",
        "\n",
        "users=pd.merge(users,countries_cluster,how=\"left\",on=\"country\")\n",
        "users.head()"
      ],
      "execution_count": 10,
      "outputs": [
        {
          "output_type": "execute_result",
          "data": {
            "text/html": [
              "<div>\n",
              "<style scoped>\n",
              "    .dataframe tbody tr th:only-of-type {\n",
              "        vertical-align: middle;\n",
              "    }\n",
              "\n",
              "    .dataframe tbody tr th {\n",
              "        vertical-align: top;\n",
              "    }\n",
              "\n",
              "    .dataframe thead th {\n",
              "        text-align: right;\n",
              "    }\n",
              "</style>\n",
              "<table border=\"1\" class=\"dataframe\">\n",
              "  <thead>\n",
              "    <tr style=\"text-align: right;\">\n",
              "      <th></th>\n",
              "      <th>user_id</th>\n",
              "      <th>birth_year</th>\n",
              "      <th>country</th>\n",
              "      <th>city</th>\n",
              "      <th>created_date</th>\n",
              "      <th>user_settings_crypto_unlocked</th>\n",
              "      <th>attributes_notifications_marketing_push</th>\n",
              "      <th>attributes_notifications_marketing_email</th>\n",
              "      <th>num_contacts</th>\n",
              "      <th>num_referrals</th>\n",
              "      <th>num_successful_referrals</th>\n",
              "      <th>user_age</th>\n",
              "      <th>date_created</th>\n",
              "      <th>subscription_days</th>\n",
              "      <th>grouped_plan</th>\n",
              "      <th>Cluster</th>\n",
              "    </tr>\n",
              "  </thead>\n",
              "  <tbody>\n",
              "    <tr>\n",
              "      <th>0</th>\n",
              "      <td>user_0</td>\n",
              "      <td>1992</td>\n",
              "      <td>ES</td>\n",
              "      <td>Madrid</td>\n",
              "      <td>2018-09-10 18:46:42.843855</td>\n",
              "      <td>0</td>\n",
              "      <td>1.0</td>\n",
              "      <td>1.0</td>\n",
              "      <td>3</td>\n",
              "      <td>0</td>\n",
              "      <td>0</td>\n",
              "      <td>28</td>\n",
              "      <td>2018-09-10 18:46:42.843855</td>\n",
              "      <td>636</td>\n",
              "      <td>0.0</td>\n",
              "      <td>S_EU</td>\n",
              "    </tr>\n",
              "    <tr>\n",
              "      <th>1</th>\n",
              "      <td>user_1</td>\n",
              "      <td>1985</td>\n",
              "      <td>LT</td>\n",
              "      <td>Klaipeda</td>\n",
              "      <td>2018-01-11 18:53:10.531146</td>\n",
              "      <td>1</td>\n",
              "      <td>NaN</td>\n",
              "      <td>NaN</td>\n",
              "      <td>75</td>\n",
              "      <td>0</td>\n",
              "      <td>0</td>\n",
              "      <td>35</td>\n",
              "      <td>2018-01-11 18:53:10.531146</td>\n",
              "      <td>878</td>\n",
              "      <td>0.0</td>\n",
              "      <td>N_EU</td>\n",
              "    </tr>\n",
              "    <tr>\n",
              "      <th>2</th>\n",
              "      <td>user_2</td>\n",
              "      <td>1996</td>\n",
              "      <td>IE</td>\n",
              "      <td>Carrickmacross</td>\n",
              "      <td>2018-11-29 17:29:16.879324</td>\n",
              "      <td>0</td>\n",
              "      <td>NaN</td>\n",
              "      <td>NaN</td>\n",
              "      <td>71</td>\n",
              "      <td>0</td>\n",
              "      <td>0</td>\n",
              "      <td>24</td>\n",
              "      <td>2018-11-29 17:29:16.879324</td>\n",
              "      <td>557</td>\n",
              "      <td>0.0</td>\n",
              "      <td>W_EU</td>\n",
              "    </tr>\n",
              "    <tr>\n",
              "      <th>3</th>\n",
              "      <td>user_3</td>\n",
              "      <td>1981</td>\n",
              "      <td>IE</td>\n",
              "      <td>Dublin</td>\n",
              "      <td>2018-02-17 11:58:08.319664</td>\n",
              "      <td>0</td>\n",
              "      <td>NaN</td>\n",
              "      <td>NaN</td>\n",
              "      <td>219</td>\n",
              "      <td>0</td>\n",
              "      <td>0</td>\n",
              "      <td>39</td>\n",
              "      <td>2018-02-17 11:58:08.319664</td>\n",
              "      <td>842</td>\n",
              "      <td>0.0</td>\n",
              "      <td>W_EU</td>\n",
              "    </tr>\n",
              "    <tr>\n",
              "      <th>4</th>\n",
              "      <td>user_4</td>\n",
              "      <td>1992</td>\n",
              "      <td>GB</td>\n",
              "      <td>London</td>\n",
              "      <td>2018-01-08 18:40:21.097856</td>\n",
              "      <td>0</td>\n",
              "      <td>NaN</td>\n",
              "      <td>NaN</td>\n",
              "      <td>0</td>\n",
              "      <td>0</td>\n",
              "      <td>0</td>\n",
              "      <td>28</td>\n",
              "      <td>2018-01-08 18:40:21.097856</td>\n",
              "      <td>881</td>\n",
              "      <td>0.0</td>\n",
              "      <td>W_EU</td>\n",
              "    </tr>\n",
              "  </tbody>\n",
              "</table>\n",
              "</div>"
            ],
            "text/plain": [
              "  user_id  birth_year country  ... subscription_days grouped_plan  Cluster\n",
              "0  user_0        1992      ES  ...               636          0.0     S_EU\n",
              "1  user_1        1985      LT  ...               878          0.0     N_EU\n",
              "2  user_2        1996      IE  ...               557          0.0     W_EU\n",
              "3  user_3        1981      IE  ...               842          0.0     W_EU\n",
              "4  user_4        1992      GB  ...               881          0.0     W_EU\n",
              "\n",
              "[5 rows x 16 columns]"
            ]
          },
          "metadata": {
            "tags": []
          },
          "execution_count": 10
        }
      ]
    },
    {
      "cell_type": "code",
      "metadata": {
        "id": "spDINmljV0GR",
        "colab_type": "code",
        "outputId": "f1de687b-a303-4b37-d7d4-bd7a8e866937",
        "colab": {
          "base_uri": "https://localhost:8080/",
          "height": 0
        }
      },
      "source": [
        "#GDP per capita clustering\n",
        "GDP_cluster=pd.DataFrame({\"country\":['FR','BG','RO','PL','CZ','SI','HU','HR','SK',\\\n",
        "                                'LT','DK','EE','FI','IS','LV','NO','SE',\\\n",
        "                                'ES','MT','CY','GR','IT','GI','PT',\\\n",
        "                                'AT','IE','GB','BE','CH','DE','GG','IM','JE','LI','LU','NL',\\\n",
        "                                'AU','GP','MQ','RE'],\"GDP_per_capita\":\\\n",
        "                                [\">45k\",\"<30k\",\"<30k\",\"30k_45k\",\"30k_45k\",\"30k_45k\",\"30k_45k\",\"<30k\",\"30k_45k\",\\\n",
        "                                 \"30k_45k\",\">45k\",\"30k_45k\",\">45k\",\">45k\",\"30k_45k\",\">45k\",\">45k\",\\\n",
        "                                 '30k_45k','>45k','30k_45k','30k_45k','30k_45k','30k_45k','30k_45k',\\\n",
        "                                 '>45k','>45k','>45k','>45k','>45k','>45k','>45k','>45k','>45k','>45k','>45k','>45k',\\\n",
        "                                 '>45k','<30k','<30k','<30k']})\n",
        "GDP_cluster\n",
        "\n",
        "users=pd.merge(users,GDP_cluster,how=\"left\",on=\"country\")\n",
        "users.head()"
      ],
      "execution_count": 11,
      "outputs": [
        {
          "output_type": "execute_result",
          "data": {
            "text/html": [
              "<div>\n",
              "<style scoped>\n",
              "    .dataframe tbody tr th:only-of-type {\n",
              "        vertical-align: middle;\n",
              "    }\n",
              "\n",
              "    .dataframe tbody tr th {\n",
              "        vertical-align: top;\n",
              "    }\n",
              "\n",
              "    .dataframe thead th {\n",
              "        text-align: right;\n",
              "    }\n",
              "</style>\n",
              "<table border=\"1\" class=\"dataframe\">\n",
              "  <thead>\n",
              "    <tr style=\"text-align: right;\">\n",
              "      <th></th>\n",
              "      <th>user_id</th>\n",
              "      <th>birth_year</th>\n",
              "      <th>country</th>\n",
              "      <th>city</th>\n",
              "      <th>created_date</th>\n",
              "      <th>user_settings_crypto_unlocked</th>\n",
              "      <th>attributes_notifications_marketing_push</th>\n",
              "      <th>attributes_notifications_marketing_email</th>\n",
              "      <th>num_contacts</th>\n",
              "      <th>num_referrals</th>\n",
              "      <th>num_successful_referrals</th>\n",
              "      <th>user_age</th>\n",
              "      <th>date_created</th>\n",
              "      <th>subscription_days</th>\n",
              "      <th>grouped_plan</th>\n",
              "      <th>Cluster</th>\n",
              "      <th>GDP_per_capita</th>\n",
              "    </tr>\n",
              "  </thead>\n",
              "  <tbody>\n",
              "    <tr>\n",
              "      <th>0</th>\n",
              "      <td>user_0</td>\n",
              "      <td>1992</td>\n",
              "      <td>ES</td>\n",
              "      <td>Madrid</td>\n",
              "      <td>2018-09-10 18:46:42.843855</td>\n",
              "      <td>0</td>\n",
              "      <td>1.0</td>\n",
              "      <td>1.0</td>\n",
              "      <td>3</td>\n",
              "      <td>0</td>\n",
              "      <td>0</td>\n",
              "      <td>28</td>\n",
              "      <td>2018-09-10 18:46:42.843855</td>\n",
              "      <td>636</td>\n",
              "      <td>0.0</td>\n",
              "      <td>S_EU</td>\n",
              "      <td>30k_45k</td>\n",
              "    </tr>\n",
              "    <tr>\n",
              "      <th>1</th>\n",
              "      <td>user_1</td>\n",
              "      <td>1985</td>\n",
              "      <td>LT</td>\n",
              "      <td>Klaipeda</td>\n",
              "      <td>2018-01-11 18:53:10.531146</td>\n",
              "      <td>1</td>\n",
              "      <td>NaN</td>\n",
              "      <td>NaN</td>\n",
              "      <td>75</td>\n",
              "      <td>0</td>\n",
              "      <td>0</td>\n",
              "      <td>35</td>\n",
              "      <td>2018-01-11 18:53:10.531146</td>\n",
              "      <td>878</td>\n",
              "      <td>0.0</td>\n",
              "      <td>N_EU</td>\n",
              "      <td>30k_45k</td>\n",
              "    </tr>\n",
              "    <tr>\n",
              "      <th>2</th>\n",
              "      <td>user_2</td>\n",
              "      <td>1996</td>\n",
              "      <td>IE</td>\n",
              "      <td>Carrickmacross</td>\n",
              "      <td>2018-11-29 17:29:16.879324</td>\n",
              "      <td>0</td>\n",
              "      <td>NaN</td>\n",
              "      <td>NaN</td>\n",
              "      <td>71</td>\n",
              "      <td>0</td>\n",
              "      <td>0</td>\n",
              "      <td>24</td>\n",
              "      <td>2018-11-29 17:29:16.879324</td>\n",
              "      <td>557</td>\n",
              "      <td>0.0</td>\n",
              "      <td>W_EU</td>\n",
              "      <td>&gt;45k</td>\n",
              "    </tr>\n",
              "    <tr>\n",
              "      <th>3</th>\n",
              "      <td>user_3</td>\n",
              "      <td>1981</td>\n",
              "      <td>IE</td>\n",
              "      <td>Dublin</td>\n",
              "      <td>2018-02-17 11:58:08.319664</td>\n",
              "      <td>0</td>\n",
              "      <td>NaN</td>\n",
              "      <td>NaN</td>\n",
              "      <td>219</td>\n",
              "      <td>0</td>\n",
              "      <td>0</td>\n",
              "      <td>39</td>\n",
              "      <td>2018-02-17 11:58:08.319664</td>\n",
              "      <td>842</td>\n",
              "      <td>0.0</td>\n",
              "      <td>W_EU</td>\n",
              "      <td>&gt;45k</td>\n",
              "    </tr>\n",
              "    <tr>\n",
              "      <th>4</th>\n",
              "      <td>user_4</td>\n",
              "      <td>1992</td>\n",
              "      <td>GB</td>\n",
              "      <td>London</td>\n",
              "      <td>2018-01-08 18:40:21.097856</td>\n",
              "      <td>0</td>\n",
              "      <td>NaN</td>\n",
              "      <td>NaN</td>\n",
              "      <td>0</td>\n",
              "      <td>0</td>\n",
              "      <td>0</td>\n",
              "      <td>28</td>\n",
              "      <td>2018-01-08 18:40:21.097856</td>\n",
              "      <td>881</td>\n",
              "      <td>0.0</td>\n",
              "      <td>W_EU</td>\n",
              "      <td>&gt;45k</td>\n",
              "    </tr>\n",
              "  </tbody>\n",
              "</table>\n",
              "</div>"
            ],
            "text/plain": [
              "  user_id  birth_year country  ... grouped_plan Cluster  GDP_per_capita\n",
              "0  user_0        1992      ES  ...          0.0    S_EU         30k_45k\n",
              "1  user_1        1985      LT  ...          0.0    N_EU         30k_45k\n",
              "2  user_2        1996      IE  ...          0.0    W_EU            >45k\n",
              "3  user_3        1981      IE  ...          0.0    W_EU            >45k\n",
              "4  user_4        1992      GB  ...          0.0    W_EU            >45k\n",
              "\n",
              "[5 rows x 17 columns]"
            ]
          },
          "metadata": {
            "tags": []
          },
          "execution_count": 11
        }
      ]
    },
    {
      "cell_type": "code",
      "metadata": {
        "id": "4Z-eHksyURDf",
        "colab_type": "code",
        "outputId": "05945eb1-d838-4ee0-e222-4be4c242636b",
        "colab": {
          "base_uri": "https://localhost:8080/",
          "height": 0
        }
      },
      "source": [
        "#Age clustering\n",
        "users['age_group'] = pd.cut(users[\"user_age\"], bins=[0,35,50,65,130], labels=['Early Adult','LowMid Adult', \"UpMid Adult\" ,'Pensioner'], right=False)\n",
        "users['age_group'].value_counts()"
      ],
      "execution_count": 12,
      "outputs": [
        {
          "output_type": "execute_result",
          "data": {
            "text/plain": [
              "Early Adult     8341\n",
              "LowMid Adult    5026\n",
              "UpMid Adult     1795\n",
              "Pensioner        382\n",
              "Name: age_group, dtype: int64"
            ]
          },
          "metadata": {
            "tags": []
          },
          "execution_count": 12
        }
      ]
    },
    {
      "cell_type": "markdown",
      "metadata": {
        "id": "Zx7B0wuPw4SK",
        "colab_type": "text"
      },
      "source": [
        "###Plots *To Check and create more*"
      ]
    },
    {
      "cell_type": "code",
      "metadata": {
        "id": "3JAGd4Nky-0S",
        "colab_type": "code",
        "outputId": "a50d476f-d3c0-4451-946c-09fb5d68fbcc",
        "colab": {
          "base_uri": "https://localhost:8080/",
          "height": 0
        }
      },
      "source": [
        "#Users subscribed per country\n",
        "plot_pivot=users.pivot_table(values=\"birth_year\",columns=\"grouped_plan\",index=\"country\",aggfunc=\"count\",margins=\"grand total\",\\\n",
        "                             fill_value=0)\n",
        "plot_pivot=pd.DataFrame(plot_pivot.to_records())\n",
        "#print(plot_pivot)\n",
        "plt.figure(figsize=(20,5))\n",
        "\n",
        "width=0.5\n",
        "x = np.arange(len(plot_pivot['country']))\n",
        "fig, ax = plt.subplots(1,1,figsize=(30,10))\n",
        "rects1 = ax.bar(x - width/2, plot_pivot['0.0'], width, label='Standard')\n",
        "rects2 = ax.bar(x + width/2, plot_pivot['1.0'], width, label='Paid')\n",
        "ax.set_xticklabels(plot_pivot['country'])\n",
        "ax.legend()"
      ],
      "execution_count": 13,
      "outputs": [
        {
          "output_type": "execute_result",
          "data": {
            "text/plain": [
              "<matplotlib.legend.Legend at 0x7f20de711588>"
            ]
          },
          "metadata": {
            "tags": []
          },
          "execution_count": 13
        },
        {
          "output_type": "display_data",
          "data": {
            "text/plain": [
              "<Figure size 1440x360 with 0 Axes>"
            ]
          },
          "metadata": {
            "tags": []
          }
        },
        {
          "output_type": "display_data",
          "data": {
            "image/png": "[encoded data removed]",
            "text/plain": [
              "<Figure size 2160x720 with 1 Axes>"
            ]
          },
          "metadata": {
            "tags": [],
            "needs_background": "light"
          }
        }
      ]
    },
    {
      "cell_type": "code",
      "metadata": {
        "id": "yfkh_8lwErZX",
        "colab_type": "code",
        "outputId": "5d1046c8-7640-42d0-b2ed-c1e6c9468191",
        "colab": {
          "base_uri": "https://localhost:8080/",
          "height": 0
        }
      },
      "source": [
        "#Users subscribed per country cluster\n",
        "plot_pivot=users.pivot_table(values=\"birth_year\",columns=\"grouped_plan\",index=\"Cluster\",aggfunc=\"count\",\\\n",
        "                             fill_value=0)\n",
        "plot_pivot=pd.DataFrame(plot_pivot.to_records())\n",
        "print(plot_pivot)\n",
        "\n",
        "plt.figure(figsize=(20,5))\n",
        "\n",
        "labels=plot_pivot['Cluster'].values.tolist()\n",
        "\n",
        "width=0.5\n",
        "x = np.arange(len(plot_pivot['Cluster']))\n",
        "fig, ax = plt.subplots(1,1,figsize=(30,10))\n",
        "rects1 = ax.bar(x - width/2, plot_pivot[\"0.0\"], width, label='STANDARD',tick_label=labels)\n",
        "rects2 = ax.bar(x + width/2, plot_pivot[\"1.0\"], width, label='PAID')\n",
        "ax.legend()"
      ],
      "execution_count": 14,
      "outputs": [
        {
          "output_type": "stream",
          "text": [
            "  Cluster   0.0  1.0\n",
            "0  CEE_EU  3174  208\n",
            "1    N_EU   929   69\n",
            "2  Non_EU    18    5\n",
            "3    S_EU  2179  141\n",
            "4    W_EU  8094  727\n"
          ],
          "name": "stdout"
        },
        {
          "output_type": "execute_result",
          "data": {
            "text/plain": [
              "<matplotlib.legend.Legend at 0x7f20de180438>"
            ]
          },
          "metadata": {
            "tags": []
          },
          "execution_count": 14
        },
        {
          "output_type": "display_data",
          "data": {
            "text/plain": [
              "<Figure size 1440x360 with 0 Axes>"
            ]
          },
          "metadata": {
            "tags": []
          }
        },
        {
          "output_type": "display_data",
          "data": {
            "image/png": "[encoded data removed]",
            "text/plain": [
              "<Figure size 2160x720 with 1 Axes>"
            ]
          },
          "metadata": {
            "tags": [],
            "needs_background": "light"
          }
        }
      ]
    },
    {
      "cell_type": "code",
      "metadata": {
        "id": "-NhlMPYcVCxt",
        "colab_type": "code",
        "outputId": "1723aa7b-59e1-4aea-df95-adcc229a06c3",
        "colab": {
          "base_uri": "https://localhost:8080/",
          "height": 0
        }
      },
      "source": [
        "#Users subscribed per country cluster\n",
        "plot_pivot=users.pivot_table(values=\"birth_year\",columns=\"grouped_plan\",index=\"age_group\",aggfunc=\"count\",\\\n",
        "                             fill_value=0)\n",
        "\n",
        "plot_pivot"
      ],
      "execution_count": 15,
      "outputs": [
        {
          "output_type": "execute_result",
          "data": {
            "text/html": [
              "<div>\n",
              "<style scoped>\n",
              "    .dataframe tbody tr th:only-of-type {\n",
              "        vertical-align: middle;\n",
              "    }\n",
              "\n",
              "    .dataframe tbody tr th {\n",
              "        vertical-align: top;\n",
              "    }\n",
              "\n",
              "    .dataframe thead th {\n",
              "        text-align: right;\n",
              "    }\n",
              "</style>\n",
              "<table border=\"1\" class=\"dataframe\">\n",
              "  <thead>\n",
              "    <tr style=\"text-align: right;\">\n",
              "      <th>grouped_plan</th>\n",
              "      <th>0.0</th>\n",
              "      <th>1.0</th>\n",
              "    </tr>\n",
              "    <tr>\n",
              "      <th>age_group</th>\n",
              "      <th></th>\n",
              "      <th></th>\n",
              "    </tr>\n",
              "  </thead>\n",
              "  <tbody>\n",
              "    <tr>\n",
              "      <th>Early Adult</th>\n",
              "      <td>7800</td>\n",
              "      <td>541</td>\n",
              "    </tr>\n",
              "    <tr>\n",
              "      <th>LowMid Adult</th>\n",
              "      <td>4603</td>\n",
              "      <td>423</td>\n",
              "    </tr>\n",
              "    <tr>\n",
              "      <th>UpMid Adult</th>\n",
              "      <td>1639</td>\n",
              "      <td>156</td>\n",
              "    </tr>\n",
              "    <tr>\n",
              "      <th>Pensioner</th>\n",
              "      <td>352</td>\n",
              "      <td>30</td>\n",
              "    </tr>\n",
              "  </tbody>\n",
              "</table>\n",
              "</div>"
            ],
            "text/plain": [
              "grouped_plan   0.0  1.0\n",
              "age_group              \n",
              "Early Adult   7800  541\n",
              "LowMid Adult  4603  423\n",
              "UpMid Adult   1639  156\n",
              "Pensioner      352   30"
            ]
          },
          "metadata": {
            "tags": []
          },
          "execution_count": 15
        }
      ]
    },
    {
      "cell_type": "markdown",
      "metadata": {
        "id": "GRjF4Hrqm0fA",
        "colab_type": "text"
      },
      "source": [
        "##Devices File"
      ]
    },
    {
      "cell_type": "code",
      "metadata": {
        "id": "QW7d7tFl8Xyy",
        "colab_type": "code",
        "colab": {}
      },
      "source": [
        "dev=dev1"
      ],
      "execution_count": 0,
      "outputs": []
    },
    {
      "cell_type": "code",
      "metadata": {
        "id": "A72beEdVlco6",
        "colab_type": "code",
        "outputId": "359c7f23-0123-4c34-9bb3-dc47b22f0852",
        "colab": {
          "base_uri": "https://localhost:8080/",
          "height": 0
        }
      },
      "source": [
        "test_pivot=dev.pivot_table(values=\"user_id\",index=\"brand\",aggfunc=\"count\",margins=\"rows grand total\")\n",
        "print(dev.shape)\n",
        "test_pivot"
      ],
      "execution_count": 17,
      "outputs": [
        {
          "output_type": "stream",
          "text": [
            "(15544, 2)\n"
          ],
          "name": "stdout"
        },
        {
          "output_type": "execute_result",
          "data": {
            "text/html": [
              "<div>\n",
              "<style scoped>\n",
              "    .dataframe tbody tr th:only-of-type {\n",
              "        vertical-align: middle;\n",
              "    }\n",
              "\n",
              "    .dataframe tbody tr th {\n",
              "        vertical-align: top;\n",
              "    }\n",
              "\n",
              "    .dataframe thead th {\n",
              "        text-align: right;\n",
              "    }\n",
              "</style>\n",
              "<table border=\"1\" class=\"dataframe\">\n",
              "  <thead>\n",
              "    <tr style=\"text-align: right;\">\n",
              "      <th></th>\n",
              "      <th>user_id</th>\n",
              "    </tr>\n",
              "    <tr>\n",
              "      <th>brand</th>\n",
              "      <th></th>\n",
              "    </tr>\n",
              "  </thead>\n",
              "  <tbody>\n",
              "    <tr>\n",
              "      <th>Android</th>\n",
              "      <td>7800</td>\n",
              "    </tr>\n",
              "    <tr>\n",
              "      <th>Apple</th>\n",
              "      <td>7712</td>\n",
              "    </tr>\n",
              "    <tr>\n",
              "      <th>Unknown</th>\n",
              "      <td>32</td>\n",
              "    </tr>\n",
              "    <tr>\n",
              "      <th>All</th>\n",
              "      <td>15544</td>\n",
              "    </tr>\n",
              "  </tbody>\n",
              "</table>\n",
              "</div>"
            ],
            "text/plain": [
              "         user_id\n",
              "brand           \n",
              "Android     7800\n",
              "Apple       7712\n",
              "Unknown       32\n",
              "All        15544"
            ]
          },
          "metadata": {
            "tags": []
          },
          "execution_count": 17
        }
      ]
    },
    {
      "cell_type": "code",
      "metadata": {
        "id": "g8uh_rjQt_VF",
        "colab_type": "code",
        "outputId": "26cc4f77-b841-4c26-fb96-b4cd66db8639",
        "colab": {
          "base_uri": "https://localhost:8080/",
          "height": 0
        }
      },
      "source": [
        "#Create Apple or not column\n",
        "dev.loc[dev['brand']== \"Apple\", 'Brand_Apple'] = 1 \n",
        "dev.loc[dev['brand']!= \"Apple\", 'Brand_Apple'] = 0\n",
        "dev.tail() "
      ],
      "execution_count": 18,
      "outputs": [
        {
          "output_type": "execute_result",
          "data": {
            "text/html": [
              "<div>\n",
              "<style scoped>\n",
              "    .dataframe tbody tr th:only-of-type {\n",
              "        vertical-align: middle;\n",
              "    }\n",
              "\n",
              "    .dataframe tbody tr th {\n",
              "        vertical-align: top;\n",
              "    }\n",
              "\n",
              "    .dataframe thead th {\n",
              "        text-align: right;\n",
              "    }\n",
              "</style>\n",
              "<table border=\"1\" class=\"dataframe\">\n",
              "  <thead>\n",
              "    <tr style=\"text-align: right;\">\n",
              "      <th></th>\n",
              "      <th>brand</th>\n",
              "      <th>user_id</th>\n",
              "      <th>Brand_Apple</th>\n",
              "    </tr>\n",
              "  </thead>\n",
              "  <tbody>\n",
              "    <tr>\n",
              "      <th>15539</th>\n",
              "      <td>Android</td>\n",
              "      <td>user_15539</td>\n",
              "      <td>0.0</td>\n",
              "    </tr>\n",
              "    <tr>\n",
              "      <th>15540</th>\n",
              "      <td>Apple</td>\n",
              "      <td>user_15540</td>\n",
              "      <td>1.0</td>\n",
              "    </tr>\n",
              "    <tr>\n",
              "      <th>15541</th>\n",
              "      <td>Android</td>\n",
              "      <td>user_15541</td>\n",
              "      <td>0.0</td>\n",
              "    </tr>\n",
              "    <tr>\n",
              "      <th>15542</th>\n",
              "      <td>Apple</td>\n",
              "      <td>user_15542</td>\n",
              "      <td>1.0</td>\n",
              "    </tr>\n",
              "    <tr>\n",
              "      <th>15543</th>\n",
              "      <td>Android</td>\n",
              "      <td>user_15543</td>\n",
              "      <td>0.0</td>\n",
              "    </tr>\n",
              "  </tbody>\n",
              "</table>\n",
              "</div>"
            ],
            "text/plain": [
              "         brand     user_id  Brand_Apple\n",
              "15539  Android  user_15539          0.0\n",
              "15540    Apple  user_15540          1.0\n",
              "15541  Android  user_15541          0.0\n",
              "15542    Apple  user_15542          1.0\n",
              "15543  Android  user_15543          0.0"
            ]
          },
          "metadata": {
            "tags": []
          },
          "execution_count": 18
        }
      ]
    },
    {
      "cell_type": "markdown",
      "metadata": {
        "id": "_UQkweFhnyes",
        "colab_type": "text"
      },
      "source": [
        "###Plot *To Check and create more*"
      ]
    },
    {
      "cell_type": "code",
      "metadata": {
        "id": "f27P7AtynRsk",
        "colab_type": "code",
        "outputId": "2ad69c2f-ac97-4993-ef65-58d2ee72e841",
        "colab": {
          "base_uri": "https://localhost:8080/",
          "height": 0
        }
      },
      "source": [
        "#Brand per subscription type\n",
        "plot_merge=pd.merge(users,dev,how=\"left\",on=\"user_id\")\n",
        "plot_pivot=plot_merge.pivot_table(values=\"user_id\",index=\"Brand_Apple\",columns=\"grouped_plan\",aggfunc=\"count\")\n",
        "plot_pivot=pd.DataFrame(plot_pivot.to_records())\n",
        "print(plot_pivot)\n",
        "\n",
        "width=0.5\n",
        "x = np.arange(len(plot_pivot['Brand_Apple']))\n",
        "fig, ax = plt.subplots(1,1,figsize=(10,5))\n",
        "rects1 = ax.bar(x - width/2, plot_pivot['1.0'], width, label='PAID',tick_label=plot_pivot['Brand_Apple'].values.tolist())\n",
        "rects2 = ax.bar(x + width/2, plot_pivot['0.0'], width, label='STANDARD')\n",
        "ax.set_xticklabels(plot_pivot['Brand_Apple'])\n",
        "ax.legend()"
      ],
      "execution_count": 19,
      "outputs": [
        {
          "output_type": "stream",
          "text": [
            "   Brand_Apple   0.0  1.0\n",
            "0          0.0  7369  463\n",
            "1          1.0  7025  687\n"
          ],
          "name": "stdout"
        },
        {
          "output_type": "execute_result",
          "data": {
            "text/plain": [
              "<matplotlib.legend.Legend at 0x7f20de0fd518>"
            ]
          },
          "metadata": {
            "tags": []
          },
          "execution_count": 19
        },
        {
          "output_type": "display_data",
          "data": {
            "image/png": "[encoded data removed]",
            "text/plain": [
              "<Figure size 720x360 with 1 Axes>"
            ]
          },
          "metadata": {
            "tags": [],
            "needs_background": "light"
          }
        }
      ]
    },
    {
      "cell_type": "markdown",
      "metadata": {
        "id": "sfrNR0l3t424",
        "colab_type": "text"
      },
      "source": [
        "##Notifications File"
      ]
    },
    {
      "cell_type": "code",
      "metadata": {
        "id": "0mtHtbgQ8P_r",
        "colab_type": "code",
        "colab": {}
      },
      "source": [
        "ntf=ntf_1"
      ],
      "execution_count": 0,
      "outputs": []
    },
    {
      "cell_type": "code",
      "metadata": {
        "id": "mfMQk327sMtj",
        "colab_type": "code",
        "outputId": "93054bc7-5139-4583-8e56-d3b96a1de84d",
        "colab": {
          "base_uri": "https://localhost:8080/",
          "height": 0
        }
      },
      "source": [
        "ntf.columns"
      ],
      "execution_count": 21,
      "outputs": [
        {
          "output_type": "execute_result",
          "data": {
            "text/plain": [
              "Index(['reason', 'channel', 'status', 'user_id', 'created_date'], dtype='object')"
            ]
          },
          "metadata": {
            "tags": []
          },
          "execution_count": 21
        }
      ]
    },
    {
      "cell_type": "code",
      "metadata": {
        "id": "zDPFlRns_kS5",
        "colab_type": "code",
        "colab": {
          "base_uri": "https://localhost:8080/",
          "height": 0
        },
        "outputId": "69d59f2e-0a71-48bf-d26c-1e35ea759edf"
      },
      "source": [
        "colnames=ntf.columns\n",
        "df=pd.DataFrame(columns=[\"Column\",\"NumOfMissingVal\",\"UniqueVal\"])\n",
        "for cn in colnames:\n",
        "  df=df.append({\"Column\" : cn,\"NumOfMissingVal\": sum(pd.isna(ntf[cn])),\"UniqueVal\":len(ntf[cn].unique())},ignore_index=True)\n",
        "\n",
        "df"
      ],
      "execution_count": 22,
      "outputs": [
        {
          "output_type": "execute_result",
          "data": {
            "text/html": [
              "<div>\n",
              "<style scoped>\n",
              "    .dataframe tbody tr th:only-of-type {\n",
              "        vertical-align: middle;\n",
              "    }\n",
              "\n",
              "    .dataframe tbody tr th {\n",
              "        vertical-align: top;\n",
              "    }\n",
              "\n",
              "    .dataframe thead th {\n",
              "        text-align: right;\n",
              "    }\n",
              "</style>\n",
              "<table border=\"1\" class=\"dataframe\">\n",
              "  <thead>\n",
              "    <tr style=\"text-align: right;\">\n",
              "      <th></th>\n",
              "      <th>Column</th>\n",
              "      <th>NumOfMissingVal</th>\n",
              "      <th>UniqueVal</th>\n",
              "    </tr>\n",
              "  </thead>\n",
              "  <tbody>\n",
              "    <tr>\n",
              "      <th>0</th>\n",
              "      <td>reason</td>\n",
              "      <td>0</td>\n",
              "      <td>17</td>\n",
              "    </tr>\n",
              "    <tr>\n",
              "      <th>1</th>\n",
              "      <td>channel</td>\n",
              "      <td>0</td>\n",
              "      <td>3</td>\n",
              "    </tr>\n",
              "    <tr>\n",
              "      <th>2</th>\n",
              "      <td>status</td>\n",
              "      <td>0</td>\n",
              "      <td>2</td>\n",
              "    </tr>\n",
              "    <tr>\n",
              "      <th>3</th>\n",
              "      <td>user_id</td>\n",
              "      <td>0</td>\n",
              "      <td>15156</td>\n",
              "    </tr>\n",
              "    <tr>\n",
              "      <th>4</th>\n",
              "      <td>created_date</td>\n",
              "      <td>0</td>\n",
              "      <td>97701</td>\n",
              "    </tr>\n",
              "  </tbody>\n",
              "</table>\n",
              "</div>"
            ],
            "text/plain": [
              "         Column NumOfMissingVal UniqueVal\n",
              "0        reason               0        17\n",
              "1       channel               0         3\n",
              "2        status               0         2\n",
              "3       user_id               0     15156\n",
              "4  created_date               0     97701"
            ]
          },
          "metadata": {
            "tags": []
          },
          "execution_count": 22
        }
      ]
    },
    {
      "cell_type": "code",
      "metadata": {
        "id": "iG4J9Lr9aVae",
        "colab_type": "code",
        "outputId": "48c15905-e7bc-4475-f6ad-79890637483f",
        "colab": {
          "base_uri": "https://localhost:8080/",
          "height": 0
        }
      },
      "source": [
        "ntf['status'].value_counts()"
      ],
      "execution_count": 23,
      "outputs": [
        {
          "output_type": "execute_result",
          "data": {
            "text/plain": [
              "SENT      71693\n",
              "FAILED    26011\n",
              "Name: status, dtype: int64"
            ]
          },
          "metadata": {
            "tags": []
          },
          "execution_count": 23
        }
      ]
    },
    {
      "cell_type": "code",
      "metadata": {
        "id": "3GpaDCqodRmF",
        "colab_type": "code",
        "outputId": "e0726850-228e-415b-9ad8-4423998238c5",
        "colab": {
          "base_uri": "https://localhost:8080/",
          "height": 0
        }
      },
      "source": [
        "ntf['reason'].value_counts()"
      ],
      "execution_count": 24,
      "outputs": [
        {
          "output_type": "execute_result",
          "data": {
            "text/plain": [
              "REENGAGEMENT_ACTIVE_FUNDS            28832\n",
              "PROMO                                18987\n",
              "NO_INITIAL_CARD_ORDER                 9071\n",
              "NO_INITIAL_CARD_USE                   9035\n",
              "INVEST_IN_GOLD                        6649\n",
              "LOST_CARD_ORDER                       4941\n",
              "PROMO_CARD_ORDER                      4358\n",
              "JOINING_ANNIVERSARY                   3334\n",
              "MADE_MONEY_REQUEST_NOT_SPLIT_BILL     2851\n",
              "ONBOARDING_TIPS_ACTIVATED_USERS       2423\n",
              "ENGAGEMENT_SPLIT_BILL_RESTAURANT      1834\n",
              "BLACK_FRIDAY                          1681\n",
              "METAL_RESERVE_PLAN                     950\n",
              "SILVER_ENGAGEMENT_INACTIVE_CARD        896\n",
              "WELCOME_BACK                           779\n",
              "BLUE_TUESDAY                           555\n",
              "SILVER_ENGAGEMENT_FEES_SAVED           528\n",
              "Name: reason, dtype: int64"
            ]
          },
          "metadata": {
            "tags": []
          },
          "execution_count": 24
        }
      ]
    },
    {
      "cell_type": "code",
      "metadata": {
        "id": "5x5ZXvkc74QJ",
        "colab_type": "code",
        "colab": {
          "base_uri": "https://localhost:8080/",
          "height": 0
        },
        "outputId": "6e647a1b-f002-4436-9b0e-3ef7e1295e7e"
      },
      "source": [
        "ntf_status=ntf.pivot_table(index=\"user_id\",columns=\"status\",values=\"channel\",aggfunc=\"count\",fill_value=0)\n",
        "ntf_status.head()"
      ],
      "execution_count": 25,
      "outputs": [
        {
          "output_type": "execute_result",
          "data": {
            "text/html": [
              "<div>\n",
              "<style scoped>\n",
              "    .dataframe tbody tr th:only-of-type {\n",
              "        vertical-align: middle;\n",
              "    }\n",
              "\n",
              "    .dataframe tbody tr th {\n",
              "        vertical-align: top;\n",
              "    }\n",
              "\n",
              "    .dataframe thead th {\n",
              "        text-align: right;\n",
              "    }\n",
              "</style>\n",
              "<table border=\"1\" class=\"dataframe\">\n",
              "  <thead>\n",
              "    <tr style=\"text-align: right;\">\n",
              "      <th>status</th>\n",
              "      <th>FAILED</th>\n",
              "      <th>SENT</th>\n",
              "    </tr>\n",
              "    <tr>\n",
              "      <th>user_id</th>\n",
              "      <th></th>\n",
              "      <th></th>\n",
              "    </tr>\n",
              "  </thead>\n",
              "  <tbody>\n",
              "    <tr>\n",
              "      <th>user_0</th>\n",
              "      <td>0</td>\n",
              "      <td>8</td>\n",
              "    </tr>\n",
              "    <tr>\n",
              "      <th>user_1</th>\n",
              "      <td>5</td>\n",
              "      <td>10</td>\n",
              "    </tr>\n",
              "    <tr>\n",
              "      <th>user_10</th>\n",
              "      <td>0</td>\n",
              "      <td>8</td>\n",
              "    </tr>\n",
              "    <tr>\n",
              "      <th>user_100</th>\n",
              "      <td>0</td>\n",
              "      <td>5</td>\n",
              "    </tr>\n",
              "    <tr>\n",
              "      <th>user_1000</th>\n",
              "      <td>0</td>\n",
              "      <td>1</td>\n",
              "    </tr>\n",
              "  </tbody>\n",
              "</table>\n",
              "</div>"
            ],
            "text/plain": [
              "status     FAILED  SENT\n",
              "user_id                \n",
              "user_0          0     8\n",
              "user_1          5    10\n",
              "user_10         0     8\n",
              "user_100        0     5\n",
              "user_1000       0     1"
            ]
          },
          "metadata": {
            "tags": []
          },
          "execution_count": 25
        }
      ]
    },
    {
      "cell_type": "code",
      "metadata": {
        "id": "nQ4jdBkM-GNu",
        "colab_type": "code",
        "colab": {
          "base_uri": "https://localhost:8080/",
          "height": 0
        },
        "outputId": "a4367519-46c8-49ba-87eb-a8068ed4a545"
      },
      "source": [
        "ntf=ntf[ntf.status==\"SENT\"]\n",
        "ntf.status.value_counts()"
      ],
      "execution_count": 26,
      "outputs": [
        {
          "output_type": "execute_result",
          "data": {
            "text/plain": [
              "SENT    71693\n",
              "Name: status, dtype: int64"
            ]
          },
          "metadata": {
            "tags": []
          },
          "execution_count": 26
        }
      ]
    },
    {
      "cell_type": "code",
      "metadata": {
        "id": "shDCnJiFdpir",
        "colab_type": "code",
        "outputId": "3e765aed-808c-4e51-e36f-0344967a201d",
        "colab": {
          "base_uri": "https://localhost:8080/",
          "height": 0
        }
      },
      "source": [
        "ntf_reason_cluster=pd.DataFrame({\"Useful_Ntf\":[1,0,1,1,0,1,0,0,1,1,1,0,1,1,0,0,1],\\\n",
        "                                \"reason\":\\\n",
        "                                ['REENGAGEMENT_ACTIVE_FUNDS','PROMO','NO_INITIAL_CARD_ORDER','NO_INITIAL_CARD_USE',\\\n",
        "                                'INVEST_IN_GOLD','LOST_CARD_ORDER','PROMO_CARD_ORDER','JOINING_ANNIVERSARY',\\\n",
        "                                'MADE_MONEY_REQUEST_NOT_SPLIT_BILL','ONBOARDING_TIPS_ACTIVATED_USERS','ENGAGEMENT_SPLIT_BILL_RESTAURANT',\\\n",
        "                                'BLACK_FRIDAY','METAL_RESERVE_PLAN','SILVER_ENGAGEMENT_INACTIVE_CARD','WELCOME_BACK',\\\n",
        "                                'BLUE_TUESDAY','SILVER_ENGAGEMENT_FEES_SAVED']})\n",
        "ntf_reason_cluster\n",
        "\n",
        "ntf=pd.merge(ntf,ntf_reason_cluster,how=\"left\",on=\"reason\")\n",
        "ntf.head()"
      ],
      "execution_count": 27,
      "outputs": [
        {
          "output_type": "execute_result",
          "data": {
            "text/html": [
              "<div>\n",
              "<style scoped>\n",
              "    .dataframe tbody tr th:only-of-type {\n",
              "        vertical-align: middle;\n",
              "    }\n",
              "\n",
              "    .dataframe tbody tr th {\n",
              "        vertical-align: top;\n",
              "    }\n",
              "\n",
              "    .dataframe thead th {\n",
              "        text-align: right;\n",
              "    }\n",
              "</style>\n",
              "<table border=\"1\" class=\"dataframe\">\n",
              "  <thead>\n",
              "    <tr style=\"text-align: right;\">\n",
              "      <th></th>\n",
              "      <th>reason</th>\n",
              "      <th>channel</th>\n",
              "      <th>status</th>\n",
              "      <th>user_id</th>\n",
              "      <th>created_date</th>\n",
              "      <th>Useful_Ntf</th>\n",
              "    </tr>\n",
              "  </thead>\n",
              "  <tbody>\n",
              "    <tr>\n",
              "      <th>0</th>\n",
              "      <td>REENGAGEMENT_ACTIVE_FUNDS</td>\n",
              "      <td>PUSH</td>\n",
              "      <td>SENT</td>\n",
              "      <td>user_1252</td>\n",
              "      <td>2018-12-02 17:58:33.320645</td>\n",
              "      <td>1</td>\n",
              "    </tr>\n",
              "    <tr>\n",
              "      <th>1</th>\n",
              "      <td>REENGAGEMENT_ACTIVE_FUNDS</td>\n",
              "      <td>PUSH</td>\n",
              "      <td>SENT</td>\n",
              "      <td>user_12783</td>\n",
              "      <td>2018-12-01 23:09:37.367127</td>\n",
              "      <td>1</td>\n",
              "    </tr>\n",
              "    <tr>\n",
              "      <th>2</th>\n",
              "      <td>REENGAGEMENT_ACTIVE_FUNDS</td>\n",
              "      <td>PUSH</td>\n",
              "      <td>SENT</td>\n",
              "      <td>user_10244</td>\n",
              "      <td>2018-12-04 02:57:56.425660</td>\n",
              "      <td>1</td>\n",
              "    </tr>\n",
              "    <tr>\n",
              "      <th>3</th>\n",
              "      <td>REENGAGEMENT_ACTIVE_FUNDS</td>\n",
              "      <td>PUSH</td>\n",
              "      <td>SENT</td>\n",
              "      <td>user_14486</td>\n",
              "      <td>2018-12-14 17:09:58.900808</td>\n",
              "      <td>1</td>\n",
              "    </tr>\n",
              "    <tr>\n",
              "      <th>4</th>\n",
              "      <td>REENGAGEMENT_ACTIVE_FUNDS</td>\n",
              "      <td>PUSH</td>\n",
              "      <td>SENT</td>\n",
              "      <td>user_28</td>\n",
              "      <td>2018-12-11 12:42:59.718574</td>\n",
              "      <td>1</td>\n",
              "    </tr>\n",
              "  </tbody>\n",
              "</table>\n",
              "</div>"
            ],
            "text/plain": [
              "                      reason channel  ...                created_date Useful_Ntf\n",
              "0  REENGAGEMENT_ACTIVE_FUNDS    PUSH  ...  2018-12-02 17:58:33.320645          1\n",
              "1  REENGAGEMENT_ACTIVE_FUNDS    PUSH  ...  2018-12-01 23:09:37.367127          1\n",
              "2  REENGAGEMENT_ACTIVE_FUNDS    PUSH  ...  2018-12-04 02:57:56.425660          1\n",
              "3  REENGAGEMENT_ACTIVE_FUNDS    PUSH  ...  2018-12-14 17:09:58.900808          1\n",
              "4  REENGAGEMENT_ACTIVE_FUNDS    PUSH  ...  2018-12-11 12:42:59.718574          1\n",
              "\n",
              "[5 rows x 6 columns]"
            ]
          },
          "metadata": {
            "tags": []
          },
          "execution_count": 27
        }
      ]
    },
    {
      "cell_type": "code",
      "metadata": {
        "id": "b4e5nLJqdIim",
        "colab_type": "code",
        "outputId": "7996c5ea-aae6-47a8-b8ce-f93aa4b8c0ea",
        "colab": {
          "base_uri": "https://localhost:8080/",
          "height": 0
        }
      },
      "source": [
        "ntf_reason_cluster=pd.DataFrame({\"Mostly_paid_notif\":[0,0,0,0,0,0,0,0,0,0,0,0,0,1,0,0,1],\\\n",
        "                                \"reason\":\\\n",
        "                                ['REENGAGEMENT_ACTIVE_FUNDS','PROMO','NO_INITIAL_CARD_ORDER','NO_INITIAL_CARD_USE',\\\n",
        "                                'INVEST_IN_GOLD','LOST_CARD_ORDER','PROMO_CARD_ORDER','JOINING_ANNIVERSARY',\\\n",
        "                                'MADE_MONEY_REQUEST_NOT_SPLIT_BILL','ONBOARDING_TIPS_ACTIVATED_USERS','ENGAGEMENT_SPLIT_BILL_RESTAURANT',\\\n",
        "                                'BLACK_FRIDAY','METAL_RESERVE_PLAN','SILVER_ENGAGEMENT_INACTIVE_CARD','WELCOME_BACK',\\\n",
        "                                'BLUE_TUESDAY','SILVER_ENGAGEMENT_FEES_SAVED']})\n",
        "ntf_reason_cluster\n",
        "\n",
        "ntf=pd.merge(ntf,ntf_reason_cluster,how=\"left\",on=\"reason\")\n",
        "ntf.head()"
      ],
      "execution_count": 28,
      "outputs": [
        {
          "output_type": "execute_result",
          "data": {
            "text/html": [
              "<div>\n",
              "<style scoped>\n",
              "    .dataframe tbody tr th:only-of-type {\n",
              "        vertical-align: middle;\n",
              "    }\n",
              "\n",
              "    .dataframe tbody tr th {\n",
              "        vertical-align: top;\n",
              "    }\n",
              "\n",
              "    .dataframe thead th {\n",
              "        text-align: right;\n",
              "    }\n",
              "</style>\n",
              "<table border=\"1\" class=\"dataframe\">\n",
              "  <thead>\n",
              "    <tr style=\"text-align: right;\">\n",
              "      <th></th>\n",
              "      <th>reason</th>\n",
              "      <th>channel</th>\n",
              "      <th>status</th>\n",
              "      <th>user_id</th>\n",
              "      <th>created_date</th>\n",
              "      <th>Useful_Ntf</th>\n",
              "      <th>Mostly_paid_notif</th>\n",
              "    </tr>\n",
              "  </thead>\n",
              "  <tbody>\n",
              "    <tr>\n",
              "      <th>0</th>\n",
              "      <td>REENGAGEMENT_ACTIVE_FUNDS</td>\n",
              "      <td>PUSH</td>\n",
              "      <td>SENT</td>\n",
              "      <td>user_1252</td>\n",
              "      <td>2018-12-02 17:58:33.320645</td>\n",
              "      <td>1</td>\n",
              "      <td>0</td>\n",
              "    </tr>\n",
              "    <tr>\n",
              "      <th>1</th>\n",
              "      <td>REENGAGEMENT_ACTIVE_FUNDS</td>\n",
              "      <td>PUSH</td>\n",
              "      <td>SENT</td>\n",
              "      <td>user_12783</td>\n",
              "      <td>2018-12-01 23:09:37.367127</td>\n",
              "      <td>1</td>\n",
              "      <td>0</td>\n",
              "    </tr>\n",
              "    <tr>\n",
              "      <th>2</th>\n",
              "      <td>REENGAGEMENT_ACTIVE_FUNDS</td>\n",
              "      <td>PUSH</td>\n",
              "      <td>SENT</td>\n",
              "      <td>user_10244</td>\n",
              "      <td>2018-12-04 02:57:56.425660</td>\n",
              "      <td>1</td>\n",
              "      <td>0</td>\n",
              "    </tr>\n",
              "    <tr>\n",
              "      <th>3</th>\n",
              "      <td>REENGAGEMENT_ACTIVE_FUNDS</td>\n",
              "      <td>PUSH</td>\n",
              "      <td>SENT</td>\n",
              "      <td>user_14486</td>\n",
              "      <td>2018-12-14 17:09:58.900808</td>\n",
              "      <td>1</td>\n",
              "      <td>0</td>\n",
              "    </tr>\n",
              "    <tr>\n",
              "      <th>4</th>\n",
              "      <td>REENGAGEMENT_ACTIVE_FUNDS</td>\n",
              "      <td>PUSH</td>\n",
              "      <td>SENT</td>\n",
              "      <td>user_28</td>\n",
              "      <td>2018-12-11 12:42:59.718574</td>\n",
              "      <td>1</td>\n",
              "      <td>0</td>\n",
              "    </tr>\n",
              "  </tbody>\n",
              "</table>\n",
              "</div>"
            ],
            "text/plain": [
              "                      reason channel  ... Useful_Ntf Mostly_paid_notif\n",
              "0  REENGAGEMENT_ACTIVE_FUNDS    PUSH  ...          1                 0\n",
              "1  REENGAGEMENT_ACTIVE_FUNDS    PUSH  ...          1                 0\n",
              "2  REENGAGEMENT_ACTIVE_FUNDS    PUSH  ...          1                 0\n",
              "3  REENGAGEMENT_ACTIVE_FUNDS    PUSH  ...          1                 0\n",
              "4  REENGAGEMENT_ACTIVE_FUNDS    PUSH  ...          1                 0\n",
              "\n",
              "[5 rows x 7 columns]"
            ]
          },
          "metadata": {
            "tags": []
          },
          "execution_count": 28
        }
      ]
    },
    {
      "cell_type": "code",
      "metadata": {
        "id": "q0548KSFar9Y",
        "colab_type": "code",
        "outputId": "5be6bca8-b3e6-4b80-b58b-353244a3d086",
        "colab": {
          "base_uri": "https://localhost:8080/",
          "height": 0
        }
      },
      "source": [
        "ntf_channel=ntf.pivot_table(columns=\"channel\",aggfunc=\"count\",index=\"user_id\",values=\"status\",fill_value=0)\n",
        "ntf_channel=pd.DataFrame(ntf_channel.to_records())\n",
        "ntf_channel=ntf_channel.drop(columns=[\"SMS\"])\n",
        "ntf_channel"
      ],
      "execution_count": 29,
      "outputs": [
        {
          "output_type": "execute_result",
          "data": {
            "text/html": [
              "<div>\n",
              "<style scoped>\n",
              "    .dataframe tbody tr th:only-of-type {\n",
              "        vertical-align: middle;\n",
              "    }\n",
              "\n",
              "    .dataframe tbody tr th {\n",
              "        vertical-align: top;\n",
              "    }\n",
              "\n",
              "    .dataframe thead th {\n",
              "        text-align: right;\n",
              "    }\n",
              "</style>\n",
              "<table border=\"1\" class=\"dataframe\">\n",
              "  <thead>\n",
              "    <tr style=\"text-align: right;\">\n",
              "      <th></th>\n",
              "      <th>user_id</th>\n",
              "      <th>EMAIL</th>\n",
              "      <th>PUSH</th>\n",
              "    </tr>\n",
              "  </thead>\n",
              "  <tbody>\n",
              "    <tr>\n",
              "      <th>0</th>\n",
              "      <td>user_0</td>\n",
              "      <td>6</td>\n",
              "      <td>2</td>\n",
              "    </tr>\n",
              "    <tr>\n",
              "      <th>1</th>\n",
              "      <td>user_1</td>\n",
              "      <td>5</td>\n",
              "      <td>5</td>\n",
              "    </tr>\n",
              "    <tr>\n",
              "      <th>2</th>\n",
              "      <td>user_10</td>\n",
              "      <td>5</td>\n",
              "      <td>3</td>\n",
              "    </tr>\n",
              "    <tr>\n",
              "      <th>3</th>\n",
              "      <td>user_100</td>\n",
              "      <td>2</td>\n",
              "      <td>3</td>\n",
              "    </tr>\n",
              "    <tr>\n",
              "      <th>4</th>\n",
              "      <td>user_1000</td>\n",
              "      <td>1</td>\n",
              "      <td>0</td>\n",
              "    </tr>\n",
              "    <tr>\n",
              "      <th>...</th>\n",
              "      <td>...</td>\n",
              "      <td>...</td>\n",
              "      <td>...</td>\n",
              "    </tr>\n",
              "    <tr>\n",
              "      <th>14735</th>\n",
              "      <td>user_9995</td>\n",
              "      <td>1</td>\n",
              "      <td>0</td>\n",
              "    </tr>\n",
              "    <tr>\n",
              "      <th>14736</th>\n",
              "      <td>user_9996</td>\n",
              "      <td>1</td>\n",
              "      <td>0</td>\n",
              "    </tr>\n",
              "    <tr>\n",
              "      <th>14737</th>\n",
              "      <td>user_9997</td>\n",
              "      <td>2</td>\n",
              "      <td>5</td>\n",
              "    </tr>\n",
              "    <tr>\n",
              "      <th>14738</th>\n",
              "      <td>user_9998</td>\n",
              "      <td>2</td>\n",
              "      <td>1</td>\n",
              "    </tr>\n",
              "    <tr>\n",
              "      <th>14739</th>\n",
              "      <td>user_9999</td>\n",
              "      <td>3</td>\n",
              "      <td>0</td>\n",
              "    </tr>\n",
              "  </tbody>\n",
              "</table>\n",
              "<p>14740 rows × 3 columns</p>\n",
              "</div>"
            ],
            "text/plain": [
              "         user_id  EMAIL  PUSH\n",
              "0         user_0      6     2\n",
              "1         user_1      5     5\n",
              "2        user_10      5     3\n",
              "3       user_100      2     3\n",
              "4      user_1000      1     0\n",
              "...          ...    ...   ...\n",
              "14735  user_9995      1     0\n",
              "14736  user_9996      1     0\n",
              "14737  user_9997      2     5\n",
              "14738  user_9998      2     1\n",
              "14739  user_9999      3     0\n",
              "\n",
              "[14740 rows x 3 columns]"
            ]
          },
          "metadata": {
            "tags": []
          },
          "execution_count": 29
        }
      ]
    },
    {
      "cell_type": "code",
      "metadata": {
        "id": "PfwsQy8eTFeM",
        "colab_type": "code",
        "outputId": "0a0e2a5f-1235-4ff9-d6ba-c5499f48e1ed",
        "colab": {
          "base_uri": "https://localhost:8080/",
          "height": 0
        }
      },
      "source": [
        "ntf_reason = ntf.pivot_table(columns=\"Useful_Ntf\",aggfunc=\"count\",index=\"user_id\",values=\"status\",fill_value=0)\n",
        "ntf_reason = pd.DataFrame(ntf_reason.to_records())\n",
        "ntf_reason = ntf_reason.rename(columns={\"0\":\"Marketing_ntf\",\"1\":\"Useful_ntf\"})\n",
        "ntf_reason.head()"
      ],
      "execution_count": 30,
      "outputs": [
        {
          "output_type": "execute_result",
          "data": {
            "text/html": [
              "<div>\n",
              "<style scoped>\n",
              "    .dataframe tbody tr th:only-of-type {\n",
              "        vertical-align: middle;\n",
              "    }\n",
              "\n",
              "    .dataframe tbody tr th {\n",
              "        vertical-align: top;\n",
              "    }\n",
              "\n",
              "    .dataframe thead th {\n",
              "        text-align: right;\n",
              "    }\n",
              "</style>\n",
              "<table border=\"1\" class=\"dataframe\">\n",
              "  <thead>\n",
              "    <tr style=\"text-align: right;\">\n",
              "      <th></th>\n",
              "      <th>user_id</th>\n",
              "      <th>Marketing_ntf</th>\n",
              "      <th>Useful_ntf</th>\n",
              "    </tr>\n",
              "  </thead>\n",
              "  <tbody>\n",
              "    <tr>\n",
              "      <th>0</th>\n",
              "      <td>user_0</td>\n",
              "      <td>2</td>\n",
              "      <td>6</td>\n",
              "    </tr>\n",
              "    <tr>\n",
              "      <th>1</th>\n",
              "      <td>user_1</td>\n",
              "      <td>2</td>\n",
              "      <td>8</td>\n",
              "    </tr>\n",
              "    <tr>\n",
              "      <th>2</th>\n",
              "      <td>user_10</td>\n",
              "      <td>4</td>\n",
              "      <td>4</td>\n",
              "    </tr>\n",
              "    <tr>\n",
              "      <th>3</th>\n",
              "      <td>user_100</td>\n",
              "      <td>2</td>\n",
              "      <td>3</td>\n",
              "    </tr>\n",
              "    <tr>\n",
              "      <th>4</th>\n",
              "      <td>user_1000</td>\n",
              "      <td>0</td>\n",
              "      <td>1</td>\n",
              "    </tr>\n",
              "  </tbody>\n",
              "</table>\n",
              "</div>"
            ],
            "text/plain": [
              "     user_id  Marketing_ntf  Useful_ntf\n",
              "0     user_0              2           6\n",
              "1     user_1              2           8\n",
              "2    user_10              4           4\n",
              "3   user_100              2           3\n",
              "4  user_1000              0           1"
            ]
          },
          "metadata": {
            "tags": []
          },
          "execution_count": 30
        }
      ]
    },
    {
      "cell_type": "code",
      "metadata": {
        "id": "l3waqxx9eoT1",
        "colab_type": "code",
        "outputId": "c6829889-d02e-44c3-ef99-6eda5a324114",
        "colab": {
          "base_uri": "https://localhost:8080/",
          "height": 0
        }
      },
      "source": [
        "ntf_reason2 = ntf.pivot_table(columns=\"Mostly_paid_notif\",aggfunc=\"count\",index=\"user_id\",values=\"status\",fill_value=0)\n",
        "ntf_reason2 = pd.DataFrame(ntf_reason2.to_records())\n",
        "ntf_reason2 = ntf_reason2.rename(columns={\"0\":\"Other\",\"1\":\"Mostly_paid_notif\"})\n",
        "ntf_reason2.head()"
      ],
      "execution_count": 31,
      "outputs": [
        {
          "output_type": "execute_result",
          "data": {
            "text/html": [
              "<div>\n",
              "<style scoped>\n",
              "    .dataframe tbody tr th:only-of-type {\n",
              "        vertical-align: middle;\n",
              "    }\n",
              "\n",
              "    .dataframe tbody tr th {\n",
              "        vertical-align: top;\n",
              "    }\n",
              "\n",
              "    .dataframe thead th {\n",
              "        text-align: right;\n",
              "    }\n",
              "</style>\n",
              "<table border=\"1\" class=\"dataframe\">\n",
              "  <thead>\n",
              "    <tr style=\"text-align: right;\">\n",
              "      <th></th>\n",
              "      <th>user_id</th>\n",
              "      <th>Other</th>\n",
              "      <th>Mostly_paid_notif</th>\n",
              "    </tr>\n",
              "  </thead>\n",
              "  <tbody>\n",
              "    <tr>\n",
              "      <th>0</th>\n",
              "      <td>user_0</td>\n",
              "      <td>8</td>\n",
              "      <td>0</td>\n",
              "    </tr>\n",
              "    <tr>\n",
              "      <th>1</th>\n",
              "      <td>user_1</td>\n",
              "      <td>10</td>\n",
              "      <td>0</td>\n",
              "    </tr>\n",
              "    <tr>\n",
              "      <th>2</th>\n",
              "      <td>user_10</td>\n",
              "      <td>8</td>\n",
              "      <td>0</td>\n",
              "    </tr>\n",
              "    <tr>\n",
              "      <th>3</th>\n",
              "      <td>user_100</td>\n",
              "      <td>5</td>\n",
              "      <td>0</td>\n",
              "    </tr>\n",
              "    <tr>\n",
              "      <th>4</th>\n",
              "      <td>user_1000</td>\n",
              "      <td>1</td>\n",
              "      <td>0</td>\n",
              "    </tr>\n",
              "  </tbody>\n",
              "</table>\n",
              "</div>"
            ],
            "text/plain": [
              "     user_id  Other  Mostly_paid_notif\n",
              "0     user_0      8                  0\n",
              "1     user_1     10                  0\n",
              "2    user_10      8                  0\n",
              "3   user_100      5                  0\n",
              "4  user_1000      1                  0"
            ]
          },
          "metadata": {
            "tags": []
          },
          "execution_count": 31
        }
      ]
    },
    {
      "cell_type": "code",
      "metadata": {
        "id": "xpdAppuR94Jj",
        "colab_type": "code",
        "colab": {
          "base_uri": "https://localhost:8080/",
          "height": 0
        },
        "outputId": "27945150-551f-463d-f047-f5352ac2e3d6"
      },
      "source": [
        "ntf_pivot=pd.merge(ntf_reason2,ntf_reason,on=\"user_id\",how=\"outer\")\n",
        "ntf_pivot=pd.merge(ntf_pivot,ntf_status,on=\"user_id\",how=\"outer\")\n",
        "ntf_pivot=pd.merge(ntf_pivot,ntf_channel,on=\"user_id\",how=\"outer\")\n",
        "\n",
        "print(\"useful notif rows: \",ntf_reason.shape[0])\n",
        "print(\"mostrly paid rows: \",ntf_reason2.shape[0])\n",
        "print(\"status rows:       \",ntf_status.shape[0])\n",
        "print(\"channel rows:      \",ntf_channel.shape[0])\n",
        "print(\"total rows:        \",ntf_pivot.shape[0])"
      ],
      "execution_count": 32,
      "outputs": [
        {
          "output_type": "stream",
          "text": [
            "useful notif rows:  14740\n",
            "mostrly paid rows:  14740\n",
            "status rows:        15156\n",
            "channel rows:       14740\n",
            "total rows:         15156\n"
          ],
          "name": "stdout"
        }
      ]
    },
    {
      "cell_type": "markdown",
      "metadata": {
        "id": "4szfkj1Dgweo",
        "colab_type": "text"
      },
      "source": [
        "##Transactions File"
      ]
    },
    {
      "cell_type": "code",
      "metadata": {
        "id": "Lu32O0ZF6wPw",
        "colab_type": "code",
        "colab": {}
      },
      "source": [
        "trans=tr1"
      ],
      "execution_count": 0,
      "outputs": []
    },
    {
      "cell_type": "markdown",
      "metadata": {
        "id": "jhQ1VlmCFxi9",
        "colab_type": "text"
      },
      "source": [
        "###Unique/Missing Values"
      ]
    },
    {
      "cell_type": "code",
      "metadata": {
        "id": "lK831xm1FVfH",
        "colab_type": "code",
        "colab": {
          "base_uri": "https://localhost:8080/",
          "height": 0
        },
        "outputId": "58b7c823-7e82-499c-ab28-e1c80611a5de"
      },
      "source": [
        "colnames=trans.columns\n",
        "df=pd.DataFrame(columns=[\"Column\",\"NumOfMissingVal\",\"UniqueVal\"])\n",
        "for cn in colnames:\n",
        "  df=df.append({\"Column\" : cn,\"NumOfMissingVal\": sum(pd.isna(trans[cn])),\"UniqueVal\":len(trans[cn].unique())},ignore_index=True)\n",
        "\n",
        "df"
      ],
      "execution_count": 34,
      "outputs": [
        {
          "output_type": "execute_result",
          "data": {
            "text/html": [
              "<div>\n",
              "<style scoped>\n",
              "    .dataframe tbody tr th:only-of-type {\n",
              "        vertical-align: middle;\n",
              "    }\n",
              "\n",
              "    .dataframe tbody tr th {\n",
              "        vertical-align: top;\n",
              "    }\n",
              "\n",
              "    .dataframe thead th {\n",
              "        text-align: right;\n",
              "    }\n",
              "</style>\n",
              "<table border=\"1\" class=\"dataframe\">\n",
              "  <thead>\n",
              "    <tr style=\"text-align: right;\">\n",
              "      <th></th>\n",
              "      <th>Column</th>\n",
              "      <th>NumOfMissingVal</th>\n",
              "      <th>UniqueVal</th>\n",
              "    </tr>\n",
              "  </thead>\n",
              "  <tbody>\n",
              "    <tr>\n",
              "      <th>0</th>\n",
              "      <td>transaction_id</td>\n",
              "      <td>0</td>\n",
              "      <td>2181026</td>\n",
              "    </tr>\n",
              "    <tr>\n",
              "      <th>1</th>\n",
              "      <td>transactions_type</td>\n",
              "      <td>0</td>\n",
              "      <td>10</td>\n",
              "    </tr>\n",
              "    <tr>\n",
              "      <th>2</th>\n",
              "      <td>transactions_currency</td>\n",
              "      <td>0</td>\n",
              "      <td>35</td>\n",
              "    </tr>\n",
              "    <tr>\n",
              "      <th>3</th>\n",
              "      <td>amount_usd</td>\n",
              "      <td>0</td>\n",
              "      <td>43465</td>\n",
              "    </tr>\n",
              "    <tr>\n",
              "      <th>4</th>\n",
              "      <td>transactions_state</td>\n",
              "      <td>0</td>\n",
              "      <td>6</td>\n",
              "    </tr>\n",
              "    <tr>\n",
              "      <th>5</th>\n",
              "      <td>ea_cardholderpresence</td>\n",
              "      <td>933206</td>\n",
              "      <td>4</td>\n",
              "    </tr>\n",
              "    <tr>\n",
              "      <th>6</th>\n",
              "      <td>ea_merchant_mcc</td>\n",
              "      <td>923975</td>\n",
              "      <td>636</td>\n",
              "    </tr>\n",
              "    <tr>\n",
              "      <th>7</th>\n",
              "      <td>ea_merchant_city</td>\n",
              "      <td>924080</td>\n",
              "      <td>55474</td>\n",
              "    </tr>\n",
              "    <tr>\n",
              "      <th>8</th>\n",
              "      <td>ea_merchant_country</td>\n",
              "      <td>924239</td>\n",
              "      <td>197</td>\n",
              "    </tr>\n",
              "    <tr>\n",
              "      <th>9</th>\n",
              "      <td>direction</td>\n",
              "      <td>0</td>\n",
              "      <td>2</td>\n",
              "    </tr>\n",
              "    <tr>\n",
              "      <th>10</th>\n",
              "      <td>user_id</td>\n",
              "      <td>0</td>\n",
              "      <td>15012</td>\n",
              "    </tr>\n",
              "    <tr>\n",
              "      <th>11</th>\n",
              "      <td>created_date</td>\n",
              "      <td>0</td>\n",
              "      <td>2180706</td>\n",
              "    </tr>\n",
              "  </tbody>\n",
              "</table>\n",
              "</div>"
            ],
            "text/plain": [
              "                   Column NumOfMissingVal UniqueVal\n",
              "0          transaction_id               0   2181026\n",
              "1       transactions_type               0        10\n",
              "2   transactions_currency               0        35\n",
              "3              amount_usd               0     43465\n",
              "4      transactions_state               0         6\n",
              "5   ea_cardholderpresence          933206         4\n",
              "6         ea_merchant_mcc          923975       636\n",
              "7        ea_merchant_city          924080     55474\n",
              "8     ea_merchant_country          924239       197\n",
              "9               direction               0         2\n",
              "10                user_id               0     15012\n",
              "11           created_date               0   2180706"
            ]
          },
          "metadata": {
            "tags": []
          },
          "execution_count": 34
        }
      ]
    },
    {
      "cell_type": "code",
      "metadata": {
        "id": "fZCZ4XXj8Fbx",
        "colab_type": "code",
        "outputId": "0c2e54ab-3c34-4a37-9b56-3db2cb2746bf",
        "colab": {
          "base_uri": "https://localhost:8080/",
          "height": 0
        }
      },
      "source": [
        "trans.columns"
      ],
      "execution_count": 35,
      "outputs": [
        {
          "output_type": "execute_result",
          "data": {
            "text/plain": [
              "Index(['transaction_id', 'transactions_type', 'transactions_currency',\n",
              "       'amount_usd', 'transactions_state', 'ea_cardholderpresence',\n",
              "       'ea_merchant_mcc', 'ea_merchant_city', 'ea_merchant_country',\n",
              "       'direction', 'user_id', 'created_date'],\n",
              "      dtype='object')"
            ]
          },
          "metadata": {
            "tags": []
          },
          "execution_count": 35
        }
      ]
    },
    {
      "cell_type": "code",
      "metadata": {
        "id": "7nEz7rsvK40v",
        "colab_type": "code",
        "outputId": "0fd06042-2187-4e41-9bce-d2b3c9e9de33",
        "colab": {
          "base_uri": "https://localhost:8080/",
          "height": 0
        }
      },
      "source": [
        "trans.transactions_state.value_counts()"
      ],
      "execution_count": 36,
      "outputs": [
        {
          "output_type": "execute_result",
          "data": {
            "text/plain": [
              "COMPLETED    1916387\n",
              "DECLINED      124226\n",
              "REVERTED       89330\n",
              "FAILED         32566\n",
              "PENDING        17153\n",
              "CANCELLED       1364\n",
              "Name: transactions_state, dtype: int64"
            ]
          },
          "metadata": {
            "tags": []
          },
          "execution_count": 36
        }
      ]
    },
    {
      "cell_type": "code",
      "metadata": {
        "id": "d4ugb_NsBkbM",
        "colab_type": "code",
        "colab": {
          "base_uri": "https://localhost:8080/",
          "height": 0
        },
        "outputId": "48cd54c8-f2a5-42bf-8520-2a990858288d"
      },
      "source": [
        "trans_status=trans.pivot_table(index=\"user_id\",columns=\"transactions_state\",values=\"amount_usd\",aggfunc=\"count\",fill_value=0)\n",
        "trans_status.head()"
      ],
      "execution_count": 37,
      "outputs": [
        {
          "output_type": "execute_result",
          "data": {
            "text/html": [
              "<div>\n",
              "<style scoped>\n",
              "    .dataframe tbody tr th:only-of-type {\n",
              "        vertical-align: middle;\n",
              "    }\n",
              "\n",
              "    .dataframe tbody tr th {\n",
              "        vertical-align: top;\n",
              "    }\n",
              "\n",
              "    .dataframe thead th {\n",
              "        text-align: right;\n",
              "    }\n",
              "</style>\n",
              "<table border=\"1\" class=\"dataframe\">\n",
              "  <thead>\n",
              "    <tr style=\"text-align: right;\">\n",
              "      <th>transactions_state</th>\n",
              "      <th>CANCELLED</th>\n",
              "      <th>COMPLETED</th>\n",
              "      <th>DECLINED</th>\n",
              "      <th>FAILED</th>\n",
              "      <th>PENDING</th>\n",
              "      <th>REVERTED</th>\n",
              "    </tr>\n",
              "    <tr>\n",
              "      <th>user_id</th>\n",
              "      <th></th>\n",
              "      <th></th>\n",
              "      <th></th>\n",
              "      <th></th>\n",
              "      <th></th>\n",
              "      <th></th>\n",
              "    </tr>\n",
              "  </thead>\n",
              "  <tbody>\n",
              "    <tr>\n",
              "      <th>user_0</th>\n",
              "      <td>0</td>\n",
              "      <td>520</td>\n",
              "      <td>6</td>\n",
              "      <td>9</td>\n",
              "      <td>2</td>\n",
              "      <td>8</td>\n",
              "    </tr>\n",
              "    <tr>\n",
              "      <th>user_1</th>\n",
              "      <td>0</td>\n",
              "      <td>133</td>\n",
              "      <td>6</td>\n",
              "      <td>1</td>\n",
              "      <td>0</td>\n",
              "      <td>6</td>\n",
              "    </tr>\n",
              "    <tr>\n",
              "      <th>user_10</th>\n",
              "      <td>0</td>\n",
              "      <td>123</td>\n",
              "      <td>16</td>\n",
              "      <td>0</td>\n",
              "      <td>1</td>\n",
              "      <td>3</td>\n",
              "    </tr>\n",
              "    <tr>\n",
              "      <th>user_100</th>\n",
              "      <td>0</td>\n",
              "      <td>55</td>\n",
              "      <td>4</td>\n",
              "      <td>4</td>\n",
              "      <td>0</td>\n",
              "      <td>3</td>\n",
              "    </tr>\n",
              "    <tr>\n",
              "      <th>user_1000</th>\n",
              "      <td>0</td>\n",
              "      <td>43</td>\n",
              "      <td>4</td>\n",
              "      <td>0</td>\n",
              "      <td>0</td>\n",
              "      <td>0</td>\n",
              "    </tr>\n",
              "  </tbody>\n",
              "</table>\n",
              "</div>"
            ],
            "text/plain": [
              "transactions_state  CANCELLED  COMPLETED  DECLINED  FAILED  PENDING  REVERTED\n",
              "user_id                                                                      \n",
              "user_0                      0        520         6       9        2         8\n",
              "user_1                      0        133         6       1        0         6\n",
              "user_10                     0        123        16       0        1         3\n",
              "user_100                    0         55         4       4        0         3\n",
              "user_1000                   0         43         4       0        0         0"
            ]
          },
          "metadata": {
            "tags": []
          },
          "execution_count": 37
        }
      ]
    },
    {
      "cell_type": "code",
      "metadata": {
        "id": "ky9pGoKnLtGk",
        "colab_type": "code",
        "outputId": "adc687ef-1f76-462b-b70b-97c0f6f095e8",
        "colab": {
          "base_uri": "https://localhost:8080/",
          "height": 0
        }
      },
      "source": [
        "trans=trans[trans.transactions_state==\"COMPLETED\"]\n",
        "trans.transactions_state.value_counts()\n",
        "trans.amount_usd.describe()"
      ],
      "execution_count": 38,
      "outputs": [
        {
          "output_type": "execute_result",
          "data": {
            "text/plain": [
              "count    1.916387e+06\n",
              "mean     6.452131e+01\n",
              "std      9.122444e+02\n",
              "min      0.000000e+00\n",
              "25%      2.400000e+00\n",
              "50%      8.510000e+00\n",
              "75%      2.809000e+01\n",
              "max      6.127665e+05\n",
              "Name: amount_usd, dtype: float64"
            ]
          },
          "metadata": {
            "tags": []
          },
          "execution_count": 38
        }
      ]
    },
    {
      "cell_type": "markdown",
      "metadata": {
        "id": "cOLoagyRF7q1",
        "colab_type": "text"
      },
      "source": [
        "###Clustering"
      ]
    },
    {
      "cell_type": "code",
      "metadata": {
        "id": "ZUjekom0gRVU",
        "colab_type": "code",
        "outputId": "33e2e82a-f077-4184-e4e7-829c8cdabf61",
        "colab": {
          "base_uri": "https://localhost:8080/",
          "height": 0
        }
      },
      "source": [
        "#MCC clustering\n",
        "trans.ea_merchant_mcc=trans.ea_merchant_mcc.fillna(11999)\n",
        " \n",
        "trans['mcc_group'] = pd.cut(trans.ea_merchant_mcc, bins=[0,1000,1500,1800,2000,4000,5000,5200,6000,6800,9000,9730,10000,12000],\\\n",
        "                                  labels=['Agriculture','Mining','Construction',\"not used\",\"Manufacturing\",\"Transportation\",\"Wholesale\",\\\n",
        "                                          \"Retail\",\"Finance\",\"Services\",\"Public_Admin\",\"Nonclassifiable\",\"Unknown\"], right=False)\n",
        "trans['mcc_group'].value_counts()"
      ],
      "execution_count": 39,
      "outputs": [
        {
          "output_type": "stream",
          "text": [
            "/usr/local/lib/python3.6/dist-packages/pandas/core/generic.py:5303: SettingWithCopyWarning: \n",
            "A value is trying to be set on a copy of a slice from a DataFrame.\n",
            "Try using .loc[row_indexer,col_indexer] = value instead\n",
            "\n",
            "See the caveats in the documentation: https://pandas.pydata.org/pandas-docs/stable/user_guide/indexing.html#returning-a-view-versus-a-copy\n",
            "  self[name] = value\n",
            "/usr/local/lib/python3.6/dist-packages/ipykernel_launcher.py:4: SettingWithCopyWarning: \n",
            "A value is trying to be set on a copy of a slice from a DataFrame.\n",
            "Try using .loc[row_indexer,col_indexer] = value instead\n",
            "\n",
            "See the caveats in the documentation: https://pandas.pydata.org/pandas-docs/stable/user_guide/indexing.html#returning-a-view-versus-a-copy\n",
            "  after removing the cwd from sys.path.\n"
          ],
          "name": "stderr"
        },
        {
          "output_type": "execute_result",
          "data": {
            "text/plain": [
              "Unknown            846243\n",
              "Retail             765151\n",
              "Transportation     120941\n",
              "Services            98282\n",
              "Finance             63943\n",
              "Manufacturing        8726\n",
              "Public_Admin         5974\n",
              "Wholesale            4268\n",
              "Agriculture          1286\n",
              "Mining               1101\n",
              "Construction          472\n",
              "Nonclassifiable         0\n",
              "not used                0\n",
              "Name: mcc_group, dtype: int64"
            ]
          },
          "metadata": {
            "tags": []
          },
          "execution_count": 39
        }
      ]
    },
    {
      "cell_type": "code",
      "metadata": {
        "id": "2tDQRjuZAKJq",
        "colab_type": "code",
        "colab": {}
      },
      "source": [
        "#trans.mcc_group=trans.mcc_group.replace({'Agriculture':\"Other\",'Mining':\"Other\",'Construction':\"Other\",\\\n",
        "#                                                     \"not used\":\"Other\",\"Wholesale\":\"Retail\",\"Public_Admin\":\"Other\",\\\n",
        "#                                                     \"Manufacturing\":\"Other\",\"Finance\":\"Services\"})\n",
        "#print(trans.shape)\n",
        "#trans['mcc_group'].value_counts()"
      ],
      "execution_count": 0,
      "outputs": []
    },
    {
      "cell_type": "code",
      "metadata": {
        "id": "yBdBTvCwN3k5",
        "colab_type": "code",
        "outputId": "eb4b9f06-e634-4176-ad60-b7f520830cb7",
        "colab": {
          "base_uri": "https://localhost:8080/",
          "height": 0
        }
      },
      "source": [
        "trans.columns"
      ],
      "execution_count": 41,
      "outputs": [
        {
          "output_type": "execute_result",
          "data": {
            "text/plain": [
              "Index(['transaction_id', 'transactions_type', 'transactions_currency',\n",
              "       'amount_usd', 'transactions_state', 'ea_cardholderpresence',\n",
              "       'ea_merchant_mcc', 'ea_merchant_city', 'ea_merchant_country',\n",
              "       'direction', 'user_id', 'created_date', 'mcc_group'],\n",
              "      dtype='object')"
            ]
          },
          "metadata": {
            "tags": []
          },
          "execution_count": 41
        }
      ]
    },
    {
      "cell_type": "code",
      "metadata": {
        "id": "RQtTXdN5N_0z",
        "colab_type": "code",
        "outputId": "82738367-bf95-465b-b118-da696746d775",
        "colab": {
          "base_uri": "https://localhost:8080/",
          "height": 0
        }
      },
      "source": [
        "trans_amount=trans.pivot_table(index=\"user_id\",columns=\"direction\",values=\"amount_usd\",aggfunc=[\"max\",\"mean\",\"sum\"])\n",
        "trans_amount=pd.DataFrame(trans_amount.to_records())\n",
        "trans_amount=trans_amount.rename(columns={\"('max', 'INBOUND')\":\"max_amount_in\",\"('max', 'OUTBOUND')\":\"max_amount_out\",\\\n",
        "                          \"('mean', 'INBOUND')\":\"mean_amount_in\",\"('mean', 'OUTBOUND')\":\"mean_amount_out\",\\\n",
        "                          \"('sum', 'INBOUND')\":\"total_in\",\"('sum', 'OUTBOUND')\":\"total_out\"})\n",
        "trans_amount.head()"
      ],
      "execution_count": 42,
      "outputs": [
        {
          "output_type": "execute_result",
          "data": {
            "text/html": [
              "<div>\n",
              "<style scoped>\n",
              "    .dataframe tbody tr th:only-of-type {\n",
              "        vertical-align: middle;\n",
              "    }\n",
              "\n",
              "    .dataframe tbody tr th {\n",
              "        vertical-align: top;\n",
              "    }\n",
              "\n",
              "    .dataframe thead th {\n",
              "        text-align: right;\n",
              "    }\n",
              "</style>\n",
              "<table border=\"1\" class=\"dataframe\">\n",
              "  <thead>\n",
              "    <tr style=\"text-align: right;\">\n",
              "      <th></th>\n",
              "      <th>user_id</th>\n",
              "      <th>max_amount_in</th>\n",
              "      <th>max_amount_out</th>\n",
              "      <th>mean_amount_in</th>\n",
              "      <th>mean_amount_out</th>\n",
              "      <th>total_in</th>\n",
              "      <th>total_out</th>\n",
              "    </tr>\n",
              "  </thead>\n",
              "  <tbody>\n",
              "    <tr>\n",
              "      <th>0</th>\n",
              "      <td>user_0</td>\n",
              "      <td>510.64</td>\n",
              "      <td>510.64</td>\n",
              "      <td>20.216748</td>\n",
              "      <td>10.167367</td>\n",
              "      <td>3295.33</td>\n",
              "      <td>3629.75</td>\n",
              "    </tr>\n",
              "    <tr>\n",
              "      <th>1</th>\n",
              "      <td>user_1</td>\n",
              "      <td>851.06</td>\n",
              "      <td>851.06</td>\n",
              "      <td>239.463333</td>\n",
              "      <td>61.226698</td>\n",
              "      <td>6465.51</td>\n",
              "      <td>6490.03</td>\n",
              "    </tr>\n",
              "    <tr>\n",
              "      <th>2</th>\n",
              "      <td>user_10</td>\n",
              "      <td>214.59</td>\n",
              "      <td>255.22</td>\n",
              "      <td>52.884808</td>\n",
              "      <td>37.871972</td>\n",
              "      <td>2750.01</td>\n",
              "      <td>2688.91</td>\n",
              "    </tr>\n",
              "    <tr>\n",
              "      <th>3</th>\n",
              "      <td>user_100</td>\n",
              "      <td>382.98</td>\n",
              "      <td>339.18</td>\n",
              "      <td>192.650909</td>\n",
              "      <td>47.975909</td>\n",
              "      <td>2119.16</td>\n",
              "      <td>2110.94</td>\n",
              "    </tr>\n",
              "    <tr>\n",
              "      <th>4</th>\n",
              "      <td>user_1000</td>\n",
              "      <td>238.31</td>\n",
              "      <td>158.87</td>\n",
              "      <td>18.660870</td>\n",
              "      <td>20.696000</td>\n",
              "      <td>429.20</td>\n",
              "      <td>413.92</td>\n",
              "    </tr>\n",
              "  </tbody>\n",
              "</table>\n",
              "</div>"
            ],
            "text/plain": [
              "     user_id  max_amount_in  ...  total_in  total_out\n",
              "0     user_0         510.64  ...   3295.33    3629.75\n",
              "1     user_1         851.06  ...   6465.51    6490.03\n",
              "2    user_10         214.59  ...   2750.01    2688.91\n",
              "3   user_100         382.98  ...   2119.16    2110.94\n",
              "4  user_1000         238.31  ...    429.20     413.92\n",
              "\n",
              "[5 rows x 7 columns]"
            ]
          },
          "metadata": {
            "tags": []
          },
          "execution_count": 42
        }
      ]
    },
    {
      "cell_type": "code",
      "metadata": {
        "id": "PR6PSM1Ue1YS",
        "colab_type": "code",
        "colab": {}
      },
      "source": [
        "#na dw diaforetika eidi sunallagwn kai ena count mono ton teleutaio mhna\n",
        "\n",
        "#trans_count=trans.pivot_table(index=\"user_id\",values=\"created_date\",aggfunc=[\"max\",\"count\"])\n",
        "#trans_count=pd.DataFrame(trans_count.to_records())\n",
        "\n",
        "#trans_count.head()"
      ],
      "execution_count": 0,
      "outputs": []
    },
    {
      "cell_type": "code",
      "metadata": {
        "id": "-ANbX8yKpMUD",
        "colab_type": "code",
        "colab": {
          "base_uri": "https://localhost:8080/",
          "height": 0
        },
        "outputId": "a196af7b-b38f-457e-bf3f-1b7f48796a1a"
      },
      "source": [
        "trans[\"date_created\"] = [dt.datetime.strptime(d,\"%Y-%m-%d  %H:%M:%S.%f\") for d in trans[\"created_date\"]]\n",
        "trans[\"year_created\"] =trans[\"date_created\"].dt.year\n",
        "trans[\"month_created\"] =trans[\"date_created\"].dt.month"
      ],
      "execution_count": 44,
      "outputs": [
        {
          "output_type": "stream",
          "text": [
            "/usr/local/lib/python3.6/dist-packages/ipykernel_launcher.py:1: SettingWithCopyWarning: \n",
            "A value is trying to be set on a copy of a slice from a DataFrame.\n",
            "Try using .loc[row_indexer,col_indexer] = value instead\n",
            "\n",
            "See the caveats in the documentation: https://pandas.pydata.org/pandas-docs/stable/user_guide/indexing.html#returning-a-view-versus-a-copy\n",
            "  \"\"\"Entry point for launching an IPython kernel.\n",
            "/usr/local/lib/python3.6/dist-packages/ipykernel_launcher.py:2: SettingWithCopyWarning: \n",
            "A value is trying to be set on a copy of a slice from a DataFrame.\n",
            "Try using .loc[row_indexer,col_indexer] = value instead\n",
            "\n",
            "See the caveats in the documentation: https://pandas.pydata.org/pandas-docs/stable/user_guide/indexing.html#returning-a-view-versus-a-copy\n",
            "  \n",
            "/usr/local/lib/python3.6/dist-packages/ipykernel_launcher.py:3: SettingWithCopyWarning: \n",
            "A value is trying to be set on a copy of a slice from a DataFrame.\n",
            "Try using .loc[row_indexer,col_indexer] = value instead\n",
            "\n",
            "See the caveats in the documentation: https://pandas.pydata.org/pandas-docs/stable/user_guide/indexing.html#returning-a-view-versus-a-copy\n",
            "  This is separate from the ipykernel package so we can avoid doing imports until\n"
          ],
          "name": "stderr"
        }
      ]
    },
    {
      "cell_type": "code",
      "metadata": {
        "id": "4t7zJwDjiutI",
        "colab_type": "code",
        "outputId": "97c8b9d9-8145-4618-c0ca-619d7b412071",
        "colab": {
          "base_uri": "https://localhost:8080/",
          "height": 0
        }
      },
      "source": [
        "trans.head()"
      ],
      "execution_count": 45,
      "outputs": [
        {
          "output_type": "execute_result",
          "data": {
            "text/html": [
              "<div>\n",
              "<style scoped>\n",
              "    .dataframe tbody tr th:only-of-type {\n",
              "        vertical-align: middle;\n",
              "    }\n",
              "\n",
              "    .dataframe tbody tr th {\n",
              "        vertical-align: top;\n",
              "    }\n",
              "\n",
              "    .dataframe thead th {\n",
              "        text-align: right;\n",
              "    }\n",
              "</style>\n",
              "<table border=\"1\" class=\"dataframe\">\n",
              "  <thead>\n",
              "    <tr style=\"text-align: right;\">\n",
              "      <th></th>\n",
              "      <th>transaction_id</th>\n",
              "      <th>transactions_type</th>\n",
              "      <th>transactions_currency</th>\n",
              "      <th>amount_usd</th>\n",
              "      <th>transactions_state</th>\n",
              "      <th>ea_cardholderpresence</th>\n",
              "      <th>ea_merchant_mcc</th>\n",
              "      <th>ea_merchant_city</th>\n",
              "      <th>ea_merchant_country</th>\n",
              "      <th>direction</th>\n",
              "      <th>user_id</th>\n",
              "      <th>created_date</th>\n",
              "      <th>mcc_group</th>\n",
              "      <th>date_created</th>\n",
              "      <th>year_created</th>\n",
              "      <th>month_created</th>\n",
              "    </tr>\n",
              "  </thead>\n",
              "  <tbody>\n",
              "    <tr>\n",
              "      <th>0</th>\n",
              "      <td>transaction_0</td>\n",
              "      <td>TRANSFER</td>\n",
              "      <td>AED</td>\n",
              "      <td>4.55</td>\n",
              "      <td>COMPLETED</td>\n",
              "      <td>NaN</td>\n",
              "      <td>11999.0</td>\n",
              "      <td>NaN</td>\n",
              "      <td>NaN</td>\n",
              "      <td>OUTBOUND</td>\n",
              "      <td>user_4368</td>\n",
              "      <td>2018-04-03 03:34:21.784487</td>\n",
              "      <td>Unknown</td>\n",
              "      <td>2018-04-03 03:34:21.784487</td>\n",
              "      <td>2018</td>\n",
              "      <td>4</td>\n",
              "    </tr>\n",
              "    <tr>\n",
              "      <th>1</th>\n",
              "      <td>transaction_1</td>\n",
              "      <td>CARD_PAYMENT</td>\n",
              "      <td>AED</td>\n",
              "      <td>15.50</td>\n",
              "      <td>COMPLETED</td>\n",
              "      <td>FALSE</td>\n",
              "      <td>4111.0</td>\n",
              "      <td>Dubai</td>\n",
              "      <td>ARE</td>\n",
              "      <td>OUTBOUND</td>\n",
              "      <td>user_2355</td>\n",
              "      <td>2019-03-19 06:15:59.537032</td>\n",
              "      <td>Transportation</td>\n",
              "      <td>2019-03-19 06:15:59.537032</td>\n",
              "      <td>2019</td>\n",
              "      <td>3</td>\n",
              "    </tr>\n",
              "    <tr>\n",
              "      <th>2</th>\n",
              "      <td>transaction_2</td>\n",
              "      <td>CARD_PAYMENT</td>\n",
              "      <td>AED</td>\n",
              "      <td>43.40</td>\n",
              "      <td>COMPLETED</td>\n",
              "      <td>FALSE</td>\n",
              "      <td>5814.0</td>\n",
              "      <td>Dubai</td>\n",
              "      <td>ARE</td>\n",
              "      <td>OUTBOUND</td>\n",
              "      <td>user_2355</td>\n",
              "      <td>2019-03-18 18:53:41.323032</td>\n",
              "      <td>Retail</td>\n",
              "      <td>2019-03-18 18:53:41.323032</td>\n",
              "      <td>2019</td>\n",
              "      <td>3</td>\n",
              "    </tr>\n",
              "    <tr>\n",
              "      <th>3</th>\n",
              "      <td>transaction_3</td>\n",
              "      <td>TRANSFER</td>\n",
              "      <td>AED</td>\n",
              "      <td>10043.01</td>\n",
              "      <td>COMPLETED</td>\n",
              "      <td>NaN</td>\n",
              "      <td>11999.0</td>\n",
              "      <td>NaN</td>\n",
              "      <td>NaN</td>\n",
              "      <td>OUTBOUND</td>\n",
              "      <td>user_2355</td>\n",
              "      <td>2019-03-22 14:20:01.513032</td>\n",
              "      <td>Unknown</td>\n",
              "      <td>2019-03-22 14:20:01.513032</td>\n",
              "      <td>2019</td>\n",
              "      <td>3</td>\n",
              "    </tr>\n",
              "    <tr>\n",
              "      <th>4</th>\n",
              "      <td>transaction_4</td>\n",
              "      <td>CARD_PAYMENT</td>\n",
              "      <td>AED</td>\n",
              "      <td>43.81</td>\n",
              "      <td>COMPLETED</td>\n",
              "      <td>FALSE</td>\n",
              "      <td>5651.0</td>\n",
              "      <td>Abu Dhabi</td>\n",
              "      <td>ARE</td>\n",
              "      <td>OUTBOUND</td>\n",
              "      <td>user_14318</td>\n",
              "      <td>2019-03-22 05:42:50.316652</td>\n",
              "      <td>Retail</td>\n",
              "      <td>2019-03-22 05:42:50.316652</td>\n",
              "      <td>2019</td>\n",
              "      <td>3</td>\n",
              "    </tr>\n",
              "  </tbody>\n",
              "</table>\n",
              "</div>"
            ],
            "text/plain": [
              "  transaction_id transactions_type  ... year_created  month_created\n",
              "0  transaction_0          TRANSFER  ...         2018              4\n",
              "1  transaction_1      CARD_PAYMENT  ...         2019              3\n",
              "2  transaction_2      CARD_PAYMENT  ...         2019              3\n",
              "3  transaction_3          TRANSFER  ...         2019              3\n",
              "4  transaction_4      CARD_PAYMENT  ...         2019              3\n",
              "\n",
              "[5 rows x 16 columns]"
            ]
          },
          "metadata": {
            "tags": []
          },
          "execution_count": 45
        }
      ]
    },
    {
      "cell_type": "code",
      "metadata": {
        "id": "d-pSEA-Vpqte",
        "colab_type": "code",
        "outputId": "c2455641-8e22-4f6e-ef6d-ed9c87147a53",
        "colab": {
          "base_uri": "https://localhost:8080/",
          "height": 0
        }
      },
      "source": [
        "test=trans.pivot_table(values=\"user_id\",index=[\"year_created\",\"month_created\"],aggfunc=\"count\",fill_value=\"\",margins=\"row grand total\")\n",
        "test"
      ],
      "execution_count": 46,
      "outputs": [
        {
          "output_type": "execute_result",
          "data": {
            "text/html": [
              "<div>\n",
              "<style scoped>\n",
              "    .dataframe tbody tr th:only-of-type {\n",
              "        vertical-align: middle;\n",
              "    }\n",
              "\n",
              "    .dataframe tbody tr th {\n",
              "        vertical-align: top;\n",
              "    }\n",
              "\n",
              "    .dataframe thead th {\n",
              "        text-align: right;\n",
              "    }\n",
              "</style>\n",
              "<table border=\"1\" class=\"dataframe\">\n",
              "  <thead>\n",
              "    <tr style=\"text-align: right;\">\n",
              "      <th></th>\n",
              "      <th></th>\n",
              "      <th>user_id</th>\n",
              "    </tr>\n",
              "    <tr>\n",
              "      <th>year_created</th>\n",
              "      <th>month_created</th>\n",
              "      <th></th>\n",
              "    </tr>\n",
              "  </thead>\n",
              "  <tbody>\n",
              "    <tr>\n",
              "      <th rowspan=\"12\" valign=\"top\">2018</th>\n",
              "      <th>1</th>\n",
              "      <td>3662</td>\n",
              "    </tr>\n",
              "    <tr>\n",
              "      <th>2</th>\n",
              "      <td>10052</td>\n",
              "    </tr>\n",
              "    <tr>\n",
              "      <th>3</th>\n",
              "      <td>21503</td>\n",
              "    </tr>\n",
              "    <tr>\n",
              "      <th>4</th>\n",
              "      <td>30378</td>\n",
              "    </tr>\n",
              "    <tr>\n",
              "      <th>5</th>\n",
              "      <td>50507</td>\n",
              "    </tr>\n",
              "    <tr>\n",
              "      <th>6</th>\n",
              "      <td>62453</td>\n",
              "    </tr>\n",
              "    <tr>\n",
              "      <th>7</th>\n",
              "      <td>82694</td>\n",
              "    </tr>\n",
              "    <tr>\n",
              "      <th>8</th>\n",
              "      <td>106053</td>\n",
              "    </tr>\n",
              "    <tr>\n",
              "      <th>9</th>\n",
              "      <td>121264</td>\n",
              "    </tr>\n",
              "    <tr>\n",
              "      <th>10</th>\n",
              "      <td>140387</td>\n",
              "    </tr>\n",
              "    <tr>\n",
              "      <th>11</th>\n",
              "      <td>159424</td>\n",
              "    </tr>\n",
              "    <tr>\n",
              "      <th>12</th>\n",
              "      <td>182900</td>\n",
              "    </tr>\n",
              "    <tr>\n",
              "      <th rowspan=\"5\" valign=\"top\">2019</th>\n",
              "      <th>1</th>\n",
              "      <td>194250</td>\n",
              "    </tr>\n",
              "    <tr>\n",
              "      <th>2</th>\n",
              "      <td>206895</td>\n",
              "    </tr>\n",
              "    <tr>\n",
              "      <th>3</th>\n",
              "      <td>238883</td>\n",
              "    </tr>\n",
              "    <tr>\n",
              "      <th>4</th>\n",
              "      <td>231585</td>\n",
              "    </tr>\n",
              "    <tr>\n",
              "      <th>5</th>\n",
              "      <td>73497</td>\n",
              "    </tr>\n",
              "    <tr>\n",
              "      <th>All</th>\n",
              "      <th></th>\n",
              "      <td>1916387</td>\n",
              "    </tr>\n",
              "  </tbody>\n",
              "</table>\n",
              "</div>"
            ],
            "text/plain": [
              "                            user_id\n",
              "year_created month_created         \n",
              "2018         1                 3662\n",
              "             2                10052\n",
              "             3                21503\n",
              "             4                30378\n",
              "             5                50507\n",
              "             6                62453\n",
              "             7                82694\n",
              "             8               106053\n",
              "             9               121264\n",
              "             10              140387\n",
              "             11              159424\n",
              "             12              182900\n",
              "2019         1               194250\n",
              "             2               206895\n",
              "             3               238883\n",
              "             4               231585\n",
              "             5                73497\n",
              "All                         1916387"
            ]
          },
          "metadata": {
            "tags": []
          },
          "execution_count": 46
        }
      ]
    },
    {
      "cell_type": "code",
      "metadata": {
        "id": "e_YLABveSh_v",
        "colab_type": "code",
        "colab": {
          "base_uri": "https://localhost:8080/",
          "height": 0
        },
        "outputId": "40a317c1-f339-4bdc-f404-a361eeab1709"
      },
      "source": [
        "last_date_trans=max(trans.date_created)\n",
        "trans[\"days_before\"]=(last_date_trans-trans.date_created).dt.days\n",
        "trans.loc[trans.days_before<= 30, \"last_30d\"] = 1\n",
        "trans.loc[trans.days_before> 30, \"last_30d\"] = 0\n",
        "trans_30d=trans.pivot_table(index=\"user_id\",values=\"last_30d\",aggfunc=\"sum\",fill_value=0)\n",
        "trans_30d=pd.DataFrame(trans_30d.to_records())\n",
        "trans_30d.head()"
      ],
      "execution_count": 47,
      "outputs": [
        {
          "output_type": "stream",
          "text": [
            "/usr/local/lib/python3.6/dist-packages/ipykernel_launcher.py:2: SettingWithCopyWarning: \n",
            "A value is trying to be set on a copy of a slice from a DataFrame.\n",
            "Try using .loc[row_indexer,col_indexer] = value instead\n",
            "\n",
            "See the caveats in the documentation: https://pandas.pydata.org/pandas-docs/stable/user_guide/indexing.html#returning-a-view-versus-a-copy\n",
            "  \n",
            "/usr/local/lib/python3.6/dist-packages/pandas/core/indexing.py:845: SettingWithCopyWarning: \n",
            "A value is trying to be set on a copy of a slice from a DataFrame.\n",
            "Try using .loc[row_indexer,col_indexer] = value instead\n",
            "\n",
            "See the caveats in the documentation: https://pandas.pydata.org/pandas-docs/stable/user_guide/indexing.html#returning-a-view-versus-a-copy\n",
            "  self.obj[key] = _infer_fill_value(value)\n",
            "/usr/local/lib/python3.6/dist-packages/pandas/core/indexing.py:966: SettingWithCopyWarning: \n",
            "A value is trying to be set on a copy of a slice from a DataFrame.\n",
            "Try using .loc[row_indexer,col_indexer] = value instead\n",
            "\n",
            "See the caveats in the documentation: https://pandas.pydata.org/pandas-docs/stable/user_guide/indexing.html#returning-a-view-versus-a-copy\n",
            "  self.obj[item] = s\n"
          ],
          "name": "stderr"
        },
        {
          "output_type": "execute_result",
          "data": {
            "text/html": [
              "<div>\n",
              "<style scoped>\n",
              "    .dataframe tbody tr th:only-of-type {\n",
              "        vertical-align: middle;\n",
              "    }\n",
              "\n",
              "    .dataframe tbody tr th {\n",
              "        vertical-align: top;\n",
              "    }\n",
              "\n",
              "    .dataframe thead th {\n",
              "        text-align: right;\n",
              "    }\n",
              "</style>\n",
              "<table border=\"1\" class=\"dataframe\">\n",
              "  <thead>\n",
              "    <tr style=\"text-align: right;\">\n",
              "      <th></th>\n",
              "      <th>user_id</th>\n",
              "      <th>last_30d</th>\n",
              "    </tr>\n",
              "  </thead>\n",
              "  <tbody>\n",
              "    <tr>\n",
              "      <th>0</th>\n",
              "      <td>user_0</td>\n",
              "      <td>50</td>\n",
              "    </tr>\n",
              "    <tr>\n",
              "      <th>1</th>\n",
              "      <td>user_1</td>\n",
              "      <td>23</td>\n",
              "    </tr>\n",
              "    <tr>\n",
              "      <th>2</th>\n",
              "      <td>user_10</td>\n",
              "      <td>14</td>\n",
              "    </tr>\n",
              "    <tr>\n",
              "      <th>3</th>\n",
              "      <td>user_100</td>\n",
              "      <td>0</td>\n",
              "    </tr>\n",
              "    <tr>\n",
              "      <th>4</th>\n",
              "      <td>user_1000</td>\n",
              "      <td>22</td>\n",
              "    </tr>\n",
              "  </tbody>\n",
              "</table>\n",
              "</div>"
            ],
            "text/plain": [
              "     user_id  last_30d\n",
              "0     user_0        50\n",
              "1     user_1        23\n",
              "2    user_10        14\n",
              "3   user_100         0\n",
              "4  user_1000        22"
            ]
          },
          "metadata": {
            "tags": []
          },
          "execution_count": 47
        }
      ]
    },
    {
      "cell_type": "code",
      "metadata": {
        "id": "FsuAejuRqzfw",
        "colab_type": "code",
        "outputId": "92622f4a-3348-4103-a98d-996eead38596",
        "colab": {
          "base_uri": "https://localhost:8080/",
          "height": 0
        }
      },
      "source": [
        "trans.loc[trans.month_created>= 3, \"mar_to_may\"] = 1\n",
        "trans.loc[trans.year_created== 2019, \"in_2019\"] = 1\n",
        "trans.mar_to_may=trans.mar_to_may.fillna(0)\n",
        "trans.in_2019=trans.in_2019.fillna(0)\n",
        "trans[\"last_3_mon\"]=trans.in_2019*trans.mar_to_may\n",
        "trans=trans.drop({\"mar_to_may\",\"in_2019\"},axis=1)\n",
        "trans.head()"
      ],
      "execution_count": 48,
      "outputs": [
        {
          "output_type": "stream",
          "text": [
            "/usr/local/lib/python3.6/dist-packages/pandas/core/indexing.py:845: SettingWithCopyWarning: \n",
            "A value is trying to be set on a copy of a slice from a DataFrame.\n",
            "Try using .loc[row_indexer,col_indexer] = value instead\n",
            "\n",
            "See the caveats in the documentation: https://pandas.pydata.org/pandas-docs/stable/user_guide/indexing.html#returning-a-view-versus-a-copy\n",
            "  self.obj[key] = _infer_fill_value(value)\n",
            "/usr/local/lib/python3.6/dist-packages/pandas/core/indexing.py:966: SettingWithCopyWarning: \n",
            "A value is trying to be set on a copy of a slice from a DataFrame.\n",
            "Try using .loc[row_indexer,col_indexer] = value instead\n",
            "\n",
            "See the caveats in the documentation: https://pandas.pydata.org/pandas-docs/stable/user_guide/indexing.html#returning-a-view-versus-a-copy\n",
            "  self.obj[item] = s\n",
            "/usr/local/lib/python3.6/dist-packages/pandas/core/generic.py:5303: SettingWithCopyWarning: \n",
            "A value is trying to be set on a copy of a slice from a DataFrame.\n",
            "Try using .loc[row_indexer,col_indexer] = value instead\n",
            "\n",
            "See the caveats in the documentation: https://pandas.pydata.org/pandas-docs/stable/user_guide/indexing.html#returning-a-view-versus-a-copy\n",
            "  self[name] = value\n",
            "/usr/local/lib/python3.6/dist-packages/ipykernel_launcher.py:5: SettingWithCopyWarning: \n",
            "A value is trying to be set on a copy of a slice from a DataFrame.\n",
            "Try using .loc[row_indexer,col_indexer] = value instead\n",
            "\n",
            "See the caveats in the documentation: https://pandas.pydata.org/pandas-docs/stable/user_guide/indexing.html#returning-a-view-versus-a-copy\n",
            "  \"\"\"\n"
          ],
          "name": "stderr"
        },
        {
          "output_type": "execute_result",
          "data": {
            "text/html": [
              "<div>\n",
              "<style scoped>\n",
              "    .dataframe tbody tr th:only-of-type {\n",
              "        vertical-align: middle;\n",
              "    }\n",
              "\n",
              "    .dataframe tbody tr th {\n",
              "        vertical-align: top;\n",
              "    }\n",
              "\n",
              "    .dataframe thead th {\n",
              "        text-align: right;\n",
              "    }\n",
              "</style>\n",
              "<table border=\"1\" class=\"dataframe\">\n",
              "  <thead>\n",
              "    <tr style=\"text-align: right;\">\n",
              "      <th></th>\n",
              "      <th>transaction_id</th>\n",
              "      <th>transactions_type</th>\n",
              "      <th>transactions_currency</th>\n",
              "      <th>amount_usd</th>\n",
              "      <th>transactions_state</th>\n",
              "      <th>ea_cardholderpresence</th>\n",
              "      <th>ea_merchant_mcc</th>\n",
              "      <th>ea_merchant_city</th>\n",
              "      <th>ea_merchant_country</th>\n",
              "      <th>direction</th>\n",
              "      <th>user_id</th>\n",
              "      <th>created_date</th>\n",
              "      <th>mcc_group</th>\n",
              "      <th>date_created</th>\n",
              "      <th>year_created</th>\n",
              "      <th>month_created</th>\n",
              "      <th>days_before</th>\n",
              "      <th>last_30d</th>\n",
              "      <th>last_3_mon</th>\n",
              "    </tr>\n",
              "  </thead>\n",
              "  <tbody>\n",
              "    <tr>\n",
              "      <th>0</th>\n",
              "      <td>transaction_0</td>\n",
              "      <td>TRANSFER</td>\n",
              "      <td>AED</td>\n",
              "      <td>4.55</td>\n",
              "      <td>COMPLETED</td>\n",
              "      <td>NaN</td>\n",
              "      <td>11999.0</td>\n",
              "      <td>NaN</td>\n",
              "      <td>NaN</td>\n",
              "      <td>OUTBOUND</td>\n",
              "      <td>user_4368</td>\n",
              "      <td>2018-04-03 03:34:21.784487</td>\n",
              "      <td>Unknown</td>\n",
              "      <td>2018-04-03 03:34:21.784487</td>\n",
              "      <td>2018</td>\n",
              "      <td>4</td>\n",
              "      <td>407</td>\n",
              "      <td>0.0</td>\n",
              "      <td>0.0</td>\n",
              "    </tr>\n",
              "    <tr>\n",
              "      <th>1</th>\n",
              "      <td>transaction_1</td>\n",
              "      <td>CARD_PAYMENT</td>\n",
              "      <td>AED</td>\n",
              "      <td>15.50</td>\n",
              "      <td>COMPLETED</td>\n",
              "      <td>FALSE</td>\n",
              "      <td>4111.0</td>\n",
              "      <td>Dubai</td>\n",
              "      <td>ARE</td>\n",
              "      <td>OUTBOUND</td>\n",
              "      <td>user_2355</td>\n",
              "      <td>2019-03-19 06:15:59.537032</td>\n",
              "      <td>Transportation</td>\n",
              "      <td>2019-03-19 06:15:59.537032</td>\n",
              "      <td>2019</td>\n",
              "      <td>3</td>\n",
              "      <td>57</td>\n",
              "      <td>0.0</td>\n",
              "      <td>1.0</td>\n",
              "    </tr>\n",
              "    <tr>\n",
              "      <th>2</th>\n",
              "      <td>transaction_2</td>\n",
              "      <td>CARD_PAYMENT</td>\n",
              "      <td>AED</td>\n",
              "      <td>43.40</td>\n",
              "      <td>COMPLETED</td>\n",
              "      <td>FALSE</td>\n",
              "      <td>5814.0</td>\n",
              "      <td>Dubai</td>\n",
              "      <td>ARE</td>\n",
              "      <td>OUTBOUND</td>\n",
              "      <td>user_2355</td>\n",
              "      <td>2019-03-18 18:53:41.323032</td>\n",
              "      <td>Retail</td>\n",
              "      <td>2019-03-18 18:53:41.323032</td>\n",
              "      <td>2019</td>\n",
              "      <td>3</td>\n",
              "      <td>58</td>\n",
              "      <td>0.0</td>\n",
              "      <td>1.0</td>\n",
              "    </tr>\n",
              "    <tr>\n",
              "      <th>3</th>\n",
              "      <td>transaction_3</td>\n",
              "      <td>TRANSFER</td>\n",
              "      <td>AED</td>\n",
              "      <td>10043.01</td>\n",
              "      <td>COMPLETED</td>\n",
              "      <td>NaN</td>\n",
              "      <td>11999.0</td>\n",
              "      <td>NaN</td>\n",
              "      <td>NaN</td>\n",
              "      <td>OUTBOUND</td>\n",
              "      <td>user_2355</td>\n",
              "      <td>2019-03-22 14:20:01.513032</td>\n",
              "      <td>Unknown</td>\n",
              "      <td>2019-03-22 14:20:01.513032</td>\n",
              "      <td>2019</td>\n",
              "      <td>3</td>\n",
              "      <td>54</td>\n",
              "      <td>0.0</td>\n",
              "      <td>1.0</td>\n",
              "    </tr>\n",
              "    <tr>\n",
              "      <th>4</th>\n",
              "      <td>transaction_4</td>\n",
              "      <td>CARD_PAYMENT</td>\n",
              "      <td>AED</td>\n",
              "      <td>43.81</td>\n",
              "      <td>COMPLETED</td>\n",
              "      <td>FALSE</td>\n",
              "      <td>5651.0</td>\n",
              "      <td>Abu Dhabi</td>\n",
              "      <td>ARE</td>\n",
              "      <td>OUTBOUND</td>\n",
              "      <td>user_14318</td>\n",
              "      <td>2019-03-22 05:42:50.316652</td>\n",
              "      <td>Retail</td>\n",
              "      <td>2019-03-22 05:42:50.316652</td>\n",
              "      <td>2019</td>\n",
              "      <td>3</td>\n",
              "      <td>54</td>\n",
              "      <td>0.0</td>\n",
              "      <td>1.0</td>\n",
              "    </tr>\n",
              "  </tbody>\n",
              "</table>\n",
              "</div>"
            ],
            "text/plain": [
              "  transaction_id transactions_type  ... last_30d  last_3_mon\n",
              "0  transaction_0          TRANSFER  ...      0.0         0.0\n",
              "1  transaction_1      CARD_PAYMENT  ...      0.0         1.0\n",
              "2  transaction_2      CARD_PAYMENT  ...      0.0         1.0\n",
              "3  transaction_3          TRANSFER  ...      0.0         1.0\n",
              "4  transaction_4      CARD_PAYMENT  ...      0.0         1.0\n",
              "\n",
              "[5 rows x 19 columns]"
            ]
          },
          "metadata": {
            "tags": []
          },
          "execution_count": 48
        }
      ]
    },
    {
      "cell_type": "code",
      "metadata": {
        "id": "KubK8ZLKroUB",
        "colab_type": "code",
        "outputId": "f8087209-6cb2-4f54-db21-d2168e9cfe61",
        "colab": {
          "base_uri": "https://localhost:8080/",
          "height": 0
        }
      },
      "source": [
        "trans_q4=trans.pivot_table(index=\"user_id\",columns=\"last_3_mon\",values=\"year_created\",aggfunc=\"count\",fill_value=0)\n",
        "trans_q4=pd.DataFrame(trans_q4.to_records())\n",
        "trans_q4=trans_q4.drop({\"0.0\"},axis=1)\n",
        "trans_q4[\"trans_last_3m\"]=trans_q4['1.0']\n",
        "trans_q4.drop({\"1.0\"},axis=1,inplace=True)\n",
        "trans_q4.head()"
      ],
      "execution_count": 49,
      "outputs": [
        {
          "output_type": "execute_result",
          "data": {
            "text/html": [
              "<div>\n",
              "<style scoped>\n",
              "    .dataframe tbody tr th:only-of-type {\n",
              "        vertical-align: middle;\n",
              "    }\n",
              "\n",
              "    .dataframe tbody tr th {\n",
              "        vertical-align: top;\n",
              "    }\n",
              "\n",
              "    .dataframe thead th {\n",
              "        text-align: right;\n",
              "    }\n",
              "</style>\n",
              "<table border=\"1\" class=\"dataframe\">\n",
              "  <thead>\n",
              "    <tr style=\"text-align: right;\">\n",
              "      <th></th>\n",
              "      <th>user_id</th>\n",
              "      <th>trans_last_3m</th>\n",
              "    </tr>\n",
              "  </thead>\n",
              "  <tbody>\n",
              "    <tr>\n",
              "      <th>0</th>\n",
              "      <td>user_0</td>\n",
              "      <td>99</td>\n",
              "    </tr>\n",
              "    <tr>\n",
              "      <th>1</th>\n",
              "      <td>user_1</td>\n",
              "      <td>41</td>\n",
              "    </tr>\n",
              "    <tr>\n",
              "      <th>2</th>\n",
              "      <td>user_10</td>\n",
              "      <td>23</td>\n",
              "    </tr>\n",
              "    <tr>\n",
              "      <th>3</th>\n",
              "      <td>user_100</td>\n",
              "      <td>0</td>\n",
              "    </tr>\n",
              "    <tr>\n",
              "      <th>4</th>\n",
              "      <td>user_1000</td>\n",
              "      <td>43</td>\n",
              "    </tr>\n",
              "  </tbody>\n",
              "</table>\n",
              "</div>"
            ],
            "text/plain": [
              "     user_id  trans_last_3m\n",
              "0     user_0             99\n",
              "1     user_1             41\n",
              "2    user_10             23\n",
              "3   user_100              0\n",
              "4  user_1000             43"
            ]
          },
          "metadata": {
            "tags": []
          },
          "execution_count": 49
        }
      ]
    },
    {
      "cell_type": "code",
      "metadata": {
        "id": "dQEHD85HAvY8",
        "colab_type": "code",
        "outputId": "0dd62f2b-570a-4fc2-e745-6ba000a80e65",
        "colab": {
          "base_uri": "https://localhost:8080/",
          "height": 0
        }
      },
      "source": [
        "trans_type=trans.pivot_table(index=\"user_id\",columns=\"transactions_type\",values=\"amount_usd\",aggfunc=\"sum\",fill_value=0)\n",
        "trans_type=pd.DataFrame(trans_type.to_records())\n",
        "trans_type.drop(columns=\"TRANSFER\",inplace=True)\n",
        "trans_type2=trans[trans.transactions_type==\"TRANSFER\"].pivot_table(index=\"user_id\",columns=\"direction\",values=\"amount_usd\",aggfunc=\"sum\",fill_value=0)\n",
        "trans_type2=pd.DataFrame(trans_type2.to_records())\n",
        "trans_type2.rename(columns={\"INBOUND\":\"TRANSFER_in\",\"OUTBOUND\":\"TRANSFER_out\"},inplace=True)\n",
        "trans_type=pd.merge(trans_type,trans_type2,on=\"user_id\",how=\"outer\")\n",
        "trans_type=trans_type.fillna(0)\n",
        "trans_type.head()"
      ],
      "execution_count": 50,
      "outputs": [
        {
          "output_type": "execute_result",
          "data": {
            "text/html": [
              "<div>\n",
              "<style scoped>\n",
              "    .dataframe tbody tr th:only-of-type {\n",
              "        vertical-align: middle;\n",
              "    }\n",
              "\n",
              "    .dataframe tbody tr th {\n",
              "        vertical-align: top;\n",
              "    }\n",
              "\n",
              "    .dataframe thead th {\n",
              "        text-align: right;\n",
              "    }\n",
              "</style>\n",
              "<table border=\"1\" class=\"dataframe\">\n",
              "  <thead>\n",
              "    <tr style=\"text-align: right;\">\n",
              "      <th></th>\n",
              "      <th>user_id</th>\n",
              "      <th>ATM</th>\n",
              "      <th>CARD_PAYMENT</th>\n",
              "      <th>CARD_REFUND</th>\n",
              "      <th>CASHBACK</th>\n",
              "      <th>EXCHANGE</th>\n",
              "      <th>FEE</th>\n",
              "      <th>REFUND</th>\n",
              "      <th>TAX</th>\n",
              "      <th>TOPUP</th>\n",
              "      <th>TRANSFER_in</th>\n",
              "      <th>TRANSFER_out</th>\n",
              "    </tr>\n",
              "  </thead>\n",
              "  <tbody>\n",
              "    <tr>\n",
              "      <th>0</th>\n",
              "      <td>user_0</td>\n",
              "      <td>0.00</td>\n",
              "      <td>2199.93</td>\n",
              "      <td>13.00</td>\n",
              "      <td>0.00</td>\n",
              "      <td>183.20</td>\n",
              "      <td>0.00</td>\n",
              "      <td>0.0</td>\n",
              "      <td>0.0</td>\n",
              "      <td>3226.37</td>\n",
              "      <td>55.96</td>\n",
              "      <td>1246.62</td>\n",
              "    </tr>\n",
              "    <tr>\n",
              "      <th>1</th>\n",
              "      <td>user_1</td>\n",
              "      <td>1183.02</td>\n",
              "      <td>2441.48</td>\n",
              "      <td>0.00</td>\n",
              "      <td>0.00</td>\n",
              "      <td>0.00</td>\n",
              "      <td>0.00</td>\n",
              "      <td>0.0</td>\n",
              "      <td>0.0</td>\n",
              "      <td>6204.23</td>\n",
              "      <td>261.28</td>\n",
              "      <td>2865.53</td>\n",
              "    </tr>\n",
              "    <tr>\n",
              "      <th>2</th>\n",
              "      <td>user_10</td>\n",
              "      <td>408.51</td>\n",
              "      <td>1476.11</td>\n",
              "      <td>485.96</td>\n",
              "      <td>0.00</td>\n",
              "      <td>1.22</td>\n",
              "      <td>0.00</td>\n",
              "      <td>0.0</td>\n",
              "      <td>0.0</td>\n",
              "      <td>2264.05</td>\n",
              "      <td>0.00</td>\n",
              "      <td>803.07</td>\n",
              "    </tr>\n",
              "    <tr>\n",
              "      <th>3</th>\n",
              "      <td>user_100</td>\n",
              "      <td>425.66</td>\n",
              "      <td>1685.28</td>\n",
              "      <td>0.00</td>\n",
              "      <td>0.00</td>\n",
              "      <td>0.00</td>\n",
              "      <td>0.00</td>\n",
              "      <td>0.0</td>\n",
              "      <td>0.0</td>\n",
              "      <td>2119.16</td>\n",
              "      <td>0.00</td>\n",
              "      <td>0.00</td>\n",
              "    </tr>\n",
              "    <tr>\n",
              "      <th>4</th>\n",
              "      <td>user_1000</td>\n",
              "      <td>158.87</td>\n",
              "      <td>232.73</td>\n",
              "      <td>0.00</td>\n",
              "      <td>0.24</td>\n",
              "      <td>0.00</td>\n",
              "      <td>22.24</td>\n",
              "      <td>0.0</td>\n",
              "      <td>0.0</td>\n",
              "      <td>428.96</td>\n",
              "      <td>0.00</td>\n",
              "      <td>0.08</td>\n",
              "    </tr>\n",
              "  </tbody>\n",
              "</table>\n",
              "</div>"
            ],
            "text/plain": [
              "     user_id      ATM  CARD_PAYMENT  ...    TOPUP  TRANSFER_in  TRANSFER_out\n",
              "0     user_0     0.00       2199.93  ...  3226.37        55.96       1246.62\n",
              "1     user_1  1183.02       2441.48  ...  6204.23       261.28       2865.53\n",
              "2    user_10   408.51       1476.11  ...  2264.05         0.00        803.07\n",
              "3   user_100   425.66       1685.28  ...  2119.16         0.00          0.00\n",
              "4  user_1000   158.87        232.73  ...   428.96         0.00          0.08\n",
              "\n",
              "[5 rows x 12 columns]"
            ]
          },
          "metadata": {
            "tags": []
          },
          "execution_count": 50
        }
      ]
    },
    {
      "cell_type": "code",
      "metadata": {
        "id": "Zj3ZPxzvEa3t",
        "colab_type": "code",
        "colab": {
          "base_uri": "https://localhost:8080/",
          "height": 0
        },
        "outputId": "4eb219d0-ff9f-4669-cc34-3300a5425bfe"
      },
      "source": [
        "trans_pivot=pd.merge(trans_status,trans_type,on=\"user_id\",how=\"outer\")\n",
        "trans_pivot=pd.merge(trans_pivot,trans_amount,on=\"user_id\",how=\"outer\")\n",
        "trans_pivot=pd.merge(trans_pivot,trans_q4,on=\"user_id\",how=\"outer\")\n",
        "print(\"status rows\",trans_status.shape[0])\n",
        "print(\"type rows\",trans_type.shape[0])\n",
        "print(\"amount rows\",trans_amount.shape[0])\n",
        "print(\"trans Q4 rows: \",trans_q4.shape[0])\n",
        "print(\"total rows: \",trans_pivot.shape[0])"
      ],
      "execution_count": 51,
      "outputs": [
        {
          "output_type": "stream",
          "text": [
            "status rows 15012\n",
            "type rows 14821\n",
            "amount rows 14821\n",
            "trans Q4 rows:  14821\n",
            "total rows:  15012\n"
          ],
          "name": "stdout"
        }
      ]
    },
    {
      "cell_type": "markdown",
      "metadata": {
        "id": "-HMov36tQxBb",
        "colab_type": "text"
      },
      "source": [
        "##Final User file"
      ]
    },
    {
      "cell_type": "code",
      "metadata": {
        "id": "0P5UqtEMQ0u3",
        "colab_type": "code",
        "outputId": "8c1e6c7a-b50c-4453-9f32-28ac17161532",
        "colab": {
          "base_uri": "https://localhost:8080/",
          "height": 0
        }
      },
      "source": [
        "users.columns"
      ],
      "execution_count": 52,
      "outputs": [
        {
          "output_type": "execute_result",
          "data": {
            "text/plain": [
              "Index(['user_id', 'birth_year', 'country', 'city', 'created_date',\n",
              "       'user_settings_crypto_unlocked',\n",
              "       'attributes_notifications_marketing_push',\n",
              "       'attributes_notifications_marketing_email', 'num_contacts',\n",
              "       'num_referrals', 'num_successful_referrals', 'user_age', 'date_created',\n",
              "       'subscription_days', 'grouped_plan', 'Cluster', 'GDP_per_capita',\n",
              "       'age_group'],\n",
              "      dtype='object')"
            ]
          },
          "metadata": {
            "tags": []
          },
          "execution_count": 52
        }
      ]
    },
    {
      "cell_type": "code",
      "metadata": {
        "id": "DP4F0XEyR7TN",
        "colab_type": "code",
        "outputId": "29a9a387-816f-47b9-8a18-10832c2487e3",
        "colab": {
          "base_uri": "https://localhost:8080/",
          "height": 0
        }
      },
      "source": [
        "us_clas=pd.merge(users,dev,on=\"user_id\",how=\"outer\",)\n",
        "us_clas=pd.merge(us_clas,ntf_pivot,on=\"user_id\",how=\"outer\")\n",
        "us_clas=pd.merge(us_clas,trans_pivot,on=\"user_id\",how=\"outer\")\n",
        "us_clas=pd.merge(us_clas,trans_30d,on=\"user_id\",how=\"outer\")\n",
        "us_clas.columns"
      ],
      "execution_count": 53,
      "outputs": [
        {
          "output_type": "execute_result",
          "data": {
            "text/plain": [
              "Index(['user_id', 'birth_year', 'country', 'city', 'created_date',\n",
              "       'user_settings_crypto_unlocked',\n",
              "       'attributes_notifications_marketing_push',\n",
              "       'attributes_notifications_marketing_email', 'num_contacts',\n",
              "       'num_referrals', 'num_successful_referrals', 'user_age', 'date_created',\n",
              "       'subscription_days', 'grouped_plan', 'Cluster', 'GDP_per_capita',\n",
              "       'age_group', 'brand', 'Brand_Apple', 'Other', 'Mostly_paid_notif',\n",
              "       'Marketing_ntf', 'Useful_ntf', 'FAILED_x', 'SENT', 'EMAIL', 'PUSH',\n",
              "       'CANCELLED', 'COMPLETED', 'DECLINED', 'FAILED_y', 'PENDING', 'REVERTED',\n",
              "       'ATM', 'CARD_PAYMENT', 'CARD_REFUND', 'CASHBACK', 'EXCHANGE', 'FEE',\n",
              "       'REFUND', 'TAX', 'TOPUP', 'TRANSFER_in', 'TRANSFER_out',\n",
              "       'max_amount_in', 'max_amount_out', 'mean_amount_in', 'mean_amount_out',\n",
              "       'total_in', 'total_out', 'trans_last_3m', 'last_30d'],\n",
              "      dtype='object')"
            ]
          },
          "metadata": {
            "tags": []
          },
          "execution_count": 53
        }
      ]
    },
    {
      "cell_type": "code",
      "metadata": {
        "id": "QUGVPqpUHs2y",
        "colab_type": "code",
        "colab": {}
      },
      "source": [
        "us_clas.to_csv(\"total_users.csv\")"
      ],
      "execution_count": 0,
      "outputs": []
    },
    {
      "cell_type": "code",
      "metadata": {
        "id": "y9iES9AhX9gp",
        "colab_type": "code",
        "colab": {}
      },
      "source": [
        "#users.age_group = users.age_group.replace(\"Early Adult\", 1)\n",
        "#users.age_group = users.age_group.replace(\"LowMid Adult\", 2)\n",
        "#users.age_group = users.age_group.replace(\"UpMid Adult\", 3)\n",
        "#users.age_group = users.age_group.replace(\"Pensioner\", 4)\n",
        "#users=pd.get_dummies(users,columns=[\"age_group\"])"
      ],
      "execution_count": 0,
      "outputs": []
    },
    {
      "cell_type": "code",
      "metadata": {
        "id": "O9TBdQ0ia8Lv",
        "colab_type": "code",
        "colab": {}
      },
      "source": [
        "#us_clas=us_clas.rename(columns={\"grouped_plan\":\"paid\"})"
      ],
      "execution_count": 0,
      "outputs": []
    },
    {
      "cell_type": "code",
      "metadata": {
        "id": "s6Gj29LIaZIe",
        "colab_type": "code",
        "colab": {}
      },
      "source": [
        "#users.to_csv(\"/content/drive/My Drive/Project Future/Project/to_user_mod.csv\")\n",
        "#users=users.drop(columns=[\"user_id\",\"GDP_per_capita\",\"birth_year\",\"country\",\"user_age\",\"Full_Country\"])\n",
        "#users.columns"
      ],
      "execution_count": 0,
      "outputs": []
    },
    {
      "cell_type": "code",
      "metadata": {
        "id": "o1lhCUPRajpw",
        "colab_type": "code",
        "colab": {}
      },
      "source": [
        "#print(users.Cluster.unique())\n",
        "#users.Cluster.value_counts()\n",
        "#users=pd.get_dummies(users,columns=[\"Cluster\"])\n",
        "#users.head()"
      ],
      "execution_count": 0,
      "outputs": []
    },
    {
      "cell_type": "code",
      "metadata": {
        "id": "Di1g73jOhZXK",
        "colab_type": "code",
        "colab": {}
      },
      "source": [
        "#users=pd.get_dummies(users,columns=[\"GDP_per_capita\"])\n",
        "#users.head()"
      ],
      "execution_count": 0,
      "outputs": []
    },
    {
      "cell_type": "code",
      "metadata": {
        "id": "QF8why6ihd5L",
        "colab_type": "code",
        "outputId": "c89bcebb-90ec-4730-e57c-34738d0180f4",
        "colab": {
          "base_uri": "https://localhost:8080/",
          "height": 0
        }
      },
      "source": [
        "us_clas.dtypes"
      ],
      "execution_count": 60,
      "outputs": [
        {
          "output_type": "execute_result",
          "data": {
            "text/plain": [
              "user_id                                             object\n",
              "birth_year                                           int64\n",
              "country                                             object\n",
              "city                                                object\n",
              "created_date                                        object\n",
              "user_settings_crypto_unlocked                        int64\n",
              "attributes_notifications_marketing_push            float64\n",
              "attributes_notifications_marketing_email           float64\n",
              "num_contacts                                         int64\n",
              "num_referrals                                        int64\n",
              "num_successful_referrals                             int64\n",
              "user_age                                             int64\n",
              "date_created                                datetime64[ns]\n",
              "subscription_days                                    int64\n",
              "grouped_plan                                       float64\n",
              "Cluster                                             object\n",
              "GDP_per_capita                                      object\n",
              "age_group                                         category\n",
              "brand                                               object\n",
              "Brand_Apple                                        float64\n",
              "Other                                              float64\n",
              "Mostly_paid_notif                                  float64\n",
              "Marketing_ntf                                      float64\n",
              "Useful_ntf                                         float64\n",
              "FAILED_x                                           float64\n",
              "SENT                                               float64\n",
              "EMAIL                                              float64\n",
              "PUSH                                               float64\n",
              "CANCELLED                                          float64\n",
              "COMPLETED                                          float64\n",
              "DECLINED                                           float64\n",
              "FAILED_y                                           float64\n",
              "PENDING                                            float64\n",
              "REVERTED                                           float64\n",
              "ATM                                                float64\n",
              "CARD_PAYMENT                                       float64\n",
              "CARD_REFUND                                        float64\n",
              "CASHBACK                                           float64\n",
              "EXCHANGE                                           float64\n",
              "FEE                                                float64\n",
              "REFUND                                             float64\n",
              "TAX                                                float64\n",
              "TOPUP                                              float64\n",
              "TRANSFER_in                                        float64\n",
              "TRANSFER_out                                       float64\n",
              "max_amount_in                                      float64\n",
              "max_amount_out                                     float64\n",
              "mean_amount_in                                     float64\n",
              "mean_amount_out                                    float64\n",
              "total_in                                           float64\n",
              "total_out                                          float64\n",
              "trans_last_3m                                      float64\n",
              "last_30d                                           float64\n",
              "dtype: object"
            ]
          },
          "metadata": {
            "tags": []
          },
          "execution_count": 60
        }
      ]
    },
    {
      "cell_type": "code",
      "metadata": {
        "id": "4jB80e4xEfUj",
        "colab_type": "code",
        "outputId": "dadfd0e2-e685-48c9-b63d-3c327defb6e7",
        "colab": {
          "base_uri": "https://localhost:8080/",
          "height": 0
        }
      },
      "source": [
        "colnames=us_clas.columns\n",
        "df=pd.DataFrame(columns=[\"Column\",\"NumOfMissingVal\",\"UniqueVal\"])\n",
        "for cn in colnames:\n",
        "  df=df.append({\"Column\" : cn,\"NumOfMissingVal\": sum(pd.isna(us_clas[cn])),\"UniqueVal\":len(us_clas[cn].unique())},ignore_index=True)\n",
        "\n",
        "df"
      ],
      "execution_count": 61,
      "outputs": [
        {
          "output_type": "execute_result",
          "data": {
            "text/html": [
              "<div>\n",
              "<style scoped>\n",
              "    .dataframe tbody tr th:only-of-type {\n",
              "        vertical-align: middle;\n",
              "    }\n",
              "\n",
              "    .dataframe tbody tr th {\n",
              "        vertical-align: top;\n",
              "    }\n",
              "\n",
              "    .dataframe thead th {\n",
              "        text-align: right;\n",
              "    }\n",
              "</style>\n",
              "<table border=\"1\" class=\"dataframe\">\n",
              "  <thead>\n",
              "    <tr style=\"text-align: right;\">\n",
              "      <th></th>\n",
              "      <th>Column</th>\n",
              "      <th>NumOfMissingVal</th>\n",
              "      <th>UniqueVal</th>\n",
              "    </tr>\n",
              "  </thead>\n",
              "  <tbody>\n",
              "    <tr>\n",
              "      <th>0</th>\n",
              "      <td>user_id</td>\n",
              "      <td>0</td>\n",
              "      <td>15544</td>\n",
              "    </tr>\n",
              "    <tr>\n",
              "      <th>1</th>\n",
              "      <td>birth_year</td>\n",
              "      <td>0</td>\n",
              "      <td>69</td>\n",
              "    </tr>\n",
              "    <tr>\n",
              "      <th>2</th>\n",
              "      <td>country</td>\n",
              "      <td>0</td>\n",
              "      <td>40</td>\n",
              "    </tr>\n",
              "    <tr>\n",
              "      <th>3</th>\n",
              "      <td>city</td>\n",
              "      <td>0</td>\n",
              "      <td>5197</td>\n",
              "    </tr>\n",
              "    <tr>\n",
              "      <th>4</th>\n",
              "      <td>created_date</td>\n",
              "      <td>0</td>\n",
              "      <td>15544</td>\n",
              "    </tr>\n",
              "    <tr>\n",
              "      <th>5</th>\n",
              "      <td>user_settings_crypto_unlocked</td>\n",
              "      <td>0</td>\n",
              "      <td>2</td>\n",
              "    </tr>\n",
              "    <tr>\n",
              "      <th>6</th>\n",
              "      <td>attributes_notifications_marketing_push</td>\n",
              "      <td>5260</td>\n",
              "      <td>3</td>\n",
              "    </tr>\n",
              "    <tr>\n",
              "      <th>7</th>\n",
              "      <td>attributes_notifications_marketing_email</td>\n",
              "      <td>5260</td>\n",
              "      <td>3</td>\n",
              "    </tr>\n",
              "    <tr>\n",
              "      <th>8</th>\n",
              "      <td>num_contacts</td>\n",
              "      <td>0</td>\n",
              "      <td>283</td>\n",
              "    </tr>\n",
              "    <tr>\n",
              "      <th>9</th>\n",
              "      <td>num_referrals</td>\n",
              "      <td>0</td>\n",
              "      <td>1</td>\n",
              "    </tr>\n",
              "    <tr>\n",
              "      <th>10</th>\n",
              "      <td>num_successful_referrals</td>\n",
              "      <td>0</td>\n",
              "      <td>1</td>\n",
              "    </tr>\n",
              "    <tr>\n",
              "      <th>11</th>\n",
              "      <td>user_age</td>\n",
              "      <td>0</td>\n",
              "      <td>69</td>\n",
              "    </tr>\n",
              "    <tr>\n",
              "      <th>12</th>\n",
              "      <td>date_created</td>\n",
              "      <td>0</td>\n",
              "      <td>15544</td>\n",
              "    </tr>\n",
              "    <tr>\n",
              "      <th>13</th>\n",
              "      <td>subscription_days</td>\n",
              "      <td>0</td>\n",
              "      <td>368</td>\n",
              "    </tr>\n",
              "    <tr>\n",
              "      <th>14</th>\n",
              "      <td>grouped_plan</td>\n",
              "      <td>0</td>\n",
              "      <td>2</td>\n",
              "    </tr>\n",
              "    <tr>\n",
              "      <th>15</th>\n",
              "      <td>Cluster</td>\n",
              "      <td>0</td>\n",
              "      <td>5</td>\n",
              "    </tr>\n",
              "    <tr>\n",
              "      <th>16</th>\n",
              "      <td>GDP_per_capita</td>\n",
              "      <td>0</td>\n",
              "      <td>3</td>\n",
              "    </tr>\n",
              "    <tr>\n",
              "      <th>17</th>\n",
              "      <td>age_group</td>\n",
              "      <td>0</td>\n",
              "      <td>4</td>\n",
              "    </tr>\n",
              "    <tr>\n",
              "      <th>18</th>\n",
              "      <td>brand</td>\n",
              "      <td>0</td>\n",
              "      <td>3</td>\n",
              "    </tr>\n",
              "    <tr>\n",
              "      <th>19</th>\n",
              "      <td>Brand_Apple</td>\n",
              "      <td>0</td>\n",
              "      <td>2</td>\n",
              "    </tr>\n",
              "    <tr>\n",
              "      <th>20</th>\n",
              "      <td>Other</td>\n",
              "      <td>804</td>\n",
              "      <td>20</td>\n",
              "    </tr>\n",
              "    <tr>\n",
              "      <th>21</th>\n",
              "      <td>Mostly_paid_notif</td>\n",
              "      <td>804</td>\n",
              "      <td>9</td>\n",
              "    </tr>\n",
              "    <tr>\n",
              "      <th>22</th>\n",
              "      <td>Marketing_ntf</td>\n",
              "      <td>804</td>\n",
              "      <td>9</td>\n",
              "    </tr>\n",
              "    <tr>\n",
              "      <th>23</th>\n",
              "      <td>Useful_ntf</td>\n",
              "      <td>804</td>\n",
              "      <td>17</td>\n",
              "    </tr>\n",
              "    <tr>\n",
              "      <th>24</th>\n",
              "      <td>FAILED_x</td>\n",
              "      <td>388</td>\n",
              "      <td>53</td>\n",
              "    </tr>\n",
              "    <tr>\n",
              "      <th>25</th>\n",
              "      <td>SENT</td>\n",
              "      <td>388</td>\n",
              "      <td>20</td>\n",
              "    </tr>\n",
              "    <tr>\n",
              "      <th>26</th>\n",
              "      <td>EMAIL</td>\n",
              "      <td>804</td>\n",
              "      <td>12</td>\n",
              "    </tr>\n",
              "    <tr>\n",
              "      <th>27</th>\n",
              "      <td>PUSH</td>\n",
              "      <td>804</td>\n",
              "      <td>16</td>\n",
              "    </tr>\n",
              "    <tr>\n",
              "      <th>28</th>\n",
              "      <td>CANCELLED</td>\n",
              "      <td>532</td>\n",
              "      <td>9</td>\n",
              "    </tr>\n",
              "    <tr>\n",
              "      <th>29</th>\n",
              "      <td>COMPLETED</td>\n",
              "      <td>532</td>\n",
              "      <td>1014</td>\n",
              "    </tr>\n",
              "    <tr>\n",
              "      <th>30</th>\n",
              "      <td>DECLINED</td>\n",
              "      <td>532</td>\n",
              "      <td>152</td>\n",
              "    </tr>\n",
              "    <tr>\n",
              "      <th>31</th>\n",
              "      <td>FAILED_y</td>\n",
              "      <td>532</td>\n",
              "      <td>78</td>\n",
              "    </tr>\n",
              "    <tr>\n",
              "      <th>32</th>\n",
              "      <td>PENDING</td>\n",
              "      <td>532</td>\n",
              "      <td>42</td>\n",
              "    </tr>\n",
              "    <tr>\n",
              "      <th>33</th>\n",
              "      <td>REVERTED</td>\n",
              "      <td>532</td>\n",
              "      <td>99</td>\n",
              "    </tr>\n",
              "    <tr>\n",
              "      <th>34</th>\n",
              "      <td>ATM</td>\n",
              "      <td>723</td>\n",
              "      <td>6324</td>\n",
              "    </tr>\n",
              "    <tr>\n",
              "      <th>35</th>\n",
              "      <td>CARD_PAYMENT</td>\n",
              "      <td>723</td>\n",
              "      <td>11695</td>\n",
              "    </tr>\n",
              "    <tr>\n",
              "      <th>36</th>\n",
              "      <td>CARD_REFUND</td>\n",
              "      <td>723</td>\n",
              "      <td>2545</td>\n",
              "    </tr>\n",
              "    <tr>\n",
              "      <th>37</th>\n",
              "      <td>CASHBACK</td>\n",
              "      <td>723</td>\n",
              "      <td>447</td>\n",
              "    </tr>\n",
              "    <tr>\n",
              "      <th>38</th>\n",
              "      <td>EXCHANGE</td>\n",
              "      <td>723</td>\n",
              "      <td>6513</td>\n",
              "    </tr>\n",
              "    <tr>\n",
              "      <th>39</th>\n",
              "      <td>FEE</td>\n",
              "      <td>723</td>\n",
              "      <td>1027</td>\n",
              "    </tr>\n",
              "    <tr>\n",
              "      <th>40</th>\n",
              "      <td>REFUND</td>\n",
              "      <td>723</td>\n",
              "      <td>403</td>\n",
              "    </tr>\n",
              "    <tr>\n",
              "      <th>41</th>\n",
              "      <td>TAX</td>\n",
              "      <td>723</td>\n",
              "      <td>34</td>\n",
              "    </tr>\n",
              "    <tr>\n",
              "      <th>42</th>\n",
              "      <td>TOPUP</td>\n",
              "      <td>723</td>\n",
              "      <td>9844</td>\n",
              "    </tr>\n",
              "    <tr>\n",
              "      <th>43</th>\n",
              "      <td>TRANSFER_in</td>\n",
              "      <td>723</td>\n",
              "      <td>3547</td>\n",
              "    </tr>\n",
              "    <tr>\n",
              "      <th>44</th>\n",
              "      <td>TRANSFER_out</td>\n",
              "      <td>723</td>\n",
              "      <td>8407</td>\n",
              "    </tr>\n",
              "    <tr>\n",
              "      <th>45</th>\n",
              "      <td>max_amount_in</td>\n",
              "      <td>920</td>\n",
              "      <td>2757</td>\n",
              "    </tr>\n",
              "    <tr>\n",
              "      <th>46</th>\n",
              "      <td>max_amount_out</td>\n",
              "      <td>1347</td>\n",
              "      <td>7794</td>\n",
              "    </tr>\n",
              "    <tr>\n",
              "      <th>47</th>\n",
              "      <td>mean_amount_in</td>\n",
              "      <td>920</td>\n",
              "      <td>11638</td>\n",
              "    </tr>\n",
              "    <tr>\n",
              "      <th>48</th>\n",
              "      <td>mean_amount_out</td>\n",
              "      <td>1347</td>\n",
              "      <td>13323</td>\n",
              "    </tr>\n",
              "    <tr>\n",
              "      <th>49</th>\n",
              "      <td>total_in</td>\n",
              "      <td>920</td>\n",
              "      <td>11010</td>\n",
              "    </tr>\n",
              "    <tr>\n",
              "      <th>50</th>\n",
              "      <td>total_out</td>\n",
              "      <td>1347</td>\n",
              "      <td>13227</td>\n",
              "    </tr>\n",
              "    <tr>\n",
              "      <th>51</th>\n",
              "      <td>trans_last_3m</td>\n",
              "      <td>723</td>\n",
              "      <td>456</td>\n",
              "    </tr>\n",
              "    <tr>\n",
              "      <th>52</th>\n",
              "      <td>last_30d</td>\n",
              "      <td>723</td>\n",
              "      <td>223</td>\n",
              "    </tr>\n",
              "  </tbody>\n",
              "</table>\n",
              "</div>"
            ],
            "text/plain": [
              "                                      Column NumOfMissingVal UniqueVal\n",
              "0                                    user_id               0     15544\n",
              "1                                 birth_year               0        69\n",
              "2                                    country               0        40\n",
              "3                                       city               0      5197\n",
              "4                               created_date               0     15544\n",
              "5              user_settings_crypto_unlocked               0         2\n",
              "6    attributes_notifications_marketing_push            5260         3\n",
              "7   attributes_notifications_marketing_email            5260         3\n",
              "8                               num_contacts               0       283\n",
              "9                              num_referrals               0         1\n",
              "10                  num_successful_referrals               0         1\n",
              "11                                  user_age               0        69\n",
              "12                              date_created               0     15544\n",
              "13                         subscription_days               0       368\n",
              "14                              grouped_plan               0         2\n",
              "15                                   Cluster               0         5\n",
              "16                            GDP_per_capita               0         3\n",
              "17                                 age_group               0         4\n",
              "18                                     brand               0         3\n",
              "19                               Brand_Apple               0         2\n",
              "20                                     Other             804        20\n",
              "21                         Mostly_paid_notif             804         9\n",
              "22                             Marketing_ntf             804         9\n",
              "23                                Useful_ntf             804        17\n",
              "24                                  FAILED_x             388        53\n",
              "25                                      SENT             388        20\n",
              "26                                     EMAIL             804        12\n",
              "27                                      PUSH             804        16\n",
              "28                                 CANCELLED             532         9\n",
              "29                                 COMPLETED             532      1014\n",
              "30                                  DECLINED             532       152\n",
              "31                                  FAILED_y             532        78\n",
              "32                                   PENDING             532        42\n",
              "33                                  REVERTED             532        99\n",
              "34                                       ATM             723      6324\n",
              "35                              CARD_PAYMENT             723     11695\n",
              "36                               CARD_REFUND             723      2545\n",
              "37                                  CASHBACK             723       447\n",
              "38                                  EXCHANGE             723      6513\n",
              "39                                       FEE             723      1027\n",
              "40                                    REFUND             723       403\n",
              "41                                       TAX             723        34\n",
              "42                                     TOPUP             723      9844\n",
              "43                               TRANSFER_in             723      3547\n",
              "44                              TRANSFER_out             723      8407\n",
              "45                             max_amount_in             920      2757\n",
              "46                            max_amount_out            1347      7794\n",
              "47                            mean_amount_in             920     11638\n",
              "48                           mean_amount_out            1347     13323\n",
              "49                                  total_in             920     11010\n",
              "50                                 total_out            1347     13227\n",
              "51                             trans_last_3m             723       456\n",
              "52                                  last_30d             723       223"
            ]
          },
          "metadata": {
            "tags": []
          },
          "execution_count": 61
        }
      ]
    },
    {
      "cell_type": "code",
      "metadata": {
        "id": "1raXK-TyfWNL",
        "colab_type": "code",
        "colab": {}
      },
      "source": [
        "#us_clas=us_clas.fillna(0)"
      ],
      "execution_count": 0,
      "outputs": []
    },
    {
      "cell_type": "code",
      "metadata": {
        "id": "7KepyH16g3rS",
        "colab_type": "code",
        "outputId": "9fc900d1-ff93-4b06-ca67-d71e474b2d79",
        "colab": {
          "base_uri": "https://localhost:8080/",
          "height": 0
        }
      },
      "source": [
        "'''\n",
        "colnames=us_clas.columns\n",
        "df=pd.DataFrame(columns=[\"Column\",\"NumOfMissingVal\",\"UniqueVal\"])\n",
        "for cn in colnames:\n",
        "  df=df.append({\"Column\" : cn,\"NumOfMissingVal\": sum(pd.isna(us_clas[cn])),\"UniqueVal\":len(us_clas[cn].unique())},ignore_index=True)\n",
        "\n",
        "df\n",
        "'''"
      ],
      "execution_count": 63,
      "outputs": [
        {
          "output_type": "execute_result",
          "data": {
            "text/plain": [
              "'\\ncolnames=us_clas.columns\\ndf=pd.DataFrame(columns=[\"Column\",\"NumOfMissingVal\",\"UniqueVal\"])\\nfor cn in colnames:\\n  df=df.append({\"Column\" : cn,\"NumOfMissingVal\": sum(pd.isna(us_clas[cn])),\"UniqueVal\":len(us_clas[cn].unique())},ignore_index=True)\\n\\ndf\\n'"
            ]
          },
          "metadata": {
            "tags": []
          },
          "execution_count": 63
        }
      ]
    },
    {
      "cell_type": "code",
      "metadata": {
        "id": "IHbXeHcA4aQS",
        "colab_type": "code",
        "outputId": "92c6f7e6-e4b8-40a2-8267-1dec2a3b5a89",
        "colab": {
          "base_uri": "https://localhost:8080/",
          "height": 0
        }
      },
      "source": [
        "us_clas.describe()"
      ],
      "execution_count": 64,
      "outputs": [
        {
          "output_type": "execute_result",
          "data": {
            "text/html": [
              "<div>\n",
              "<style scoped>\n",
              "    .dataframe tbody tr th:only-of-type {\n",
              "        vertical-align: middle;\n",
              "    }\n",
              "\n",
              "    .dataframe tbody tr th {\n",
              "        vertical-align: top;\n",
              "    }\n",
              "\n",
              "    .dataframe thead th {\n",
              "        text-align: right;\n",
              "    }\n",
              "</style>\n",
              "<table border=\"1\" class=\"dataframe\">\n",
              "  <thead>\n",
              "    <tr style=\"text-align: right;\">\n",
              "      <th></th>\n",
              "      <th>birth_year</th>\n",
              "      <th>user_settings_crypto_unlocked</th>\n",
              "      <th>attributes_notifications_marketing_push</th>\n",
              "      <th>attributes_notifications_marketing_email</th>\n",
              "      <th>num_contacts</th>\n",
              "      <th>num_referrals</th>\n",
              "      <th>num_successful_referrals</th>\n",
              "      <th>user_age</th>\n",
              "      <th>subscription_days</th>\n",
              "      <th>grouped_plan</th>\n",
              "      <th>Brand_Apple</th>\n",
              "      <th>Other</th>\n",
              "      <th>Mostly_paid_notif</th>\n",
              "      <th>Marketing_ntf</th>\n",
              "      <th>Useful_ntf</th>\n",
              "      <th>FAILED_x</th>\n",
              "      <th>SENT</th>\n",
              "      <th>EMAIL</th>\n",
              "      <th>PUSH</th>\n",
              "      <th>CANCELLED</th>\n",
              "      <th>COMPLETED</th>\n",
              "      <th>DECLINED</th>\n",
              "      <th>FAILED_y</th>\n",
              "      <th>PENDING</th>\n",
              "      <th>REVERTED</th>\n",
              "      <th>ATM</th>\n",
              "      <th>CARD_PAYMENT</th>\n",
              "      <th>CARD_REFUND</th>\n",
              "      <th>CASHBACK</th>\n",
              "      <th>EXCHANGE</th>\n",
              "      <th>FEE</th>\n",
              "      <th>REFUND</th>\n",
              "      <th>TAX</th>\n",
              "      <th>TOPUP</th>\n",
              "      <th>TRANSFER_in</th>\n",
              "      <th>TRANSFER_out</th>\n",
              "      <th>max_amount_in</th>\n",
              "      <th>max_amount_out</th>\n",
              "      <th>mean_amount_in</th>\n",
              "      <th>mean_amount_out</th>\n",
              "      <th>total_in</th>\n",
              "      <th>total_out</th>\n",
              "      <th>trans_last_3m</th>\n",
              "      <th>last_30d</th>\n",
              "    </tr>\n",
              "  </thead>\n",
              "  <tbody>\n",
              "    <tr>\n",
              "      <th>count</th>\n",
              "      <td>15544.000000</td>\n",
              "      <td>15544.000000</td>\n",
              "      <td>10284.000000</td>\n",
              "      <td>10284.000000</td>\n",
              "      <td>15544.000000</td>\n",
              "      <td>15544.0</td>\n",
              "      <td>15544.0</td>\n",
              "      <td>15544.000000</td>\n",
              "      <td>15544.000000</td>\n",
              "      <td>15544.000000</td>\n",
              "      <td>15544.000000</td>\n",
              "      <td>14740.000000</td>\n",
              "      <td>14740.000000</td>\n",
              "      <td>14740.000000</td>\n",
              "      <td>14740.000000</td>\n",
              "      <td>15156.000000</td>\n",
              "      <td>15156.000000</td>\n",
              "      <td>14740.000000</td>\n",
              "      <td>14740.000000</td>\n",
              "      <td>15012.000000</td>\n",
              "      <td>15012.000000</td>\n",
              "      <td>15012.000000</td>\n",
              "      <td>15012.000000</td>\n",
              "      <td>15012.000000</td>\n",
              "      <td>15012.000000</td>\n",
              "      <td>14821.000000</td>\n",
              "      <td>14821.000000</td>\n",
              "      <td>14821.000000</td>\n",
              "      <td>14821.000000</td>\n",
              "      <td>1.482100e+04</td>\n",
              "      <td>14821.000000</td>\n",
              "      <td>14821.000000</td>\n",
              "      <td>14821.000000</td>\n",
              "      <td>14821.000000</td>\n",
              "      <td>14821.000000</td>\n",
              "      <td>14821.000000</td>\n",
              "      <td>14624.000000</td>\n",
              "      <td>14197.000000</td>\n",
              "      <td>14624.000000</td>\n",
              "      <td>14197.000000</td>\n",
              "      <td>14624.000000</td>\n",
              "      <td>1.419700e+04</td>\n",
              "      <td>14821.000000</td>\n",
              "      <td>14821.000000</td>\n",
              "    </tr>\n",
              "    <tr>\n",
              "      <th>mean</th>\n",
              "      <td>1983.666624</td>\n",
              "      <td>0.182385</td>\n",
              "      <td>0.948269</td>\n",
              "      <td>0.895469</td>\n",
              "      <td>17.874228</td>\n",
              "      <td>0.0</td>\n",
              "      <td>0.0</td>\n",
              "      <td>36.333376</td>\n",
              "      <td>685.650733</td>\n",
              "      <td>0.073984</td>\n",
              "      <td>0.496140</td>\n",
              "      <td>4.781615</td>\n",
              "      <td>0.082225</td>\n",
              "      <td>1.898915</td>\n",
              "      <td>2.964925</td>\n",
              "      <td>1.716218</td>\n",
              "      <td>4.730338</td>\n",
              "      <td>2.351153</td>\n",
              "      <td>2.460516</td>\n",
              "      <td>0.090861</td>\n",
              "      <td>127.657008</td>\n",
              "      <td>8.275113</td>\n",
              "      <td>2.169331</td>\n",
              "      <td>1.142619</td>\n",
              "      <td>5.950573</td>\n",
              "      <td>293.221721</td>\n",
              "      <td>1376.627626</td>\n",
              "      <td>40.386541</td>\n",
              "      <td>0.375265</td>\n",
              "      <td>1.628564e+03</td>\n",
              "      <td>10.290986</td>\n",
              "      <td>32.215083</td>\n",
              "      <td>0.015126</td>\n",
              "      <td>3117.630644</td>\n",
              "      <td>139.831518</td>\n",
              "      <td>1703.584486</td>\n",
              "      <td>802.860096</td>\n",
              "      <td>741.463610</td>\n",
              "      <td>186.813376</td>\n",
              "      <td>80.512960</td>\n",
              "      <td>3375.303418</td>\n",
              "      <td>5.232610e+03</td>\n",
              "      <td>36.702314</td>\n",
              "      <td>13.258889</td>\n",
              "    </tr>\n",
              "    <tr>\n",
              "      <th>std</th>\n",
              "      <td>11.369184</td>\n",
              "      <td>0.386174</td>\n",
              "      <td>0.221494</td>\n",
              "      <td>0.305963</td>\n",
              "      <td>47.549929</td>\n",
              "      <td>0.0</td>\n",
              "      <td>0.0</td>\n",
              "      <td>11.369184</td>\n",
              "      <td>104.708764</td>\n",
              "      <td>0.261753</td>\n",
              "      <td>0.500001</td>\n",
              "      <td>2.604542</td>\n",
              "      <td>0.452983</td>\n",
              "      <td>1.284841</td>\n",
              "      <td>2.237097</td>\n",
              "      <td>4.362390</td>\n",
              "      <td>2.757586</td>\n",
              "      <td>1.591424</td>\n",
              "      <td>2.144328</td>\n",
              "      <td>0.393477</td>\n",
              "      <td>222.903678</td>\n",
              "      <td>20.178412</td>\n",
              "      <td>7.606309</td>\n",
              "      <td>3.044161</td>\n",
              "      <td>9.214096</td>\n",
              "      <td>884.523795</td>\n",
              "      <td>2879.392424</td>\n",
              "      <td>632.875899</td>\n",
              "      <td>5.564296</td>\n",
              "      <td>2.792114e+04</td>\n",
              "      <td>26.463754</td>\n",
              "      <td>1729.865555</td>\n",
              "      <td>0.147645</td>\n",
              "      <td>11825.340798</td>\n",
              "      <td>877.349541</td>\n",
              "      <td>11263.091498</td>\n",
              "      <td>6067.584916</td>\n",
              "      <td>6173.155371</td>\n",
              "      <td>858.115749</td>\n",
              "      <td>647.498367</td>\n",
              "      <td>12594.000974</td>\n",
              "      <td>3.485863e+04</td>\n",
              "      <td>73.972399</td>\n",
              "      <td>28.000204</td>\n",
              "    </tr>\n",
              "    <tr>\n",
              "      <th>min</th>\n",
              "      <td>1929.000000</td>\n",
              "      <td>0.000000</td>\n",
              "      <td>0.000000</td>\n",
              "      <td>0.000000</td>\n",
              "      <td>0.000000</td>\n",
              "      <td>0.0</td>\n",
              "      <td>0.0</td>\n",
              "      <td>19.000000</td>\n",
              "      <td>522.000000</td>\n",
              "      <td>0.000000</td>\n",
              "      <td>0.000000</td>\n",
              "      <td>0.000000</td>\n",
              "      <td>0.000000</td>\n",
              "      <td>0.000000</td>\n",
              "      <td>0.000000</td>\n",
              "      <td>0.000000</td>\n",
              "      <td>0.000000</td>\n",
              "      <td>0.000000</td>\n",
              "      <td>0.000000</td>\n",
              "      <td>0.000000</td>\n",
              "      <td>0.000000</td>\n",
              "      <td>0.000000</td>\n",
              "      <td>0.000000</td>\n",
              "      <td>0.000000</td>\n",
              "      <td>0.000000</td>\n",
              "      <td>0.000000</td>\n",
              "      <td>0.000000</td>\n",
              "      <td>0.000000</td>\n",
              "      <td>0.000000</td>\n",
              "      <td>0.000000e+00</td>\n",
              "      <td>0.000000</td>\n",
              "      <td>0.000000</td>\n",
              "      <td>0.000000</td>\n",
              "      <td>0.000000</td>\n",
              "      <td>0.000000</td>\n",
              "      <td>0.000000</td>\n",
              "      <td>0.000000</td>\n",
              "      <td>0.010000</td>\n",
              "      <td>0.000000</td>\n",
              "      <td>0.010000</td>\n",
              "      <td>0.000000</td>\n",
              "      <td>1.000000e-02</td>\n",
              "      <td>0.000000</td>\n",
              "      <td>0.000000</td>\n",
              "    </tr>\n",
              "    <tr>\n",
              "      <th>25%</th>\n",
              "      <td>1977.000000</td>\n",
              "      <td>0.000000</td>\n",
              "      <td>1.000000</td>\n",
              "      <td>1.000000</td>\n",
              "      <td>0.000000</td>\n",
              "      <td>0.0</td>\n",
              "      <td>0.0</td>\n",
              "      <td>28.000000</td>\n",
              "      <td>594.000000</td>\n",
              "      <td>0.000000</td>\n",
              "      <td>0.000000</td>\n",
              "      <td>3.000000</td>\n",
              "      <td>0.000000</td>\n",
              "      <td>1.000000</td>\n",
              "      <td>1.000000</td>\n",
              "      <td>0.000000</td>\n",
              "      <td>3.000000</td>\n",
              "      <td>1.000000</td>\n",
              "      <td>1.000000</td>\n",
              "      <td>0.000000</td>\n",
              "      <td>12.000000</td>\n",
              "      <td>0.000000</td>\n",
              "      <td>0.000000</td>\n",
              "      <td>0.000000</td>\n",
              "      <td>1.000000</td>\n",
              "      <td>0.000000</td>\n",
              "      <td>23.030000</td>\n",
              "      <td>0.000000</td>\n",
              "      <td>0.000000</td>\n",
              "      <td>0.000000e+00</td>\n",
              "      <td>0.000000</td>\n",
              "      <td>0.000000</td>\n",
              "      <td>0.000000</td>\n",
              "      <td>127.660000</td>\n",
              "      <td>0.000000</td>\n",
              "      <td>0.000000</td>\n",
              "      <td>85.110000</td>\n",
              "      <td>66.140000</td>\n",
              "      <td>28.771204</td>\n",
              "      <td>11.702500</td>\n",
              "      <td>194.040000</td>\n",
              "      <td>2.737100e+02</td>\n",
              "      <td>0.000000</td>\n",
              "      <td>0.000000</td>\n",
              "    </tr>\n",
              "    <tr>\n",
              "      <th>50%</th>\n",
              "      <td>1986.000000</td>\n",
              "      <td>0.000000</td>\n",
              "      <td>1.000000</td>\n",
              "      <td>1.000000</td>\n",
              "      <td>5.000000</td>\n",
              "      <td>0.0</td>\n",
              "      <td>0.0</td>\n",
              "      <td>34.000000</td>\n",
              "      <td>676.000000</td>\n",
              "      <td>0.000000</td>\n",
              "      <td>0.000000</td>\n",
              "      <td>4.000000</td>\n",
              "      <td>0.000000</td>\n",
              "      <td>2.000000</td>\n",
              "      <td>3.000000</td>\n",
              "      <td>1.000000</td>\n",
              "      <td>4.000000</td>\n",
              "      <td>2.000000</td>\n",
              "      <td>2.000000</td>\n",
              "      <td>0.000000</td>\n",
              "      <td>49.000000</td>\n",
              "      <td>3.000000</td>\n",
              "      <td>0.000000</td>\n",
              "      <td>0.000000</td>\n",
              "      <td>3.000000</td>\n",
              "      <td>19.530000</td>\n",
              "      <td>424.950000</td>\n",
              "      <td>0.000000</td>\n",
              "      <td>0.000000</td>\n",
              "      <td>0.000000e+00</td>\n",
              "      <td>1.990000</td>\n",
              "      <td>0.000000</td>\n",
              "      <td>0.000000</td>\n",
              "      <td>829.140000</td>\n",
              "      <td>0.000000</td>\n",
              "      <td>61.280000</td>\n",
              "      <td>250.000000</td>\n",
              "      <td>198.830000</td>\n",
              "      <td>73.407917</td>\n",
              "      <td>24.588953</td>\n",
              "      <td>968.140000</td>\n",
              "      <td>1.310450e+03</td>\n",
              "      <td>9.000000</td>\n",
              "      <td>2.000000</td>\n",
              "    </tr>\n",
              "    <tr>\n",
              "      <th>75%</th>\n",
              "      <td>1992.000000</td>\n",
              "      <td>0.000000</td>\n",
              "      <td>1.000000</td>\n",
              "      <td>1.000000</td>\n",
              "      <td>19.000000</td>\n",
              "      <td>0.0</td>\n",
              "      <td>0.0</td>\n",
              "      <td>43.000000</td>\n",
              "      <td>772.000000</td>\n",
              "      <td>0.000000</td>\n",
              "      <td>1.000000</td>\n",
              "      <td>6.000000</td>\n",
              "      <td>0.000000</td>\n",
              "      <td>3.000000</td>\n",
              "      <td>4.000000</td>\n",
              "      <td>2.000000</td>\n",
              "      <td>6.000000</td>\n",
              "      <td>3.000000</td>\n",
              "      <td>4.000000</td>\n",
              "      <td>0.000000</td>\n",
              "      <td>141.000000</td>\n",
              "      <td>9.000000</td>\n",
              "      <td>2.000000</td>\n",
              "      <td>1.000000</td>\n",
              "      <td>7.000000</td>\n",
              "      <td>257.800000</td>\n",
              "      <td>1561.650000</td>\n",
              "      <td>0.000000</td>\n",
              "      <td>0.000000</td>\n",
              "      <td>5.115500e+02</td>\n",
              "      <td>5.100000</td>\n",
              "      <td>0.000000</td>\n",
              "      <td>0.000000</td>\n",
              "      <td>2756.860000</td>\n",
              "      <td>20.000000</td>\n",
              "      <td>634.390000</td>\n",
              "      <td>556.730000</td>\n",
              "      <td>500.000000</td>\n",
              "      <td>157.110714</td>\n",
              "      <td>50.501765</td>\n",
              "      <td>3017.680000</td>\n",
              "      <td>4.072610e+03</td>\n",
              "      <td>39.000000</td>\n",
              "      <td>14.000000</td>\n",
              "    </tr>\n",
              "    <tr>\n",
              "      <th>max</th>\n",
              "      <td>2001.000000</td>\n",
              "      <td>1.000000</td>\n",
              "      <td>1.000000</td>\n",
              "      <td>1.000000</td>\n",
              "      <td>2918.000000</td>\n",
              "      <td>0.0</td>\n",
              "      <td>0.0</td>\n",
              "      <td>91.000000</td>\n",
              "      <td>889.000000</td>\n",
              "      <td>1.000000</td>\n",
              "      <td>1.000000</td>\n",
              "      <td>20.000000</td>\n",
              "      <td>7.000000</td>\n",
              "      <td>7.000000</td>\n",
              "      <td>17.000000</td>\n",
              "      <td>283.000000</td>\n",
              "      <td>20.000000</td>\n",
              "      <td>10.000000</td>\n",
              "      <td>16.000000</td>\n",
              "      <td>7.000000</td>\n",
              "      <td>2995.000000</td>\n",
              "      <td>903.000000</td>\n",
              "      <td>418.000000</td>\n",
              "      <td>84.000000</td>\n",
              "      <td>226.000000</td>\n",
              "      <td>31591.450000</td>\n",
              "      <td>81092.070000</td>\n",
              "      <td>52843.930000</td>\n",
              "      <td>431.520000</td>\n",
              "      <td>3.110483e+06</td>\n",
              "      <td>343.300000</td>\n",
              "      <td>166335.710000</td>\n",
              "      <td>7.570000</td>\n",
              "      <td>672681.410000</td>\n",
              "      <td>59862.010000</td>\n",
              "      <td>710283.280000</td>\n",
              "      <td>612766.460000</td>\n",
              "      <td>612766.460000</td>\n",
              "      <td>56895.852000</td>\n",
              "      <td>51794.920909</td>\n",
              "      <td>703909.710000</td>\n",
              "      <td>3.127983e+06</td>\n",
              "      <td>1332.000000</td>\n",
              "      <td>470.000000</td>\n",
              "    </tr>\n",
              "  </tbody>\n",
              "</table>\n",
              "</div>"
            ],
            "text/plain": [
              "         birth_year  user_settings_crypto_unlocked  ...  trans_last_3m      last_30d\n",
              "count  15544.000000                   15544.000000  ...   14821.000000  14821.000000\n",
              "mean    1983.666624                       0.182385  ...      36.702314     13.258889\n",
              "std       11.369184                       0.386174  ...      73.972399     28.000204\n",
              "min     1929.000000                       0.000000  ...       0.000000      0.000000\n",
              "25%     1977.000000                       0.000000  ...       0.000000      0.000000\n",
              "50%     1986.000000                       0.000000  ...       9.000000      2.000000\n",
              "75%     1992.000000                       0.000000  ...      39.000000     14.000000\n",
              "max     2001.000000                       1.000000  ...    1332.000000    470.000000\n",
              "\n",
              "[8 rows x 44 columns]"
            ]
          },
          "metadata": {
            "tags": []
          },
          "execution_count": 64
        }
      ]
    },
    {
      "cell_type": "code",
      "metadata": {
        "id": "3A2R54DoJ4vR",
        "colab_type": "code",
        "colab": {
          "base_uri": "https://localhost:8080/",
          "height": 0
        },
        "outputId": "b3c635ba-9a80-4c65-c348-679b9ae1ee37"
      },
      "source": [
        "us_clas.columns"
      ],
      "execution_count": 65,
      "outputs": [
        {
          "output_type": "execute_result",
          "data": {
            "text/plain": [
              "Index(['user_id', 'birth_year', 'country', 'city', 'created_date',\n",
              "       'user_settings_crypto_unlocked',\n",
              "       'attributes_notifications_marketing_push',\n",
              "       'attributes_notifications_marketing_email', 'num_contacts',\n",
              "       'num_referrals', 'num_successful_referrals', 'user_age', 'date_created',\n",
              "       'subscription_days', 'grouped_plan', 'Cluster', 'GDP_per_capita',\n",
              "       'age_group', 'brand', 'Brand_Apple', 'Other', 'Mostly_paid_notif',\n",
              "       'Marketing_ntf', 'Useful_ntf', 'FAILED_x', 'SENT', 'EMAIL', 'PUSH',\n",
              "       'CANCELLED', 'COMPLETED', 'DECLINED', 'FAILED_y', 'PENDING', 'REVERTED',\n",
              "       'ATM', 'CARD_PAYMENT', 'CARD_REFUND', 'CASHBACK', 'EXCHANGE', 'FEE',\n",
              "       'REFUND', 'TAX', 'TOPUP', 'TRANSFER_in', 'TRANSFER_out',\n",
              "       'max_amount_in', 'max_amount_out', 'mean_amount_in', 'mean_amount_out',\n",
              "       'total_in', 'total_out', 'trans_last_3m', 'last_30d'],\n",
              "      dtype='object')"
            ]
          },
          "metadata": {
            "tags": []
          },
          "execution_count": 65
        }
      ]
    },
    {
      "cell_type": "code",
      "metadata": {
        "id": "0z7hlLPUKOas",
        "colab_type": "code",
        "colab": {
          "base_uri": "https://localhost:8080/",
          "height": 0
        },
        "outputId": "d289ae2e-147a-493b-9dbd-f6882b07b1ef"
      },
      "source": [
        "us_clas.drop(columns=[\"birth_year\",'country', 'city', 'created_date','num_referrals', 'num_successful_referrals','date_created','brand','Other',\\\n",
        "                      \"attributes_notifications_marketing_push\",\"attributes_notifications_marketing_email\"],inplace=True)\n",
        "us_clas.columns"
      ],
      "execution_count": 66,
      "outputs": [
        {
          "output_type": "execute_result",
          "data": {
            "text/plain": [
              "Index(['user_id', 'user_settings_crypto_unlocked', 'num_contacts', 'user_age',\n",
              "       'subscription_days', 'grouped_plan', 'Cluster', 'GDP_per_capita',\n",
              "       'age_group', 'Brand_Apple', 'Mostly_paid_notif', 'Marketing_ntf',\n",
              "       'Useful_ntf', 'FAILED_x', 'SENT', 'EMAIL', 'PUSH', 'CANCELLED',\n",
              "       'COMPLETED', 'DECLINED', 'FAILED_y', 'PENDING', 'REVERTED', 'ATM',\n",
              "       'CARD_PAYMENT', 'CARD_REFUND', 'CASHBACK', 'EXCHANGE', 'FEE', 'REFUND',\n",
              "       'TAX', 'TOPUP', 'TRANSFER_in', 'TRANSFER_out', 'max_amount_in',\n",
              "       'max_amount_out', 'mean_amount_in', 'mean_amount_out', 'total_in',\n",
              "       'total_out', 'trans_last_3m', 'last_30d'],\n",
              "      dtype='object')"
            ]
          },
          "metadata": {
            "tags": []
          },
          "execution_count": 66
        }
      ]
    },
    {
      "cell_type": "code",
      "metadata": {
        "id": "qmvFRchuLGQu",
        "colab_type": "code",
        "colab": {
          "base_uri": "https://localhost:8080/",
          "height": 0
        },
        "outputId": "c4de9a78-4278-4f7b-e931-af43a47f7156"
      },
      "source": [
        "colnames=us_clas.columns\n",
        "df=pd.DataFrame(columns=[\"Column\",\"NumOfMissingVal\",\"UniqueVal\"])\n",
        "for cn in colnames:\n",
        "  df=df.append({\"Column\" : cn,\"NumOfMissingVal\": sum(pd.isna(us_clas[cn])),\"UniqueVal\":len(us_clas[cn].unique())},ignore_index=True)\n",
        "\n",
        "df.T"
      ],
      "execution_count": 67,
      "outputs": [
        {
          "output_type": "execute_result",
          "data": {
            "text/html": [
              "<div>\n",
              "<style scoped>\n",
              "    .dataframe tbody tr th:only-of-type {\n",
              "        vertical-align: middle;\n",
              "    }\n",
              "\n",
              "    .dataframe tbody tr th {\n",
              "        vertical-align: top;\n",
              "    }\n",
              "\n",
              "    .dataframe thead th {\n",
              "        text-align: right;\n",
              "    }\n",
              "</style>\n",
              "<table border=\"1\" class=\"dataframe\">\n",
              "  <thead>\n",
              "    <tr style=\"text-align: right;\">\n",
              "      <th></th>\n",
              "      <th>0</th>\n",
              "      <th>1</th>\n",
              "      <th>2</th>\n",
              "      <th>3</th>\n",
              "      <th>4</th>\n",
              "      <th>5</th>\n",
              "      <th>6</th>\n",
              "      <th>7</th>\n",
              "      <th>8</th>\n",
              "      <th>9</th>\n",
              "      <th>10</th>\n",
              "      <th>11</th>\n",
              "      <th>12</th>\n",
              "      <th>13</th>\n",
              "      <th>14</th>\n",
              "      <th>15</th>\n",
              "      <th>16</th>\n",
              "      <th>17</th>\n",
              "      <th>18</th>\n",
              "      <th>19</th>\n",
              "      <th>20</th>\n",
              "      <th>21</th>\n",
              "      <th>22</th>\n",
              "      <th>23</th>\n",
              "      <th>24</th>\n",
              "      <th>25</th>\n",
              "      <th>26</th>\n",
              "      <th>27</th>\n",
              "      <th>28</th>\n",
              "      <th>29</th>\n",
              "      <th>30</th>\n",
              "      <th>31</th>\n",
              "      <th>32</th>\n",
              "      <th>33</th>\n",
              "      <th>34</th>\n",
              "      <th>35</th>\n",
              "      <th>36</th>\n",
              "      <th>37</th>\n",
              "      <th>38</th>\n",
              "      <th>39</th>\n",
              "      <th>40</th>\n",
              "      <th>41</th>\n",
              "    </tr>\n",
              "  </thead>\n",
              "  <tbody>\n",
              "    <tr>\n",
              "      <th>Column</th>\n",
              "      <td>user_id</td>\n",
              "      <td>user_settings_crypto_unlocked</td>\n",
              "      <td>num_contacts</td>\n",
              "      <td>user_age</td>\n",
              "      <td>subscription_days</td>\n",
              "      <td>grouped_plan</td>\n",
              "      <td>Cluster</td>\n",
              "      <td>GDP_per_capita</td>\n",
              "      <td>age_group</td>\n",
              "      <td>Brand_Apple</td>\n",
              "      <td>Mostly_paid_notif</td>\n",
              "      <td>Marketing_ntf</td>\n",
              "      <td>Useful_ntf</td>\n",
              "      <td>FAILED_x</td>\n",
              "      <td>SENT</td>\n",
              "      <td>EMAIL</td>\n",
              "      <td>PUSH</td>\n",
              "      <td>CANCELLED</td>\n",
              "      <td>COMPLETED</td>\n",
              "      <td>DECLINED</td>\n",
              "      <td>FAILED_y</td>\n",
              "      <td>PENDING</td>\n",
              "      <td>REVERTED</td>\n",
              "      <td>ATM</td>\n",
              "      <td>CARD_PAYMENT</td>\n",
              "      <td>CARD_REFUND</td>\n",
              "      <td>CASHBACK</td>\n",
              "      <td>EXCHANGE</td>\n",
              "      <td>FEE</td>\n",
              "      <td>REFUND</td>\n",
              "      <td>TAX</td>\n",
              "      <td>TOPUP</td>\n",
              "      <td>TRANSFER_in</td>\n",
              "      <td>TRANSFER_out</td>\n",
              "      <td>max_amount_in</td>\n",
              "      <td>max_amount_out</td>\n",
              "      <td>mean_amount_in</td>\n",
              "      <td>mean_amount_out</td>\n",
              "      <td>total_in</td>\n",
              "      <td>total_out</td>\n",
              "      <td>trans_last_3m</td>\n",
              "      <td>last_30d</td>\n",
              "    </tr>\n",
              "    <tr>\n",
              "      <th>NumOfMissingVal</th>\n",
              "      <td>0</td>\n",
              "      <td>0</td>\n",
              "      <td>0</td>\n",
              "      <td>0</td>\n",
              "      <td>0</td>\n",
              "      <td>0</td>\n",
              "      <td>0</td>\n",
              "      <td>0</td>\n",
              "      <td>0</td>\n",
              "      <td>0</td>\n",
              "      <td>804</td>\n",
              "      <td>804</td>\n",
              "      <td>804</td>\n",
              "      <td>388</td>\n",
              "      <td>388</td>\n",
              "      <td>804</td>\n",
              "      <td>804</td>\n",
              "      <td>532</td>\n",
              "      <td>532</td>\n",
              "      <td>532</td>\n",
              "      <td>532</td>\n",
              "      <td>532</td>\n",
              "      <td>532</td>\n",
              "      <td>723</td>\n",
              "      <td>723</td>\n",
              "      <td>723</td>\n",
              "      <td>723</td>\n",
              "      <td>723</td>\n",
              "      <td>723</td>\n",
              "      <td>723</td>\n",
              "      <td>723</td>\n",
              "      <td>723</td>\n",
              "      <td>723</td>\n",
              "      <td>723</td>\n",
              "      <td>920</td>\n",
              "      <td>1347</td>\n",
              "      <td>920</td>\n",
              "      <td>1347</td>\n",
              "      <td>920</td>\n",
              "      <td>1347</td>\n",
              "      <td>723</td>\n",
              "      <td>723</td>\n",
              "    </tr>\n",
              "    <tr>\n",
              "      <th>UniqueVal</th>\n",
              "      <td>15544</td>\n",
              "      <td>2</td>\n",
              "      <td>283</td>\n",
              "      <td>69</td>\n",
              "      <td>368</td>\n",
              "      <td>2</td>\n",
              "      <td>5</td>\n",
              "      <td>3</td>\n",
              "      <td>4</td>\n",
              "      <td>2</td>\n",
              "      <td>9</td>\n",
              "      <td>9</td>\n",
              "      <td>17</td>\n",
              "      <td>53</td>\n",
              "      <td>20</td>\n",
              "      <td>12</td>\n",
              "      <td>16</td>\n",
              "      <td>9</td>\n",
              "      <td>1014</td>\n",
              "      <td>152</td>\n",
              "      <td>78</td>\n",
              "      <td>42</td>\n",
              "      <td>99</td>\n",
              "      <td>6324</td>\n",
              "      <td>11695</td>\n",
              "      <td>2545</td>\n",
              "      <td>447</td>\n",
              "      <td>6513</td>\n",
              "      <td>1027</td>\n",
              "      <td>403</td>\n",
              "      <td>34</td>\n",
              "      <td>9844</td>\n",
              "      <td>3547</td>\n",
              "      <td>8407</td>\n",
              "      <td>2757</td>\n",
              "      <td>7794</td>\n",
              "      <td>11638</td>\n",
              "      <td>13323</td>\n",
              "      <td>11010</td>\n",
              "      <td>13227</td>\n",
              "      <td>456</td>\n",
              "      <td>223</td>\n",
              "    </tr>\n",
              "  </tbody>\n",
              "</table>\n",
              "</div>"
            ],
            "text/plain": [
              "                       0  ...        41\n",
              "Column           user_id  ...  last_30d\n",
              "NumOfMissingVal        0  ...       723\n",
              "UniqueVal          15544  ...       223\n",
              "\n",
              "[3 rows x 42 columns]"
            ]
          },
          "metadata": {
            "tags": []
          },
          "execution_count": 67
        }
      ]
    },
    {
      "cell_type": "code",
      "metadata": {
        "id": "w5PICHDn6KQF",
        "colab_type": "code",
        "colab": {}
      },
      "source": [
        "#testara = us_clas[(pd.isnull(us_clas['total_out']))|(pd.isnull(us_clas['total_in']))]\n",
        "#testara.shape"
      ],
      "execution_count": 0,
      "outputs": []
    },
    {
      "cell_type": "code",
      "metadata": {
        "id": "f5JhPqTP6thu",
        "colab_type": "code",
        "colab": {
          "base_uri": "https://localhost:8080/",
          "height": 0
        },
        "outputId": "fb08f21f-4dc2-4593-f84f-a24e389d6b09"
      },
      "source": [
        "'''\n",
        "colnames=testara.columns\n",
        "df=pd.DataFrame(columns=[\"Column\",\"NumOfMissingVal\",\"UniqueVal\"])\n",
        "for cn in colnames:\n",
        "  df=df.append({\"Column\" : cn,\"NumOfMissingVal\": sum(pd.isna(testara[cn])),\"UniqueVal\":len(testara[cn].unique())},ignore_index=True)\n",
        "\n",
        "df.T\n",
        "'''"
      ],
      "execution_count": 69,
      "outputs": [
        {
          "output_type": "execute_result",
          "data": {
            "text/plain": [
              "'\\ncolnames=testara.columns\\ndf=pd.DataFrame(columns=[\"Column\",\"NumOfMissingVal\",\"UniqueVal\"])\\nfor cn in colnames:\\n  df=df.append({\"Column\" : cn,\"NumOfMissingVal\": sum(pd.isna(testara[cn])),\"UniqueVal\":len(testara[cn].unique())},ignore_index=True)\\n\\ndf.T\\n'"
            ]
          },
          "metadata": {
            "tags": []
          },
          "execution_count": 69
        }
      ]
    },
    {
      "cell_type": "code",
      "metadata": {
        "id": "v0RCYnlD8M5J",
        "colab_type": "code",
        "colab": {}
      },
      "source": [
        "#us_clas.grouped_plan.value_counts()"
      ],
      "execution_count": 0,
      "outputs": []
    },
    {
      "cell_type": "code",
      "metadata": {
        "id": "RxW_J4tg7puS",
        "colab_type": "code",
        "colab": {}
      },
      "source": [
        "#testara.grouped_plan.value_counts()"
      ],
      "execution_count": 0,
      "outputs": []
    },
    {
      "cell_type": "code",
      "metadata": {
        "id": "Ms0WUalELJdm",
        "colab_type": "code",
        "colab": {
          "base_uri": "https://localhost:8080/",
          "height": 0
        },
        "outputId": "5e52f555-a0f0-4281-cb5b-be136fa8fd3b"
      },
      "source": [
        "#Fill NaNs\n",
        "\n",
        "#Notification type\n",
        "us_clas.Mostly_paid_notif.fillna(0,inplace=True)\n",
        "us_clas.Marketing_ntf.fillna(0,inplace=True)\n",
        "us_clas.Useful_ntf.fillna(0,inplace=True)\n",
        "#Notification Status\n",
        "us_clas.FAILED_x.fillna(0,inplace=True)\n",
        "us_clas.SENT.fillna(0,inplace=True)\n",
        "#Notification channel\n",
        "us_clas.EMAIL.fillna(0,inplace=True)\n",
        "us_clas.PUSH.fillna(0,inplace=True)\n",
        "'''\n",
        "#Transaction status\n",
        "us_clas.CANCELLED.fillna(0,inplace=True)\n",
        "us_clas.COMPLETED.fillna(0,inplace=True)\n",
        "us_clas.DECLINED.fillna(0,inplace=True)\n",
        "us_clas.FAILED_y.fillna(0,inplace=True)\n",
        "us_clas.PENDING.fillna(0,inplace=True)\n",
        "us_clas.REVERTED.fillna(0,inplace=True)\n",
        "#Transaction type\n",
        "us_clas.ATM.fillna(0,inplace=True)\n",
        "us_clas.CARD_PAYMENT.fillna(0,inplace=True)\n",
        "us_clas.CARD_REFUND.fillna(0,inplace=True)\n",
        "us_clas.CASHBACK.fillna(0,inplace=True)\n",
        "us_clas.EXCHANGE.fillna(0,inplace=True)\n",
        "us_clas.FEE.fillna(0,inplace=True)\n",
        "us_clas.REFUND.fillna(0,inplace=True)\n",
        "us_clas.TAX.fillna(0,inplace=True)\n",
        "us_clas.TOPUP.fillna(0,inplace=True)\n",
        "us_clas.TRANSFER.fillna(0,inplace=True)\n",
        "#Transaction amount\n",
        "us_clas.max_amount_in.fillna(0,inplace=True)\n",
        "us_clas.max_amount_out.fillna(0,inplace=True)\n",
        "us_clas.mean_amount_in.fillna(0,inplace=True)\n",
        "us_clas.mean_amount_out.fillna(0,inplace=True)\n",
        "us_clas.total_in.fillna(0,inplace=True)\n",
        "us_clas.total_out.fillna(0,inplace=True)\n",
        "#Transaction last months\n",
        "us_clas.trans_last_3m.fillna(0,inplace=True)\n",
        "'''"
      ],
      "execution_count": 72,
      "outputs": [
        {
          "output_type": "execute_result",
          "data": {
            "text/plain": [
              "'\\n#Transaction status\\nus_clas.CANCELLED.fillna(0,inplace=True)\\nus_clas.COMPLETED.fillna(0,inplace=True)\\nus_clas.DECLINED.fillna(0,inplace=True)\\nus_clas.FAILED_y.fillna(0,inplace=True)\\nus_clas.PENDING.fillna(0,inplace=True)\\nus_clas.REVERTED.fillna(0,inplace=True)\\n#Transaction type\\nus_clas.ATM.fillna(0,inplace=True)\\nus_clas.CARD_PAYMENT.fillna(0,inplace=True)\\nus_clas.CARD_REFUND.fillna(0,inplace=True)\\nus_clas.CASHBACK.fillna(0,inplace=True)\\nus_clas.EXCHANGE.fillna(0,inplace=True)\\nus_clas.FEE.fillna(0,inplace=True)\\nus_clas.REFUND.fillna(0,inplace=True)\\nus_clas.TAX.fillna(0,inplace=True)\\nus_clas.TOPUP.fillna(0,inplace=True)\\nus_clas.TRANSFER.fillna(0,inplace=True)\\n#Transaction amount\\nus_clas.max_amount_in.fillna(0,inplace=True)\\nus_clas.max_amount_out.fillna(0,inplace=True)\\nus_clas.mean_amount_in.fillna(0,inplace=True)\\nus_clas.mean_amount_out.fillna(0,inplace=True)\\nus_clas.total_in.fillna(0,inplace=True)\\nus_clas.total_out.fillna(0,inplace=True)\\n#Transaction last months\\nus_clas.trans_last_3m.fillna(0,inplace=True)\\n'"
            ]
          },
          "metadata": {
            "tags": []
          },
          "execution_count": 72
        }
      ]
    },
    {
      "cell_type": "code",
      "metadata": {
        "id": "WnOvbKuo9bNF",
        "colab_type": "code",
        "colab": {
          "base_uri": "https://localhost:8080/",
          "height": 0
        },
        "outputId": "cd420651-0ce9-494d-afbd-4430d5eb30db"
      },
      "source": [
        "#Drop NaN transactions\n",
        "us_clas=us_clas.dropna(subset=['total_in', 'total_out'])\n",
        "colnames=us_clas.columns\n",
        "df=pd.DataFrame(columns=[\"Column\",\"NumOfMissingVal\",\"UniqueVal\"])\n",
        "for cn in colnames:\n",
        "  df=df.append({\"Column\" : cn,\"NumOfMissingVal\": sum(pd.isna(us_clas[cn])),\"UniqueVal\":len(us_clas[cn].unique())},ignore_index=True)\n",
        "\n",
        "df.T"
      ],
      "execution_count": 73,
      "outputs": [
        {
          "output_type": "execute_result",
          "data": {
            "text/html": [
              "<div>\n",
              "<style scoped>\n",
              "    .dataframe tbody tr th:only-of-type {\n",
              "        vertical-align: middle;\n",
              "    }\n",
              "\n",
              "    .dataframe tbody tr th {\n",
              "        vertical-align: top;\n",
              "    }\n",
              "\n",
              "    .dataframe thead th {\n",
              "        text-align: right;\n",
              "    }\n",
              "</style>\n",
              "<table border=\"1\" class=\"dataframe\">\n",
              "  <thead>\n",
              "    <tr style=\"text-align: right;\">\n",
              "      <th></th>\n",
              "      <th>0</th>\n",
              "      <th>1</th>\n",
              "      <th>2</th>\n",
              "      <th>3</th>\n",
              "      <th>4</th>\n",
              "      <th>5</th>\n",
              "      <th>6</th>\n",
              "      <th>7</th>\n",
              "      <th>8</th>\n",
              "      <th>9</th>\n",
              "      <th>10</th>\n",
              "      <th>11</th>\n",
              "      <th>12</th>\n",
              "      <th>13</th>\n",
              "      <th>14</th>\n",
              "      <th>15</th>\n",
              "      <th>16</th>\n",
              "      <th>17</th>\n",
              "      <th>18</th>\n",
              "      <th>19</th>\n",
              "      <th>20</th>\n",
              "      <th>21</th>\n",
              "      <th>22</th>\n",
              "      <th>23</th>\n",
              "      <th>24</th>\n",
              "      <th>25</th>\n",
              "      <th>26</th>\n",
              "      <th>27</th>\n",
              "      <th>28</th>\n",
              "      <th>29</th>\n",
              "      <th>30</th>\n",
              "      <th>31</th>\n",
              "      <th>32</th>\n",
              "      <th>33</th>\n",
              "      <th>34</th>\n",
              "      <th>35</th>\n",
              "      <th>36</th>\n",
              "      <th>37</th>\n",
              "      <th>38</th>\n",
              "      <th>39</th>\n",
              "      <th>40</th>\n",
              "      <th>41</th>\n",
              "    </tr>\n",
              "  </thead>\n",
              "  <tbody>\n",
              "    <tr>\n",
              "      <th>Column</th>\n",
              "      <td>user_id</td>\n",
              "      <td>user_settings_crypto_unlocked</td>\n",
              "      <td>num_contacts</td>\n",
              "      <td>user_age</td>\n",
              "      <td>subscription_days</td>\n",
              "      <td>grouped_plan</td>\n",
              "      <td>Cluster</td>\n",
              "      <td>GDP_per_capita</td>\n",
              "      <td>age_group</td>\n",
              "      <td>Brand_Apple</td>\n",
              "      <td>Mostly_paid_notif</td>\n",
              "      <td>Marketing_ntf</td>\n",
              "      <td>Useful_ntf</td>\n",
              "      <td>FAILED_x</td>\n",
              "      <td>SENT</td>\n",
              "      <td>EMAIL</td>\n",
              "      <td>PUSH</td>\n",
              "      <td>CANCELLED</td>\n",
              "      <td>COMPLETED</td>\n",
              "      <td>DECLINED</td>\n",
              "      <td>FAILED_y</td>\n",
              "      <td>PENDING</td>\n",
              "      <td>REVERTED</td>\n",
              "      <td>ATM</td>\n",
              "      <td>CARD_PAYMENT</td>\n",
              "      <td>CARD_REFUND</td>\n",
              "      <td>CASHBACK</td>\n",
              "      <td>EXCHANGE</td>\n",
              "      <td>FEE</td>\n",
              "      <td>REFUND</td>\n",
              "      <td>TAX</td>\n",
              "      <td>TOPUP</td>\n",
              "      <td>TRANSFER_in</td>\n",
              "      <td>TRANSFER_out</td>\n",
              "      <td>max_amount_in</td>\n",
              "      <td>max_amount_out</td>\n",
              "      <td>mean_amount_in</td>\n",
              "      <td>mean_amount_out</td>\n",
              "      <td>total_in</td>\n",
              "      <td>total_out</td>\n",
              "      <td>trans_last_3m</td>\n",
              "      <td>last_30d</td>\n",
              "    </tr>\n",
              "    <tr>\n",
              "      <th>NumOfMissingVal</th>\n",
              "      <td>0</td>\n",
              "      <td>0</td>\n",
              "      <td>0</td>\n",
              "      <td>0</td>\n",
              "      <td>0</td>\n",
              "      <td>0</td>\n",
              "      <td>0</td>\n",
              "      <td>0</td>\n",
              "      <td>0</td>\n",
              "      <td>0</td>\n",
              "      <td>0</td>\n",
              "      <td>0</td>\n",
              "      <td>0</td>\n",
              "      <td>0</td>\n",
              "      <td>0</td>\n",
              "      <td>0</td>\n",
              "      <td>0</td>\n",
              "      <td>0</td>\n",
              "      <td>0</td>\n",
              "      <td>0</td>\n",
              "      <td>0</td>\n",
              "      <td>0</td>\n",
              "      <td>0</td>\n",
              "      <td>0</td>\n",
              "      <td>0</td>\n",
              "      <td>0</td>\n",
              "      <td>0</td>\n",
              "      <td>0</td>\n",
              "      <td>0</td>\n",
              "      <td>0</td>\n",
              "      <td>0</td>\n",
              "      <td>0</td>\n",
              "      <td>0</td>\n",
              "      <td>0</td>\n",
              "      <td>0</td>\n",
              "      <td>0</td>\n",
              "      <td>0</td>\n",
              "      <td>0</td>\n",
              "      <td>0</td>\n",
              "      <td>0</td>\n",
              "      <td>0</td>\n",
              "      <td>0</td>\n",
              "    </tr>\n",
              "    <tr>\n",
              "      <th>UniqueVal</th>\n",
              "      <td>14000</td>\n",
              "      <td>2</td>\n",
              "      <td>281</td>\n",
              "      <td>69</td>\n",
              "      <td>368</td>\n",
              "      <td>2</td>\n",
              "      <td>5</td>\n",
              "      <td>3</td>\n",
              "      <td>4</td>\n",
              "      <td>2</td>\n",
              "      <td>8</td>\n",
              "      <td>8</td>\n",
              "      <td>16</td>\n",
              "      <td>52</td>\n",
              "      <td>19</td>\n",
              "      <td>11</td>\n",
              "      <td>15</td>\n",
              "      <td>8</td>\n",
              "      <td>1011</td>\n",
              "      <td>151</td>\n",
              "      <td>77</td>\n",
              "      <td>41</td>\n",
              "      <td>98</td>\n",
              "      <td>6316</td>\n",
              "      <td>11647</td>\n",
              "      <td>2544</td>\n",
              "      <td>446</td>\n",
              "      <td>6496</td>\n",
              "      <td>1024</td>\n",
              "      <td>402</td>\n",
              "      <td>33</td>\n",
              "      <td>9813</td>\n",
              "      <td>3537</td>\n",
              "      <td>8363</td>\n",
              "      <td>2726</td>\n",
              "      <td>7753</td>\n",
              "      <td>11586</td>\n",
              "      <td>13212</td>\n",
              "      <td>10961</td>\n",
              "      <td>13119</td>\n",
              "      <td>455</td>\n",
              "      <td>222</td>\n",
              "    </tr>\n",
              "  </tbody>\n",
              "</table>\n",
              "</div>"
            ],
            "text/plain": [
              "                       0  ...        41\n",
              "Column           user_id  ...  last_30d\n",
              "NumOfMissingVal        0  ...         0\n",
              "UniqueVal          14000  ...       222\n",
              "\n",
              "[3 rows x 42 columns]"
            ]
          },
          "metadata": {
            "tags": []
          },
          "execution_count": 73
        }
      ]
    },
    {
      "cell_type": "code",
      "metadata": {
        "id": "Vz9pbyQPMChv",
        "colab_type": "code",
        "colab": {
          "base_uri": "https://localhost:8080/",
          "height": 0
        },
        "outputId": "6a6038f0-41f1-46cb-8ae5-aaf09ab4b02c"
      },
      "source": [
        "colnames=us_clas.columns\n",
        "print(us_clas.shape)\n",
        "df=pd.DataFrame(columns=[\"Column\",\"NumOfMissingVal\",\"UniqueVal\"])\n",
        "for cn in colnames:\n",
        "  df=df.append({\"Column\" : cn,\"NumOfMissingVal\": sum(pd.isna(us_clas[cn])),\"UniqueVal\":len(us_clas[cn].unique())},ignore_index=True)\n",
        "\n",
        "df.T"
      ],
      "execution_count": 74,
      "outputs": [
        {
          "output_type": "stream",
          "text": [
            "(14000, 42)\n"
          ],
          "name": "stdout"
        },
        {
          "output_type": "execute_result",
          "data": {
            "text/html": [
              "<div>\n",
              "<style scoped>\n",
              "    .dataframe tbody tr th:only-of-type {\n",
              "        vertical-align: middle;\n",
              "    }\n",
              "\n",
              "    .dataframe tbody tr th {\n",
              "        vertical-align: top;\n",
              "    }\n",
              "\n",
              "    .dataframe thead th {\n",
              "        text-align: right;\n",
              "    }\n",
              "</style>\n",
              "<table border=\"1\" class=\"dataframe\">\n",
              "  <thead>\n",
              "    <tr style=\"text-align: right;\">\n",
              "      <th></th>\n",
              "      <th>0</th>\n",
              "      <th>1</th>\n",
              "      <th>2</th>\n",
              "      <th>3</th>\n",
              "      <th>4</th>\n",
              "      <th>5</th>\n",
              "      <th>6</th>\n",
              "      <th>7</th>\n",
              "      <th>8</th>\n",
              "      <th>9</th>\n",
              "      <th>10</th>\n",
              "      <th>11</th>\n",
              "      <th>12</th>\n",
              "      <th>13</th>\n",
              "      <th>14</th>\n",
              "      <th>15</th>\n",
              "      <th>16</th>\n",
              "      <th>17</th>\n",
              "      <th>18</th>\n",
              "      <th>19</th>\n",
              "      <th>20</th>\n",
              "      <th>21</th>\n",
              "      <th>22</th>\n",
              "      <th>23</th>\n",
              "      <th>24</th>\n",
              "      <th>25</th>\n",
              "      <th>26</th>\n",
              "      <th>27</th>\n",
              "      <th>28</th>\n",
              "      <th>29</th>\n",
              "      <th>30</th>\n",
              "      <th>31</th>\n",
              "      <th>32</th>\n",
              "      <th>33</th>\n",
              "      <th>34</th>\n",
              "      <th>35</th>\n",
              "      <th>36</th>\n",
              "      <th>37</th>\n",
              "      <th>38</th>\n",
              "      <th>39</th>\n",
              "      <th>40</th>\n",
              "      <th>41</th>\n",
              "    </tr>\n",
              "  </thead>\n",
              "  <tbody>\n",
              "    <tr>\n",
              "      <th>Column</th>\n",
              "      <td>user_id</td>\n",
              "      <td>user_settings_crypto_unlocked</td>\n",
              "      <td>num_contacts</td>\n",
              "      <td>user_age</td>\n",
              "      <td>subscription_days</td>\n",
              "      <td>grouped_plan</td>\n",
              "      <td>Cluster</td>\n",
              "      <td>GDP_per_capita</td>\n",
              "      <td>age_group</td>\n",
              "      <td>Brand_Apple</td>\n",
              "      <td>Mostly_paid_notif</td>\n",
              "      <td>Marketing_ntf</td>\n",
              "      <td>Useful_ntf</td>\n",
              "      <td>FAILED_x</td>\n",
              "      <td>SENT</td>\n",
              "      <td>EMAIL</td>\n",
              "      <td>PUSH</td>\n",
              "      <td>CANCELLED</td>\n",
              "      <td>COMPLETED</td>\n",
              "      <td>DECLINED</td>\n",
              "      <td>FAILED_y</td>\n",
              "      <td>PENDING</td>\n",
              "      <td>REVERTED</td>\n",
              "      <td>ATM</td>\n",
              "      <td>CARD_PAYMENT</td>\n",
              "      <td>CARD_REFUND</td>\n",
              "      <td>CASHBACK</td>\n",
              "      <td>EXCHANGE</td>\n",
              "      <td>FEE</td>\n",
              "      <td>REFUND</td>\n",
              "      <td>TAX</td>\n",
              "      <td>TOPUP</td>\n",
              "      <td>TRANSFER_in</td>\n",
              "      <td>TRANSFER_out</td>\n",
              "      <td>max_amount_in</td>\n",
              "      <td>max_amount_out</td>\n",
              "      <td>mean_amount_in</td>\n",
              "      <td>mean_amount_out</td>\n",
              "      <td>total_in</td>\n",
              "      <td>total_out</td>\n",
              "      <td>trans_last_3m</td>\n",
              "      <td>last_30d</td>\n",
              "    </tr>\n",
              "    <tr>\n",
              "      <th>NumOfMissingVal</th>\n",
              "      <td>0</td>\n",
              "      <td>0</td>\n",
              "      <td>0</td>\n",
              "      <td>0</td>\n",
              "      <td>0</td>\n",
              "      <td>0</td>\n",
              "      <td>0</td>\n",
              "      <td>0</td>\n",
              "      <td>0</td>\n",
              "      <td>0</td>\n",
              "      <td>0</td>\n",
              "      <td>0</td>\n",
              "      <td>0</td>\n",
              "      <td>0</td>\n",
              "      <td>0</td>\n",
              "      <td>0</td>\n",
              "      <td>0</td>\n",
              "      <td>0</td>\n",
              "      <td>0</td>\n",
              "      <td>0</td>\n",
              "      <td>0</td>\n",
              "      <td>0</td>\n",
              "      <td>0</td>\n",
              "      <td>0</td>\n",
              "      <td>0</td>\n",
              "      <td>0</td>\n",
              "      <td>0</td>\n",
              "      <td>0</td>\n",
              "      <td>0</td>\n",
              "      <td>0</td>\n",
              "      <td>0</td>\n",
              "      <td>0</td>\n",
              "      <td>0</td>\n",
              "      <td>0</td>\n",
              "      <td>0</td>\n",
              "      <td>0</td>\n",
              "      <td>0</td>\n",
              "      <td>0</td>\n",
              "      <td>0</td>\n",
              "      <td>0</td>\n",
              "      <td>0</td>\n",
              "      <td>0</td>\n",
              "    </tr>\n",
              "    <tr>\n",
              "      <th>UniqueVal</th>\n",
              "      <td>14000</td>\n",
              "      <td>2</td>\n",
              "      <td>281</td>\n",
              "      <td>69</td>\n",
              "      <td>368</td>\n",
              "      <td>2</td>\n",
              "      <td>5</td>\n",
              "      <td>3</td>\n",
              "      <td>4</td>\n",
              "      <td>2</td>\n",
              "      <td>8</td>\n",
              "      <td>8</td>\n",
              "      <td>16</td>\n",
              "      <td>52</td>\n",
              "      <td>19</td>\n",
              "      <td>11</td>\n",
              "      <td>15</td>\n",
              "      <td>8</td>\n",
              "      <td>1011</td>\n",
              "      <td>151</td>\n",
              "      <td>77</td>\n",
              "      <td>41</td>\n",
              "      <td>98</td>\n",
              "      <td>6316</td>\n",
              "      <td>11647</td>\n",
              "      <td>2544</td>\n",
              "      <td>446</td>\n",
              "      <td>6496</td>\n",
              "      <td>1024</td>\n",
              "      <td>402</td>\n",
              "      <td>33</td>\n",
              "      <td>9813</td>\n",
              "      <td>3537</td>\n",
              "      <td>8363</td>\n",
              "      <td>2726</td>\n",
              "      <td>7753</td>\n",
              "      <td>11586</td>\n",
              "      <td>13212</td>\n",
              "      <td>10961</td>\n",
              "      <td>13119</td>\n",
              "      <td>455</td>\n",
              "      <td>222</td>\n",
              "    </tr>\n",
              "  </tbody>\n",
              "</table>\n",
              "</div>"
            ],
            "text/plain": [
              "                       0  ...        41\n",
              "Column           user_id  ...  last_30d\n",
              "NumOfMissingVal        0  ...         0\n",
              "UniqueVal          14000  ...       222\n",
              "\n",
              "[3 rows x 42 columns]"
            ]
          },
          "metadata": {
            "tags": []
          },
          "execution_count": 74
        }
      ]
    },
    {
      "cell_type": "code",
      "metadata": {
        "id": "TEc4UpDfD95m",
        "colab_type": "code",
        "colab": {}
      },
      "source": [
        "us_clas.to_csv(\"/content/drive/My Drive/Project Future/Project/Classification Test/train_clas.csv\",index=False)"
      ],
      "execution_count": 0,
      "outputs": []
    },
    {
      "cell_type": "markdown",
      "metadata": {
        "id": "F_d7OIqtOBz3",
        "colab_type": "text"
      },
      "source": [
        "#Classificator training"
      ]
    },
    {
      "cell_type": "code",
      "metadata": {
        "id": "wxAphrBQRN7O",
        "colab_type": "code",
        "colab": {
          "base_uri": "https://localhost:8080/",
          "height": 118
        },
        "outputId": "30c446d2-e9ae-4267-e1c2-4e7e55c99a36"
      },
      "source": [
        "from sklearn.model_selection import train_test_split\n",
        "from imblearn.over_sampling import SMOTE\n",
        "from imblearn.over_sampling import RandomOverSampler\n",
        "from collections import Counter\n",
        "\n",
        "from sklearn.preprocessing import StandardScaler\n",
        "\n",
        "from sklearn.feature_selection import VarianceThreshold\n",
        "\n",
        "from sklearn.tree import DecisionTreeClassifier\n",
        "from sklearn.neighbors import KNeighborsClassifier\n",
        "from sklearn.ensemble import RandomForestClassifier\n",
        "from sklearn.svm import LinearSVC\n",
        "from sklearn.naive_bayes import GaussianNB\n",
        "\n",
        "from sklearn.pipeline import Pipeline\n",
        "from sklearn.model_selection import  GridSearchCV\n",
        "from sklearn.metrics import accuracy_score, precision_recall_fscore_support,classification_report\n",
        "print(\"Loaded\")"
      ],
      "execution_count": 76,
      "outputs": [
        {
          "output_type": "stream",
          "text": [
            "Loaded\n"
          ],
          "name": "stdout"
        },
        {
          "output_type": "stream",
          "text": [
            "/usr/local/lib/python3.6/dist-packages/sklearn/externals/six.py:31: FutureWarning: The module is deprecated in version 0.21 and will be removed in version 0.23 since we've dropped support for Python 2.7. Please rely on the official version of six (https://pypi.org/project/six/).\n",
            "  \"(https://pypi.org/project/six/).\", FutureWarning)\n",
            "/usr/local/lib/python3.6/dist-packages/sklearn/utils/deprecation.py:144: FutureWarning: The sklearn.neighbors.base module is  deprecated in version 0.22 and will be removed in version 0.24. The corresponding classes / functions should instead be imported from sklearn.neighbors. Anything that cannot be imported from sklearn.neighbors is now part of the private API.\n",
            "  warnings.warn(message, FutureWarning)\n"
          ],
          "name": "stderr"
        }
      ]
    },
    {
      "cell_type": "markdown",
      "metadata": {
        "id": "x_6kQUvDAQGX",
        "colab_type": "text"
      },
      "source": [
        "##Labels/features split"
      ]
    },
    {
      "cell_type": "code",
      "metadata": {
        "id": "Q-Gya0JsEpZP",
        "colab_type": "code",
        "outputId": "73e0a430-818a-418a-ecf1-41fb4caf2722",
        "colab": {
          "base_uri": "https://localhost:8080/",
          "height": 0
        }
      },
      "source": [
        "us_clas_train=us_clas\n",
        "us_clas_train.columns"
      ],
      "execution_count": 77,
      "outputs": [
        {
          "output_type": "execute_result",
          "data": {
            "text/plain": [
              "Index(['user_id', 'user_settings_crypto_unlocked', 'num_contacts', 'user_age',\n",
              "       'subscription_days', 'grouped_plan', 'Cluster', 'GDP_per_capita',\n",
              "       'age_group', 'Brand_Apple', 'Mostly_paid_notif', 'Marketing_ntf',\n",
              "       'Useful_ntf', 'FAILED_x', 'SENT', 'EMAIL', 'PUSH', 'CANCELLED',\n",
              "       'COMPLETED', 'DECLINED', 'FAILED_y', 'PENDING', 'REVERTED', 'ATM',\n",
              "       'CARD_PAYMENT', 'CARD_REFUND', 'CASHBACK', 'EXCHANGE', 'FEE', 'REFUND',\n",
              "       'TAX', 'TOPUP', 'TRANSFER_in', 'TRANSFER_out', 'max_amount_in',\n",
              "       'max_amount_out', 'mean_amount_in', 'mean_amount_out', 'total_in',\n",
              "       'total_out', 'trans_last_3m', 'last_30d'],\n",
              "      dtype='object')"
            ]
          },
          "metadata": {
            "tags": []
          },
          "execution_count": 77
        }
      ]
    },
    {
      "cell_type": "code",
      "metadata": {
        "id": "H0hRfE_0ElYx",
        "colab_type": "code",
        "outputId": "caef8dbd-a5b5-451b-a341-e551cd633695",
        "colab": {
          "base_uri": "https://localhost:8080/",
          "height": 0
        }
      },
      "source": [
        "us_clas_train.rename(columns={\"user_settings_crypto_unlocked\":\"crypto_unlocked\",\"grouped_plan\":\"paid\",\"Cluster\":\"country_cluster\",\\\n",
        "                        \"FAILED_x\":\"FAILED_ntf\",\"SENT\":\"SENT_ntf\",'CANCELLED':\"CANCELLED_trs\",'COMPLETED':\"COMPLETED_trs\", 'DECLINED':\"DECLINED_trs\",\\\n",
        "                        'FAILED_y':\"FAILED_trs\", 'PENDING':\"PENDING_trs\", 'REVERTED':\"REVERTED_trs\", 'ATM':\"ATM_type\",'CARD_PAYMENT':\"CARD_PAYMENT_type\",\\\n",
        "                        'CARD_REFUND':\"CARD_REFUND_type\", 'CASHBACK':\"CASHBACK_type\", 'EXCHANGE':\"EXCHANGE_type\", 'FEE':\"FEE_type\", 'REFUND':\"REFUND_type\",\\\n",
        "                        'TAX':\"TAX_type\", 'TOPUP':\"TOPUP_type\", 'TRANSFER':\"TRANSFER_type\"},inplace=True)\n",
        "us_clas_train.drop(columns=['Mostly_paid_notif', 'CASHBACK_type','FEE_type'],inplace=True)\n",
        "us_clas_train.columns"
      ],
      "execution_count": 78,
      "outputs": [
        {
          "output_type": "execute_result",
          "data": {
            "text/plain": [
              "Index(['user_id', 'crypto_unlocked', 'num_contacts', 'user_age',\n",
              "       'subscription_days', 'paid', 'country_cluster', 'GDP_per_capita',\n",
              "       'age_group', 'Brand_Apple', 'Marketing_ntf', 'Useful_ntf', 'FAILED_ntf',\n",
              "       'SENT_ntf', 'EMAIL', 'PUSH', 'CANCELLED_trs', 'COMPLETED_trs',\n",
              "       'DECLINED_trs', 'FAILED_trs', 'PENDING_trs', 'REVERTED_trs', 'ATM_type',\n",
              "       'CARD_PAYMENT_type', 'CARD_REFUND_type', 'EXCHANGE_type', 'REFUND_type',\n",
              "       'TAX_type', 'TOPUP_type', 'TRANSFER_in', 'TRANSFER_out',\n",
              "       'max_amount_in', 'max_amount_out', 'mean_amount_in', 'mean_amount_out',\n",
              "       'total_in', 'total_out', 'trans_last_3m', 'last_30d'],\n",
              "      dtype='object')"
            ]
          },
          "metadata": {
            "tags": []
          },
          "execution_count": 78
        }
      ]
    },
    {
      "cell_type": "code",
      "metadata": {
        "id": "9FnkTV2vmRxS",
        "colab_type": "code",
        "colab": {
          "base_uri": "https://localhost:8080/",
          "height": 0
        },
        "outputId": "e41814ca-9374-435b-f409-908cab6e386c"
      },
      "source": [
        "print(us_clas_train.shape)\n",
        "drop_col_clas=[]\n",
        "\n",
        "test=us_clas_train.drop(columns=drop_col_clas)\n",
        "\n",
        "test=pd.get_dummies(test,columns=[\"age_group\"])\n",
        "test=pd.get_dummies(test,columns=[\"GDP_per_capita\"])\n",
        "test=pd.get_dummies(test,columns=[\"country_cluster\"])\n",
        "\n",
        "print(test.shape)\n",
        "test.columns"
      ],
      "execution_count": 79,
      "outputs": [
        {
          "output_type": "stream",
          "text": [
            "(14000, 39)\n",
            "(14000, 48)\n"
          ],
          "name": "stdout"
        },
        {
          "output_type": "execute_result",
          "data": {
            "text/plain": [
              "Index(['user_id', 'crypto_unlocked', 'num_contacts', 'user_age',\n",
              "       'subscription_days', 'paid', 'Brand_Apple', 'Marketing_ntf',\n",
              "       'Useful_ntf', 'FAILED_ntf', 'SENT_ntf', 'EMAIL', 'PUSH',\n",
              "       'CANCELLED_trs', 'COMPLETED_trs', 'DECLINED_trs', 'FAILED_trs',\n",
              "       'PENDING_trs', 'REVERTED_trs', 'ATM_type', 'CARD_PAYMENT_type',\n",
              "       'CARD_REFUND_type', 'EXCHANGE_type', 'REFUND_type', 'TAX_type',\n",
              "       'TOPUP_type', 'TRANSFER_in', 'TRANSFER_out', 'max_amount_in',\n",
              "       'max_amount_out', 'mean_amount_in', 'mean_amount_out', 'total_in',\n",
              "       'total_out', 'trans_last_3m', 'last_30d', 'age_group_Early Adult',\n",
              "       'age_group_LowMid Adult', 'age_group_UpMid Adult',\n",
              "       'age_group_Pensioner', 'GDP_per_capita_30k_45k', 'GDP_per_capita_<30k',\n",
              "       'GDP_per_capita_>45k', 'country_cluster_CEE_EU', 'country_cluster_N_EU',\n",
              "       'country_cluster_Non_EU', 'country_cluster_S_EU',\n",
              "       'country_cluster_W_EU'],\n",
              "      dtype='object')"
            ]
          },
          "metadata": {
            "tags": []
          },
          "execution_count": 79
        }
      ]
    },
    {
      "cell_type": "code",
      "metadata": {
        "id": "c8edPp3_D3AY",
        "colab_type": "code",
        "outputId": "699da747-f5b4-4eaa-9615-ac1879980d43",
        "colab": {
          "base_uri": "https://localhost:8080/",
          "height": 0
        }
      },
      "source": [
        "X=test.drop(columns=[\"user_id\",\"paid\"]).to_numpy()\n",
        "y=test.paid.to_numpy()\n",
        "print(np.shape(X))\n",
        "print(np.shape(y))"
      ],
      "execution_count": 80,
      "outputs": [
        {
          "output_type": "stream",
          "text": [
            "(14000, 46)\n",
            "(14000,)\n"
          ],
          "name": "stdout"
        }
      ]
    },
    {
      "cell_type": "markdown",
      "metadata": {
        "id": "_BOwWD1gD9lK",
        "colab_type": "text"
      },
      "source": [
        "##Train Test split and Oversampling"
      ]
    },
    {
      "cell_type": "code",
      "metadata": {
        "id": "8ijtdYp1RKEz",
        "colab_type": "code",
        "colab": {
          "base_uri": "https://localhost:8080/",
          "height": 0
        },
        "outputId": "2cad22ba-15f6-4ec0-afad-f6e30a7af946"
      },
      "source": [
        "X_train, X_test,y_train, y_test=train_test_split(X,y,test_size=0.3,random_state=42)\n",
        "print(\"Full data size:\")\n",
        "print(test.drop(columns=\"paid\").shape,test.paid.shape)\n",
        "print(\"Training data size:\")\n",
        "print(np.shape(X_train),np.shape(y_train))\n",
        "print(\"Testing data size:\")\n",
        "print(np.shape(X_test),np.shape(y_test),\"\\n\")\n",
        "\n",
        "print(Counter(y_train))\n",
        "sm=SMOTE(random_state=42)\n",
        "X_train,y_train=sm.fit_resample(X_train,y_train)\n",
        "\n",
        "print(Counter(y_train))"
      ],
      "execution_count": 81,
      "outputs": [
        {
          "output_type": "stream",
          "text": [
            "Full data size:\n",
            "(14000, 47) (14000,)\n",
            "Training data size:\n",
            "(9800, 46) (9800,)\n",
            "Testing data size:\n",
            "(4200, 46) (4200,) \n",
            "\n",
            "Counter({0.0: 8994, 1.0: 806})\n",
            "Counter({0.0: 8994, 1.0: 8994})\n"
          ],
          "name": "stdout"
        },
        {
          "output_type": "stream",
          "text": [
            "/usr/local/lib/python3.6/dist-packages/sklearn/utils/deprecation.py:87: FutureWarning: Function safe_indexing is deprecated; safe_indexing is deprecated in version 0.22 and will be removed in version 0.24.\n",
            "  warnings.warn(msg, category=FutureWarning)\n"
          ],
          "name": "stderr"
        }
      ]
    },
    {
      "cell_type": "markdown",
      "metadata": {
        "id": "gRmBtMMxzALg",
        "colab_type": "text"
      },
      "source": [
        "##Classificator"
      ]
    },
    {
      "cell_type": "code",
      "metadata": {
        "id": "yRB7kscwRkbv",
        "colab_type": "code",
        "colab": {
          "base_uri": "https://localhost:8080/",
          "height": 293
        },
        "outputId": "6c28e700-e1d4-4546-c68c-33e74ca4bd8d"
      },
      "source": [
        "rfc=RandomForestClassifier(random_state=42)\n",
        "scl=StandardScaler()\n",
        "var=VarianceThreshold()\n",
        "\n",
        "pipe = Pipeline([('scl',scl),('var',var),('rfc',rfc)])\n",
        "grid={\"rfc__n_estimators\":[10,500,1000]}\n",
        "\n",
        "gs=GridSearchCV(pipe,grid,cv=5)\n",
        "\n",
        "gs.fit(X_train,y_train)\n",
        "gs.best_estimator_"
      ],
      "execution_count": 82,
      "outputs": [
        {
          "output_type": "execute_result",
          "data": {
            "text/plain": [
              "Pipeline(memory=None,\n",
              "         steps=[('scl',\n",
              "                 StandardScaler(copy=True, with_mean=True, with_std=True)),\n",
              "                ('var', VarianceThreshold(threshold=0.0)),\n",
              "                ('rfc',\n",
              "                 RandomForestClassifier(bootstrap=True, ccp_alpha=0.0,\n",
              "                                        class_weight=None, criterion='gini',\n",
              "                                        max_depth=None, max_features='auto',\n",
              "                                        max_leaf_nodes=None, max_samples=None,\n",
              "                                        min_impurity_decrease=0.0,\n",
              "                                        min_impurity_split=None,\n",
              "                                        min_samples_leaf=1, min_samples_split=2,\n",
              "                                        min_weight_fraction_leaf=0.0,\n",
              "                                        n_estimators=1000, n_jobs=None,\n",
              "                                        oob_score=False, random_state=42,\n",
              "                                        verbose=0, warm_start=False))],\n",
              "         verbose=False)"
            ]
          },
          "metadata": {
            "tags": []
          },
          "execution_count": 82
        }
      ]
    },
    {
      "cell_type": "code",
      "metadata": {
        "id": "cqGSVFytSr1f",
        "colab_type": "code",
        "colab": {
          "base_uri": "https://localhost:8080/",
          "height": 163
        },
        "outputId": "c1168fe6-5cba-4810-d3f4-bd529cd68e75"
      },
      "source": [
        "y_pred=gs.predict(X_test)\n",
        "print(classification_report(y_test,y_pred))"
      ],
      "execution_count": 83,
      "outputs": [
        {
          "output_type": "stream",
          "text": [
            "              precision    recall  f1-score   support\n",
            "\n",
            "         0.0       0.95      0.98      0.97      3860\n",
            "         1.0       0.72      0.44      0.55       340\n",
            "\n",
            "    accuracy                           0.94      4200\n",
            "   macro avg       0.84      0.71      0.76      4200\n",
            "weighted avg       0.93      0.94      0.93      4200\n",
            "\n"
          ],
          "name": "stdout"
        }
      ]
    },
    {
      "cell_type": "code",
      "metadata": {
        "id": "8AmEKVxG807D",
        "colab_type": "code",
        "colab": {
          "base_uri": "https://localhost:8080/",
          "height": 66
        },
        "outputId": "4d67e201-1925-42bd-f1a4-7f281c9c8cb8"
      },
      "source": [
        "tester=pd.DataFrame({\"lll\":y_test})\n",
        "tester.lll.value_counts()"
      ],
      "execution_count": 84,
      "outputs": [
        {
          "output_type": "execute_result",
          "data": {
            "text/plain": [
              "0.0    3860\n",
              "1.0     340\n",
              "Name: lll, dtype: int64"
            ]
          },
          "metadata": {
            "tags": []
          },
          "execution_count": 84
        }
      ]
    },
    {
      "cell_type": "code",
      "metadata": {
        "id": "WW0r3Kzo9Fbx",
        "colab_type": "code",
        "colab": {
          "base_uri": "https://localhost:8080/",
          "height": 66
        },
        "outputId": "d15cd273-2999-43ef-8523-dee85ff973e8"
      },
      "source": [
        "tester2=pd.DataFrame({\"lll\":y_pred})\n",
        "tester.lll.value_counts()"
      ],
      "execution_count": 85,
      "outputs": [
        {
          "output_type": "execute_result",
          "data": {
            "text/plain": [
              "0.0    3860\n",
              "1.0     340\n",
              "Name: lll, dtype: int64"
            ]
          },
          "metadata": {
            "tags": []
          },
          "execution_count": 85
        }
      ]
    },
    {
      "cell_type": "code",
      "metadata": {
        "id": "JJ2LMP-qStV2",
        "colab_type": "code",
        "colab": {
          "base_uri": "https://localhost:8080/",
          "height": 878
        },
        "outputId": "b1ecacc2-9a7f-4058-9512-f1c1233b2ed8"
      },
      "source": [
        "feat_importances = pd.Series(gs.best_estimator_[2].feature_importances_, index=test.drop(columns=[\"user_id\",\"paid\"]).columns)\n",
        "ax=plt.figure(figsize=(10,15))\n",
        "feat_importances.nlargest(20).plot(kind='barh')"
      ],
      "execution_count": 86,
      "outputs": [
        {
          "output_type": "execute_result",
          "data": {
            "text/plain": [
              "<matplotlib.axes._subplots.AxesSubplot at 0x7f20cf329a20>"
            ]
          },
          "metadata": {
            "tags": []
          },
          "execution_count": 86
        },
        {
          "output_type": "display_data",
          "data": {
            "image/png": "[encoded data removed]",
            "text/plain": [
              "<Figure size 720x1080 with 1 Axes>"
            ]
          },
          "metadata": {
            "tags": [],
            "needs_background": "light"
          }
        }
      ]
    },
    {
      "cell_type": "markdown",
      "metadata": {
        "colab_type": "text",
        "id": "T73D581auWv_"
      },
      "source": [
        "#Use set"
      ]
    },
    {
      "cell_type": "code",
      "metadata": {
        "id": "e56BeutPU9WN",
        "colab_type": "code",
        "colab": {}
      },
      "source": [
        "#Load Test Data\n",
        "dev2=pd.read_csv('/content/drive/My Drive/Project Future/Project/test/devices_test.csv')\n",
        "ntf_2=pd.read_csv('/content/drive/My Drive/Project Future/Project/test/notifications_test.csv')\n",
        "tr2=pd.read_csv('/content/drive/My Drive/Project Future/Project/test/transactions_test.csv')\n",
        "us2=pd.read_csv('/content/drive/My Drive/Project Future/Project/test/users_test.csv')"
      ],
      "execution_count": 0,
      "outputs": []
    },
    {
      "cell_type": "markdown",
      "metadata": {
        "colab_type": "text",
        "id": "OT1OqyrwuWwG"
      },
      "source": [
        "##Users File"
      ]
    },
    {
      "cell_type": "markdown",
      "metadata": {
        "colab_type": "text",
        "id": "J2qsLgdguWwG"
      },
      "source": [
        "###**Unique Values**"
      ]
    },
    {
      "cell_type": "code",
      "metadata": {
        "colab_type": "code",
        "outputId": "007012fe-0df3-4cf4-f1c4-9d419e134a17",
        "id": "gfSA7DgbuWwH",
        "colab": {
          "base_uri": "https://localhost:8080/",
          "height": 0
        }
      },
      "source": [
        "users=us2\n",
        "colnames=users.columns\n",
        "df=pd.DataFrame(columns=[\"Column\",\"NumOfMissingVal\",\"UniqueVal\"])\n",
        "for cn in colnames:\n",
        "  df=df.append({\"Column\" : cn,\"NumOfMissingVal\": sum(pd.isna(users[cn])),\"UniqueVal\":len(users[cn].unique())},ignore_index=True)\n",
        "\n",
        "df"
      ],
      "execution_count": 88,
      "outputs": [
        {
          "output_type": "execute_result",
          "data": {
            "text/html": [
              "<div>\n",
              "<style scoped>\n",
              "    .dataframe tbody tr th:only-of-type {\n",
              "        vertical-align: middle;\n",
              "    }\n",
              "\n",
              "    .dataframe tbody tr th {\n",
              "        vertical-align: top;\n",
              "    }\n",
              "\n",
              "    .dataframe thead th {\n",
              "        text-align: right;\n",
              "    }\n",
              "</style>\n",
              "<table border=\"1\" class=\"dataframe\">\n",
              "  <thead>\n",
              "    <tr style=\"text-align: right;\">\n",
              "      <th></th>\n",
              "      <th>Column</th>\n",
              "      <th>NumOfMissingVal</th>\n",
              "      <th>UniqueVal</th>\n",
              "    </tr>\n",
              "  </thead>\n",
              "  <tbody>\n",
              "    <tr>\n",
              "      <th>0</th>\n",
              "      <td>user_id</td>\n",
              "      <td>0</td>\n",
              "      <td>3886</td>\n",
              "    </tr>\n",
              "    <tr>\n",
              "      <th>1</th>\n",
              "      <td>birth_year</td>\n",
              "      <td>0</td>\n",
              "      <td>62</td>\n",
              "    </tr>\n",
              "    <tr>\n",
              "      <th>2</th>\n",
              "      <td>country</td>\n",
              "      <td>0</td>\n",
              "      <td>39</td>\n",
              "    </tr>\n",
              "    <tr>\n",
              "      <th>3</th>\n",
              "      <td>city</td>\n",
              "      <td>0</td>\n",
              "      <td>1838</td>\n",
              "    </tr>\n",
              "    <tr>\n",
              "      <th>4</th>\n",
              "      <td>created_date</td>\n",
              "      <td>0</td>\n",
              "      <td>3886</td>\n",
              "    </tr>\n",
              "    <tr>\n",
              "      <th>5</th>\n",
              "      <td>user_settings_crypto_unlocked</td>\n",
              "      <td>0</td>\n",
              "      <td>2</td>\n",
              "    </tr>\n",
              "    <tr>\n",
              "      <th>6</th>\n",
              "      <td>attributes_notifications_marketing_push</td>\n",
              "      <td>1350</td>\n",
              "      <td>3</td>\n",
              "    </tr>\n",
              "    <tr>\n",
              "      <th>7</th>\n",
              "      <td>attributes_notifications_marketing_email</td>\n",
              "      <td>1350</td>\n",
              "      <td>3</td>\n",
              "    </tr>\n",
              "    <tr>\n",
              "      <th>8</th>\n",
              "      <td>num_contacts</td>\n",
              "      <td>0</td>\n",
              "      <td>186</td>\n",
              "    </tr>\n",
              "    <tr>\n",
              "      <th>9</th>\n",
              "      <td>num_referrals</td>\n",
              "      <td>0</td>\n",
              "      <td>1</td>\n",
              "    </tr>\n",
              "    <tr>\n",
              "      <th>10</th>\n",
              "      <td>num_successful_referrals</td>\n",
              "      <td>0</td>\n",
              "      <td>1</td>\n",
              "    </tr>\n",
              "  </tbody>\n",
              "</table>\n",
              "</div>"
            ],
            "text/plain": [
              "                                      Column NumOfMissingVal UniqueVal\n",
              "0                                    user_id               0      3886\n",
              "1                                 birth_year               0        62\n",
              "2                                    country               0        39\n",
              "3                                       city               0      1838\n",
              "4                               created_date               0      3886\n",
              "5              user_settings_crypto_unlocked               0         2\n",
              "6    attributes_notifications_marketing_push            1350         3\n",
              "7   attributes_notifications_marketing_email            1350         3\n",
              "8                               num_contacts               0       186\n",
              "9                              num_referrals               0         1\n",
              "10                  num_successful_referrals               0         1"
            ]
          },
          "metadata": {
            "tags": []
          },
          "execution_count": 88
        }
      ]
    },
    {
      "cell_type": "code",
      "metadata": {
        "colab_type": "code",
        "id": "SdQsLXnbuWwJ",
        "colab": {}
      },
      "source": [
        "#Drop unnecessary columns\n",
        "#print(users.shape)\n",
        "#users=users.drop(labels={\"num_successful_referrals\",\"num_referrals\",\"city\",\"created_date\",\"attributes_notifications_marketing_email\",\"attributes_notifications_marketing_push\"},axis=1)\n",
        "#print(users.shape)\n",
        "#users.columns"
      ],
      "execution_count": 0,
      "outputs": []
    },
    {
      "cell_type": "code",
      "metadata": {
        "colab_type": "code",
        "outputId": "ac88cc04-60d5-4920-d640-9ebdbcaf005d",
        "id": "pWh_fuzSuWwM",
        "colab": {
          "base_uri": "https://localhost:8080/",
          "height": 0
        }
      },
      "source": [
        "users.columns"
      ],
      "execution_count": 90,
      "outputs": [
        {
          "output_type": "execute_result",
          "data": {
            "text/plain": [
              "Index(['user_id', 'birth_year', 'country', 'city', 'created_date',\n",
              "       'user_settings_crypto_unlocked',\n",
              "       'attributes_notifications_marketing_push',\n",
              "       'attributes_notifications_marketing_email', 'num_contacts',\n",
              "       'num_referrals', 'num_successful_referrals'],\n",
              "      dtype='object')"
            ]
          },
          "metadata": {
            "tags": []
          },
          "execution_count": 90
        }
      ]
    },
    {
      "cell_type": "code",
      "metadata": {
        "colab_type": "code",
        "outputId": "dbf5d8ff-a694-4929-be3d-9029f0efa4ae",
        "id": "hBy2T-ExuWwO",
        "colab": {
          "base_uri": "https://localhost:8080/",
          "height": 0
        }
      },
      "source": [
        "colnames=users.columns\n",
        "for cn in colnames[1:3].append(colnames[5:9].append(colnames[10:12])):\n",
        "  print(cn,\"\\n\" , users[cn].unique(),\"\\n\")"
      ],
      "execution_count": 91,
      "outputs": [
        {
          "output_type": "stream",
          "text": [
            "birth_year \n",
            " [1987 1981 1980 1995 1996 1986 1989 1991 1985 1984 1992 1966 1982 1973\n",
            " 1969 1998 1988 1971 1993 1975 1990 1978 1952 1997 1967 1979 1950 1940\n",
            " 1963 1957 1976 1974 1994 1983 1954 1972 1964 1999 1977 1970 1959 1965\n",
            " 1961 1953 1962 1968 1958 1951 1955 1949 2000 1944 1960 1947 1956 1948\n",
            " 1934 2001 1942 1946 1939 1937] \n",
            "\n",
            "country \n",
            " ['PL' 'GB' 'FR' 'LT' 'DK' 'RO' 'ES' 'MT' 'IE' 'CH' 'LU' 'GR' 'NL' 'NO'\n",
            " 'HU' 'SI' 'LV' 'DE' 'PT' 'IT' 'BE' 'HR' 'CZ' 'CY' 'BG' 'SE' 'SK' 'GI'\n",
            " 'AU' 'GF' 'JE' 'IM' 'AT' 'IS' 'FI' 'GP' 'EE' 'MQ' 'GG'] \n",
            "\n",
            "user_settings_crypto_unlocked \n",
            " [0 1] \n",
            "\n",
            "attributes_notifications_marketing_push \n",
            " [ 0. nan  1.] \n",
            "\n",
            "attributes_notifications_marketing_email \n",
            " [ 0. nan  1.] \n",
            "\n",
            "num_contacts \n",
            " [ 21   0  38  10   5   7  52  22  48   9   2  15 668  34  12  14  16   4\n",
            "  19  11   3   1  29  36  18  44   8  26  56  27  55  43   6  39  41  63\n",
            " 122  47  31  68  42 114  17  25  23  70 180  24  13  94  20  28 159  54\n",
            "  49  32  46  33  50 177  37  69 154  35  83 117  73 158  59  86  57  97\n",
            " 132  66  65  62  93  30  85  58  81  64  95  71  67  82  60 492  91 130\n",
            " 106 262  76  78 214 138  88 104 107 133 139 118 213 108  40  77  80 420\n",
            "  96 125  45 198 155 128  92  90 732 152 157 129 189 376 140 726  74 137\n",
            " 200 103 126  98 286 217  61 102 134  89 196 173 116  51 115 148 172 101\n",
            " 179 123 199 127 215 151 168 243 234  79 435  87 316 150 142 120  84 110\n",
            " 472  75 121 184 166 272 112  72 335 227 498 385 254 161  53  99 135 171\n",
            " 162 145 544 131 357 170] \n",
            "\n",
            "num_successful_referrals \n",
            " [0] \n",
            "\n"
          ],
          "name": "stdout"
        }
      ]
    },
    {
      "cell_type": "code",
      "metadata": {
        "colab_type": "code",
        "outputId": "2d91e972-6f07-46d6-f49a-28b07453221c",
        "id": "dYSEVsjZuWwR",
        "colab": {
          "base_uri": "https://localhost:8080/",
          "height": 0
        }
      },
      "source": [
        "#Ypologismos Hlikias users\n",
        "users[\"user_age\"] =  dt.date.today().year-users['birth_year']\n",
        "\n",
        "#Calculation of days subscribed\n",
        "users[\"date_created\"] = [dt.datetime.strptime(d,\"%Y-%m-%d  %H:%M:%S.%f\") for d in users[\"created_date\"]]\n",
        "users[\"subscription_days\"] = (dt.datetime.today()- users.date_created).dt.days\n",
        "\n",
        "users.head()"
      ],
      "execution_count": 92,
      "outputs": [
        {
          "output_type": "execute_result",
          "data": {
            "text/html": [
              "<div>\n",
              "<style scoped>\n",
              "    .dataframe tbody tr th:only-of-type {\n",
              "        vertical-align: middle;\n",
              "    }\n",
              "\n",
              "    .dataframe tbody tr th {\n",
              "        vertical-align: top;\n",
              "    }\n",
              "\n",
              "    .dataframe thead th {\n",
              "        text-align: right;\n",
              "    }\n",
              "</style>\n",
              "<table border=\"1\" class=\"dataframe\">\n",
              "  <thead>\n",
              "    <tr style=\"text-align: right;\">\n",
              "      <th></th>\n",
              "      <th>user_id</th>\n",
              "      <th>birth_year</th>\n",
              "      <th>country</th>\n",
              "      <th>city</th>\n",
              "      <th>created_date</th>\n",
              "      <th>user_settings_crypto_unlocked</th>\n",
              "      <th>attributes_notifications_marketing_push</th>\n",
              "      <th>attributes_notifications_marketing_email</th>\n",
              "      <th>num_contacts</th>\n",
              "      <th>num_referrals</th>\n",
              "      <th>num_successful_referrals</th>\n",
              "      <th>user_age</th>\n",
              "      <th>date_created</th>\n",
              "      <th>subscription_days</th>\n",
              "    </tr>\n",
              "  </thead>\n",
              "  <tbody>\n",
              "    <tr>\n",
              "      <th>0</th>\n",
              "      <td>user_2</td>\n",
              "      <td>1987</td>\n",
              "      <td>PL</td>\n",
              "      <td>Poznań</td>\n",
              "      <td>2018-01-18 19:17:31.229096</td>\n",
              "      <td>0</td>\n",
              "      <td>0.0</td>\n",
              "      <td>0.0</td>\n",
              "      <td>21</td>\n",
              "      <td>0</td>\n",
              "      <td>0</td>\n",
              "      <td>33</td>\n",
              "      <td>2018-01-18 19:17:31.229096</td>\n",
              "      <td>871</td>\n",
              "    </tr>\n",
              "    <tr>\n",
              "      <th>1</th>\n",
              "      <td>user_8</td>\n",
              "      <td>1981</td>\n",
              "      <td>GB</td>\n",
              "      <td>Fife</td>\n",
              "      <td>2018-01-03 07:28:59.063740</td>\n",
              "      <td>1</td>\n",
              "      <td>NaN</td>\n",
              "      <td>NaN</td>\n",
              "      <td>0</td>\n",
              "      <td>0</td>\n",
              "      <td>0</td>\n",
              "      <td>39</td>\n",
              "      <td>2018-01-03 07:28:59.063740</td>\n",
              "      <td>887</td>\n",
              "    </tr>\n",
              "    <tr>\n",
              "      <th>2</th>\n",
              "      <td>user_10</td>\n",
              "      <td>1980</td>\n",
              "      <td>FR</td>\n",
              "      <td>Paris</td>\n",
              "      <td>2018-01-04 08:05:15.466282</td>\n",
              "      <td>0</td>\n",
              "      <td>1.0</td>\n",
              "      <td>1.0</td>\n",
              "      <td>38</td>\n",
              "      <td>0</td>\n",
              "      <td>0</td>\n",
              "      <td>40</td>\n",
              "      <td>2018-01-04 08:05:15.466282</td>\n",
              "      <td>886</td>\n",
              "    </tr>\n",
              "    <tr>\n",
              "      <th>3</th>\n",
              "      <td>user_13</td>\n",
              "      <td>1995</td>\n",
              "      <td>LT</td>\n",
              "      <td>Anykščiai</td>\n",
              "      <td>2018-01-28 16:56:16.221271</td>\n",
              "      <td>0</td>\n",
              "      <td>1.0</td>\n",
              "      <td>1.0</td>\n",
              "      <td>10</td>\n",
              "      <td>0</td>\n",
              "      <td>0</td>\n",
              "      <td>25</td>\n",
              "      <td>2018-01-28 16:56:16.221271</td>\n",
              "      <td>862</td>\n",
              "    </tr>\n",
              "    <tr>\n",
              "      <th>4</th>\n",
              "      <td>user_17</td>\n",
              "      <td>1996</td>\n",
              "      <td>GB</td>\n",
              "      <td>Birmingham</td>\n",
              "      <td>2018-01-08 04:18:47.595266</td>\n",
              "      <td>1</td>\n",
              "      <td>NaN</td>\n",
              "      <td>NaN</td>\n",
              "      <td>0</td>\n",
              "      <td>0</td>\n",
              "      <td>0</td>\n",
              "      <td>24</td>\n",
              "      <td>2018-01-08 04:18:47.595266</td>\n",
              "      <td>882</td>\n",
              "    </tr>\n",
              "  </tbody>\n",
              "</table>\n",
              "</div>"
            ],
            "text/plain": [
              "   user_id  birth_year  ...               date_created subscription_days\n",
              "0   user_2        1987  ... 2018-01-18 19:17:31.229096               871\n",
              "1   user_8        1981  ... 2018-01-03 07:28:59.063740               887\n",
              "2  user_10        1980  ... 2018-01-04 08:05:15.466282               886\n",
              "3  user_13        1995  ... 2018-01-28 16:56:16.221271               862\n",
              "4  user_17        1996  ... 2018-01-08 04:18:47.595266               882\n",
              "\n",
              "[5 rows x 14 columns]"
            ]
          },
          "metadata": {
            "tags": []
          },
          "execution_count": 92
        }
      ]
    },
    {
      "cell_type": "markdown",
      "metadata": {
        "colab_type": "text",
        "id": "b-4SY1bIuWwU"
      },
      "source": [
        "###Clustering"
      ]
    },
    {
      "cell_type": "code",
      "metadata": {
        "colab_type": "code",
        "outputId": "6f61b7e5-47cb-4ff4-8b3d-a79b63391a39",
        "id": "_wJo48nPuWwW",
        "colab": {
          "base_uri": "https://localhost:8080/",
          "height": 0
        }
      },
      "source": [
        "#Countries clustering\n",
        "countries_cluster=pd.DataFrame({\"Cluster\":[\"CEE_EU\"]*8+[\"N_EU\"]*8+[\"S_EU\"]*7+[\"W_EU\"]*13+[\"Non_EU\"]*4,\"country\":\\\n",
        "                                ['BG','RO','PL','CZ','SI','HU','HR','SK',\\\n",
        "                                'LT','DK','EE','FI','IS','LV','NO','SE',\\\n",
        "                                'ES','MT','CY','GR','IT','GI','PT',\\\n",
        "                                'AT','IE','GB','BE','CH','DE','GG','IM','JE','LI','LU','NL',\"FR\",\\\n",
        "                                'AU','GP','MQ','RE']})\n",
        "countries_cluster\n",
        "\n",
        "users=pd.merge(users,countries_cluster,how=\"left\",on=\"country\")\n",
        "users.head()"
      ],
      "execution_count": 93,
      "outputs": [
        {
          "output_type": "execute_result",
          "data": {
            "text/html": [
              "<div>\n",
              "<style scoped>\n",
              "    .dataframe tbody tr th:only-of-type {\n",
              "        vertical-align: middle;\n",
              "    }\n",
              "\n",
              "    .dataframe tbody tr th {\n",
              "        vertical-align: top;\n",
              "    }\n",
              "\n",
              "    .dataframe thead th {\n",
              "        text-align: right;\n",
              "    }\n",
              "</style>\n",
              "<table border=\"1\" class=\"dataframe\">\n",
              "  <thead>\n",
              "    <tr style=\"text-align: right;\">\n",
              "      <th></th>\n",
              "      <th>user_id</th>\n",
              "      <th>birth_year</th>\n",
              "      <th>country</th>\n",
              "      <th>city</th>\n",
              "      <th>created_date</th>\n",
              "      <th>user_settings_crypto_unlocked</th>\n",
              "      <th>attributes_notifications_marketing_push</th>\n",
              "      <th>attributes_notifications_marketing_email</th>\n",
              "      <th>num_contacts</th>\n",
              "      <th>num_referrals</th>\n",
              "      <th>num_successful_referrals</th>\n",
              "      <th>user_age</th>\n",
              "      <th>date_created</th>\n",
              "      <th>subscription_days</th>\n",
              "      <th>Cluster</th>\n",
              "    </tr>\n",
              "  </thead>\n",
              "  <tbody>\n",
              "    <tr>\n",
              "      <th>0</th>\n",
              "      <td>user_2</td>\n",
              "      <td>1987</td>\n",
              "      <td>PL</td>\n",
              "      <td>Poznań</td>\n",
              "      <td>2018-01-18 19:17:31.229096</td>\n",
              "      <td>0</td>\n",
              "      <td>0.0</td>\n",
              "      <td>0.0</td>\n",
              "      <td>21</td>\n",
              "      <td>0</td>\n",
              "      <td>0</td>\n",
              "      <td>33</td>\n",
              "      <td>2018-01-18 19:17:31.229096</td>\n",
              "      <td>871</td>\n",
              "      <td>CEE_EU</td>\n",
              "    </tr>\n",
              "    <tr>\n",
              "      <th>1</th>\n",
              "      <td>user_8</td>\n",
              "      <td>1981</td>\n",
              "      <td>GB</td>\n",
              "      <td>Fife</td>\n",
              "      <td>2018-01-03 07:28:59.063740</td>\n",
              "      <td>1</td>\n",
              "      <td>NaN</td>\n",
              "      <td>NaN</td>\n",
              "      <td>0</td>\n",
              "      <td>0</td>\n",
              "      <td>0</td>\n",
              "      <td>39</td>\n",
              "      <td>2018-01-03 07:28:59.063740</td>\n",
              "      <td>887</td>\n",
              "      <td>W_EU</td>\n",
              "    </tr>\n",
              "    <tr>\n",
              "      <th>2</th>\n",
              "      <td>user_10</td>\n",
              "      <td>1980</td>\n",
              "      <td>FR</td>\n",
              "      <td>Paris</td>\n",
              "      <td>2018-01-04 08:05:15.466282</td>\n",
              "      <td>0</td>\n",
              "      <td>1.0</td>\n",
              "      <td>1.0</td>\n",
              "      <td>38</td>\n",
              "      <td>0</td>\n",
              "      <td>0</td>\n",
              "      <td>40</td>\n",
              "      <td>2018-01-04 08:05:15.466282</td>\n",
              "      <td>886</td>\n",
              "      <td>W_EU</td>\n",
              "    </tr>\n",
              "    <tr>\n",
              "      <th>3</th>\n",
              "      <td>user_13</td>\n",
              "      <td>1995</td>\n",
              "      <td>LT</td>\n",
              "      <td>Anykščiai</td>\n",
              "      <td>2018-01-28 16:56:16.221271</td>\n",
              "      <td>0</td>\n",
              "      <td>1.0</td>\n",
              "      <td>1.0</td>\n",
              "      <td>10</td>\n",
              "      <td>0</td>\n",
              "      <td>0</td>\n",
              "      <td>25</td>\n",
              "      <td>2018-01-28 16:56:16.221271</td>\n",
              "      <td>862</td>\n",
              "      <td>N_EU</td>\n",
              "    </tr>\n",
              "    <tr>\n",
              "      <th>4</th>\n",
              "      <td>user_17</td>\n",
              "      <td>1996</td>\n",
              "      <td>GB</td>\n",
              "      <td>Birmingham</td>\n",
              "      <td>2018-01-08 04:18:47.595266</td>\n",
              "      <td>1</td>\n",
              "      <td>NaN</td>\n",
              "      <td>NaN</td>\n",
              "      <td>0</td>\n",
              "      <td>0</td>\n",
              "      <td>0</td>\n",
              "      <td>24</td>\n",
              "      <td>2018-01-08 04:18:47.595266</td>\n",
              "      <td>882</td>\n",
              "      <td>W_EU</td>\n",
              "    </tr>\n",
              "  </tbody>\n",
              "</table>\n",
              "</div>"
            ],
            "text/plain": [
              "   user_id  birth_year  ... subscription_days Cluster\n",
              "0   user_2        1987  ...               871  CEE_EU\n",
              "1   user_8        1981  ...               887    W_EU\n",
              "2  user_10        1980  ...               886    W_EU\n",
              "3  user_13        1995  ...               862    N_EU\n",
              "4  user_17        1996  ...               882    W_EU\n",
              "\n",
              "[5 rows x 15 columns]"
            ]
          },
          "metadata": {
            "tags": []
          },
          "execution_count": 93
        }
      ]
    },
    {
      "cell_type": "code",
      "metadata": {
        "colab_type": "code",
        "outputId": "be6124f2-68a3-44ae-d139-eb785d54d0c4",
        "id": "uIcFv1LFuWwb",
        "colab": {
          "base_uri": "https://localhost:8080/",
          "height": 0
        }
      },
      "source": [
        "#GDP per capita clustering\n",
        "GDP_cluster=pd.DataFrame({\"country\":['FR','BG','RO','PL','CZ','SI','HU','HR','SK',\\\n",
        "                                'LT','DK','EE','FI','IS','LV','NO','SE',\\\n",
        "                                'ES','MT','CY','GR','IT','GI','PT',\\\n",
        "                                'AT','IE','GB','BE','CH','DE','GG','IM','JE','LI','LU','NL',\\\n",
        "                                'AU','GP','MQ','RE'],\"GDP_per_capita\":\\\n",
        "                                [\">45k\",\"<30k\",\"<30k\",\"30k_45k\",\"30k_45k\",\"30k_45k\",\"30k_45k\",\"<30k\",\"30k_45k\",\\\n",
        "                                 \"30k_45k\",\">45k\",\"30k_45k\",\">45k\",\">45k\",\"30k_45k\",\">45k\",\">45k\",\\\n",
        "                                 '30k_45k','>45k','30k_45k','30k_45k','30k_45k','30k_45k','30k_45k',\\\n",
        "                                 '>45k','>45k','>45k','>45k','>45k','>45k','>45k','>45k','>45k','>45k','>45k','>45k',\\\n",
        "                                 '>45k','<30k','<30k','<30k']})\n",
        "GDP_cluster\n",
        "\n",
        "users=pd.merge(users,GDP_cluster,how=\"left\",on=\"country\")\n",
        "users.head()"
      ],
      "execution_count": 94,
      "outputs": [
        {
          "output_type": "execute_result",
          "data": {
            "text/html": [
              "<div>\n",
              "<style scoped>\n",
              "    .dataframe tbody tr th:only-of-type {\n",
              "        vertical-align: middle;\n",
              "    }\n",
              "\n",
              "    .dataframe tbody tr th {\n",
              "        vertical-align: top;\n",
              "    }\n",
              "\n",
              "    .dataframe thead th {\n",
              "        text-align: right;\n",
              "    }\n",
              "</style>\n",
              "<table border=\"1\" class=\"dataframe\">\n",
              "  <thead>\n",
              "    <tr style=\"text-align: right;\">\n",
              "      <th></th>\n",
              "      <th>user_id</th>\n",
              "      <th>birth_year</th>\n",
              "      <th>country</th>\n",
              "      <th>city</th>\n",
              "      <th>created_date</th>\n",
              "      <th>user_settings_crypto_unlocked</th>\n",
              "      <th>attributes_notifications_marketing_push</th>\n",
              "      <th>attributes_notifications_marketing_email</th>\n",
              "      <th>num_contacts</th>\n",
              "      <th>num_referrals</th>\n",
              "      <th>num_successful_referrals</th>\n",
              "      <th>user_age</th>\n",
              "      <th>date_created</th>\n",
              "      <th>subscription_days</th>\n",
              "      <th>Cluster</th>\n",
              "      <th>GDP_per_capita</th>\n",
              "    </tr>\n",
              "  </thead>\n",
              "  <tbody>\n",
              "    <tr>\n",
              "      <th>0</th>\n",
              "      <td>user_2</td>\n",
              "      <td>1987</td>\n",
              "      <td>PL</td>\n",
              "      <td>Poznań</td>\n",
              "      <td>2018-01-18 19:17:31.229096</td>\n",
              "      <td>0</td>\n",
              "      <td>0.0</td>\n",
              "      <td>0.0</td>\n",
              "      <td>21</td>\n",
              "      <td>0</td>\n",
              "      <td>0</td>\n",
              "      <td>33</td>\n",
              "      <td>2018-01-18 19:17:31.229096</td>\n",
              "      <td>871</td>\n",
              "      <td>CEE_EU</td>\n",
              "      <td>30k_45k</td>\n",
              "    </tr>\n",
              "    <tr>\n",
              "      <th>1</th>\n",
              "      <td>user_8</td>\n",
              "      <td>1981</td>\n",
              "      <td>GB</td>\n",
              "      <td>Fife</td>\n",
              "      <td>2018-01-03 07:28:59.063740</td>\n",
              "      <td>1</td>\n",
              "      <td>NaN</td>\n",
              "      <td>NaN</td>\n",
              "      <td>0</td>\n",
              "      <td>0</td>\n",
              "      <td>0</td>\n",
              "      <td>39</td>\n",
              "      <td>2018-01-03 07:28:59.063740</td>\n",
              "      <td>887</td>\n",
              "      <td>W_EU</td>\n",
              "      <td>&gt;45k</td>\n",
              "    </tr>\n",
              "    <tr>\n",
              "      <th>2</th>\n",
              "      <td>user_10</td>\n",
              "      <td>1980</td>\n",
              "      <td>FR</td>\n",
              "      <td>Paris</td>\n",
              "      <td>2018-01-04 08:05:15.466282</td>\n",
              "      <td>0</td>\n",
              "      <td>1.0</td>\n",
              "      <td>1.0</td>\n",
              "      <td>38</td>\n",
              "      <td>0</td>\n",
              "      <td>0</td>\n",
              "      <td>40</td>\n",
              "      <td>2018-01-04 08:05:15.466282</td>\n",
              "      <td>886</td>\n",
              "      <td>W_EU</td>\n",
              "      <td>&gt;45k</td>\n",
              "    </tr>\n",
              "    <tr>\n",
              "      <th>3</th>\n",
              "      <td>user_13</td>\n",
              "      <td>1995</td>\n",
              "      <td>LT</td>\n",
              "      <td>Anykščiai</td>\n",
              "      <td>2018-01-28 16:56:16.221271</td>\n",
              "      <td>0</td>\n",
              "      <td>1.0</td>\n",
              "      <td>1.0</td>\n",
              "      <td>10</td>\n",
              "      <td>0</td>\n",
              "      <td>0</td>\n",
              "      <td>25</td>\n",
              "      <td>2018-01-28 16:56:16.221271</td>\n",
              "      <td>862</td>\n",
              "      <td>N_EU</td>\n",
              "      <td>30k_45k</td>\n",
              "    </tr>\n",
              "    <tr>\n",
              "      <th>4</th>\n",
              "      <td>user_17</td>\n",
              "      <td>1996</td>\n",
              "      <td>GB</td>\n",
              "      <td>Birmingham</td>\n",
              "      <td>2018-01-08 04:18:47.595266</td>\n",
              "      <td>1</td>\n",
              "      <td>NaN</td>\n",
              "      <td>NaN</td>\n",
              "      <td>0</td>\n",
              "      <td>0</td>\n",
              "      <td>0</td>\n",
              "      <td>24</td>\n",
              "      <td>2018-01-08 04:18:47.595266</td>\n",
              "      <td>882</td>\n",
              "      <td>W_EU</td>\n",
              "      <td>&gt;45k</td>\n",
              "    </tr>\n",
              "  </tbody>\n",
              "</table>\n",
              "</div>"
            ],
            "text/plain": [
              "   user_id  birth_year country  ... subscription_days Cluster  GDP_per_capita\n",
              "0   user_2        1987      PL  ...               871  CEE_EU         30k_45k\n",
              "1   user_8        1981      GB  ...               887    W_EU            >45k\n",
              "2  user_10        1980      FR  ...               886    W_EU            >45k\n",
              "3  user_13        1995      LT  ...               862    N_EU         30k_45k\n",
              "4  user_17        1996      GB  ...               882    W_EU            >45k\n",
              "\n",
              "[5 rows x 16 columns]"
            ]
          },
          "metadata": {
            "tags": []
          },
          "execution_count": 94
        }
      ]
    },
    {
      "cell_type": "code",
      "metadata": {
        "colab_type": "code",
        "outputId": "47bae586-6ac6-41e1-b830-11e435b757f9",
        "id": "ZG5XwlMjuWwe",
        "colab": {
          "base_uri": "https://localhost:8080/",
          "height": 0
        }
      },
      "source": [
        "#Age clustering\n",
        "users['age_group'] = pd.cut(users[\"user_age\"], bins=[0,35,50,65,130], labels=['Early Adult','LowMid Adult', \"UpMid Adult\" ,'Pensioner'], right=False)\n",
        "users['age_group'].value_counts()"
      ],
      "execution_count": 95,
      "outputs": [
        {
          "output_type": "execute_result",
          "data": {
            "text/plain": [
              "Early Adult     2046\n",
              "LowMid Adult    1283\n",
              "UpMid Adult      459\n",
              "Pensioner         98\n",
              "Name: age_group, dtype: int64"
            ]
          },
          "metadata": {
            "tags": []
          },
          "execution_count": 95
        }
      ]
    },
    {
      "cell_type": "markdown",
      "metadata": {
        "colab_type": "text",
        "id": "9FgHDNZluWwm"
      },
      "source": [
        "##Devices File"
      ]
    },
    {
      "cell_type": "code",
      "metadata": {
        "colab_type": "code",
        "id": "2E_xul06uWwn",
        "colab": {}
      },
      "source": [
        "dev=dev2"
      ],
      "execution_count": 0,
      "outputs": []
    },
    {
      "cell_type": "code",
      "metadata": {
        "colab_type": "code",
        "outputId": "f28b3b91-98ac-434b-efcb-3dc0442f0358",
        "id": "TzL7B5JHuWwp",
        "colab": {
          "base_uri": "https://localhost:8080/",
          "height": 0
        }
      },
      "source": [
        "test_pivot=dev.pivot_table(values=\"user_id\",index=\"brand\",aggfunc=\"count\",margins=\"rows grand total\")\n",
        "print(dev.shape)\n",
        "test_pivot"
      ],
      "execution_count": 97,
      "outputs": [
        {
          "output_type": "stream",
          "text": [
            "(3886, 2)\n"
          ],
          "name": "stdout"
        },
        {
          "output_type": "execute_result",
          "data": {
            "text/html": [
              "<div>\n",
              "<style scoped>\n",
              "    .dataframe tbody tr th:only-of-type {\n",
              "        vertical-align: middle;\n",
              "    }\n",
              "\n",
              "    .dataframe tbody tr th {\n",
              "        vertical-align: top;\n",
              "    }\n",
              "\n",
              "    .dataframe thead th {\n",
              "        text-align: right;\n",
              "    }\n",
              "</style>\n",
              "<table border=\"1\" class=\"dataframe\">\n",
              "  <thead>\n",
              "    <tr style=\"text-align: right;\">\n",
              "      <th></th>\n",
              "      <th>user_id</th>\n",
              "    </tr>\n",
              "    <tr>\n",
              "      <th>brand</th>\n",
              "      <th></th>\n",
              "    </tr>\n",
              "  </thead>\n",
              "  <tbody>\n",
              "    <tr>\n",
              "      <th>Android</th>\n",
              "      <td>1914</td>\n",
              "    </tr>\n",
              "    <tr>\n",
              "      <th>Apple</th>\n",
              "      <td>1961</td>\n",
              "    </tr>\n",
              "    <tr>\n",
              "      <th>Unknown</th>\n",
              "      <td>11</td>\n",
              "    </tr>\n",
              "    <tr>\n",
              "      <th>All</th>\n",
              "      <td>3886</td>\n",
              "    </tr>\n",
              "  </tbody>\n",
              "</table>\n",
              "</div>"
            ],
            "text/plain": [
              "         user_id\n",
              "brand           \n",
              "Android     1914\n",
              "Apple       1961\n",
              "Unknown       11\n",
              "All         3886"
            ]
          },
          "metadata": {
            "tags": []
          },
          "execution_count": 97
        }
      ]
    },
    {
      "cell_type": "code",
      "metadata": {
        "colab_type": "code",
        "outputId": "27591482-06e9-45c0-e19b-c6cb76f71d0e",
        "id": "rrqK2gf2uWws",
        "colab": {
          "base_uri": "https://localhost:8080/",
          "height": 0
        }
      },
      "source": [
        "#Create Apple or not column\n",
        "dev.loc[dev['brand']== \"Apple\", 'Brand_Apple'] = 1 \n",
        "dev.loc[dev['brand']!= \"Apple\", 'Brand_Apple'] = 0\n",
        "dev.tail() "
      ],
      "execution_count": 98,
      "outputs": [
        {
          "output_type": "execute_result",
          "data": {
            "text/html": [
              "<div>\n",
              "<style scoped>\n",
              "    .dataframe tbody tr th:only-of-type {\n",
              "        vertical-align: middle;\n",
              "    }\n",
              "\n",
              "    .dataframe tbody tr th {\n",
              "        vertical-align: top;\n",
              "    }\n",
              "\n",
              "    .dataframe thead th {\n",
              "        text-align: right;\n",
              "    }\n",
              "</style>\n",
              "<table border=\"1\" class=\"dataframe\">\n",
              "  <thead>\n",
              "    <tr style=\"text-align: right;\">\n",
              "      <th></th>\n",
              "      <th>brand</th>\n",
              "      <th>user_id</th>\n",
              "      <th>Brand_Apple</th>\n",
              "    </tr>\n",
              "  </thead>\n",
              "  <tbody>\n",
              "    <tr>\n",
              "      <th>3881</th>\n",
              "      <td>Apple</td>\n",
              "      <td>user_18864</td>\n",
              "      <td>1.0</td>\n",
              "    </tr>\n",
              "    <tr>\n",
              "      <th>3882</th>\n",
              "      <td>Apple</td>\n",
              "      <td>user_13592</td>\n",
              "      <td>1.0</td>\n",
              "    </tr>\n",
              "    <tr>\n",
              "      <th>3883</th>\n",
              "      <td>Android</td>\n",
              "      <td>user_12940</td>\n",
              "      <td>0.0</td>\n",
              "    </tr>\n",
              "    <tr>\n",
              "      <th>3884</th>\n",
              "      <td>Android</td>\n",
              "      <td>user_17976</td>\n",
              "      <td>0.0</td>\n",
              "    </tr>\n",
              "    <tr>\n",
              "      <th>3885</th>\n",
              "      <td>Android</td>\n",
              "      <td>user_12352</td>\n",
              "      <td>0.0</td>\n",
              "    </tr>\n",
              "  </tbody>\n",
              "</table>\n",
              "</div>"
            ],
            "text/plain": [
              "        brand     user_id  Brand_Apple\n",
              "3881    Apple  user_18864          1.0\n",
              "3882    Apple  user_13592          1.0\n",
              "3883  Android  user_12940          0.0\n",
              "3884  Android  user_17976          0.0\n",
              "3885  Android  user_12352          0.0"
            ]
          },
          "metadata": {
            "tags": []
          },
          "execution_count": 98
        }
      ]
    },
    {
      "cell_type": "markdown",
      "metadata": {
        "colab_type": "text",
        "id": "LJMPdsiBuWwx"
      },
      "source": [
        "##Notifications File"
      ]
    },
    {
      "cell_type": "code",
      "metadata": {
        "colab_type": "code",
        "id": "juSBjhoEuWwx",
        "colab": {}
      },
      "source": [
        "ntf=ntf_2"
      ],
      "execution_count": 0,
      "outputs": []
    },
    {
      "cell_type": "code",
      "metadata": {
        "colab_type": "code",
        "outputId": "53efc164-70e7-4d67-9e63-4178f3c94123",
        "id": "O6DIGYZ0uWwz",
        "colab": {
          "base_uri": "https://localhost:8080/",
          "height": 0
        }
      },
      "source": [
        "ntf.columns"
      ],
      "execution_count": 100,
      "outputs": [
        {
          "output_type": "execute_result",
          "data": {
            "text/plain": [
              "Index(['reason', 'channel', 'status', 'user_id', 'created_date'], dtype='object')"
            ]
          },
          "metadata": {
            "tags": []
          },
          "execution_count": 100
        }
      ]
    },
    {
      "cell_type": "code",
      "metadata": {
        "colab_type": "code",
        "outputId": "80d5a9f0-50fa-44b0-8d28-5633f5a84cb3",
        "id": "39xlJvhDuWw1",
        "colab": {
          "base_uri": "https://localhost:8080/",
          "height": 0
        }
      },
      "source": [
        "colnames=ntf.columns\n",
        "df=pd.DataFrame(columns=[\"Column\",\"NumOfMissingVal\",\"UniqueVal\"])\n",
        "for cn in colnames:\n",
        "  df=df.append({\"Column\" : cn,\"NumOfMissingVal\": sum(pd.isna(ntf[cn])),\"UniqueVal\":len(ntf[cn].unique())},ignore_index=True)\n",
        "\n",
        "df"
      ],
      "execution_count": 101,
      "outputs": [
        {
          "output_type": "execute_result",
          "data": {
            "text/html": [
              "<div>\n",
              "<style scoped>\n",
              "    .dataframe tbody tr th:only-of-type {\n",
              "        vertical-align: middle;\n",
              "    }\n",
              "\n",
              "    .dataframe tbody tr th {\n",
              "        vertical-align: top;\n",
              "    }\n",
              "\n",
              "    .dataframe thead th {\n",
              "        text-align: right;\n",
              "    }\n",
              "</style>\n",
              "<table border=\"1\" class=\"dataframe\">\n",
              "  <thead>\n",
              "    <tr style=\"text-align: right;\">\n",
              "      <th></th>\n",
              "      <th>Column</th>\n",
              "      <th>NumOfMissingVal</th>\n",
              "      <th>UniqueVal</th>\n",
              "    </tr>\n",
              "  </thead>\n",
              "  <tbody>\n",
              "    <tr>\n",
              "      <th>0</th>\n",
              "      <td>reason</td>\n",
              "      <td>0</td>\n",
              "      <td>15</td>\n",
              "    </tr>\n",
              "    <tr>\n",
              "      <th>1</th>\n",
              "      <td>channel</td>\n",
              "      <td>0</td>\n",
              "      <td>3</td>\n",
              "    </tr>\n",
              "    <tr>\n",
              "      <th>2</th>\n",
              "      <td>status</td>\n",
              "      <td>0</td>\n",
              "      <td>2</td>\n",
              "    </tr>\n",
              "    <tr>\n",
              "      <th>3</th>\n",
              "      <td>user_id</td>\n",
              "      <td>0</td>\n",
              "      <td>3797</td>\n",
              "    </tr>\n",
              "    <tr>\n",
              "      <th>4</th>\n",
              "      <td>created_date</td>\n",
              "      <td>0</td>\n",
              "      <td>23731</td>\n",
              "    </tr>\n",
              "  </tbody>\n",
              "</table>\n",
              "</div>"
            ],
            "text/plain": [
              "         Column NumOfMissingVal UniqueVal\n",
              "0        reason               0        15\n",
              "1       channel               0         3\n",
              "2        status               0         2\n",
              "3       user_id               0      3797\n",
              "4  created_date               0     23731"
            ]
          },
          "metadata": {
            "tags": []
          },
          "execution_count": 101
        }
      ]
    },
    {
      "cell_type": "code",
      "metadata": {
        "colab_type": "code",
        "outputId": "5ee797e5-e5d4-466b-e29d-3d581893027b",
        "id": "Bwt5-7aXuWw3",
        "colab": {
          "base_uri": "https://localhost:8080/",
          "height": 0
        }
      },
      "source": [
        "ntf['status'].value_counts()"
      ],
      "execution_count": 102,
      "outputs": [
        {
          "output_type": "execute_result",
          "data": {
            "text/plain": [
              "SENT      17457\n",
              "FAILED     6274\n",
              "Name: status, dtype: int64"
            ]
          },
          "metadata": {
            "tags": []
          },
          "execution_count": 102
        }
      ]
    },
    {
      "cell_type": "code",
      "metadata": {
        "colab_type": "code",
        "outputId": "f7eb3cc8-d78e-49a1-ac5f-71f7be4fb457",
        "id": "n0RZzEuWuWw5",
        "colab": {
          "base_uri": "https://localhost:8080/",
          "height": 0
        }
      },
      "source": [
        "ntf['reason'].value_counts()"
      ],
      "execution_count": 103,
      "outputs": [
        {
          "output_type": "execute_result",
          "data": {
            "text/plain": [
              "REENGAGEMENT_ACTIVE_FUNDS            7012\n",
              "PROMO                                4756\n",
              "NO_INITIAL_CARD_USE                  2186\n",
              "NO_INITIAL_CARD_ORDER                2065\n",
              "INVEST_IN_GOLD                       1724\n",
              "LOST_CARD_ORDER                      1205\n",
              "PROMO_CARD_ORDER                     1101\n",
              "JOINING_ANNIVERSARY                   824\n",
              "ONBOARDING_TIPS_ACTIVATED_USERS       722\n",
              "MADE_MONEY_REQUEST_NOT_SPLIT_BILL     655\n",
              "ENGAGEMENT_SPLIT_BILL_RESTAURANT      464\n",
              "BLACK_FRIDAY                          428\n",
              "METAL_RESERVE_PLAN                    283\n",
              "WELCOME_BACK                          171\n",
              "BLUE_TUESDAY                          135\n",
              "Name: reason, dtype: int64"
            ]
          },
          "metadata": {
            "tags": []
          },
          "execution_count": 103
        }
      ]
    },
    {
      "cell_type": "code",
      "metadata": {
        "colab_type": "code",
        "outputId": "2b465ca4-b1e5-4e16-f638-fa359d009bdf",
        "id": "irefwBLEuWw7",
        "colab": {
          "base_uri": "https://localhost:8080/",
          "height": 0
        }
      },
      "source": [
        "ntf_status=ntf.pivot_table(index=\"user_id\",columns=\"status\",values=\"channel\",aggfunc=\"count\",fill_value=0)\n",
        "ntf_status.head()"
      ],
      "execution_count": 104,
      "outputs": [
        {
          "output_type": "execute_result",
          "data": {
            "text/html": [
              "<div>\n",
              "<style scoped>\n",
              "    .dataframe tbody tr th:only-of-type {\n",
              "        vertical-align: middle;\n",
              "    }\n",
              "\n",
              "    .dataframe tbody tr th {\n",
              "        vertical-align: top;\n",
              "    }\n",
              "\n",
              "    .dataframe thead th {\n",
              "        text-align: right;\n",
              "    }\n",
              "</style>\n",
              "<table border=\"1\" class=\"dataframe\">\n",
              "  <thead>\n",
              "    <tr style=\"text-align: right;\">\n",
              "      <th>status</th>\n",
              "      <th>FAILED</th>\n",
              "      <th>SENT</th>\n",
              "    </tr>\n",
              "    <tr>\n",
              "      <th>user_id</th>\n",
              "      <th></th>\n",
              "      <th></th>\n",
              "    </tr>\n",
              "  </thead>\n",
              "  <tbody>\n",
              "    <tr>\n",
              "      <th>user_10</th>\n",
              "      <td>0</td>\n",
              "      <td>6</td>\n",
              "    </tr>\n",
              "    <tr>\n",
              "      <th>user_10000</th>\n",
              "      <td>2</td>\n",
              "      <td>6</td>\n",
              "    </tr>\n",
              "    <tr>\n",
              "      <th>user_10001</th>\n",
              "      <td>2</td>\n",
              "      <td>10</td>\n",
              "    </tr>\n",
              "    <tr>\n",
              "      <th>user_10006</th>\n",
              "      <td>1</td>\n",
              "      <td>5</td>\n",
              "    </tr>\n",
              "    <tr>\n",
              "      <th>user_1001</th>\n",
              "      <td>0</td>\n",
              "      <td>4</td>\n",
              "    </tr>\n",
              "  </tbody>\n",
              "</table>\n",
              "</div>"
            ],
            "text/plain": [
              "status      FAILED  SENT\n",
              "user_id                 \n",
              "user_10          0     6\n",
              "user_10000       2     6\n",
              "user_10001       2    10\n",
              "user_10006       1     5\n",
              "user_1001        0     4"
            ]
          },
          "metadata": {
            "tags": []
          },
          "execution_count": 104
        }
      ]
    },
    {
      "cell_type": "code",
      "metadata": {
        "colab_type": "code",
        "outputId": "85bcd944-67da-4144-87d4-dfcc67a98563",
        "id": "2g6e1K4_uWw8",
        "colab": {
          "base_uri": "https://localhost:8080/",
          "height": 0
        }
      },
      "source": [
        "ntf=ntf[ntf.status==\"SENT\"]\n",
        "ntf.status.value_counts()"
      ],
      "execution_count": 105,
      "outputs": [
        {
          "output_type": "execute_result",
          "data": {
            "text/plain": [
              "SENT    17457\n",
              "Name: status, dtype: int64"
            ]
          },
          "metadata": {
            "tags": []
          },
          "execution_count": 105
        }
      ]
    },
    {
      "cell_type": "code",
      "metadata": {
        "colab_type": "code",
        "outputId": "3b1ac00c-98f4-4883-c0ca-324e437ab241",
        "id": "mRXlY8ZduWw_",
        "colab": {
          "base_uri": "https://localhost:8080/",
          "height": 0
        }
      },
      "source": [
        "ntf_reason_cluster=pd.DataFrame({\"Useful_Ntf\":[1,0,1,1,0,1,0,0,1,1,1,0,1,1,0,0,1],\\\n",
        "                                \"reason\":\\\n",
        "                                ['REENGAGEMENT_ACTIVE_FUNDS','PROMO','NO_INITIAL_CARD_ORDER','NO_INITIAL_CARD_USE',\\\n",
        "                                'INVEST_IN_GOLD','LOST_CARD_ORDER','PROMO_CARD_ORDER','JOINING_ANNIVERSARY',\\\n",
        "                                'MADE_MONEY_REQUEST_NOT_SPLIT_BILL','ONBOARDING_TIPS_ACTIVATED_USERS','ENGAGEMENT_SPLIT_BILL_RESTAURANT',\\\n",
        "                                'BLACK_FRIDAY','METAL_RESERVE_PLAN','SILVER_ENGAGEMENT_INACTIVE_CARD','WELCOME_BACK',\\\n",
        "                                'BLUE_TUESDAY','SILVER_ENGAGEMENT_FEES_SAVED']})\n",
        "ntf_reason_cluster\n",
        "\n",
        "ntf=pd.merge(ntf,ntf_reason_cluster,how=\"left\",on=\"reason\")\n",
        "ntf.head()"
      ],
      "execution_count": 106,
      "outputs": [
        {
          "output_type": "execute_result",
          "data": {
            "text/html": [
              "<div>\n",
              "<style scoped>\n",
              "    .dataframe tbody tr th:only-of-type {\n",
              "        vertical-align: middle;\n",
              "    }\n",
              "\n",
              "    .dataframe tbody tr th {\n",
              "        vertical-align: top;\n",
              "    }\n",
              "\n",
              "    .dataframe thead th {\n",
              "        text-align: right;\n",
              "    }\n",
              "</style>\n",
              "<table border=\"1\" class=\"dataframe\">\n",
              "  <thead>\n",
              "    <tr style=\"text-align: right;\">\n",
              "      <th></th>\n",
              "      <th>reason</th>\n",
              "      <th>channel</th>\n",
              "      <th>status</th>\n",
              "      <th>user_id</th>\n",
              "      <th>created_date</th>\n",
              "      <th>Useful_Ntf</th>\n",
              "    </tr>\n",
              "  </thead>\n",
              "  <tbody>\n",
              "    <tr>\n",
              "      <th>0</th>\n",
              "      <td>REENGAGEMENT_ACTIVE_FUNDS</td>\n",
              "      <td>PUSH</td>\n",
              "      <td>SENT</td>\n",
              "      <td>user_1408</td>\n",
              "      <td>2018-12-11 02:04:46.284683</td>\n",
              "      <td>1</td>\n",
              "    </tr>\n",
              "    <tr>\n",
              "      <th>1</th>\n",
              "      <td>REENGAGEMENT_ACTIVE_FUNDS</td>\n",
              "      <td>PUSH</td>\n",
              "      <td>SENT</td>\n",
              "      <td>user_1295</td>\n",
              "      <td>2018-12-15 04:12:57.003255</td>\n",
              "      <td>1</td>\n",
              "    </tr>\n",
              "    <tr>\n",
              "      <th>2</th>\n",
              "      <td>REENGAGEMENT_ACTIVE_FUNDS</td>\n",
              "      <td>PUSH</td>\n",
              "      <td>SENT</td>\n",
              "      <td>user_7638</td>\n",
              "      <td>2018-12-13 20:18:37.816938</td>\n",
              "      <td>1</td>\n",
              "    </tr>\n",
              "    <tr>\n",
              "      <th>3</th>\n",
              "      <td>REENGAGEMENT_ACTIVE_FUNDS</td>\n",
              "      <td>PUSH</td>\n",
              "      <td>SENT</td>\n",
              "      <td>user_58</td>\n",
              "      <td>2018-12-14 03:08:44.288621</td>\n",
              "      <td>1</td>\n",
              "    </tr>\n",
              "    <tr>\n",
              "      <th>4</th>\n",
              "      <td>REENGAGEMENT_ACTIVE_FUNDS</td>\n",
              "      <td>PUSH</td>\n",
              "      <td>SENT</td>\n",
              "      <td>user_795</td>\n",
              "      <td>2018-12-08 23:42:49.869424</td>\n",
              "      <td>1</td>\n",
              "    </tr>\n",
              "  </tbody>\n",
              "</table>\n",
              "</div>"
            ],
            "text/plain": [
              "                      reason channel  ...                created_date Useful_Ntf\n",
              "0  REENGAGEMENT_ACTIVE_FUNDS    PUSH  ...  2018-12-11 02:04:46.284683          1\n",
              "1  REENGAGEMENT_ACTIVE_FUNDS    PUSH  ...  2018-12-15 04:12:57.003255          1\n",
              "2  REENGAGEMENT_ACTIVE_FUNDS    PUSH  ...  2018-12-13 20:18:37.816938          1\n",
              "3  REENGAGEMENT_ACTIVE_FUNDS    PUSH  ...  2018-12-14 03:08:44.288621          1\n",
              "4  REENGAGEMENT_ACTIVE_FUNDS    PUSH  ...  2018-12-08 23:42:49.869424          1\n",
              "\n",
              "[5 rows x 6 columns]"
            ]
          },
          "metadata": {
            "tags": []
          },
          "execution_count": 106
        }
      ]
    },
    {
      "cell_type": "code",
      "metadata": {
        "colab_type": "code",
        "outputId": "a7baa174-723e-4d20-8a31-48d4af322ff8",
        "id": "a942hwxfuWxC",
        "colab": {
          "base_uri": "https://localhost:8080/",
          "height": 0
        }
      },
      "source": [
        "ntf_reason_cluster=pd.DataFrame({\"Mostly_paid_notif\":[0,0,0,0,0,0,0,0,0,0,0,0,0,1,0,0,1],\\\n",
        "                                \"reason\":\\\n",
        "                                ['REENGAGEMENT_ACTIVE_FUNDS','PROMO','NO_INITIAL_CARD_ORDER','NO_INITIAL_CARD_USE',\\\n",
        "                                'INVEST_IN_GOLD','LOST_CARD_ORDER','PROMO_CARD_ORDER','JOINING_ANNIVERSARY',\\\n",
        "                                'MADE_MONEY_REQUEST_NOT_SPLIT_BILL','ONBOARDING_TIPS_ACTIVATED_USERS','ENGAGEMENT_SPLIT_BILL_RESTAURANT',\\\n",
        "                                'BLACK_FRIDAY','METAL_RESERVE_PLAN','SILVER_ENGAGEMENT_INACTIVE_CARD','WELCOME_BACK',\\\n",
        "                                'BLUE_TUESDAY','SILVER_ENGAGEMENT_FEES_SAVED']})\n",
        "ntf_reason_cluster\n",
        "\n",
        "ntf=pd.merge(ntf,ntf_reason_cluster,how=\"left\",on=\"reason\")\n",
        "ntf.head()"
      ],
      "execution_count": 107,
      "outputs": [
        {
          "output_type": "execute_result",
          "data": {
            "text/html": [
              "<div>\n",
              "<style scoped>\n",
              "    .dataframe tbody tr th:only-of-type {\n",
              "        vertical-align: middle;\n",
              "    }\n",
              "\n",
              "    .dataframe tbody tr th {\n",
              "        vertical-align: top;\n",
              "    }\n",
              "\n",
              "    .dataframe thead th {\n",
              "        text-align: right;\n",
              "    }\n",
              "</style>\n",
              "<table border=\"1\" class=\"dataframe\">\n",
              "  <thead>\n",
              "    <tr style=\"text-align: right;\">\n",
              "      <th></th>\n",
              "      <th>reason</th>\n",
              "      <th>channel</th>\n",
              "      <th>status</th>\n",
              "      <th>user_id</th>\n",
              "      <th>created_date</th>\n",
              "      <th>Useful_Ntf</th>\n",
              "      <th>Mostly_paid_notif</th>\n",
              "    </tr>\n",
              "  </thead>\n",
              "  <tbody>\n",
              "    <tr>\n",
              "      <th>0</th>\n",
              "      <td>REENGAGEMENT_ACTIVE_FUNDS</td>\n",
              "      <td>PUSH</td>\n",
              "      <td>SENT</td>\n",
              "      <td>user_1408</td>\n",
              "      <td>2018-12-11 02:04:46.284683</td>\n",
              "      <td>1</td>\n",
              "      <td>0</td>\n",
              "    </tr>\n",
              "    <tr>\n",
              "      <th>1</th>\n",
              "      <td>REENGAGEMENT_ACTIVE_FUNDS</td>\n",
              "      <td>PUSH</td>\n",
              "      <td>SENT</td>\n",
              "      <td>user_1295</td>\n",
              "      <td>2018-12-15 04:12:57.003255</td>\n",
              "      <td>1</td>\n",
              "      <td>0</td>\n",
              "    </tr>\n",
              "    <tr>\n",
              "      <th>2</th>\n",
              "      <td>REENGAGEMENT_ACTIVE_FUNDS</td>\n",
              "      <td>PUSH</td>\n",
              "      <td>SENT</td>\n",
              "      <td>user_7638</td>\n",
              "      <td>2018-12-13 20:18:37.816938</td>\n",
              "      <td>1</td>\n",
              "      <td>0</td>\n",
              "    </tr>\n",
              "    <tr>\n",
              "      <th>3</th>\n",
              "      <td>REENGAGEMENT_ACTIVE_FUNDS</td>\n",
              "      <td>PUSH</td>\n",
              "      <td>SENT</td>\n",
              "      <td>user_58</td>\n",
              "      <td>2018-12-14 03:08:44.288621</td>\n",
              "      <td>1</td>\n",
              "      <td>0</td>\n",
              "    </tr>\n",
              "    <tr>\n",
              "      <th>4</th>\n",
              "      <td>REENGAGEMENT_ACTIVE_FUNDS</td>\n",
              "      <td>PUSH</td>\n",
              "      <td>SENT</td>\n",
              "      <td>user_795</td>\n",
              "      <td>2018-12-08 23:42:49.869424</td>\n",
              "      <td>1</td>\n",
              "      <td>0</td>\n",
              "    </tr>\n",
              "  </tbody>\n",
              "</table>\n",
              "</div>"
            ],
            "text/plain": [
              "                      reason channel  ... Useful_Ntf Mostly_paid_notif\n",
              "0  REENGAGEMENT_ACTIVE_FUNDS    PUSH  ...          1                 0\n",
              "1  REENGAGEMENT_ACTIVE_FUNDS    PUSH  ...          1                 0\n",
              "2  REENGAGEMENT_ACTIVE_FUNDS    PUSH  ...          1                 0\n",
              "3  REENGAGEMENT_ACTIVE_FUNDS    PUSH  ...          1                 0\n",
              "4  REENGAGEMENT_ACTIVE_FUNDS    PUSH  ...          1                 0\n",
              "\n",
              "[5 rows x 7 columns]"
            ]
          },
          "metadata": {
            "tags": []
          },
          "execution_count": 107
        }
      ]
    },
    {
      "cell_type": "code",
      "metadata": {
        "colab_type": "code",
        "outputId": "526a0247-2a86-4128-fa84-19ca216622f0",
        "id": "Xz4I0jPquWxE",
        "colab": {
          "base_uri": "https://localhost:8080/",
          "height": 0
        }
      },
      "source": [
        "ntf_channel=ntf.pivot_table(columns=\"channel\",aggfunc=\"count\",index=\"user_id\",values=\"status\",fill_value=0)\n",
        "ntf_channel=pd.DataFrame(ntf_channel.to_records())\n",
        "ntf_channel=ntf_channel.drop(columns=[\"SMS\"])\n",
        "ntf_channel"
      ],
      "execution_count": 108,
      "outputs": [
        {
          "output_type": "execute_result",
          "data": {
            "text/html": [
              "<div>\n",
              "<style scoped>\n",
              "    .dataframe tbody tr th:only-of-type {\n",
              "        vertical-align: middle;\n",
              "    }\n",
              "\n",
              "    .dataframe tbody tr th {\n",
              "        vertical-align: top;\n",
              "    }\n",
              "\n",
              "    .dataframe thead th {\n",
              "        text-align: right;\n",
              "    }\n",
              "</style>\n",
              "<table border=\"1\" class=\"dataframe\">\n",
              "  <thead>\n",
              "    <tr style=\"text-align: right;\">\n",
              "      <th></th>\n",
              "      <th>user_id</th>\n",
              "      <th>EMAIL</th>\n",
              "      <th>PUSH</th>\n",
              "    </tr>\n",
              "  </thead>\n",
              "  <tbody>\n",
              "    <tr>\n",
              "      <th>0</th>\n",
              "      <td>user_10</td>\n",
              "      <td>3</td>\n",
              "      <td>3</td>\n",
              "    </tr>\n",
              "    <tr>\n",
              "      <th>1</th>\n",
              "      <td>user_10000</td>\n",
              "      <td>3</td>\n",
              "      <td>3</td>\n",
              "    </tr>\n",
              "    <tr>\n",
              "      <th>2</th>\n",
              "      <td>user_10001</td>\n",
              "      <td>7</td>\n",
              "      <td>3</td>\n",
              "    </tr>\n",
              "    <tr>\n",
              "      <th>3</th>\n",
              "      <td>user_10006</td>\n",
              "      <td>2</td>\n",
              "      <td>3</td>\n",
              "    </tr>\n",
              "    <tr>\n",
              "      <th>4</th>\n",
              "      <td>user_1001</td>\n",
              "      <td>1</td>\n",
              "      <td>3</td>\n",
              "    </tr>\n",
              "    <tr>\n",
              "      <th>...</th>\n",
              "      <td>...</td>\n",
              "      <td>...</td>\n",
              "      <td>...</td>\n",
              "    </tr>\n",
              "    <tr>\n",
              "      <th>3668</th>\n",
              "      <td>user_9988</td>\n",
              "      <td>2</td>\n",
              "      <td>2</td>\n",
              "    </tr>\n",
              "    <tr>\n",
              "      <th>3669</th>\n",
              "      <td>user_9989</td>\n",
              "      <td>1</td>\n",
              "      <td>0</td>\n",
              "    </tr>\n",
              "    <tr>\n",
              "      <th>3670</th>\n",
              "      <td>user_999</td>\n",
              "      <td>1</td>\n",
              "      <td>5</td>\n",
              "    </tr>\n",
              "    <tr>\n",
              "      <th>3671</th>\n",
              "      <td>user_9992</td>\n",
              "      <td>2</td>\n",
              "      <td>3</td>\n",
              "    </tr>\n",
              "    <tr>\n",
              "      <th>3672</th>\n",
              "      <td>user_9998</td>\n",
              "      <td>1</td>\n",
              "      <td>0</td>\n",
              "    </tr>\n",
              "  </tbody>\n",
              "</table>\n",
              "<p>3673 rows × 3 columns</p>\n",
              "</div>"
            ],
            "text/plain": [
              "         user_id  EMAIL  PUSH\n",
              "0        user_10      3     3\n",
              "1     user_10000      3     3\n",
              "2     user_10001      7     3\n",
              "3     user_10006      2     3\n",
              "4      user_1001      1     3\n",
              "...          ...    ...   ...\n",
              "3668   user_9988      2     2\n",
              "3669   user_9989      1     0\n",
              "3670    user_999      1     5\n",
              "3671   user_9992      2     3\n",
              "3672   user_9998      1     0\n",
              "\n",
              "[3673 rows x 3 columns]"
            ]
          },
          "metadata": {
            "tags": []
          },
          "execution_count": 108
        }
      ]
    },
    {
      "cell_type": "code",
      "metadata": {
        "colab_type": "code",
        "outputId": "e1d03a88-d0c3-46cd-95e6-16a106f97203",
        "id": "GY3wmhNUuWxJ",
        "colab": {
          "base_uri": "https://localhost:8080/",
          "height": 0
        }
      },
      "source": [
        "ntf_reason = ntf.pivot_table(columns=\"Useful_Ntf\",aggfunc=\"count\",index=\"user_id\",values=\"status\",fill_value=0)\n",
        "ntf_reason = pd.DataFrame(ntf_reason.to_records())\n",
        "ntf_reason = ntf_reason.rename(columns={\"0\":\"Marketing_ntf\",\"1\":\"Useful_ntf\"})\n",
        "ntf_reason.head()"
      ],
      "execution_count": 109,
      "outputs": [
        {
          "output_type": "execute_result",
          "data": {
            "text/html": [
              "<div>\n",
              "<style scoped>\n",
              "    .dataframe tbody tr th:only-of-type {\n",
              "        vertical-align: middle;\n",
              "    }\n",
              "\n",
              "    .dataframe tbody tr th {\n",
              "        vertical-align: top;\n",
              "    }\n",
              "\n",
              "    .dataframe thead th {\n",
              "        text-align: right;\n",
              "    }\n",
              "</style>\n",
              "<table border=\"1\" class=\"dataframe\">\n",
              "  <thead>\n",
              "    <tr style=\"text-align: right;\">\n",
              "      <th></th>\n",
              "      <th>user_id</th>\n",
              "      <th>Marketing_ntf</th>\n",
              "      <th>Useful_ntf</th>\n",
              "    </tr>\n",
              "  </thead>\n",
              "  <tbody>\n",
              "    <tr>\n",
              "      <th>0</th>\n",
              "      <td>user_10</td>\n",
              "      <td>6</td>\n",
              "      <td>0</td>\n",
              "    </tr>\n",
              "    <tr>\n",
              "      <th>1</th>\n",
              "      <td>user_10000</td>\n",
              "      <td>4</td>\n",
              "      <td>2</td>\n",
              "    </tr>\n",
              "    <tr>\n",
              "      <th>2</th>\n",
              "      <td>user_10001</td>\n",
              "      <td>3</td>\n",
              "      <td>7</td>\n",
              "    </tr>\n",
              "    <tr>\n",
              "      <th>3</th>\n",
              "      <td>user_10006</td>\n",
              "      <td>1</td>\n",
              "      <td>4</td>\n",
              "    </tr>\n",
              "    <tr>\n",
              "      <th>4</th>\n",
              "      <td>user_1001</td>\n",
              "      <td>1</td>\n",
              "      <td>3</td>\n",
              "    </tr>\n",
              "  </tbody>\n",
              "</table>\n",
              "</div>"
            ],
            "text/plain": [
              "      user_id  Marketing_ntf  Useful_ntf\n",
              "0     user_10              6           0\n",
              "1  user_10000              4           2\n",
              "2  user_10001              3           7\n",
              "3  user_10006              1           4\n",
              "4   user_1001              1           3"
            ]
          },
          "metadata": {
            "tags": []
          },
          "execution_count": 109
        }
      ]
    },
    {
      "cell_type": "code",
      "metadata": {
        "colab_type": "code",
        "outputId": "ae0203d6-87ea-4811-88d3-8640953dd05a",
        "id": "gKv1UWCFuWxN",
        "colab": {
          "base_uri": "https://localhost:8080/",
          "height": 0
        }
      },
      "source": [
        "ntf_reason2 = ntf.pivot_table(columns=\"Mostly_paid_notif\",aggfunc=\"count\",index=\"user_id\",values=\"status\",fill_value=0)\n",
        "ntf_reason2 = pd.DataFrame(ntf_reason2.to_records())\n",
        "ntf_reason2 = ntf_reason2.rename(columns={\"0\":\"Other\",\"1\":\"Mostly_paid_notif\"})\n",
        "ntf_reason2.head()"
      ],
      "execution_count": 110,
      "outputs": [
        {
          "output_type": "execute_result",
          "data": {
            "text/html": [
              "<div>\n",
              "<style scoped>\n",
              "    .dataframe tbody tr th:only-of-type {\n",
              "        vertical-align: middle;\n",
              "    }\n",
              "\n",
              "    .dataframe tbody tr th {\n",
              "        vertical-align: top;\n",
              "    }\n",
              "\n",
              "    .dataframe thead th {\n",
              "        text-align: right;\n",
              "    }\n",
              "</style>\n",
              "<table border=\"1\" class=\"dataframe\">\n",
              "  <thead>\n",
              "    <tr style=\"text-align: right;\">\n",
              "      <th></th>\n",
              "      <th>user_id</th>\n",
              "      <th>Other</th>\n",
              "    </tr>\n",
              "  </thead>\n",
              "  <tbody>\n",
              "    <tr>\n",
              "      <th>0</th>\n",
              "      <td>user_10</td>\n",
              "      <td>6</td>\n",
              "    </tr>\n",
              "    <tr>\n",
              "      <th>1</th>\n",
              "      <td>user_10000</td>\n",
              "      <td>6</td>\n",
              "    </tr>\n",
              "    <tr>\n",
              "      <th>2</th>\n",
              "      <td>user_10001</td>\n",
              "      <td>10</td>\n",
              "    </tr>\n",
              "    <tr>\n",
              "      <th>3</th>\n",
              "      <td>user_10006</td>\n",
              "      <td>5</td>\n",
              "    </tr>\n",
              "    <tr>\n",
              "      <th>4</th>\n",
              "      <td>user_1001</td>\n",
              "      <td>4</td>\n",
              "    </tr>\n",
              "  </tbody>\n",
              "</table>\n",
              "</div>"
            ],
            "text/plain": [
              "      user_id  Other\n",
              "0     user_10      6\n",
              "1  user_10000      6\n",
              "2  user_10001     10\n",
              "3  user_10006      5\n",
              "4   user_1001      4"
            ]
          },
          "metadata": {
            "tags": []
          },
          "execution_count": 110
        }
      ]
    },
    {
      "cell_type": "code",
      "metadata": {
        "colab_type": "code",
        "outputId": "9e305f6f-9e35-4a8f-a9e3-63ea7c6a9062",
        "id": "k-G4FgqhuWxR",
        "colab": {
          "base_uri": "https://localhost:8080/",
          "height": 0
        }
      },
      "source": [
        "ntf_pivot=pd.merge(ntf_reason2,ntf_reason,on=\"user_id\",how=\"outer\")\n",
        "ntf_pivot=pd.merge(ntf_pivot,ntf_status,on=\"user_id\",how=\"outer\")\n",
        "ntf_pivot=pd.merge(ntf_pivot,ntf_channel,on=\"user_id\",how=\"outer\")\n",
        "\n",
        "print(\"useful notif rows: \",ntf_reason.shape[0])\n",
        "print(\"mostrly paid rows: \",ntf_reason2.shape[0])\n",
        "print(\"status rows:       \",ntf_status.shape[0])\n",
        "print(\"channel rows:      \",ntf_channel.shape[0])\n",
        "print(\"total rows:        \",ntf_pivot.shape[0])"
      ],
      "execution_count": 111,
      "outputs": [
        {
          "output_type": "stream",
          "text": [
            "useful notif rows:  3673\n",
            "mostrly paid rows:  3673\n",
            "status rows:        3797\n",
            "channel rows:       3673\n",
            "total rows:         3797\n"
          ],
          "name": "stdout"
        }
      ]
    },
    {
      "cell_type": "markdown",
      "metadata": {
        "colab_type": "text",
        "id": "93ye6jdZuWxT"
      },
      "source": [
        "##Transactions File"
      ]
    },
    {
      "cell_type": "code",
      "metadata": {
        "colab_type": "code",
        "id": "3TBCzDo8uWxU",
        "colab": {}
      },
      "source": [
        "trans=tr2"
      ],
      "execution_count": 0,
      "outputs": []
    },
    {
      "cell_type": "markdown",
      "metadata": {
        "colab_type": "text",
        "id": "faJaGU46uWxX"
      },
      "source": [
        "###Unique/Missing Values"
      ]
    },
    {
      "cell_type": "code",
      "metadata": {
        "colab_type": "code",
        "outputId": "2250aae1-1fc5-4e0c-d0d1-78c909c05ee1",
        "id": "_PkEaj-WuWxY",
        "colab": {
          "base_uri": "https://localhost:8080/",
          "height": 0
        }
      },
      "source": [
        "colnames=trans.columns\n",
        "df=pd.DataFrame(columns=[\"Column\",\"NumOfMissingVal\",\"UniqueVal\"])\n",
        "for cn in colnames:\n",
        "  df=df.append({\"Column\" : cn,\"NumOfMissingVal\": sum(pd.isna(trans[cn])),\"UniqueVal\":len(trans[cn].unique())},ignore_index=True)\n",
        "\n",
        "df"
      ],
      "execution_count": 113,
      "outputs": [
        {
          "output_type": "execute_result",
          "data": {
            "text/html": [
              "<div>\n",
              "<style scoped>\n",
              "    .dataframe tbody tr th:only-of-type {\n",
              "        vertical-align: middle;\n",
              "    }\n",
              "\n",
              "    .dataframe tbody tr th {\n",
              "        vertical-align: top;\n",
              "    }\n",
              "\n",
              "    .dataframe thead th {\n",
              "        text-align: right;\n",
              "    }\n",
              "</style>\n",
              "<table border=\"1\" class=\"dataframe\">\n",
              "  <thead>\n",
              "    <tr style=\"text-align: right;\">\n",
              "      <th></th>\n",
              "      <th>Column</th>\n",
              "      <th>NumOfMissingVal</th>\n",
              "      <th>UniqueVal</th>\n",
              "    </tr>\n",
              "  </thead>\n",
              "  <tbody>\n",
              "    <tr>\n",
              "      <th>0</th>\n",
              "      <td>transaction_id</td>\n",
              "      <td>0</td>\n",
              "      <td>536450</td>\n",
              "    </tr>\n",
              "    <tr>\n",
              "      <th>1</th>\n",
              "      <td>transactions_type</td>\n",
              "      <td>0</td>\n",
              "      <td>8</td>\n",
              "    </tr>\n",
              "    <tr>\n",
              "      <th>2</th>\n",
              "      <td>transactions_currency</td>\n",
              "      <td>0</td>\n",
              "      <td>34</td>\n",
              "    </tr>\n",
              "    <tr>\n",
              "      <th>3</th>\n",
              "      <td>amount_usd</td>\n",
              "      <td>0</td>\n",
              "      <td>23432</td>\n",
              "    </tr>\n",
              "    <tr>\n",
              "      <th>4</th>\n",
              "      <td>transactions_state</td>\n",
              "      <td>0</td>\n",
              "      <td>6</td>\n",
              "    </tr>\n",
              "    <tr>\n",
              "      <th>5</th>\n",
              "      <td>ea_cardholderpresence</td>\n",
              "      <td>214789</td>\n",
              "      <td>4</td>\n",
              "    </tr>\n",
              "    <tr>\n",
              "      <th>6</th>\n",
              "      <td>ea_merchant_mcc</td>\n",
              "      <td>212084</td>\n",
              "      <td>528</td>\n",
              "    </tr>\n",
              "    <tr>\n",
              "      <th>7</th>\n",
              "      <td>ea_merchant_city</td>\n",
              "      <td>212115</td>\n",
              "      <td>23205</td>\n",
              "    </tr>\n",
              "    <tr>\n",
              "      <th>8</th>\n",
              "      <td>ea_merchant_country</td>\n",
              "      <td>212141</td>\n",
              "      <td>166</td>\n",
              "    </tr>\n",
              "    <tr>\n",
              "      <th>9</th>\n",
              "      <td>direction</td>\n",
              "      <td>0</td>\n",
              "      <td>2</td>\n",
              "    </tr>\n",
              "    <tr>\n",
              "      <th>10</th>\n",
              "      <td>user_id</td>\n",
              "      <td>0</td>\n",
              "      <td>3749</td>\n",
              "    </tr>\n",
              "    <tr>\n",
              "      <th>11</th>\n",
              "      <td>created_date</td>\n",
              "      <td>0</td>\n",
              "      <td>536439</td>\n",
              "    </tr>\n",
              "  </tbody>\n",
              "</table>\n",
              "</div>"
            ],
            "text/plain": [
              "                   Column NumOfMissingVal UniqueVal\n",
              "0          transaction_id               0    536450\n",
              "1       transactions_type               0         8\n",
              "2   transactions_currency               0        34\n",
              "3              amount_usd               0     23432\n",
              "4      transactions_state               0         6\n",
              "5   ea_cardholderpresence          214789         4\n",
              "6         ea_merchant_mcc          212084       528\n",
              "7        ea_merchant_city          212115     23205\n",
              "8     ea_merchant_country          212141       166\n",
              "9               direction               0         2\n",
              "10                user_id               0      3749\n",
              "11           created_date               0    536439"
            ]
          },
          "metadata": {
            "tags": []
          },
          "execution_count": 113
        }
      ]
    },
    {
      "cell_type": "code",
      "metadata": {
        "colab_type": "code",
        "outputId": "4a5c155e-307e-4ab7-9e67-3d3c41455da6",
        "id": "MwHRLNeDuWxc",
        "colab": {
          "base_uri": "https://localhost:8080/",
          "height": 0
        }
      },
      "source": [
        "trans.columns"
      ],
      "execution_count": 114,
      "outputs": [
        {
          "output_type": "execute_result",
          "data": {
            "text/plain": [
              "Index(['transaction_id', 'transactions_type', 'transactions_currency',\n",
              "       'amount_usd', 'transactions_state', 'ea_cardholderpresence',\n",
              "       'ea_merchant_mcc', 'ea_merchant_city', 'ea_merchant_country',\n",
              "       'direction', 'user_id', 'created_date'],\n",
              "      dtype='object')"
            ]
          },
          "metadata": {
            "tags": []
          },
          "execution_count": 114
        }
      ]
    },
    {
      "cell_type": "code",
      "metadata": {
        "colab_type": "code",
        "outputId": "8cdaadd5-6301-410c-be62-2acacea68f10",
        "id": "xWUate4BuWxg",
        "colab": {
          "base_uri": "https://localhost:8080/",
          "height": 0
        }
      },
      "source": [
        "trans.transactions_state.value_counts()"
      ],
      "execution_count": 115,
      "outputs": [
        {
          "output_type": "execute_result",
          "data": {
            "text/plain": [
              "COMPLETED    470273\n",
              "DECLINED      30144\n",
              "REVERTED      23288\n",
              "FAILED         8487\n",
              "PENDING        3964\n",
              "CANCELLED       294\n",
              "Name: transactions_state, dtype: int64"
            ]
          },
          "metadata": {
            "tags": []
          },
          "execution_count": 115
        }
      ]
    },
    {
      "cell_type": "code",
      "metadata": {
        "colab_type": "code",
        "outputId": "3f072167-798f-4e39-f7a5-f5bf398f39ad",
        "id": "gfGlhThnuWxl",
        "colab": {
          "base_uri": "https://localhost:8080/",
          "height": 0
        }
      },
      "source": [
        "trans_status=trans.pivot_table(index=\"user_id\",columns=\"transactions_state\",values=\"amount_usd\",aggfunc=\"count\",fill_value=0)\n",
        "trans_status.head()"
      ],
      "execution_count": 116,
      "outputs": [
        {
          "output_type": "execute_result",
          "data": {
            "text/html": [
              "<div>\n",
              "<style scoped>\n",
              "    .dataframe tbody tr th:only-of-type {\n",
              "        vertical-align: middle;\n",
              "    }\n",
              "\n",
              "    .dataframe tbody tr th {\n",
              "        vertical-align: top;\n",
              "    }\n",
              "\n",
              "    .dataframe thead th {\n",
              "        text-align: right;\n",
              "    }\n",
              "</style>\n",
              "<table border=\"1\" class=\"dataframe\">\n",
              "  <thead>\n",
              "    <tr style=\"text-align: right;\">\n",
              "      <th>transactions_state</th>\n",
              "      <th>CANCELLED</th>\n",
              "      <th>COMPLETED</th>\n",
              "      <th>DECLINED</th>\n",
              "      <th>FAILED</th>\n",
              "      <th>PENDING</th>\n",
              "      <th>REVERTED</th>\n",
              "    </tr>\n",
              "    <tr>\n",
              "      <th>user_id</th>\n",
              "      <th></th>\n",
              "      <th></th>\n",
              "      <th></th>\n",
              "      <th></th>\n",
              "      <th></th>\n",
              "      <th></th>\n",
              "    </tr>\n",
              "  </thead>\n",
              "  <tbody>\n",
              "    <tr>\n",
              "      <th>user_10</th>\n",
              "      <td>0</td>\n",
              "      <td>843</td>\n",
              "      <td>45</td>\n",
              "      <td>99</td>\n",
              "      <td>1</td>\n",
              "      <td>62</td>\n",
              "    </tr>\n",
              "    <tr>\n",
              "      <th>user_10000</th>\n",
              "      <td>0</td>\n",
              "      <td>113</td>\n",
              "      <td>10</td>\n",
              "      <td>10</td>\n",
              "      <td>4</td>\n",
              "      <td>6</td>\n",
              "    </tr>\n",
              "    <tr>\n",
              "      <th>user_10001</th>\n",
              "      <td>0</td>\n",
              "      <td>27</td>\n",
              "      <td>1</td>\n",
              "      <td>3</td>\n",
              "      <td>0</td>\n",
              "      <td>3</td>\n",
              "    </tr>\n",
              "    <tr>\n",
              "      <th>user_10006</th>\n",
              "      <td>0</td>\n",
              "      <td>35</td>\n",
              "      <td>2</td>\n",
              "      <td>0</td>\n",
              "      <td>0</td>\n",
              "      <td>0</td>\n",
              "    </tr>\n",
              "    <tr>\n",
              "      <th>user_1001</th>\n",
              "      <td>0</td>\n",
              "      <td>30</td>\n",
              "      <td>2</td>\n",
              "      <td>0</td>\n",
              "      <td>0</td>\n",
              "      <td>1</td>\n",
              "    </tr>\n",
              "  </tbody>\n",
              "</table>\n",
              "</div>"
            ],
            "text/plain": [
              "transactions_state  CANCELLED  COMPLETED  DECLINED  FAILED  PENDING  REVERTED\n",
              "user_id                                                                      \n",
              "user_10                     0        843        45      99        1        62\n",
              "user_10000                  0        113        10      10        4         6\n",
              "user_10001                  0         27         1       3        0         3\n",
              "user_10006                  0         35         2       0        0         0\n",
              "user_1001                   0         30         2       0        0         1"
            ]
          },
          "metadata": {
            "tags": []
          },
          "execution_count": 116
        }
      ]
    },
    {
      "cell_type": "code",
      "metadata": {
        "colab_type": "code",
        "outputId": "f4143c77-4672-4d50-f2a0-ec06bb2b58cb",
        "id": "hlrIWWr3uWxq",
        "colab": {
          "base_uri": "https://localhost:8080/",
          "height": 0
        }
      },
      "source": [
        "trans=trans[trans.transactions_state==\"COMPLETED\"]\n",
        "trans.transactions_state.value_counts()\n",
        "trans.amount_usd.describe()"
      ],
      "execution_count": 117,
      "outputs": [
        {
          "output_type": "execute_result",
          "data": {
            "text/plain": [
              "count    470273.000000\n",
              "mean         66.965701\n",
              "std         662.104450\n",
              "min           0.000000\n",
              "25%           2.930000\n",
              "50%           9.170000\n",
              "75%          30.680000\n",
              "max      111157.950000\n",
              "Name: amount_usd, dtype: float64"
            ]
          },
          "metadata": {
            "tags": []
          },
          "execution_count": 117
        }
      ]
    },
    {
      "cell_type": "markdown",
      "metadata": {
        "colab_type": "text",
        "id": "IvCvlCCfuWxv"
      },
      "source": [
        "###Clustering"
      ]
    },
    {
      "cell_type": "code",
      "metadata": {
        "colab_type": "code",
        "outputId": "c5478b31-edd0-497d-a65d-68264e90c75b",
        "id": "Qo8RKFhOuWxw",
        "colab": {
          "base_uri": "https://localhost:8080/",
          "height": 0
        }
      },
      "source": [
        "#MCC clustering\n",
        "trans.ea_merchant_mcc=trans.ea_merchant_mcc.fillna(11999)\n",
        " \n",
        "trans['mcc_group'] = pd.cut(trans.ea_merchant_mcc, bins=[0,1000,1500,1800,2000,4000,5000,5200,6000,6800,9000,9730,10000,12000],\\\n",
        "                                  labels=['Agriculture','Mining','Construction',\"not used\",\"Manufacturing\",\"Transportation\",\"Wholesale\",\\\n",
        "                                          \"Retail\",\"Finance\",\"Services\",\"Public_Admin\",\"Nonclassifiable\",\"Unknown\"], right=False)\n",
        "trans['mcc_group'].value_counts()"
      ],
      "execution_count": 118,
      "outputs": [
        {
          "output_type": "stream",
          "text": [
            "/usr/local/lib/python3.6/dist-packages/pandas/core/generic.py:5303: SettingWithCopyWarning: \n",
            "A value is trying to be set on a copy of a slice from a DataFrame.\n",
            "Try using .loc[row_indexer,col_indexer] = value instead\n",
            "\n",
            "See the caveats in the documentation: https://pandas.pydata.org/pandas-docs/stable/user_guide/indexing.html#returning-a-view-versus-a-copy\n",
            "  self[name] = value\n",
            "/usr/local/lib/python3.6/dist-packages/ipykernel_launcher.py:4: SettingWithCopyWarning: \n",
            "A value is trying to be set on a copy of a slice from a DataFrame.\n",
            "Try using .loc[row_indexer,col_indexer] = value instead\n",
            "\n",
            "See the caveats in the documentation: https://pandas.pydata.org/pandas-docs/stable/user_guide/indexing.html#returning-a-view-versus-a-copy\n",
            "  after removing the cwd from sys.path.\n"
          ],
          "name": "stderr"
        },
        {
          "output_type": "execute_result",
          "data": {
            "text/plain": [
              "Retail             196820\n",
              "Unknown            193172\n",
              "Transportation      32186\n",
              "Services            24743\n",
              "Finance             16987\n",
              "Manufacturing        2768\n",
              "Public_Admin         1605\n",
              "Wholesale            1294\n",
              "Mining                334\n",
              "Agriculture           297\n",
              "Construction           67\n",
              "Nonclassifiable         0\n",
              "not used                0\n",
              "Name: mcc_group, dtype: int64"
            ]
          },
          "metadata": {
            "tags": []
          },
          "execution_count": 118
        }
      ]
    },
    {
      "cell_type": "code",
      "metadata": {
        "colab_type": "code",
        "id": "KJJDL67yuWx2",
        "colab": {}
      },
      "source": [
        "#trans.mcc_group=trans.mcc_group.replace({'Agriculture':\"Other\",'Mining':\"Other\",'Construction':\"Other\",\\\n",
        "#                                                     \"not used\":\"Other\",\"Wholesale\":\"Retail\",\"Public_Admin\":\"Other\",\\\n",
        "#                                                     \"Manufacturing\":\"Other\",\"Finance\":\"Services\"})\n",
        "#print(trans.shape)\n",
        "#trans['mcc_group'].value_counts()"
      ],
      "execution_count": 0,
      "outputs": []
    },
    {
      "cell_type": "code",
      "metadata": {
        "colab_type": "code",
        "outputId": "5ab87e60-e36d-40b5-c530-9b874c12fef3",
        "id": "h6-89HwEuWx6",
        "colab": {
          "base_uri": "https://localhost:8080/",
          "height": 0
        }
      },
      "source": [
        "trans.columns"
      ],
      "execution_count": 120,
      "outputs": [
        {
          "output_type": "execute_result",
          "data": {
            "text/plain": [
              "Index(['transaction_id', 'transactions_type', 'transactions_currency',\n",
              "       'amount_usd', 'transactions_state', 'ea_cardholderpresence',\n",
              "       'ea_merchant_mcc', 'ea_merchant_city', 'ea_merchant_country',\n",
              "       'direction', 'user_id', 'created_date', 'mcc_group'],\n",
              "      dtype='object')"
            ]
          },
          "metadata": {
            "tags": []
          },
          "execution_count": 120
        }
      ]
    },
    {
      "cell_type": "code",
      "metadata": {
        "colab_type": "code",
        "outputId": "bd367ac8-356a-4533-947e-81a4acaa3ae3",
        "id": "xDqnvQp-uWx_",
        "colab": {
          "base_uri": "https://localhost:8080/",
          "height": 0
        }
      },
      "source": [
        "trans_amount=trans.pivot_table(index=\"user_id\",columns=\"direction\",values=\"amount_usd\",aggfunc=[\"max\",\"mean\",\"sum\"])\n",
        "trans_amount=pd.DataFrame(trans_amount.to_records())\n",
        "trans_amount=trans_amount.rename(columns={\"('max', 'INBOUND')\":\"max_amount_in\",\"('max', 'OUTBOUND')\":\"max_amount_out\",\\\n",
        "                          \"('mean', 'INBOUND')\":\"mean_amount_in\",\"('mean', 'OUTBOUND')\":\"mean_amount_out\",\\\n",
        "                          \"('sum', 'INBOUND')\":\"total_in\",\"('sum', 'OUTBOUND')\":\"total_out\"})\n",
        "trans_amount.head()"
      ],
      "execution_count": 121,
      "outputs": [
        {
          "output_type": "execute_result",
          "data": {
            "text/html": [
              "<div>\n",
              "<style scoped>\n",
              "    .dataframe tbody tr th:only-of-type {\n",
              "        vertical-align: middle;\n",
              "    }\n",
              "\n",
              "    .dataframe tbody tr th {\n",
              "        vertical-align: top;\n",
              "    }\n",
              "\n",
              "    .dataframe thead th {\n",
              "        text-align: right;\n",
              "    }\n",
              "</style>\n",
              "<table border=\"1\" class=\"dataframe\">\n",
              "  <thead>\n",
              "    <tr style=\"text-align: right;\">\n",
              "      <th></th>\n",
              "      <th>user_id</th>\n",
              "      <th>max_amount_in</th>\n",
              "      <th>max_amount_out</th>\n",
              "      <th>mean_amount_in</th>\n",
              "      <th>mean_amount_out</th>\n",
              "      <th>total_in</th>\n",
              "      <th>total_out</th>\n",
              "    </tr>\n",
              "  </thead>\n",
              "  <tbody>\n",
              "    <tr>\n",
              "      <th>0</th>\n",
              "      <td>user_10</td>\n",
              "      <td>851.06</td>\n",
              "      <td>553.19</td>\n",
              "      <td>79.510763</td>\n",
              "      <td>19.771292</td>\n",
              "      <td>10415.91</td>\n",
              "      <td>14077.16</td>\n",
              "    </tr>\n",
              "    <tr>\n",
              "      <th>1</th>\n",
              "      <td>user_10000</td>\n",
              "      <td>795.33</td>\n",
              "      <td>651.84</td>\n",
              "      <td>169.314483</td>\n",
              "      <td>87.162500</td>\n",
              "      <td>4910.12</td>\n",
              "      <td>7321.65</td>\n",
              "    </tr>\n",
              "    <tr>\n",
              "      <th>2</th>\n",
              "      <td>user_10001</td>\n",
              "      <td>300.00</td>\n",
              "      <td>300.00</td>\n",
              "      <td>118.214286</td>\n",
              "      <td>80.045000</td>\n",
              "      <td>827.50</td>\n",
              "      <td>1600.90</td>\n",
              "    </tr>\n",
              "    <tr>\n",
              "      <th>3</th>\n",
              "      <td>user_10006</td>\n",
              "      <td>150.00</td>\n",
              "      <td>117.85</td>\n",
              "      <td>41.250000</td>\n",
              "      <td>11.478519</td>\n",
              "      <td>330.00</td>\n",
              "      <td>309.92</td>\n",
              "    </tr>\n",
              "    <tr>\n",
              "      <th>4</th>\n",
              "      <td>user_1001</td>\n",
              "      <td>450.00</td>\n",
              "      <td>88.58</td>\n",
              "      <td>108.833333</td>\n",
              "      <td>26.710417</td>\n",
              "      <td>653.00</td>\n",
              "      <td>641.05</td>\n",
              "    </tr>\n",
              "  </tbody>\n",
              "</table>\n",
              "</div>"
            ],
            "text/plain": [
              "      user_id  max_amount_in  ...  total_in  total_out\n",
              "0     user_10         851.06  ...  10415.91   14077.16\n",
              "1  user_10000         795.33  ...   4910.12    7321.65\n",
              "2  user_10001         300.00  ...    827.50    1600.90\n",
              "3  user_10006         150.00  ...    330.00     309.92\n",
              "4   user_1001         450.00  ...    653.00     641.05\n",
              "\n",
              "[5 rows x 7 columns]"
            ]
          },
          "metadata": {
            "tags": []
          },
          "execution_count": 121
        }
      ]
    },
    {
      "cell_type": "code",
      "metadata": {
        "colab_type": "code",
        "id": "l0iovyD0uWyW",
        "colab": {}
      },
      "source": [
        "#na dw diaforetika eidi sunallagwn kai ena count mono ton teleutaio mhna\n",
        "\n",
        "#trans_count=trans.pivot_table(index=\"user_id\",values=\"created_date\",aggfunc=[\"max\",\"count\"])\n",
        "#trans_count=pd.DataFrame(trans_count.to_records())\n",
        "\n",
        "#trans_count.head()"
      ],
      "execution_count": 0,
      "outputs": []
    },
    {
      "cell_type": "code",
      "metadata": {
        "colab_type": "code",
        "outputId": "9ee340fc-31ee-424d-acbb-0c166de165c8",
        "id": "iDvRbjDmuWyY",
        "colab": {
          "base_uri": "https://localhost:8080/",
          "height": 0
        }
      },
      "source": [
        "trans[\"date_created\"] = [dt.datetime.strptime(d,\"%Y-%m-%d  %H:%M:%S.%f\") for d in trans[\"created_date\"]]\n",
        "trans[\"year_created\"] =trans[\"date_created\"].dt.year\n",
        "trans[\"month_created\"] =trans[\"date_created\"].dt.month"
      ],
      "execution_count": 123,
      "outputs": [
        {
          "output_type": "stream",
          "text": [
            "/usr/local/lib/python3.6/dist-packages/ipykernel_launcher.py:1: SettingWithCopyWarning: \n",
            "A value is trying to be set on a copy of a slice from a DataFrame.\n",
            "Try using .loc[row_indexer,col_indexer] = value instead\n",
            "\n",
            "See the caveats in the documentation: https://pandas.pydata.org/pandas-docs/stable/user_guide/indexing.html#returning-a-view-versus-a-copy\n",
            "  \"\"\"Entry point for launching an IPython kernel.\n",
            "/usr/local/lib/python3.6/dist-packages/ipykernel_launcher.py:2: SettingWithCopyWarning: \n",
            "A value is trying to be set on a copy of a slice from a DataFrame.\n",
            "Try using .loc[row_indexer,col_indexer] = value instead\n",
            "\n",
            "See the caveats in the documentation: https://pandas.pydata.org/pandas-docs/stable/user_guide/indexing.html#returning-a-view-versus-a-copy\n",
            "  \n",
            "/usr/local/lib/python3.6/dist-packages/ipykernel_launcher.py:3: SettingWithCopyWarning: \n",
            "A value is trying to be set on a copy of a slice from a DataFrame.\n",
            "Try using .loc[row_indexer,col_indexer] = value instead\n",
            "\n",
            "See the caveats in the documentation: https://pandas.pydata.org/pandas-docs/stable/user_guide/indexing.html#returning-a-view-versus-a-copy\n",
            "  This is separate from the ipykernel package so we can avoid doing imports until\n"
          ],
          "name": "stderr"
        }
      ]
    },
    {
      "cell_type": "code",
      "metadata": {
        "colab_type": "code",
        "outputId": "b4ccaeef-3f7a-4874-f7c3-756efaad0f87",
        "id": "7DZj19OOuWya",
        "colab": {
          "base_uri": "https://localhost:8080/",
          "height": 0
        }
      },
      "source": [
        "trans.head()"
      ],
      "execution_count": 124,
      "outputs": [
        {
          "output_type": "execute_result",
          "data": {
            "text/html": [
              "<div>\n",
              "<style scoped>\n",
              "    .dataframe tbody tr th:only-of-type {\n",
              "        vertical-align: middle;\n",
              "    }\n",
              "\n",
              "    .dataframe tbody tr th {\n",
              "        vertical-align: top;\n",
              "    }\n",
              "\n",
              "    .dataframe thead th {\n",
              "        text-align: right;\n",
              "    }\n",
              "</style>\n",
              "<table border=\"1\" class=\"dataframe\">\n",
              "  <thead>\n",
              "    <tr style=\"text-align: right;\">\n",
              "      <th></th>\n",
              "      <th>transaction_id</th>\n",
              "      <th>transactions_type</th>\n",
              "      <th>transactions_currency</th>\n",
              "      <th>amount_usd</th>\n",
              "      <th>transactions_state</th>\n",
              "      <th>ea_cardholderpresence</th>\n",
              "      <th>ea_merchant_mcc</th>\n",
              "      <th>ea_merchant_city</th>\n",
              "      <th>ea_merchant_country</th>\n",
              "      <th>direction</th>\n",
              "      <th>user_id</th>\n",
              "      <th>created_date</th>\n",
              "      <th>mcc_group</th>\n",
              "      <th>date_created</th>\n",
              "      <th>year_created</th>\n",
              "      <th>month_created</th>\n",
              "    </tr>\n",
              "  </thead>\n",
              "  <tbody>\n",
              "    <tr>\n",
              "      <th>0</th>\n",
              "      <td>transaction_22</td>\n",
              "      <td>CARD_PAYMENT</td>\n",
              "      <td>AED</td>\n",
              "      <td>68.19</td>\n",
              "      <td>COMPLETED</td>\n",
              "      <td>FALSE</td>\n",
              "      <td>5691.0</td>\n",
              "      <td>Dubai</td>\n",
              "      <td>ARE</td>\n",
              "      <td>OUTBOUND</td>\n",
              "      <td>user_7969</td>\n",
              "      <td>2018-08-01 17:58:49.222557</td>\n",
              "      <td>Retail</td>\n",
              "      <td>2018-08-01 17:58:49.222557</td>\n",
              "      <td>2018</td>\n",
              "      <td>8</td>\n",
              "    </tr>\n",
              "    <tr>\n",
              "      <th>1</th>\n",
              "      <td>transaction_24</td>\n",
              "      <td>CARD_PAYMENT</td>\n",
              "      <td>AED</td>\n",
              "      <td>13.43</td>\n",
              "      <td>COMPLETED</td>\n",
              "      <td>FALSE</td>\n",
              "      <td>5814.0</td>\n",
              "      <td>Dubai</td>\n",
              "      <td>ARE</td>\n",
              "      <td>OUTBOUND</td>\n",
              "      <td>user_7969</td>\n",
              "      <td>2018-08-02 20:33:57.365557</td>\n",
              "      <td>Retail</td>\n",
              "      <td>2018-08-02 20:33:57.365557</td>\n",
              "      <td>2018</td>\n",
              "      <td>8</td>\n",
              "    </tr>\n",
              "    <tr>\n",
              "      <th>2</th>\n",
              "      <td>transaction_25</td>\n",
              "      <td>EXCHANGE</td>\n",
              "      <td>AED</td>\n",
              "      <td>1.14</td>\n",
              "      <td>COMPLETED</td>\n",
              "      <td>NaN</td>\n",
              "      <td>11999.0</td>\n",
              "      <td>NaN</td>\n",
              "      <td>NaN</td>\n",
              "      <td>OUTBOUND</td>\n",
              "      <td>user_3705</td>\n",
              "      <td>2018-07-26 08:46:28.373101</td>\n",
              "      <td>Unknown</td>\n",
              "      <td>2018-07-26 08:46:28.373101</td>\n",
              "      <td>2018</td>\n",
              "      <td>7</td>\n",
              "    </tr>\n",
              "    <tr>\n",
              "      <th>3</th>\n",
              "      <td>transaction_29</td>\n",
              "      <td>CARD_PAYMENT</td>\n",
              "      <td>AED</td>\n",
              "      <td>24.55</td>\n",
              "      <td>COMPLETED</td>\n",
              "      <td>FALSE</td>\n",
              "      <td>5651.0</td>\n",
              "      <td>M?nchen</td>\n",
              "      <td>DEU</td>\n",
              "      <td>OUTBOUND</td>\n",
              "      <td>user_4773</td>\n",
              "      <td>2018-09-29 13:31:58.053363</td>\n",
              "      <td>Retail</td>\n",
              "      <td>2018-09-29 13:31:58.053363</td>\n",
              "      <td>2018</td>\n",
              "      <td>9</td>\n",
              "    </tr>\n",
              "    <tr>\n",
              "      <th>4</th>\n",
              "      <td>transaction_30</td>\n",
              "      <td>CARD_PAYMENT</td>\n",
              "      <td>AED</td>\n",
              "      <td>57.11</td>\n",
              "      <td>COMPLETED</td>\n",
              "      <td>FALSE</td>\n",
              "      <td>5661.0</td>\n",
              "      <td>Muenchen</td>\n",
              "      <td>DEU</td>\n",
              "      <td>OUTBOUND</td>\n",
              "      <td>user_4773</td>\n",
              "      <td>2018-09-29 14:59:51.603363</td>\n",
              "      <td>Retail</td>\n",
              "      <td>2018-09-29 14:59:51.603363</td>\n",
              "      <td>2018</td>\n",
              "      <td>9</td>\n",
              "    </tr>\n",
              "  </tbody>\n",
              "</table>\n",
              "</div>"
            ],
            "text/plain": [
              "   transaction_id transactions_type  ... year_created  month_created\n",
              "0  transaction_22      CARD_PAYMENT  ...         2018              8\n",
              "1  transaction_24      CARD_PAYMENT  ...         2018              8\n",
              "2  transaction_25          EXCHANGE  ...         2018              7\n",
              "3  transaction_29      CARD_PAYMENT  ...         2018              9\n",
              "4  transaction_30      CARD_PAYMENT  ...         2018              9\n",
              "\n",
              "[5 rows x 16 columns]"
            ]
          },
          "metadata": {
            "tags": []
          },
          "execution_count": 124
        }
      ]
    },
    {
      "cell_type": "code",
      "metadata": {
        "colab_type": "code",
        "outputId": "e619b76c-901b-48ce-e509-f0b89f9e5ac0",
        "id": "tSChpfQvuWyc",
        "colab": {
          "base_uri": "https://localhost:8080/",
          "height": 0
        }
      },
      "source": [
        "test=trans.pivot_table(values=\"user_id\",index=[\"year_created\",\"month_created\"],aggfunc=\"count\",fill_value=\"\",margins=\"row grand total\")\n",
        "test"
      ],
      "execution_count": 125,
      "outputs": [
        {
          "output_type": "execute_result",
          "data": {
            "text/html": [
              "<div>\n",
              "<style scoped>\n",
              "    .dataframe tbody tr th:only-of-type {\n",
              "        vertical-align: middle;\n",
              "    }\n",
              "\n",
              "    .dataframe tbody tr th {\n",
              "        vertical-align: top;\n",
              "    }\n",
              "\n",
              "    .dataframe thead th {\n",
              "        text-align: right;\n",
              "    }\n",
              "</style>\n",
              "<table border=\"1\" class=\"dataframe\">\n",
              "  <thead>\n",
              "    <tr style=\"text-align: right;\">\n",
              "      <th></th>\n",
              "      <th></th>\n",
              "      <th>user_id</th>\n",
              "    </tr>\n",
              "    <tr>\n",
              "      <th>year_created</th>\n",
              "      <th>month_created</th>\n",
              "      <th></th>\n",
              "    </tr>\n",
              "  </thead>\n",
              "  <tbody>\n",
              "    <tr>\n",
              "      <th rowspan=\"12\" valign=\"top\">2018</th>\n",
              "      <th>1</th>\n",
              "      <td>993</td>\n",
              "    </tr>\n",
              "    <tr>\n",
              "      <th>2</th>\n",
              "      <td>2253</td>\n",
              "    </tr>\n",
              "    <tr>\n",
              "      <th>3</th>\n",
              "      <td>5557</td>\n",
              "    </tr>\n",
              "    <tr>\n",
              "      <th>4</th>\n",
              "      <td>7376</td>\n",
              "    </tr>\n",
              "    <tr>\n",
              "      <th>5</th>\n",
              "      <td>13180</td>\n",
              "    </tr>\n",
              "    <tr>\n",
              "      <th>6</th>\n",
              "      <td>16160</td>\n",
              "    </tr>\n",
              "    <tr>\n",
              "      <th>7</th>\n",
              "      <td>20473</td>\n",
              "    </tr>\n",
              "    <tr>\n",
              "      <th>8</th>\n",
              "      <td>25347</td>\n",
              "    </tr>\n",
              "    <tr>\n",
              "      <th>9</th>\n",
              "      <td>30936</td>\n",
              "    </tr>\n",
              "    <tr>\n",
              "      <th>10</th>\n",
              "      <td>36572</td>\n",
              "    </tr>\n",
              "    <tr>\n",
              "      <th>11</th>\n",
              "      <td>40016</td>\n",
              "    </tr>\n",
              "    <tr>\n",
              "      <th>12</th>\n",
              "      <td>42966</td>\n",
              "    </tr>\n",
              "    <tr>\n",
              "      <th rowspan=\"5\" valign=\"top\">2019</th>\n",
              "      <th>1</th>\n",
              "      <td>45771</td>\n",
              "    </tr>\n",
              "    <tr>\n",
              "      <th>2</th>\n",
              "      <td>50622</td>\n",
              "    </tr>\n",
              "    <tr>\n",
              "      <th>3</th>\n",
              "      <td>57937</td>\n",
              "    </tr>\n",
              "    <tr>\n",
              "      <th>4</th>\n",
              "      <td>56244</td>\n",
              "    </tr>\n",
              "    <tr>\n",
              "      <th>5</th>\n",
              "      <td>17870</td>\n",
              "    </tr>\n",
              "    <tr>\n",
              "      <th>All</th>\n",
              "      <th></th>\n",
              "      <td>470273</td>\n",
              "    </tr>\n",
              "  </tbody>\n",
              "</table>\n",
              "</div>"
            ],
            "text/plain": [
              "                            user_id\n",
              "year_created month_created         \n",
              "2018         1                  993\n",
              "             2                 2253\n",
              "             3                 5557\n",
              "             4                 7376\n",
              "             5                13180\n",
              "             6                16160\n",
              "             7                20473\n",
              "             8                25347\n",
              "             9                30936\n",
              "             10               36572\n",
              "             11               40016\n",
              "             12               42966\n",
              "2019         1                45771\n",
              "             2                50622\n",
              "             3                57937\n",
              "             4                56244\n",
              "             5                17870\n",
              "All                          470273"
            ]
          },
          "metadata": {
            "tags": []
          },
          "execution_count": 125
        }
      ]
    },
    {
      "cell_type": "code",
      "metadata": {
        "id": "4xRPx8U7U9l3",
        "colab_type": "code",
        "colab": {
          "base_uri": "https://localhost:8080/",
          "height": 0
        },
        "outputId": "16e05c44-55ff-45fb-ff85-abf729f33ac0"
      },
      "source": [
        "last_date_trans=max(trans.date_created)\n",
        "trans[\"days_before\"]=(last_date_trans-trans.date_created).dt.days\n",
        "trans.loc[trans.days_before<= 30, \"last_30d\"] = 1\n",
        "trans.loc[trans.days_before> 30, \"last_30d\"] = 0\n",
        "trans_30d=trans.pivot_table(index=\"user_id\",values=\"last_30d\",aggfunc=\"sum\",fill_value=0)\n",
        "trans_30d=pd.DataFrame(trans_30d.to_records())\n",
        "trans_30d.head()"
      ],
      "execution_count": 126,
      "outputs": [
        {
          "output_type": "stream",
          "text": [
            "/usr/local/lib/python3.6/dist-packages/ipykernel_launcher.py:2: SettingWithCopyWarning: \n",
            "A value is trying to be set on a copy of a slice from a DataFrame.\n",
            "Try using .loc[row_indexer,col_indexer] = value instead\n",
            "\n",
            "See the caveats in the documentation: https://pandas.pydata.org/pandas-docs/stable/user_guide/indexing.html#returning-a-view-versus-a-copy\n",
            "  \n",
            "/usr/local/lib/python3.6/dist-packages/pandas/core/indexing.py:845: SettingWithCopyWarning: \n",
            "A value is trying to be set on a copy of a slice from a DataFrame.\n",
            "Try using .loc[row_indexer,col_indexer] = value instead\n",
            "\n",
            "See the caveats in the documentation: https://pandas.pydata.org/pandas-docs/stable/user_guide/indexing.html#returning-a-view-versus-a-copy\n",
            "  self.obj[key] = _infer_fill_value(value)\n",
            "/usr/local/lib/python3.6/dist-packages/pandas/core/indexing.py:966: SettingWithCopyWarning: \n",
            "A value is trying to be set on a copy of a slice from a DataFrame.\n",
            "Try using .loc[row_indexer,col_indexer] = value instead\n",
            "\n",
            "See the caveats in the documentation: https://pandas.pydata.org/pandas-docs/stable/user_guide/indexing.html#returning-a-view-versus-a-copy\n",
            "  self.obj[item] = s\n"
          ],
          "name": "stderr"
        },
        {
          "output_type": "execute_result",
          "data": {
            "text/html": [
              "<div>\n",
              "<style scoped>\n",
              "    .dataframe tbody tr th:only-of-type {\n",
              "        vertical-align: middle;\n",
              "    }\n",
              "\n",
              "    .dataframe tbody tr th {\n",
              "        vertical-align: top;\n",
              "    }\n",
              "\n",
              "    .dataframe thead th {\n",
              "        text-align: right;\n",
              "    }\n",
              "</style>\n",
              "<table border=\"1\" class=\"dataframe\">\n",
              "  <thead>\n",
              "    <tr style=\"text-align: right;\">\n",
              "      <th></th>\n",
              "      <th>user_id</th>\n",
              "      <th>last_30d</th>\n",
              "    </tr>\n",
              "  </thead>\n",
              "  <tbody>\n",
              "    <tr>\n",
              "      <th>0</th>\n",
              "      <td>user_10</td>\n",
              "      <td>87</td>\n",
              "    </tr>\n",
              "    <tr>\n",
              "      <th>1</th>\n",
              "      <td>user_10000</td>\n",
              "      <td>16</td>\n",
              "    </tr>\n",
              "    <tr>\n",
              "      <th>2</th>\n",
              "      <td>user_10001</td>\n",
              "      <td>0</td>\n",
              "    </tr>\n",
              "    <tr>\n",
              "      <th>3</th>\n",
              "      <td>user_10006</td>\n",
              "      <td>0</td>\n",
              "    </tr>\n",
              "    <tr>\n",
              "      <th>4</th>\n",
              "      <td>user_1001</td>\n",
              "      <td>0</td>\n",
              "    </tr>\n",
              "  </tbody>\n",
              "</table>\n",
              "</div>"
            ],
            "text/plain": [
              "      user_id  last_30d\n",
              "0     user_10        87\n",
              "1  user_10000        16\n",
              "2  user_10001         0\n",
              "3  user_10006         0\n",
              "4   user_1001         0"
            ]
          },
          "metadata": {
            "tags": []
          },
          "execution_count": 126
        }
      ]
    },
    {
      "cell_type": "code",
      "metadata": {
        "colab_type": "code",
        "outputId": "594f768f-a850-4198-8e8a-c02415ceef8e",
        "id": "lWrRfjxSuWye",
        "colab": {
          "base_uri": "https://localhost:8080/",
          "height": 0
        }
      },
      "source": [
        "trans.loc[trans.month_created>= 3, \"mar_to_may\"] = 1\n",
        "trans.loc[trans.year_created== 2019, \"in_2019\"] = 1\n",
        "trans.mar_to_may=trans.mar_to_may.fillna(0)\n",
        "trans.in_2019=trans.in_2019.fillna(0)\n",
        "trans[\"last_3_mon\"]=trans.in_2019*trans.mar_to_may\n",
        "trans=trans.drop({\"mar_to_may\",\"in_2019\"},axis=1)\n",
        "trans.head()"
      ],
      "execution_count": 127,
      "outputs": [
        {
          "output_type": "stream",
          "text": [
            "/usr/local/lib/python3.6/dist-packages/pandas/core/indexing.py:845: SettingWithCopyWarning: \n",
            "A value is trying to be set on a copy of a slice from a DataFrame.\n",
            "Try using .loc[row_indexer,col_indexer] = value instead\n",
            "\n",
            "See the caveats in the documentation: https://pandas.pydata.org/pandas-docs/stable/user_guide/indexing.html#returning-a-view-versus-a-copy\n",
            "  self.obj[key] = _infer_fill_value(value)\n",
            "/usr/local/lib/python3.6/dist-packages/pandas/core/indexing.py:966: SettingWithCopyWarning: \n",
            "A value is trying to be set on a copy of a slice from a DataFrame.\n",
            "Try using .loc[row_indexer,col_indexer] = value instead\n",
            "\n",
            "See the caveats in the documentation: https://pandas.pydata.org/pandas-docs/stable/user_guide/indexing.html#returning-a-view-versus-a-copy\n",
            "  self.obj[item] = s\n",
            "/usr/local/lib/python3.6/dist-packages/pandas/core/generic.py:5303: SettingWithCopyWarning: \n",
            "A value is trying to be set on a copy of a slice from a DataFrame.\n",
            "Try using .loc[row_indexer,col_indexer] = value instead\n",
            "\n",
            "See the caveats in the documentation: https://pandas.pydata.org/pandas-docs/stable/user_guide/indexing.html#returning-a-view-versus-a-copy\n",
            "  self[name] = value\n",
            "/usr/local/lib/python3.6/dist-packages/ipykernel_launcher.py:5: SettingWithCopyWarning: \n",
            "A value is trying to be set on a copy of a slice from a DataFrame.\n",
            "Try using .loc[row_indexer,col_indexer] = value instead\n",
            "\n",
            "See the caveats in the documentation: https://pandas.pydata.org/pandas-docs/stable/user_guide/indexing.html#returning-a-view-versus-a-copy\n",
            "  \"\"\"\n"
          ],
          "name": "stderr"
        },
        {
          "output_type": "execute_result",
          "data": {
            "text/html": [
              "<div>\n",
              "<style scoped>\n",
              "    .dataframe tbody tr th:only-of-type {\n",
              "        vertical-align: middle;\n",
              "    }\n",
              "\n",
              "    .dataframe tbody tr th {\n",
              "        vertical-align: top;\n",
              "    }\n",
              "\n",
              "    .dataframe thead th {\n",
              "        text-align: right;\n",
              "    }\n",
              "</style>\n",
              "<table border=\"1\" class=\"dataframe\">\n",
              "  <thead>\n",
              "    <tr style=\"text-align: right;\">\n",
              "      <th></th>\n",
              "      <th>transaction_id</th>\n",
              "      <th>transactions_type</th>\n",
              "      <th>transactions_currency</th>\n",
              "      <th>amount_usd</th>\n",
              "      <th>transactions_state</th>\n",
              "      <th>ea_cardholderpresence</th>\n",
              "      <th>ea_merchant_mcc</th>\n",
              "      <th>ea_merchant_city</th>\n",
              "      <th>ea_merchant_country</th>\n",
              "      <th>direction</th>\n",
              "      <th>user_id</th>\n",
              "      <th>created_date</th>\n",
              "      <th>mcc_group</th>\n",
              "      <th>date_created</th>\n",
              "      <th>year_created</th>\n",
              "      <th>month_created</th>\n",
              "      <th>days_before</th>\n",
              "      <th>last_30d</th>\n",
              "      <th>last_3_mon</th>\n",
              "    </tr>\n",
              "  </thead>\n",
              "  <tbody>\n",
              "    <tr>\n",
              "      <th>0</th>\n",
              "      <td>transaction_22</td>\n",
              "      <td>CARD_PAYMENT</td>\n",
              "      <td>AED</td>\n",
              "      <td>68.19</td>\n",
              "      <td>COMPLETED</td>\n",
              "      <td>FALSE</td>\n",
              "      <td>5691.0</td>\n",
              "      <td>Dubai</td>\n",
              "      <td>ARE</td>\n",
              "      <td>OUTBOUND</td>\n",
              "      <td>user_7969</td>\n",
              "      <td>2018-08-01 17:58:49.222557</td>\n",
              "      <td>Retail</td>\n",
              "      <td>2018-08-01 17:58:49.222557</td>\n",
              "      <td>2018</td>\n",
              "      <td>8</td>\n",
              "      <td>286</td>\n",
              "      <td>0.0</td>\n",
              "      <td>0.0</td>\n",
              "    </tr>\n",
              "    <tr>\n",
              "      <th>1</th>\n",
              "      <td>transaction_24</td>\n",
              "      <td>CARD_PAYMENT</td>\n",
              "      <td>AED</td>\n",
              "      <td>13.43</td>\n",
              "      <td>COMPLETED</td>\n",
              "      <td>FALSE</td>\n",
              "      <td>5814.0</td>\n",
              "      <td>Dubai</td>\n",
              "      <td>ARE</td>\n",
              "      <td>OUTBOUND</td>\n",
              "      <td>user_7969</td>\n",
              "      <td>2018-08-02 20:33:57.365557</td>\n",
              "      <td>Retail</td>\n",
              "      <td>2018-08-02 20:33:57.365557</td>\n",
              "      <td>2018</td>\n",
              "      <td>8</td>\n",
              "      <td>285</td>\n",
              "      <td>0.0</td>\n",
              "      <td>0.0</td>\n",
              "    </tr>\n",
              "    <tr>\n",
              "      <th>2</th>\n",
              "      <td>transaction_25</td>\n",
              "      <td>EXCHANGE</td>\n",
              "      <td>AED</td>\n",
              "      <td>1.14</td>\n",
              "      <td>COMPLETED</td>\n",
              "      <td>NaN</td>\n",
              "      <td>11999.0</td>\n",
              "      <td>NaN</td>\n",
              "      <td>NaN</td>\n",
              "      <td>OUTBOUND</td>\n",
              "      <td>user_3705</td>\n",
              "      <td>2018-07-26 08:46:28.373101</td>\n",
              "      <td>Unknown</td>\n",
              "      <td>2018-07-26 08:46:28.373101</td>\n",
              "      <td>2018</td>\n",
              "      <td>7</td>\n",
              "      <td>293</td>\n",
              "      <td>0.0</td>\n",
              "      <td>0.0</td>\n",
              "    </tr>\n",
              "    <tr>\n",
              "      <th>3</th>\n",
              "      <td>transaction_29</td>\n",
              "      <td>CARD_PAYMENT</td>\n",
              "      <td>AED</td>\n",
              "      <td>24.55</td>\n",
              "      <td>COMPLETED</td>\n",
              "      <td>FALSE</td>\n",
              "      <td>5651.0</td>\n",
              "      <td>M?nchen</td>\n",
              "      <td>DEU</td>\n",
              "      <td>OUTBOUND</td>\n",
              "      <td>user_4773</td>\n",
              "      <td>2018-09-29 13:31:58.053363</td>\n",
              "      <td>Retail</td>\n",
              "      <td>2018-09-29 13:31:58.053363</td>\n",
              "      <td>2018</td>\n",
              "      <td>9</td>\n",
              "      <td>227</td>\n",
              "      <td>0.0</td>\n",
              "      <td>0.0</td>\n",
              "    </tr>\n",
              "    <tr>\n",
              "      <th>4</th>\n",
              "      <td>transaction_30</td>\n",
              "      <td>CARD_PAYMENT</td>\n",
              "      <td>AED</td>\n",
              "      <td>57.11</td>\n",
              "      <td>COMPLETED</td>\n",
              "      <td>FALSE</td>\n",
              "      <td>5661.0</td>\n",
              "      <td>Muenchen</td>\n",
              "      <td>DEU</td>\n",
              "      <td>OUTBOUND</td>\n",
              "      <td>user_4773</td>\n",
              "      <td>2018-09-29 14:59:51.603363</td>\n",
              "      <td>Retail</td>\n",
              "      <td>2018-09-29 14:59:51.603363</td>\n",
              "      <td>2018</td>\n",
              "      <td>9</td>\n",
              "      <td>227</td>\n",
              "      <td>0.0</td>\n",
              "      <td>0.0</td>\n",
              "    </tr>\n",
              "  </tbody>\n",
              "</table>\n",
              "</div>"
            ],
            "text/plain": [
              "   transaction_id transactions_type  ... last_30d  last_3_mon\n",
              "0  transaction_22      CARD_PAYMENT  ...      0.0         0.0\n",
              "1  transaction_24      CARD_PAYMENT  ...      0.0         0.0\n",
              "2  transaction_25          EXCHANGE  ...      0.0         0.0\n",
              "3  transaction_29      CARD_PAYMENT  ...      0.0         0.0\n",
              "4  transaction_30      CARD_PAYMENT  ...      0.0         0.0\n",
              "\n",
              "[5 rows x 19 columns]"
            ]
          },
          "metadata": {
            "tags": []
          },
          "execution_count": 127
        }
      ]
    },
    {
      "cell_type": "code",
      "metadata": {
        "colab_type": "code",
        "outputId": "e09b9f24-c84d-4f25-9286-e3bdf0317a7e",
        "id": "XGpSaRKWuWyg",
        "colab": {
          "base_uri": "https://localhost:8080/",
          "height": 0
        }
      },
      "source": [
        "trans_q4=trans.pivot_table(index=\"user_id\",columns=\"last_3_mon\",values=\"year_created\",aggfunc=\"count\",fill_value=0)\n",
        "trans_q4=pd.DataFrame(trans_q4.to_records())\n",
        "trans_q4=trans_q4.drop({\"0.0\"},axis=1)\n",
        "trans_q4[\"trans_last_3m\"]=trans_q4['1.0']\n",
        "trans_q4.drop({\"1.0\"},axis=1,inplace=True)\n",
        "trans_q4.head()"
      ],
      "execution_count": 128,
      "outputs": [
        {
          "output_type": "execute_result",
          "data": {
            "text/html": [
              "<div>\n",
              "<style scoped>\n",
              "    .dataframe tbody tr th:only-of-type {\n",
              "        vertical-align: middle;\n",
              "    }\n",
              "\n",
              "    .dataframe tbody tr th {\n",
              "        vertical-align: top;\n",
              "    }\n",
              "\n",
              "    .dataframe thead th {\n",
              "        text-align: right;\n",
              "    }\n",
              "</style>\n",
              "<table border=\"1\" class=\"dataframe\">\n",
              "  <thead>\n",
              "    <tr style=\"text-align: right;\">\n",
              "      <th></th>\n",
              "      <th>user_id</th>\n",
              "      <th>trans_last_3m</th>\n",
              "    </tr>\n",
              "  </thead>\n",
              "  <tbody>\n",
              "    <tr>\n",
              "      <th>0</th>\n",
              "      <td>user_10</td>\n",
              "      <td>150</td>\n",
              "    </tr>\n",
              "    <tr>\n",
              "      <th>1</th>\n",
              "      <td>user_10000</td>\n",
              "      <td>28</td>\n",
              "    </tr>\n",
              "    <tr>\n",
              "      <th>2</th>\n",
              "      <td>user_10001</td>\n",
              "      <td>0</td>\n",
              "    </tr>\n",
              "    <tr>\n",
              "      <th>3</th>\n",
              "      <td>user_10006</td>\n",
              "      <td>0</td>\n",
              "    </tr>\n",
              "    <tr>\n",
              "      <th>4</th>\n",
              "      <td>user_1001</td>\n",
              "      <td>0</td>\n",
              "    </tr>\n",
              "  </tbody>\n",
              "</table>\n",
              "</div>"
            ],
            "text/plain": [
              "      user_id  trans_last_3m\n",
              "0     user_10            150\n",
              "1  user_10000             28\n",
              "2  user_10001              0\n",
              "3  user_10006              0\n",
              "4   user_1001              0"
            ]
          },
          "metadata": {
            "tags": []
          },
          "execution_count": 128
        }
      ]
    },
    {
      "cell_type": "code",
      "metadata": {
        "colab_type": "code",
        "outputId": "3304f375-f37e-45f2-8f30-1c5e2b6b6e1b",
        "id": "5DrrzcrSuWyi",
        "colab": {
          "base_uri": "https://localhost:8080/",
          "height": 0
        }
      },
      "source": [
        "trans_type=trans.pivot_table(index=\"user_id\",columns=\"transactions_type\",values=\"amount_usd\",aggfunc=\"sum\",fill_value=0)\n",
        "trans_type=pd.DataFrame(trans_type.to_records())\n",
        "trans_type.drop(columns=\"TRANSFER\",inplace=True)\n",
        "trans_type2=trans[trans.transactions_type==\"TRANSFER\"].pivot_table(index=\"user_id\",columns=\"direction\",values=\"amount_usd\",aggfunc=\"sum\",fill_value=0)\n",
        "trans_type2=pd.DataFrame(trans_type2.to_records())\n",
        "trans_type2.rename(columns={\"INBOUND\":\"TRANSFER_in\",\"OUTBOUND\":\"TRANSFER_out\"},inplace=True)\n",
        "trans_type=pd.merge(trans_type,trans_type2,on=\"user_id\",how=\"outer\")\n",
        "trans_type=trans_type.fillna(0)\n",
        "trans_type.head()"
      ],
      "execution_count": 129,
      "outputs": [
        {
          "output_type": "execute_result",
          "data": {
            "text/html": [
              "<div>\n",
              "<style scoped>\n",
              "    .dataframe tbody tr th:only-of-type {\n",
              "        vertical-align: middle;\n",
              "    }\n",
              "\n",
              "    .dataframe tbody tr th {\n",
              "        vertical-align: top;\n",
              "    }\n",
              "\n",
              "    .dataframe thead th {\n",
              "        text-align: right;\n",
              "    }\n",
              "</style>\n",
              "<table border=\"1\" class=\"dataframe\">\n",
              "  <thead>\n",
              "    <tr style=\"text-align: right;\">\n",
              "      <th></th>\n",
              "      <th>user_id</th>\n",
              "      <th>ATM</th>\n",
              "      <th>CARD_PAYMENT</th>\n",
              "      <th>CARD_REFUND</th>\n",
              "      <th>EXCHANGE</th>\n",
              "      <th>REFUND</th>\n",
              "      <th>TAX</th>\n",
              "      <th>TOPUP</th>\n",
              "      <th>TRANSFER_in</th>\n",
              "      <th>TRANSFER_out</th>\n",
              "    </tr>\n",
              "  </thead>\n",
              "  <tbody>\n",
              "    <tr>\n",
              "      <th>0</th>\n",
              "      <td>user_10</td>\n",
              "      <td>1956.94</td>\n",
              "      <td>6733.76</td>\n",
              "      <td>122.24</td>\n",
              "      <td>0.00</td>\n",
              "      <td>5.1</td>\n",
              "      <td>0.0</td>\n",
              "      <td>9059.54</td>\n",
              "      <td>1229.03</td>\n",
              "      <td>5386.46</td>\n",
              "    </tr>\n",
              "    <tr>\n",
              "      <th>1</th>\n",
              "      <td>user_10000</td>\n",
              "      <td>4.41</td>\n",
              "      <td>4241.36</td>\n",
              "      <td>79.48</td>\n",
              "      <td>2699.89</td>\n",
              "      <td>0.0</td>\n",
              "      <td>0.0</td>\n",
              "      <td>4650.70</td>\n",
              "      <td>179.94</td>\n",
              "      <td>375.99</td>\n",
              "    </tr>\n",
              "    <tr>\n",
              "      <th>2</th>\n",
              "      <td>user_10001</td>\n",
              "      <td>528.94</td>\n",
              "      <td>190.14</td>\n",
              "      <td>0.00</td>\n",
              "      <td>854.14</td>\n",
              "      <td>0.0</td>\n",
              "      <td>0.0</td>\n",
              "      <td>820.00</td>\n",
              "      <td>7.50</td>\n",
              "      <td>27.68</td>\n",
              "    </tr>\n",
              "    <tr>\n",
              "      <th>3</th>\n",
              "      <td>user_10006</td>\n",
              "      <td>0.00</td>\n",
              "      <td>309.92</td>\n",
              "      <td>0.00</td>\n",
              "      <td>0.00</td>\n",
              "      <td>0.0</td>\n",
              "      <td>0.0</td>\n",
              "      <td>330.00</td>\n",
              "      <td>0.00</td>\n",
              "      <td>0.00</td>\n",
              "    </tr>\n",
              "    <tr>\n",
              "      <th>4</th>\n",
              "      <td>user_1001</td>\n",
              "      <td>0.00</td>\n",
              "      <td>568.46</td>\n",
              "      <td>0.00</td>\n",
              "      <td>0.00</td>\n",
              "      <td>3.0</td>\n",
              "      <td>0.0</td>\n",
              "      <td>650.00</td>\n",
              "      <td>0.00</td>\n",
              "      <td>72.59</td>\n",
              "    </tr>\n",
              "  </tbody>\n",
              "</table>\n",
              "</div>"
            ],
            "text/plain": [
              "      user_id      ATM  CARD_PAYMENT  ...    TOPUP  TRANSFER_in  TRANSFER_out\n",
              "0     user_10  1956.94       6733.76  ...  9059.54      1229.03       5386.46\n",
              "1  user_10000     4.41       4241.36  ...  4650.70       179.94        375.99\n",
              "2  user_10001   528.94        190.14  ...   820.00         7.50         27.68\n",
              "3  user_10006     0.00        309.92  ...   330.00         0.00          0.00\n",
              "4   user_1001     0.00        568.46  ...   650.00         0.00         72.59\n",
              "\n",
              "[5 rows x 10 columns]"
            ]
          },
          "metadata": {
            "tags": []
          },
          "execution_count": 129
        }
      ]
    },
    {
      "cell_type": "code",
      "metadata": {
        "colab_type": "code",
        "outputId": "8b4f2427-f117-4b53-db38-509ef55b5e34",
        "id": "YV330hKquWyk",
        "colab": {
          "base_uri": "https://localhost:8080/",
          "height": 0
        }
      },
      "source": [
        "trans_pivot=pd.merge(trans_status,trans_type,on=\"user_id\",how=\"outer\")\n",
        "trans_pivot=pd.merge(trans_pivot,trans_amount,on=\"user_id\",how=\"outer\")\n",
        "trans_pivot=pd.merge(trans_pivot,trans_q4,on=\"user_id\",how=\"outer\")\n",
        "print(\"status rows\",trans_status.shape[0])\n",
        "print(\"type rows\",trans_type.shape[0])\n",
        "print(\"amount rows\",trans_amount.shape[0])\n",
        "print(\"trans Q4 rows: \",trans_q4.shape[0])\n",
        "print(\"total rows: \",trans_pivot.shape[0])"
      ],
      "execution_count": 130,
      "outputs": [
        {
          "output_type": "stream",
          "text": [
            "status rows 3749\n",
            "type rows 3701\n",
            "amount rows 3701\n",
            "trans Q4 rows:  3701\n",
            "total rows:  3749\n"
          ],
          "name": "stdout"
        }
      ]
    },
    {
      "cell_type": "markdown",
      "metadata": {
        "colab_type": "text",
        "id": "N-WFsglFuWym"
      },
      "source": [
        "##Final User file"
      ]
    },
    {
      "cell_type": "code",
      "metadata": {
        "colab_type": "code",
        "outputId": "2a64af5e-4ba8-488a-c0fb-4b11f39bcc93",
        "id": "x6to9ZNvuWym",
        "colab": {
          "base_uri": "https://localhost:8080/",
          "height": 0
        }
      },
      "source": [
        "users.columns"
      ],
      "execution_count": 131,
      "outputs": [
        {
          "output_type": "execute_result",
          "data": {
            "text/plain": [
              "Index(['user_id', 'birth_year', 'country', 'city', 'created_date',\n",
              "       'user_settings_crypto_unlocked',\n",
              "       'attributes_notifications_marketing_push',\n",
              "       'attributes_notifications_marketing_email', 'num_contacts',\n",
              "       'num_referrals', 'num_successful_referrals', 'user_age', 'date_created',\n",
              "       'subscription_days', 'Cluster', 'GDP_per_capita', 'age_group'],\n",
              "      dtype='object')"
            ]
          },
          "metadata": {
            "tags": []
          },
          "execution_count": 131
        }
      ]
    },
    {
      "cell_type": "code",
      "metadata": {
        "colab_type": "code",
        "outputId": "cd69638c-f5a7-4ebc-be14-b6016807303d",
        "id": "9VnJzuMJuWyo",
        "colab": {
          "base_uri": "https://localhost:8080/",
          "height": 0
        }
      },
      "source": [
        "us_clas=pd.merge(users,dev,on=\"user_id\",how=\"outer\",)\n",
        "us_clas=pd.merge(us_clas,ntf_pivot,on=\"user_id\",how=\"outer\")\n",
        "us_clas=pd.merge(us_clas,trans_pivot,on=\"user_id\",how=\"outer\")\n",
        "us_clas=pd.merge(us_clas,trans_30d,on=\"user_id\",how=\"outer\")\n",
        "us_clas.columns"
      ],
      "execution_count": 132,
      "outputs": [
        {
          "output_type": "execute_result",
          "data": {
            "text/plain": [
              "Index(['user_id', 'birth_year', 'country', 'city', 'created_date',\n",
              "       'user_settings_crypto_unlocked',\n",
              "       'attributes_notifications_marketing_push',\n",
              "       'attributes_notifications_marketing_email', 'num_contacts',\n",
              "       'num_referrals', 'num_successful_referrals', 'user_age', 'date_created',\n",
              "       'subscription_days', 'Cluster', 'GDP_per_capita', 'age_group', 'brand',\n",
              "       'Brand_Apple', 'Other', 'Marketing_ntf', 'Useful_ntf', 'FAILED_x',\n",
              "       'SENT', 'EMAIL', 'PUSH', 'CANCELLED', 'COMPLETED', 'DECLINED',\n",
              "       'FAILED_y', 'PENDING', 'REVERTED', 'ATM', 'CARD_PAYMENT', 'CARD_REFUND',\n",
              "       'EXCHANGE', 'REFUND', 'TAX', 'TOPUP', 'TRANSFER_in', 'TRANSFER_out',\n",
              "       'max_amount_in', 'max_amount_out', 'mean_amount_in', 'mean_amount_out',\n",
              "       'total_in', 'total_out', 'trans_last_3m', 'last_30d'],\n",
              "      dtype='object')"
            ]
          },
          "metadata": {
            "tags": []
          },
          "execution_count": 132
        }
      ]
    },
    {
      "cell_type": "code",
      "metadata": {
        "colab_type": "code",
        "id": "D-ueG8GEuWys",
        "colab": {}
      },
      "source": [
        "us_clas.to_csv(\"total_users_test.csv\")"
      ],
      "execution_count": 0,
      "outputs": []
    },
    {
      "cell_type": "code",
      "metadata": {
        "colab_type": "code",
        "id": "O-1_rooMuWyv",
        "colab": {}
      },
      "source": [
        "#users.age_group = users.age_group.replace(\"Early Adult\", 1)\n",
        "#users.age_group = users.age_group.replace(\"LowMid Adult\", 2)\n",
        "#users.age_group = users.age_group.replace(\"UpMid Adult\", 3)\n",
        "#users.age_group = users.age_group.replace(\"Pensioner\", 4)\n",
        "#users=pd.get_dummies(users,columns=[\"age_group\"])"
      ],
      "execution_count": 0,
      "outputs": []
    },
    {
      "cell_type": "code",
      "metadata": {
        "colab_type": "code",
        "id": "ShFx6rPRuWyz",
        "colab": {}
      },
      "source": [
        "#us_clas=us_clas.rename(columns={\"grouped_plan\":\"paid\"})"
      ],
      "execution_count": 0,
      "outputs": []
    },
    {
      "cell_type": "code",
      "metadata": {
        "colab_type": "code",
        "id": "3JB7NES4uWy6",
        "colab": {}
      },
      "source": [
        "#users.to_csv(\"/content/drive/My Drive/Project Future/Project/to_user_mod.csv\")\n",
        "#users=users.drop(columns=[\"user_id\",\"GDP_per_capita\",\"birth_year\",\"country\",\"user_age\",\"Full_Country\"])\n",
        "#users.columns"
      ],
      "execution_count": 0,
      "outputs": []
    },
    {
      "cell_type": "code",
      "metadata": {
        "colab_type": "code",
        "id": "PIL9qCgwuWy8",
        "colab": {}
      },
      "source": [
        "#print(users.Cluster.unique())\n",
        "#users.Cluster.value_counts()\n",
        "#users=pd.get_dummies(users,columns=[\"Cluster\"])\n",
        "#users.head()"
      ],
      "execution_count": 0,
      "outputs": []
    },
    {
      "cell_type": "code",
      "metadata": {
        "colab_type": "code",
        "id": "nqB8Y_SWuWy-",
        "colab": {}
      },
      "source": [
        "#users=pd.get_dummies(users,columns=[\"GDP_per_capita\"])\n",
        "#users.head()"
      ],
      "execution_count": 0,
      "outputs": []
    },
    {
      "cell_type": "code",
      "metadata": {
        "colab_type": "code",
        "outputId": "5130600c-f4aa-4c83-9c73-970828075b19",
        "id": "Xf0SjBTGuWzE",
        "colab": {
          "base_uri": "https://localhost:8080/",
          "height": 0
        }
      },
      "source": [
        "us_clas.dtypes"
      ],
      "execution_count": 139,
      "outputs": [
        {
          "output_type": "execute_result",
          "data": {
            "text/plain": [
              "user_id                                             object\n",
              "birth_year                                           int64\n",
              "country                                             object\n",
              "city                                                object\n",
              "created_date                                        object\n",
              "user_settings_crypto_unlocked                        int64\n",
              "attributes_notifications_marketing_push            float64\n",
              "attributes_notifications_marketing_email           float64\n",
              "num_contacts                                         int64\n",
              "num_referrals                                        int64\n",
              "num_successful_referrals                             int64\n",
              "user_age                                             int64\n",
              "date_created                                datetime64[ns]\n",
              "subscription_days                                    int64\n",
              "Cluster                                             object\n",
              "GDP_per_capita                                      object\n",
              "age_group                                         category\n",
              "brand                                               object\n",
              "Brand_Apple                                        float64\n",
              "Other                                              float64\n",
              "Marketing_ntf                                      float64\n",
              "Useful_ntf                                         float64\n",
              "FAILED_x                                           float64\n",
              "SENT                                               float64\n",
              "EMAIL                                              float64\n",
              "PUSH                                               float64\n",
              "CANCELLED                                          float64\n",
              "COMPLETED                                          float64\n",
              "DECLINED                                           float64\n",
              "FAILED_y                                           float64\n",
              "PENDING                                            float64\n",
              "REVERTED                                           float64\n",
              "ATM                                                float64\n",
              "CARD_PAYMENT                                       float64\n",
              "CARD_REFUND                                        float64\n",
              "EXCHANGE                                           float64\n",
              "REFUND                                             float64\n",
              "TAX                                                float64\n",
              "TOPUP                                              float64\n",
              "TRANSFER_in                                        float64\n",
              "TRANSFER_out                                       float64\n",
              "max_amount_in                                      float64\n",
              "max_amount_out                                     float64\n",
              "mean_amount_in                                     float64\n",
              "mean_amount_out                                    float64\n",
              "total_in                                           float64\n",
              "total_out                                          float64\n",
              "trans_last_3m                                      float64\n",
              "last_30d                                           float64\n",
              "dtype: object"
            ]
          },
          "metadata": {
            "tags": []
          },
          "execution_count": 139
        }
      ]
    },
    {
      "cell_type": "code",
      "metadata": {
        "colab_type": "code",
        "outputId": "34f36f74-6075-46fd-f11a-97735bb3d3ad",
        "id": "hTeClJgQuWzG",
        "colab": {
          "base_uri": "https://localhost:8080/",
          "height": 0
        }
      },
      "source": [
        "colnames=us_clas.columns\n",
        "df=pd.DataFrame(columns=[\"Column\",\"NumOfMissingVal\",\"UniqueVal\"])\n",
        "for cn in colnames:\n",
        "  df=df.append({\"Column\" : cn,\"NumOfMissingVal\": sum(pd.isna(us_clas[cn])),\"UniqueVal\":len(us_clas[cn].unique())},ignore_index=True)\n",
        "\n",
        "df"
      ],
      "execution_count": 140,
      "outputs": [
        {
          "output_type": "execute_result",
          "data": {
            "text/html": [
              "<div>\n",
              "<style scoped>\n",
              "    .dataframe tbody tr th:only-of-type {\n",
              "        vertical-align: middle;\n",
              "    }\n",
              "\n",
              "    .dataframe tbody tr th {\n",
              "        vertical-align: top;\n",
              "    }\n",
              "\n",
              "    .dataframe thead th {\n",
              "        text-align: right;\n",
              "    }\n",
              "</style>\n",
              "<table border=\"1\" class=\"dataframe\">\n",
              "  <thead>\n",
              "    <tr style=\"text-align: right;\">\n",
              "      <th></th>\n",
              "      <th>Column</th>\n",
              "      <th>NumOfMissingVal</th>\n",
              "      <th>UniqueVal</th>\n",
              "    </tr>\n",
              "  </thead>\n",
              "  <tbody>\n",
              "    <tr>\n",
              "      <th>0</th>\n",
              "      <td>user_id</td>\n",
              "      <td>0</td>\n",
              "      <td>3886</td>\n",
              "    </tr>\n",
              "    <tr>\n",
              "      <th>1</th>\n",
              "      <td>birth_year</td>\n",
              "      <td>0</td>\n",
              "      <td>62</td>\n",
              "    </tr>\n",
              "    <tr>\n",
              "      <th>2</th>\n",
              "      <td>country</td>\n",
              "      <td>0</td>\n",
              "      <td>39</td>\n",
              "    </tr>\n",
              "    <tr>\n",
              "      <th>3</th>\n",
              "      <td>city</td>\n",
              "      <td>0</td>\n",
              "      <td>1838</td>\n",
              "    </tr>\n",
              "    <tr>\n",
              "      <th>4</th>\n",
              "      <td>created_date</td>\n",
              "      <td>0</td>\n",
              "      <td>3886</td>\n",
              "    </tr>\n",
              "    <tr>\n",
              "      <th>5</th>\n",
              "      <td>user_settings_crypto_unlocked</td>\n",
              "      <td>0</td>\n",
              "      <td>2</td>\n",
              "    </tr>\n",
              "    <tr>\n",
              "      <th>6</th>\n",
              "      <td>attributes_notifications_marketing_push</td>\n",
              "      <td>1350</td>\n",
              "      <td>3</td>\n",
              "    </tr>\n",
              "    <tr>\n",
              "      <th>7</th>\n",
              "      <td>attributes_notifications_marketing_email</td>\n",
              "      <td>1350</td>\n",
              "      <td>3</td>\n",
              "    </tr>\n",
              "    <tr>\n",
              "      <th>8</th>\n",
              "      <td>num_contacts</td>\n",
              "      <td>0</td>\n",
              "      <td>186</td>\n",
              "    </tr>\n",
              "    <tr>\n",
              "      <th>9</th>\n",
              "      <td>num_referrals</td>\n",
              "      <td>0</td>\n",
              "      <td>1</td>\n",
              "    </tr>\n",
              "    <tr>\n",
              "      <th>10</th>\n",
              "      <td>num_successful_referrals</td>\n",
              "      <td>0</td>\n",
              "      <td>1</td>\n",
              "    </tr>\n",
              "    <tr>\n",
              "      <th>11</th>\n",
              "      <td>user_age</td>\n",
              "      <td>0</td>\n",
              "      <td>62</td>\n",
              "    </tr>\n",
              "    <tr>\n",
              "      <th>12</th>\n",
              "      <td>date_created</td>\n",
              "      <td>0</td>\n",
              "      <td>3886</td>\n",
              "    </tr>\n",
              "    <tr>\n",
              "      <th>13</th>\n",
              "      <td>subscription_days</td>\n",
              "      <td>0</td>\n",
              "      <td>367</td>\n",
              "    </tr>\n",
              "    <tr>\n",
              "      <th>14</th>\n",
              "      <td>Cluster</td>\n",
              "      <td>1</td>\n",
              "      <td>6</td>\n",
              "    </tr>\n",
              "    <tr>\n",
              "      <th>15</th>\n",
              "      <td>GDP_per_capita</td>\n",
              "      <td>1</td>\n",
              "      <td>4</td>\n",
              "    </tr>\n",
              "    <tr>\n",
              "      <th>16</th>\n",
              "      <td>age_group</td>\n",
              "      <td>0</td>\n",
              "      <td>4</td>\n",
              "    </tr>\n",
              "    <tr>\n",
              "      <th>17</th>\n",
              "      <td>brand</td>\n",
              "      <td>0</td>\n",
              "      <td>3</td>\n",
              "    </tr>\n",
              "    <tr>\n",
              "      <th>18</th>\n",
              "      <td>Brand_Apple</td>\n",
              "      <td>0</td>\n",
              "      <td>2</td>\n",
              "    </tr>\n",
              "    <tr>\n",
              "      <th>19</th>\n",
              "      <td>Other</td>\n",
              "      <td>213</td>\n",
              "      <td>16</td>\n",
              "    </tr>\n",
              "    <tr>\n",
              "      <th>20</th>\n",
              "      <td>Marketing_ntf</td>\n",
              "      <td>213</td>\n",
              "      <td>10</td>\n",
              "    </tr>\n",
              "    <tr>\n",
              "      <th>21</th>\n",
              "      <td>Useful_ntf</td>\n",
              "      <td>213</td>\n",
              "      <td>15</td>\n",
              "    </tr>\n",
              "    <tr>\n",
              "      <th>22</th>\n",
              "      <td>FAILED_x</td>\n",
              "      <td>89</td>\n",
              "      <td>36</td>\n",
              "    </tr>\n",
              "    <tr>\n",
              "      <th>23</th>\n",
              "      <td>SENT</td>\n",
              "      <td>89</td>\n",
              "      <td>17</td>\n",
              "    </tr>\n",
              "    <tr>\n",
              "      <th>24</th>\n",
              "      <td>EMAIL</td>\n",
              "      <td>213</td>\n",
              "      <td>11</td>\n",
              "    </tr>\n",
              "    <tr>\n",
              "      <th>25</th>\n",
              "      <td>PUSH</td>\n",
              "      <td>213</td>\n",
              "      <td>14</td>\n",
              "    </tr>\n",
              "    <tr>\n",
              "      <th>26</th>\n",
              "      <td>CANCELLED</td>\n",
              "      <td>137</td>\n",
              "      <td>9</td>\n",
              "    </tr>\n",
              "    <tr>\n",
              "      <th>27</th>\n",
              "      <td>COMPLETED</td>\n",
              "      <td>137</td>\n",
              "      <td>594</td>\n",
              "    </tr>\n",
              "    <tr>\n",
              "      <th>28</th>\n",
              "      <td>DECLINED</td>\n",
              "      <td>137</td>\n",
              "      <td>98</td>\n",
              "    </tr>\n",
              "    <tr>\n",
              "      <th>29</th>\n",
              "      <td>FAILED_y</td>\n",
              "      <td>137</td>\n",
              "      <td>50</td>\n",
              "    </tr>\n",
              "    <tr>\n",
              "      <th>30</th>\n",
              "      <td>PENDING</td>\n",
              "      <td>137</td>\n",
              "      <td>23</td>\n",
              "    </tr>\n",
              "    <tr>\n",
              "      <th>31</th>\n",
              "      <td>REVERTED</td>\n",
              "      <td>137</td>\n",
              "      <td>70</td>\n",
              "    </tr>\n",
              "    <tr>\n",
              "      <th>32</th>\n",
              "      <td>ATM</td>\n",
              "      <td>185</td>\n",
              "      <td>1760</td>\n",
              "    </tr>\n",
              "    <tr>\n",
              "      <th>33</th>\n",
              "      <td>CARD_PAYMENT</td>\n",
              "      <td>185</td>\n",
              "      <td>3048</td>\n",
              "    </tr>\n",
              "    <tr>\n",
              "      <th>34</th>\n",
              "      <td>CARD_REFUND</td>\n",
              "      <td>185</td>\n",
              "      <td>767</td>\n",
              "    </tr>\n",
              "    <tr>\n",
              "      <th>35</th>\n",
              "      <td>EXCHANGE</td>\n",
              "      <td>185</td>\n",
              "      <td>1726</td>\n",
              "    </tr>\n",
              "    <tr>\n",
              "      <th>36</th>\n",
              "      <td>REFUND</td>\n",
              "      <td>185</td>\n",
              "      <td>118</td>\n",
              "    </tr>\n",
              "    <tr>\n",
              "      <th>37</th>\n",
              "      <td>TAX</td>\n",
              "      <td>185</td>\n",
              "      <td>23</td>\n",
              "    </tr>\n",
              "    <tr>\n",
              "      <th>38</th>\n",
              "      <td>TOPUP</td>\n",
              "      <td>185</td>\n",
              "      <td>2809</td>\n",
              "    </tr>\n",
              "    <tr>\n",
              "      <th>39</th>\n",
              "      <td>TRANSFER_in</td>\n",
              "      <td>185</td>\n",
              "      <td>983</td>\n",
              "    </tr>\n",
              "    <tr>\n",
              "      <th>40</th>\n",
              "      <td>TRANSFER_out</td>\n",
              "      <td>185</td>\n",
              "      <td>2238</td>\n",
              "    </tr>\n",
              "    <tr>\n",
              "      <th>41</th>\n",
              "      <td>max_amount_in</td>\n",
              "      <td>220</td>\n",
              "      <td>974</td>\n",
              "    </tr>\n",
              "    <tr>\n",
              "      <th>42</th>\n",
              "      <td>max_amount_out</td>\n",
              "      <td>439</td>\n",
              "      <td>2381</td>\n",
              "    </tr>\n",
              "    <tr>\n",
              "      <th>43</th>\n",
              "      <td>mean_amount_in</td>\n",
              "      <td>220</td>\n",
              "      <td>3095</td>\n",
              "    </tr>\n",
              "    <tr>\n",
              "      <th>44</th>\n",
              "      <td>mean_amount_out</td>\n",
              "      <td>439</td>\n",
              "      <td>3363</td>\n",
              "    </tr>\n",
              "    <tr>\n",
              "      <th>45</th>\n",
              "      <td>total_in</td>\n",
              "      <td>220</td>\n",
              "      <td>3017</td>\n",
              "    </tr>\n",
              "    <tr>\n",
              "      <th>46</th>\n",
              "      <td>total_out</td>\n",
              "      <td>439</td>\n",
              "      <td>3359</td>\n",
              "    </tr>\n",
              "    <tr>\n",
              "      <th>47</th>\n",
              "      <td>trans_last_3m</td>\n",
              "      <td>185</td>\n",
              "      <td>290</td>\n",
              "    </tr>\n",
              "    <tr>\n",
              "      <th>48</th>\n",
              "      <td>last_30d</td>\n",
              "      <td>185</td>\n",
              "      <td>152</td>\n",
              "    </tr>\n",
              "  </tbody>\n",
              "</table>\n",
              "</div>"
            ],
            "text/plain": [
              "                                      Column NumOfMissingVal UniqueVal\n",
              "0                                    user_id               0      3886\n",
              "1                                 birth_year               0        62\n",
              "2                                    country               0        39\n",
              "3                                       city               0      1838\n",
              "4                               created_date               0      3886\n",
              "5              user_settings_crypto_unlocked               0         2\n",
              "6    attributes_notifications_marketing_push            1350         3\n",
              "7   attributes_notifications_marketing_email            1350         3\n",
              "8                               num_contacts               0       186\n",
              "9                              num_referrals               0         1\n",
              "10                  num_successful_referrals               0         1\n",
              "11                                  user_age               0        62\n",
              "12                              date_created               0      3886\n",
              "13                         subscription_days               0       367\n",
              "14                                   Cluster               1         6\n",
              "15                            GDP_per_capita               1         4\n",
              "16                                 age_group               0         4\n",
              "17                                     brand               0         3\n",
              "18                               Brand_Apple               0         2\n",
              "19                                     Other             213        16\n",
              "20                             Marketing_ntf             213        10\n",
              "21                                Useful_ntf             213        15\n",
              "22                                  FAILED_x              89        36\n",
              "23                                      SENT              89        17\n",
              "24                                     EMAIL             213        11\n",
              "25                                      PUSH             213        14\n",
              "26                                 CANCELLED             137         9\n",
              "27                                 COMPLETED             137       594\n",
              "28                                  DECLINED             137        98\n",
              "29                                  FAILED_y             137        50\n",
              "30                                   PENDING             137        23\n",
              "31                                  REVERTED             137        70\n",
              "32                                       ATM             185      1760\n",
              "33                              CARD_PAYMENT             185      3048\n",
              "34                               CARD_REFUND             185       767\n",
              "35                                  EXCHANGE             185      1726\n",
              "36                                    REFUND             185       118\n",
              "37                                       TAX             185        23\n",
              "38                                     TOPUP             185      2809\n",
              "39                               TRANSFER_in             185       983\n",
              "40                              TRANSFER_out             185      2238\n",
              "41                             max_amount_in             220       974\n",
              "42                            max_amount_out             439      2381\n",
              "43                            mean_amount_in             220      3095\n",
              "44                           mean_amount_out             439      3363\n",
              "45                                  total_in             220      3017\n",
              "46                                 total_out             439      3359\n",
              "47                             trans_last_3m             185       290\n",
              "48                                  last_30d             185       152"
            ]
          },
          "metadata": {
            "tags": []
          },
          "execution_count": 140
        }
      ]
    },
    {
      "cell_type": "code",
      "metadata": {
        "colab_type": "code",
        "id": "cJAP7-EHuWzI",
        "colab": {}
      },
      "source": [
        "#us_clas=us_clas.fillna(0)"
      ],
      "execution_count": 0,
      "outputs": []
    },
    {
      "cell_type": "code",
      "metadata": {
        "colab_type": "code",
        "outputId": "d59e73f4-b3f0-485f-a759-fd3bc9a7391f",
        "id": "j0FYFhRkuWzK",
        "colab": {
          "base_uri": "https://localhost:8080/",
          "height": 0
        }
      },
      "source": [
        "'''\n",
        "colnames=us_clas.columns\n",
        "df=pd.DataFrame(columns=[\"Column\",\"NumOfMissingVal\",\"UniqueVal\"])\n",
        "for cn in colnames:\n",
        "  df=df.append({\"Column\" : cn,\"NumOfMissingVal\": sum(pd.isna(us_clas[cn])),\"UniqueVal\":len(us_clas[cn].unique())},ignore_index=True)\n",
        "\n",
        "df\n",
        "'''"
      ],
      "execution_count": 142,
      "outputs": [
        {
          "output_type": "execute_result",
          "data": {
            "text/plain": [
              "'\\ncolnames=us_clas.columns\\ndf=pd.DataFrame(columns=[\"Column\",\"NumOfMissingVal\",\"UniqueVal\"])\\nfor cn in colnames:\\n  df=df.append({\"Column\" : cn,\"NumOfMissingVal\": sum(pd.isna(us_clas[cn])),\"UniqueVal\":len(us_clas[cn].unique())},ignore_index=True)\\n\\ndf\\n'"
            ]
          },
          "metadata": {
            "tags": []
          },
          "execution_count": 142
        }
      ]
    },
    {
      "cell_type": "code",
      "metadata": {
        "colab_type": "code",
        "outputId": "5503899c-d2e1-48e2-9572-d40d20b6fecd",
        "id": "F5Aihmk1uWzO",
        "colab": {
          "base_uri": "https://localhost:8080/",
          "height": 0
        }
      },
      "source": [
        "us_clas.describe()"
      ],
      "execution_count": 143,
      "outputs": [
        {
          "output_type": "execute_result",
          "data": {
            "text/html": [
              "<div>\n",
              "<style scoped>\n",
              "    .dataframe tbody tr th:only-of-type {\n",
              "        vertical-align: middle;\n",
              "    }\n",
              "\n",
              "    .dataframe tbody tr th {\n",
              "        vertical-align: top;\n",
              "    }\n",
              "\n",
              "    .dataframe thead th {\n",
              "        text-align: right;\n",
              "    }\n",
              "</style>\n",
              "<table border=\"1\" class=\"dataframe\">\n",
              "  <thead>\n",
              "    <tr style=\"text-align: right;\">\n",
              "      <th></th>\n",
              "      <th>birth_year</th>\n",
              "      <th>user_settings_crypto_unlocked</th>\n",
              "      <th>attributes_notifications_marketing_push</th>\n",
              "      <th>attributes_notifications_marketing_email</th>\n",
              "      <th>num_contacts</th>\n",
              "      <th>num_referrals</th>\n",
              "      <th>num_successful_referrals</th>\n",
              "      <th>user_age</th>\n",
              "      <th>subscription_days</th>\n",
              "      <th>Brand_Apple</th>\n",
              "      <th>Other</th>\n",
              "      <th>Marketing_ntf</th>\n",
              "      <th>Useful_ntf</th>\n",
              "      <th>FAILED_x</th>\n",
              "      <th>SENT</th>\n",
              "      <th>EMAIL</th>\n",
              "      <th>PUSH</th>\n",
              "      <th>CANCELLED</th>\n",
              "      <th>COMPLETED</th>\n",
              "      <th>DECLINED</th>\n",
              "      <th>FAILED_y</th>\n",
              "      <th>PENDING</th>\n",
              "      <th>REVERTED</th>\n",
              "      <th>ATM</th>\n",
              "      <th>CARD_PAYMENT</th>\n",
              "      <th>CARD_REFUND</th>\n",
              "      <th>EXCHANGE</th>\n",
              "      <th>REFUND</th>\n",
              "      <th>TAX</th>\n",
              "      <th>TOPUP</th>\n",
              "      <th>TRANSFER_in</th>\n",
              "      <th>TRANSFER_out</th>\n",
              "      <th>max_amount_in</th>\n",
              "      <th>max_amount_out</th>\n",
              "      <th>mean_amount_in</th>\n",
              "      <th>mean_amount_out</th>\n",
              "      <th>total_in</th>\n",
              "      <th>total_out</th>\n",
              "      <th>trans_last_3m</th>\n",
              "      <th>last_30d</th>\n",
              "    </tr>\n",
              "  </thead>\n",
              "  <tbody>\n",
              "    <tr>\n",
              "      <th>count</th>\n",
              "      <td>3886.000000</td>\n",
              "      <td>3886.000000</td>\n",
              "      <td>2536.000000</td>\n",
              "      <td>2536.000000</td>\n",
              "      <td>3886.000000</td>\n",
              "      <td>3886.0</td>\n",
              "      <td>3886.0</td>\n",
              "      <td>3886.000000</td>\n",
              "      <td>3886.000000</td>\n",
              "      <td>3886.000000</td>\n",
              "      <td>3673.000000</td>\n",
              "      <td>3673.000000</td>\n",
              "      <td>3673.000000</td>\n",
              "      <td>3797.000000</td>\n",
              "      <td>3797.000000</td>\n",
              "      <td>3673.000000</td>\n",
              "      <td>3673.000000</td>\n",
              "      <td>3749.000000</td>\n",
              "      <td>3749.000000</td>\n",
              "      <td>3749.000000</td>\n",
              "      <td>3749.000000</td>\n",
              "      <td>3749.000000</td>\n",
              "      <td>3749.000000</td>\n",
              "      <td>3701.000000</td>\n",
              "      <td>3701.000000</td>\n",
              "      <td>3701.000000</td>\n",
              "      <td>3701.000000</td>\n",
              "      <td>3701.000000</td>\n",
              "      <td>3701.000000</td>\n",
              "      <td>3701.000000</td>\n",
              "      <td>3701.000000</td>\n",
              "      <td>3701.000000</td>\n",
              "      <td>3666.000000</td>\n",
              "      <td>3447.000000</td>\n",
              "      <td>3666.000000</td>\n",
              "      <td>3447.000000</td>\n",
              "      <td>3666.000000</td>\n",
              "      <td>3447.000000</td>\n",
              "      <td>3701.000000</td>\n",
              "      <td>3701.000000</td>\n",
              "    </tr>\n",
              "    <tr>\n",
              "      <th>mean</th>\n",
              "      <td>1983.576686</td>\n",
              "      <td>0.175502</td>\n",
              "      <td>0.944795</td>\n",
              "      <td>0.897871</td>\n",
              "      <td>17.941585</td>\n",
              "      <td>0.0</td>\n",
              "      <td>0.0</td>\n",
              "      <td>36.423314</td>\n",
              "      <td>686.285126</td>\n",
              "      <td>0.504632</td>\n",
              "      <td>4.752791</td>\n",
              "      <td>1.880479</td>\n",
              "      <td>2.872311</td>\n",
              "      <td>1.652357</td>\n",
              "      <td>4.597577</td>\n",
              "      <td>2.326436</td>\n",
              "      <td>2.366186</td>\n",
              "      <td>0.078421</td>\n",
              "      <td>125.439584</td>\n",
              "      <td>8.040544</td>\n",
              "      <td>2.263804</td>\n",
              "      <td>1.057349</td>\n",
              "      <td>6.211790</td>\n",
              "      <td>316.356474</td>\n",
              "      <td>1470.447798</td>\n",
              "      <td>57.376179</td>\n",
              "      <td>1687.933496</td>\n",
              "      <td>3.834596</td>\n",
              "      <td>0.014909</td>\n",
              "      <td>3207.340705</td>\n",
              "      <td>158.635901</td>\n",
              "      <td>1607.155128</td>\n",
              "      <td>768.052239</td>\n",
              "      <td>736.416527</td>\n",
              "      <td>180.348147</td>\n",
              "      <td>77.376270</td>\n",
              "      <td>3459.907392</td>\n",
              "      <td>5456.379690</td>\n",
              "      <td>35.679816</td>\n",
              "      <td>13.081870</td>\n",
              "    </tr>\n",
              "    <tr>\n",
              "      <th>std</th>\n",
              "      <td>11.368799</td>\n",
              "      <td>0.380445</td>\n",
              "      <td>0.228425</td>\n",
              "      <td>0.302878</td>\n",
              "      <td>42.080140</td>\n",
              "      <td>0.0</td>\n",
              "      <td>0.0</td>\n",
              "      <td>11.368799</td>\n",
              "      <td>104.562214</td>\n",
              "      <td>0.500043</td>\n",
              "      <td>2.542318</td>\n",
              "      <td>1.276413</td>\n",
              "      <td>2.122547</td>\n",
              "      <td>3.489904</td>\n",
              "      <td>2.639326</td>\n",
              "      <td>1.578519</td>\n",
              "      <td>2.018601</td>\n",
              "      <td>0.390299</td>\n",
              "      <td>219.652298</td>\n",
              "      <td>14.723074</td>\n",
              "      <td>6.320717</td>\n",
              "      <td>2.400011</td>\n",
              "      <td>9.340954</td>\n",
              "      <td>996.016849</td>\n",
              "      <td>3047.427247</td>\n",
              "      <td>921.388033</td>\n",
              "      <td>13086.190103</td>\n",
              "      <td>55.680362</td>\n",
              "      <td>0.147150</td>\n",
              "      <td>12062.794829</td>\n",
              "      <td>836.075921</td>\n",
              "      <td>10342.926653</td>\n",
              "      <td>3483.385665</td>\n",
              "      <td>3349.459857</td>\n",
              "      <td>556.856330</td>\n",
              "      <td>364.421784</td>\n",
              "      <td>12328.289387</td>\n",
              "      <td>24223.079739</td>\n",
              "      <td>71.126700</td>\n",
              "      <td>27.301154</td>\n",
              "    </tr>\n",
              "    <tr>\n",
              "      <th>min</th>\n",
              "      <td>1934.000000</td>\n",
              "      <td>0.000000</td>\n",
              "      <td>0.000000</td>\n",
              "      <td>0.000000</td>\n",
              "      <td>0.000000</td>\n",
              "      <td>0.0</td>\n",
              "      <td>0.0</td>\n",
              "      <td>19.000000</td>\n",
              "      <td>522.000000</td>\n",
              "      <td>0.000000</td>\n",
              "      <td>1.000000</td>\n",
              "      <td>0.000000</td>\n",
              "      <td>0.000000</td>\n",
              "      <td>0.000000</td>\n",
              "      <td>0.000000</td>\n",
              "      <td>0.000000</td>\n",
              "      <td>0.000000</td>\n",
              "      <td>0.000000</td>\n",
              "      <td>0.000000</td>\n",
              "      <td>0.000000</td>\n",
              "      <td>0.000000</td>\n",
              "      <td>0.000000</td>\n",
              "      <td>0.000000</td>\n",
              "      <td>0.000000</td>\n",
              "      <td>0.000000</td>\n",
              "      <td>0.000000</td>\n",
              "      <td>0.000000</td>\n",
              "      <td>0.000000</td>\n",
              "      <td>0.000000</td>\n",
              "      <td>0.000000</td>\n",
              "      <td>0.000000</td>\n",
              "      <td>0.000000</td>\n",
              "      <td>0.010000</td>\n",
              "      <td>0.020000</td>\n",
              "      <td>0.010000</td>\n",
              "      <td>0.020000</td>\n",
              "      <td>0.010000</td>\n",
              "      <td>0.020000</td>\n",
              "      <td>0.000000</td>\n",
              "      <td>0.000000</td>\n",
              "    </tr>\n",
              "    <tr>\n",
              "      <th>25%</th>\n",
              "      <td>1978.000000</td>\n",
              "      <td>0.000000</td>\n",
              "      <td>1.000000</td>\n",
              "      <td>1.000000</td>\n",
              "      <td>0.000000</td>\n",
              "      <td>0.0</td>\n",
              "      <td>0.0</td>\n",
              "      <td>28.000000</td>\n",
              "      <td>595.000000</td>\n",
              "      <td>0.000000</td>\n",
              "      <td>3.000000</td>\n",
              "      <td>1.000000</td>\n",
              "      <td>1.000000</td>\n",
              "      <td>0.000000</td>\n",
              "      <td>3.000000</td>\n",
              "      <td>1.000000</td>\n",
              "      <td>1.000000</td>\n",
              "      <td>0.000000</td>\n",
              "      <td>13.000000</td>\n",
              "      <td>1.000000</td>\n",
              "      <td>0.000000</td>\n",
              "      <td>0.000000</td>\n",
              "      <td>1.000000</td>\n",
              "      <td>0.000000</td>\n",
              "      <td>35.060000</td>\n",
              "      <td>0.000000</td>\n",
              "      <td>0.000000</td>\n",
              "      <td>0.000000</td>\n",
              "      <td>0.000000</td>\n",
              "      <td>170.070000</td>\n",
              "      <td>0.000000</td>\n",
              "      <td>0.000000</td>\n",
              "      <td>85.110000</td>\n",
              "      <td>83.455000</td>\n",
              "      <td>32.781639</td>\n",
              "      <td>13.291047</td>\n",
              "      <td>221.262500</td>\n",
              "      <td>382.130000</td>\n",
              "      <td>0.000000</td>\n",
              "      <td>0.000000</td>\n",
              "    </tr>\n",
              "    <tr>\n",
              "      <th>50%</th>\n",
              "      <td>1986.000000</td>\n",
              "      <td>0.000000</td>\n",
              "      <td>1.000000</td>\n",
              "      <td>1.000000</td>\n",
              "      <td>4.000000</td>\n",
              "      <td>0.0</td>\n",
              "      <td>0.0</td>\n",
              "      <td>34.000000</td>\n",
              "      <td>678.000000</td>\n",
              "      <td>1.000000</td>\n",
              "      <td>4.000000</td>\n",
              "      <td>2.000000</td>\n",
              "      <td>3.000000</td>\n",
              "      <td>1.000000</td>\n",
              "      <td>4.000000</td>\n",
              "      <td>2.000000</td>\n",
              "      <td>2.000000</td>\n",
              "      <td>0.000000</td>\n",
              "      <td>48.000000</td>\n",
              "      <td>3.000000</td>\n",
              "      <td>0.000000</td>\n",
              "      <td>0.000000</td>\n",
              "      <td>3.000000</td>\n",
              "      <td>25.530000</td>\n",
              "      <td>471.540000</td>\n",
              "      <td>0.000000</td>\n",
              "      <td>0.000000</td>\n",
              "      <td>0.000000</td>\n",
              "      <td>0.000000</td>\n",
              "      <td>859.570000</td>\n",
              "      <td>0.000000</td>\n",
              "      <td>53.500000</td>\n",
              "      <td>250.000000</td>\n",
              "      <td>207.190000</td>\n",
              "      <td>80.998929</td>\n",
              "      <td>26.874847</td>\n",
              "      <td>1002.700000</td>\n",
              "      <td>1424.060000</td>\n",
              "      <td>9.000000</td>\n",
              "      <td>2.000000</td>\n",
              "    </tr>\n",
              "    <tr>\n",
              "      <th>75%</th>\n",
              "      <td>1992.000000</td>\n",
              "      <td>0.000000</td>\n",
              "      <td>1.000000</td>\n",
              "      <td>1.000000</td>\n",
              "      <td>19.000000</td>\n",
              "      <td>0.0</td>\n",
              "      <td>0.0</td>\n",
              "      <td>42.000000</td>\n",
              "      <td>772.000000</td>\n",
              "      <td>1.000000</td>\n",
              "      <td>6.000000</td>\n",
              "      <td>3.000000</td>\n",
              "      <td>4.000000</td>\n",
              "      <td>2.000000</td>\n",
              "      <td>6.000000</td>\n",
              "      <td>3.000000</td>\n",
              "      <td>4.000000</td>\n",
              "      <td>0.000000</td>\n",
              "      <td>139.000000</td>\n",
              "      <td>9.000000</td>\n",
              "      <td>2.000000</td>\n",
              "      <td>1.000000</td>\n",
              "      <td>7.000000</td>\n",
              "      <td>286.510000</td>\n",
              "      <td>1636.530000</td>\n",
              "      <td>0.000000</td>\n",
              "      <td>585.110000</td>\n",
              "      <td>0.000000</td>\n",
              "      <td>0.000000</td>\n",
              "      <td>2817.030000</td>\n",
              "      <td>19.880000</td>\n",
              "      <td>580.630000</td>\n",
              "      <td>544.680000</td>\n",
              "      <td>501.035000</td>\n",
              "      <td>167.801667</td>\n",
              "      <td>53.525195</td>\n",
              "      <td>3081.917500</td>\n",
              "      <td>4386.155000</td>\n",
              "      <td>38.000000</td>\n",
              "      <td>14.000000</td>\n",
              "    </tr>\n",
              "    <tr>\n",
              "      <th>max</th>\n",
              "      <td>2001.000000</td>\n",
              "      <td>1.000000</td>\n",
              "      <td>1.000000</td>\n",
              "      <td>1.000000</td>\n",
              "      <td>732.000000</td>\n",
              "      <td>0.0</td>\n",
              "      <td>0.0</td>\n",
              "      <td>86.000000</td>\n",
              "      <td>888.000000</td>\n",
              "      <td>1.000000</td>\n",
              "      <td>18.000000</td>\n",
              "      <td>8.000000</td>\n",
              "      <td>15.000000</td>\n",
              "      <td>78.000000</td>\n",
              "      <td>18.000000</td>\n",
              "      <td>9.000000</td>\n",
              "      <td>12.000000</td>\n",
              "      <td>10.000000</td>\n",
              "      <td>3898.000000</td>\n",
              "      <td>249.000000</td>\n",
              "      <td>121.000000</td>\n",
              "      <td>38.000000</td>\n",
              "      <td>119.000000</td>\n",
              "      <td>34019.780000</td>\n",
              "      <td>73411.570000</td>\n",
              "      <td>45277.090000</td>\n",
              "      <td>494818.080000</td>\n",
              "      <td>2548.640000</td>\n",
              "      <td>4.370000</td>\n",
              "      <td>496300.000000</td>\n",
              "      <td>21528.190000</td>\n",
              "      <td>464779.420000</td>\n",
              "      <td>111157.950000</td>\n",
              "      <td>81234.110000</td>\n",
              "      <td>18381.481481</td>\n",
              "      <td>12430.309459</td>\n",
              "      <td>496300.000000</td>\n",
              "      <td>973983.250000</td>\n",
              "      <td>1209.000000</td>\n",
              "      <td>392.000000</td>\n",
              "    </tr>\n",
              "  </tbody>\n",
              "</table>\n",
              "</div>"
            ],
            "text/plain": [
              "        birth_year  user_settings_crypto_unlocked  ...  trans_last_3m     last_30d\n",
              "count  3886.000000                    3886.000000  ...    3701.000000  3701.000000\n",
              "mean   1983.576686                       0.175502  ...      35.679816    13.081870\n",
              "std      11.368799                       0.380445  ...      71.126700    27.301154\n",
              "min    1934.000000                       0.000000  ...       0.000000     0.000000\n",
              "25%    1978.000000                       0.000000  ...       0.000000     0.000000\n",
              "50%    1986.000000                       0.000000  ...       9.000000     2.000000\n",
              "75%    1992.000000                       0.000000  ...      38.000000    14.000000\n",
              "max    2001.000000                       1.000000  ...    1209.000000   392.000000\n",
              "\n",
              "[8 rows x 40 columns]"
            ]
          },
          "metadata": {
            "tags": []
          },
          "execution_count": 143
        }
      ]
    },
    {
      "cell_type": "code",
      "metadata": {
        "colab_type": "code",
        "outputId": "5515ee8a-cf4c-42ee-f1a7-79f092563ad4",
        "id": "sC6yfmDmuWzV",
        "colab": {
          "base_uri": "https://localhost:8080/",
          "height": 0
        }
      },
      "source": [
        "us_clas.columns"
      ],
      "execution_count": 144,
      "outputs": [
        {
          "output_type": "execute_result",
          "data": {
            "text/plain": [
              "Index(['user_id', 'birth_year', 'country', 'city', 'created_date',\n",
              "       'user_settings_crypto_unlocked',\n",
              "       'attributes_notifications_marketing_push',\n",
              "       'attributes_notifications_marketing_email', 'num_contacts',\n",
              "       'num_referrals', 'num_successful_referrals', 'user_age', 'date_created',\n",
              "       'subscription_days', 'Cluster', 'GDP_per_capita', 'age_group', 'brand',\n",
              "       'Brand_Apple', 'Other', 'Marketing_ntf', 'Useful_ntf', 'FAILED_x',\n",
              "       'SENT', 'EMAIL', 'PUSH', 'CANCELLED', 'COMPLETED', 'DECLINED',\n",
              "       'FAILED_y', 'PENDING', 'REVERTED', 'ATM', 'CARD_PAYMENT', 'CARD_REFUND',\n",
              "       'EXCHANGE', 'REFUND', 'TAX', 'TOPUP', 'TRANSFER_in', 'TRANSFER_out',\n",
              "       'max_amount_in', 'max_amount_out', 'mean_amount_in', 'mean_amount_out',\n",
              "       'total_in', 'total_out', 'trans_last_3m', 'last_30d'],\n",
              "      dtype='object')"
            ]
          },
          "metadata": {
            "tags": []
          },
          "execution_count": 144
        }
      ]
    },
    {
      "cell_type": "code",
      "metadata": {
        "colab_type": "code",
        "outputId": "f6926e42-4cb6-4048-acfc-982efe8d9e18",
        "id": "-F4X5VfIuWzY",
        "colab": {
          "base_uri": "https://localhost:8080/",
          "height": 0
        }
      },
      "source": [
        "us_clas.drop(columns=[\"birth_year\",'country', 'city', 'created_date','num_referrals', 'num_successful_referrals','date_created','brand','Other',\\\n",
        "                      \"attributes_notifications_marketing_push\",\"attributes_notifications_marketing_email\"],inplace=True)\n",
        "us_clas.columns"
      ],
      "execution_count": 145,
      "outputs": [
        {
          "output_type": "execute_result",
          "data": {
            "text/plain": [
              "Index(['user_id', 'user_settings_crypto_unlocked', 'num_contacts', 'user_age',\n",
              "       'subscription_days', 'Cluster', 'GDP_per_capita', 'age_group',\n",
              "       'Brand_Apple', 'Marketing_ntf', 'Useful_ntf', 'FAILED_x', 'SENT',\n",
              "       'EMAIL', 'PUSH', 'CANCELLED', 'COMPLETED', 'DECLINED', 'FAILED_y',\n",
              "       'PENDING', 'REVERTED', 'ATM', 'CARD_PAYMENT', 'CARD_REFUND', 'EXCHANGE',\n",
              "       'REFUND', 'TAX', 'TOPUP', 'TRANSFER_in', 'TRANSFER_out',\n",
              "       'max_amount_in', 'max_amount_out', 'mean_amount_in', 'mean_amount_out',\n",
              "       'total_in', 'total_out', 'trans_last_3m', 'last_30d'],\n",
              "      dtype='object')"
            ]
          },
          "metadata": {
            "tags": []
          },
          "execution_count": 145
        }
      ]
    },
    {
      "cell_type": "code",
      "metadata": {
        "colab_type": "code",
        "outputId": "49fd5fbb-9c91-4a67-d3a7-fdb42d4a1617",
        "id": "xOhl2nVSuWze",
        "colab": {
          "base_uri": "https://localhost:8080/",
          "height": 0
        }
      },
      "source": [
        "colnames=us_clas.columns\n",
        "df=pd.DataFrame(columns=[\"Column\",\"NumOfMissingVal\",\"UniqueVal\"])\n",
        "for cn in colnames:\n",
        "  df=df.append({\"Column\" : cn,\"NumOfMissingVal\": sum(pd.isna(us_clas[cn])),\"UniqueVal\":len(us_clas[cn].unique())},ignore_index=True)\n",
        "\n",
        "df.T"
      ],
      "execution_count": 146,
      "outputs": [
        {
          "output_type": "execute_result",
          "data": {
            "text/html": [
              "<div>\n",
              "<style scoped>\n",
              "    .dataframe tbody tr th:only-of-type {\n",
              "        vertical-align: middle;\n",
              "    }\n",
              "\n",
              "    .dataframe tbody tr th {\n",
              "        vertical-align: top;\n",
              "    }\n",
              "\n",
              "    .dataframe thead th {\n",
              "        text-align: right;\n",
              "    }\n",
              "</style>\n",
              "<table border=\"1\" class=\"dataframe\">\n",
              "  <thead>\n",
              "    <tr style=\"text-align: right;\">\n",
              "      <th></th>\n",
              "      <th>0</th>\n",
              "      <th>1</th>\n",
              "      <th>2</th>\n",
              "      <th>3</th>\n",
              "      <th>4</th>\n",
              "      <th>5</th>\n",
              "      <th>6</th>\n",
              "      <th>7</th>\n",
              "      <th>8</th>\n",
              "      <th>9</th>\n",
              "      <th>10</th>\n",
              "      <th>11</th>\n",
              "      <th>12</th>\n",
              "      <th>13</th>\n",
              "      <th>14</th>\n",
              "      <th>15</th>\n",
              "      <th>16</th>\n",
              "      <th>17</th>\n",
              "      <th>18</th>\n",
              "      <th>19</th>\n",
              "      <th>20</th>\n",
              "      <th>21</th>\n",
              "      <th>22</th>\n",
              "      <th>23</th>\n",
              "      <th>24</th>\n",
              "      <th>25</th>\n",
              "      <th>26</th>\n",
              "      <th>27</th>\n",
              "      <th>28</th>\n",
              "      <th>29</th>\n",
              "      <th>30</th>\n",
              "      <th>31</th>\n",
              "      <th>32</th>\n",
              "      <th>33</th>\n",
              "      <th>34</th>\n",
              "      <th>35</th>\n",
              "      <th>36</th>\n",
              "      <th>37</th>\n",
              "    </tr>\n",
              "  </thead>\n",
              "  <tbody>\n",
              "    <tr>\n",
              "      <th>Column</th>\n",
              "      <td>user_id</td>\n",
              "      <td>user_settings_crypto_unlocked</td>\n",
              "      <td>num_contacts</td>\n",
              "      <td>user_age</td>\n",
              "      <td>subscription_days</td>\n",
              "      <td>Cluster</td>\n",
              "      <td>GDP_per_capita</td>\n",
              "      <td>age_group</td>\n",
              "      <td>Brand_Apple</td>\n",
              "      <td>Marketing_ntf</td>\n",
              "      <td>Useful_ntf</td>\n",
              "      <td>FAILED_x</td>\n",
              "      <td>SENT</td>\n",
              "      <td>EMAIL</td>\n",
              "      <td>PUSH</td>\n",
              "      <td>CANCELLED</td>\n",
              "      <td>COMPLETED</td>\n",
              "      <td>DECLINED</td>\n",
              "      <td>FAILED_y</td>\n",
              "      <td>PENDING</td>\n",
              "      <td>REVERTED</td>\n",
              "      <td>ATM</td>\n",
              "      <td>CARD_PAYMENT</td>\n",
              "      <td>CARD_REFUND</td>\n",
              "      <td>EXCHANGE</td>\n",
              "      <td>REFUND</td>\n",
              "      <td>TAX</td>\n",
              "      <td>TOPUP</td>\n",
              "      <td>TRANSFER_in</td>\n",
              "      <td>TRANSFER_out</td>\n",
              "      <td>max_amount_in</td>\n",
              "      <td>max_amount_out</td>\n",
              "      <td>mean_amount_in</td>\n",
              "      <td>mean_amount_out</td>\n",
              "      <td>total_in</td>\n",
              "      <td>total_out</td>\n",
              "      <td>trans_last_3m</td>\n",
              "      <td>last_30d</td>\n",
              "    </tr>\n",
              "    <tr>\n",
              "      <th>NumOfMissingVal</th>\n",
              "      <td>0</td>\n",
              "      <td>0</td>\n",
              "      <td>0</td>\n",
              "      <td>0</td>\n",
              "      <td>0</td>\n",
              "      <td>1</td>\n",
              "      <td>1</td>\n",
              "      <td>0</td>\n",
              "      <td>0</td>\n",
              "      <td>213</td>\n",
              "      <td>213</td>\n",
              "      <td>89</td>\n",
              "      <td>89</td>\n",
              "      <td>213</td>\n",
              "      <td>213</td>\n",
              "      <td>137</td>\n",
              "      <td>137</td>\n",
              "      <td>137</td>\n",
              "      <td>137</td>\n",
              "      <td>137</td>\n",
              "      <td>137</td>\n",
              "      <td>185</td>\n",
              "      <td>185</td>\n",
              "      <td>185</td>\n",
              "      <td>185</td>\n",
              "      <td>185</td>\n",
              "      <td>185</td>\n",
              "      <td>185</td>\n",
              "      <td>185</td>\n",
              "      <td>185</td>\n",
              "      <td>220</td>\n",
              "      <td>439</td>\n",
              "      <td>220</td>\n",
              "      <td>439</td>\n",
              "      <td>220</td>\n",
              "      <td>439</td>\n",
              "      <td>185</td>\n",
              "      <td>185</td>\n",
              "    </tr>\n",
              "    <tr>\n",
              "      <th>UniqueVal</th>\n",
              "      <td>3886</td>\n",
              "      <td>2</td>\n",
              "      <td>186</td>\n",
              "      <td>62</td>\n",
              "      <td>367</td>\n",
              "      <td>6</td>\n",
              "      <td>4</td>\n",
              "      <td>4</td>\n",
              "      <td>2</td>\n",
              "      <td>10</td>\n",
              "      <td>15</td>\n",
              "      <td>36</td>\n",
              "      <td>17</td>\n",
              "      <td>11</td>\n",
              "      <td>14</td>\n",
              "      <td>9</td>\n",
              "      <td>594</td>\n",
              "      <td>98</td>\n",
              "      <td>50</td>\n",
              "      <td>23</td>\n",
              "      <td>70</td>\n",
              "      <td>1760</td>\n",
              "      <td>3048</td>\n",
              "      <td>767</td>\n",
              "      <td>1726</td>\n",
              "      <td>118</td>\n",
              "      <td>23</td>\n",
              "      <td>2809</td>\n",
              "      <td>983</td>\n",
              "      <td>2238</td>\n",
              "      <td>974</td>\n",
              "      <td>2381</td>\n",
              "      <td>3095</td>\n",
              "      <td>3363</td>\n",
              "      <td>3017</td>\n",
              "      <td>3359</td>\n",
              "      <td>290</td>\n",
              "      <td>152</td>\n",
              "    </tr>\n",
              "  </tbody>\n",
              "</table>\n",
              "</div>"
            ],
            "text/plain": [
              "                       0  ...        37\n",
              "Column           user_id  ...  last_30d\n",
              "NumOfMissingVal        0  ...       185\n",
              "UniqueVal           3886  ...       152\n",
              "\n",
              "[3 rows x 38 columns]"
            ]
          },
          "metadata": {
            "tags": []
          },
          "execution_count": 146
        }
      ]
    },
    {
      "cell_type": "code",
      "metadata": {
        "colab_type": "code",
        "id": "ZbAAgkyMuWzh",
        "colab": {}
      },
      "source": [
        "#Fill NaNs\n",
        "\n",
        "#Notification type\n",
        "#us_clas.Mostly_paid_notif.fillna(0,inplace=True)\n",
        "us_clas.Marketing_ntf.fillna(0,inplace=True)\n",
        "us_clas.Useful_ntf.fillna(0,inplace=True)\n",
        "#Notification Status\n",
        "us_clas.FAILED_x.fillna(0,inplace=True)\n",
        "us_clas.SENT.fillna(0,inplace=True)\n",
        "#Notification channel\n",
        "us_clas.EMAIL.fillna(0,inplace=True)\n",
        "us_clas.PUSH.fillna(0,inplace=True)\n",
        "\n",
        "#Transaction status\n",
        "us_clas.CANCELLED.fillna(0,inplace=True)\n",
        "us_clas.COMPLETED.fillna(0,inplace=True)\n",
        "us_clas.DECLINED.fillna(0,inplace=True)\n",
        "us_clas.FAILED_y.fillna(0,inplace=True)\n",
        "us_clas.PENDING.fillna(0,inplace=True)\n",
        "us_clas.REVERTED.fillna(0,inplace=True)\n",
        "#Transaction type\n",
        "us_clas.ATM.fillna(0,inplace=True)\n",
        "us_clas.CARD_PAYMENT.fillna(0,inplace=True)\n",
        "us_clas.CARD_REFUND.fillna(0,inplace=True)\n",
        "#us_clas.CASHBACK.fillna(0,inplace=True)\n",
        "us_clas.EXCHANGE.fillna(0,inplace=True)\n",
        "#us_clas.FEE.fillna(0,inplace=True)\n",
        "us_clas.REFUND.fillna(0,inplace=True)\n",
        "us_clas.TAX.fillna(0,inplace=True)\n",
        "us_clas.TOPUP.fillna(0,inplace=True)\n",
        "us_clas.TRANSFER_in.fillna(0,inplace=True)\n",
        "us_clas.TRANSFER_out.fillna(0,inplace=True)\n",
        "#Transaction amount\n",
        "us_clas.max_amount_in.fillna(0,inplace=True)\n",
        "us_clas.max_amount_out.fillna(0,inplace=True)\n",
        "us_clas.mean_amount_in.fillna(0,inplace=True)\n",
        "us_clas.mean_amount_out.fillna(0,inplace=True)\n",
        "us_clas.total_in.fillna(0,inplace=True)\n",
        "us_clas.total_out.fillna(0,inplace=True)\n",
        "#Transaction last months\n",
        "us_clas.trans_last_3m.fillna(0,inplace=True)\n",
        "us_clas.last_30d.fillna(0,inplace=True)"
      ],
      "execution_count": 0,
      "outputs": []
    },
    {
      "cell_type": "code",
      "metadata": {
        "colab_type": "code",
        "outputId": "e8eed7a0-98d4-44e4-bb9f-af833ff6fc87",
        "id": "p_9rba2buWzk",
        "colab": {
          "base_uri": "https://localhost:8080/",
          "height": 0
        }
      },
      "source": [
        "colnames=us_clas.columns\n",
        "df=pd.DataFrame(columns=[\"Column\",\"NumOfMissingVal\",\"UniqueVal\"])\n",
        "for cn in colnames:\n",
        "  df=df.append({\"Column\" : cn,\"NumOfMissingVal\": sum(pd.isna(us_clas[cn])),\"UniqueVal\":len(us_clas[cn].unique())},ignore_index=True)\n",
        "\n",
        "df.T"
      ],
      "execution_count": 148,
      "outputs": [
        {
          "output_type": "execute_result",
          "data": {
            "text/html": [
              "<div>\n",
              "<style scoped>\n",
              "    .dataframe tbody tr th:only-of-type {\n",
              "        vertical-align: middle;\n",
              "    }\n",
              "\n",
              "    .dataframe tbody tr th {\n",
              "        vertical-align: top;\n",
              "    }\n",
              "\n",
              "    .dataframe thead th {\n",
              "        text-align: right;\n",
              "    }\n",
              "</style>\n",
              "<table border=\"1\" class=\"dataframe\">\n",
              "  <thead>\n",
              "    <tr style=\"text-align: right;\">\n",
              "      <th></th>\n",
              "      <th>0</th>\n",
              "      <th>1</th>\n",
              "      <th>2</th>\n",
              "      <th>3</th>\n",
              "      <th>4</th>\n",
              "      <th>5</th>\n",
              "      <th>6</th>\n",
              "      <th>7</th>\n",
              "      <th>8</th>\n",
              "      <th>9</th>\n",
              "      <th>10</th>\n",
              "      <th>11</th>\n",
              "      <th>12</th>\n",
              "      <th>13</th>\n",
              "      <th>14</th>\n",
              "      <th>15</th>\n",
              "      <th>16</th>\n",
              "      <th>17</th>\n",
              "      <th>18</th>\n",
              "      <th>19</th>\n",
              "      <th>20</th>\n",
              "      <th>21</th>\n",
              "      <th>22</th>\n",
              "      <th>23</th>\n",
              "      <th>24</th>\n",
              "      <th>25</th>\n",
              "      <th>26</th>\n",
              "      <th>27</th>\n",
              "      <th>28</th>\n",
              "      <th>29</th>\n",
              "      <th>30</th>\n",
              "      <th>31</th>\n",
              "      <th>32</th>\n",
              "      <th>33</th>\n",
              "      <th>34</th>\n",
              "      <th>35</th>\n",
              "      <th>36</th>\n",
              "      <th>37</th>\n",
              "    </tr>\n",
              "  </thead>\n",
              "  <tbody>\n",
              "    <tr>\n",
              "      <th>Column</th>\n",
              "      <td>user_id</td>\n",
              "      <td>user_settings_crypto_unlocked</td>\n",
              "      <td>num_contacts</td>\n",
              "      <td>user_age</td>\n",
              "      <td>subscription_days</td>\n",
              "      <td>Cluster</td>\n",
              "      <td>GDP_per_capita</td>\n",
              "      <td>age_group</td>\n",
              "      <td>Brand_Apple</td>\n",
              "      <td>Marketing_ntf</td>\n",
              "      <td>Useful_ntf</td>\n",
              "      <td>FAILED_x</td>\n",
              "      <td>SENT</td>\n",
              "      <td>EMAIL</td>\n",
              "      <td>PUSH</td>\n",
              "      <td>CANCELLED</td>\n",
              "      <td>COMPLETED</td>\n",
              "      <td>DECLINED</td>\n",
              "      <td>FAILED_y</td>\n",
              "      <td>PENDING</td>\n",
              "      <td>REVERTED</td>\n",
              "      <td>ATM</td>\n",
              "      <td>CARD_PAYMENT</td>\n",
              "      <td>CARD_REFUND</td>\n",
              "      <td>EXCHANGE</td>\n",
              "      <td>REFUND</td>\n",
              "      <td>TAX</td>\n",
              "      <td>TOPUP</td>\n",
              "      <td>TRANSFER_in</td>\n",
              "      <td>TRANSFER_out</td>\n",
              "      <td>max_amount_in</td>\n",
              "      <td>max_amount_out</td>\n",
              "      <td>mean_amount_in</td>\n",
              "      <td>mean_amount_out</td>\n",
              "      <td>total_in</td>\n",
              "      <td>total_out</td>\n",
              "      <td>trans_last_3m</td>\n",
              "      <td>last_30d</td>\n",
              "    </tr>\n",
              "    <tr>\n",
              "      <th>NumOfMissingVal</th>\n",
              "      <td>0</td>\n",
              "      <td>0</td>\n",
              "      <td>0</td>\n",
              "      <td>0</td>\n",
              "      <td>0</td>\n",
              "      <td>1</td>\n",
              "      <td>1</td>\n",
              "      <td>0</td>\n",
              "      <td>0</td>\n",
              "      <td>0</td>\n",
              "      <td>0</td>\n",
              "      <td>0</td>\n",
              "      <td>0</td>\n",
              "      <td>0</td>\n",
              "      <td>0</td>\n",
              "      <td>0</td>\n",
              "      <td>0</td>\n",
              "      <td>0</td>\n",
              "      <td>0</td>\n",
              "      <td>0</td>\n",
              "      <td>0</td>\n",
              "      <td>0</td>\n",
              "      <td>0</td>\n",
              "      <td>0</td>\n",
              "      <td>0</td>\n",
              "      <td>0</td>\n",
              "      <td>0</td>\n",
              "      <td>0</td>\n",
              "      <td>0</td>\n",
              "      <td>0</td>\n",
              "      <td>0</td>\n",
              "      <td>0</td>\n",
              "      <td>0</td>\n",
              "      <td>0</td>\n",
              "      <td>0</td>\n",
              "      <td>0</td>\n",
              "      <td>0</td>\n",
              "      <td>0</td>\n",
              "    </tr>\n",
              "    <tr>\n",
              "      <th>UniqueVal</th>\n",
              "      <td>3886</td>\n",
              "      <td>2</td>\n",
              "      <td>186</td>\n",
              "      <td>62</td>\n",
              "      <td>367</td>\n",
              "      <td>6</td>\n",
              "      <td>4</td>\n",
              "      <td>4</td>\n",
              "      <td>2</td>\n",
              "      <td>9</td>\n",
              "      <td>14</td>\n",
              "      <td>35</td>\n",
              "      <td>16</td>\n",
              "      <td>10</td>\n",
              "      <td>13</td>\n",
              "      <td>8</td>\n",
              "      <td>593</td>\n",
              "      <td>97</td>\n",
              "      <td>49</td>\n",
              "      <td>22</td>\n",
              "      <td>69</td>\n",
              "      <td>1759</td>\n",
              "      <td>3047</td>\n",
              "      <td>766</td>\n",
              "      <td>1725</td>\n",
              "      <td>117</td>\n",
              "      <td>22</td>\n",
              "      <td>2808</td>\n",
              "      <td>982</td>\n",
              "      <td>2237</td>\n",
              "      <td>974</td>\n",
              "      <td>2381</td>\n",
              "      <td>3095</td>\n",
              "      <td>3363</td>\n",
              "      <td>3017</td>\n",
              "      <td>3359</td>\n",
              "      <td>289</td>\n",
              "      <td>151</td>\n",
              "    </tr>\n",
              "  </tbody>\n",
              "</table>\n",
              "</div>"
            ],
            "text/plain": [
              "                       0  ...        37\n",
              "Column           user_id  ...  last_30d\n",
              "NumOfMissingVal        0  ...         0\n",
              "UniqueVal           3886  ...       151\n",
              "\n",
              "[3 rows x 38 columns]"
            ]
          },
          "metadata": {
            "tags": []
          },
          "execution_count": 148
        }
      ]
    },
    {
      "cell_type": "code",
      "metadata": {
        "colab_type": "code",
        "id": "1ANiIOnMuWzn",
        "colab": {}
      },
      "source": [
        "us_clas.to_csv(\"/content/drive/My Drive/Project Future/Project/Classification Test/test_clas.csv\",index=False)"
      ],
      "execution_count": 0,
      "outputs": []
    },
    {
      "cell_type": "markdown",
      "metadata": {
        "colab_type": "text",
        "id": "0R3HscMLwB14"
      },
      "source": [
        "#Classificator use"
      ]
    },
    {
      "cell_type": "code",
      "metadata": {
        "colab_type": "code",
        "outputId": "aef1c5df-3504-4c9f-a997-03124afc5f37",
        "id": "42x3oMmgwB1-",
        "colab": {
          "base_uri": "https://localhost:8080/",
          "height": 163
        }
      },
      "source": [
        "us_clas_test=us_clas\n",
        "us_clas_test.columns"
      ],
      "execution_count": 150,
      "outputs": [
        {
          "output_type": "execute_result",
          "data": {
            "text/plain": [
              "Index(['user_id', 'user_settings_crypto_unlocked', 'num_contacts', 'user_age',\n",
              "       'subscription_days', 'Cluster', 'GDP_per_capita', 'age_group',\n",
              "       'Brand_Apple', 'Marketing_ntf', 'Useful_ntf', 'FAILED_x', 'SENT',\n",
              "       'EMAIL', 'PUSH', 'CANCELLED', 'COMPLETED', 'DECLINED', 'FAILED_y',\n",
              "       'PENDING', 'REVERTED', 'ATM', 'CARD_PAYMENT', 'CARD_REFUND', 'EXCHANGE',\n",
              "       'REFUND', 'TAX', 'TOPUP', 'TRANSFER_in', 'TRANSFER_out',\n",
              "       'max_amount_in', 'max_amount_out', 'mean_amount_in', 'mean_amount_out',\n",
              "       'total_in', 'total_out', 'trans_last_3m', 'last_30d'],\n",
              "      dtype='object')"
            ]
          },
          "metadata": {
            "tags": []
          },
          "execution_count": 150
        }
      ]
    },
    {
      "cell_type": "code",
      "metadata": {
        "colab_type": "code",
        "outputId": "9050bb2f-41f5-4148-dfe4-c08cae3d4a8e",
        "id": "KfmAZbeFwB2A",
        "colab": {
          "base_uri": "https://localhost:8080/",
          "height": 180
        }
      },
      "source": [
        "us_clas_test.rename(columns={\"user_settings_crypto_unlocked\":\"crypto_unlocked\",\"grouped_plan\":\"paid\",\"Cluster\":\"country_cluster\",\\\n",
        "                        \"FAILED_x\":\"FAILED_ntf\",\"SENT\":\"SENT_ntf\",'CANCELLED':\"CANCELLED_trs\",'COMPLETED':\"COMPLETED_trs\", 'DECLINED':\"DECLINED_trs\",\\\n",
        "                        'FAILED_y':\"FAILED_trs\", 'PENDING':\"PENDING_trs\", 'REVERTED':\"REVERTED_trs\", 'ATM':\"ATM_type\",'CARD_PAYMENT':\"CARD_PAYMENT_type\",\\\n",
        "                        'CARD_REFUND':\"CARD_REFUND_type\", 'CASHBACK':\"CASHBACK_type\", 'EXCHANGE':\"EXCHANGE_type\", 'FEE':\"FEE_type\", 'REFUND':\"REFUND_type\",\\\n",
        "                        'TAX':\"TAX_type\", 'TOPUP':\"TOPUP_type\", 'TRANSFER':\"TRANSFER_type\"},inplace=True)\n",
        "us_clas_test.columns"
      ],
      "execution_count": 151,
      "outputs": [
        {
          "output_type": "execute_result",
          "data": {
            "text/plain": [
              "Index(['user_id', 'crypto_unlocked', 'num_contacts', 'user_age',\n",
              "       'subscription_days', 'country_cluster', 'GDP_per_capita', 'age_group',\n",
              "       'Brand_Apple', 'Marketing_ntf', 'Useful_ntf', 'FAILED_ntf', 'SENT_ntf',\n",
              "       'EMAIL', 'PUSH', 'CANCELLED_trs', 'COMPLETED_trs', 'DECLINED_trs',\n",
              "       'FAILED_trs', 'PENDING_trs', 'REVERTED_trs', 'ATM_type',\n",
              "       'CARD_PAYMENT_type', 'CARD_REFUND_type', 'EXCHANGE_type', 'REFUND_type',\n",
              "       'TAX_type', 'TOPUP_type', 'TRANSFER_in', 'TRANSFER_out',\n",
              "       'max_amount_in', 'max_amount_out', 'mean_amount_in', 'mean_amount_out',\n",
              "       'total_in', 'total_out', 'trans_last_3m', 'last_30d'],\n",
              "      dtype='object')"
            ]
          },
          "metadata": {
            "tags": []
          },
          "execution_count": 151
        }
      ]
    },
    {
      "cell_type": "code",
      "metadata": {
        "colab_type": "code",
        "outputId": "53dba7fe-18a6-44a5-a8b8-7a4a9aca8197",
        "id": "-PTHJvexwB2D",
        "colab": {
          "base_uri": "https://localhost:8080/",
          "height": 66
        }
      },
      "source": [
        "print(us_clas_test.shape)\n",
        "\n",
        "test2=us_clas_test.drop(columns=drop_col_clas)\n",
        "\n",
        "#test2=pd.get_dummies(test2,columns=[\"age_group\"])\n",
        "test2=pd.get_dummies(test2,columns=[\"GDP_per_capita\"])\n",
        "#test2=pd.get_dummies(test2,columns=[\"country_cluster\"])\n",
        "\n",
        "print(test.shape)\n",
        "test.columns"
      ],
      "execution_count": 152,
      "outputs": [
        {
          "output_type": "stream",
          "text": [
            "(3886, 38)\n",
            "(18, 1)\n"
          ],
          "name": "stdout"
        },
        {
          "output_type": "execute_result",
          "data": {
            "text/plain": [
              "Index(['user_id'], dtype='object')"
            ]
          },
          "metadata": {
            "tags": []
          },
          "execution_count": 152
        }
      ]
    },
    {
      "cell_type": "code",
      "metadata": {
        "colab_type": "code",
        "outputId": "f120df47-dcfe-4dbf-96f7-cf8582f7f6ff",
        "id": "Z1XJFe8PwB2I",
        "colab": {
          "base_uri": "https://localhost:8080/",
          "height": 33
        }
      },
      "source": [
        "X_use_test=test2.drop(columns=[\"user_id\"]).to_numpy()\n",
        "print(np.shape(X_use_test))"
      ],
      "execution_count": 153,
      "outputs": [
        {
          "output_type": "stream",
          "text": [
            "(3886, 39)\n"
          ],
          "name": "stdout"
        }
      ]
    },
    {
      "cell_type": "code",
      "metadata": {
        "colab_type": "code",
        "outputId": "9215f744-5dad-46e6-a64c-f7d286a23642",
        "id": "8sDRnayiwB2Q",
        "colab": {
          "base_uri": "https://localhost:8080/",
          "height": 66
        }
      },
      "source": [
        "y_pred=gs.predict(X_test)\n",
        "y_pred=pd.DataFrame({\"Paid\":y_pred})\n",
        "y_pred.Paid.value_counts()"
      ],
      "execution_count": 154,
      "outputs": [
        {
          "output_type": "execute_result",
          "data": {
            "text/plain": [
              "0.0    3990\n",
              "1.0     210\n",
              "Name: Paid, dtype: int64"
            ]
          },
          "metadata": {
            "tags": []
          },
          "execution_count": 154
        }
      ]
    },
    {
      "cell_type": "code",
      "metadata": {
        "id": "8qHLrZUpKDCW",
        "colab_type": "code",
        "colab": {
          "base_uri": "https://localhost:8080/",
          "height": 191
        },
        "outputId": "688ead67-7f6d-4eff-e3e2-a1d3d5d6214f"
      },
      "source": [
        "test2[\"prediction\"]=y_pred\n",
        "\n",
        "test2 = test2[['user_id','prediction']]\n",
        "\n",
        "test2.head()"
      ],
      "execution_count": 158,
      "outputs": [
        {
          "output_type": "execute_result",
          "data": {
            "text/html": [
              "<div>\n",
              "<style scoped>\n",
              "    .dataframe tbody tr th:only-of-type {\n",
              "        vertical-align: middle;\n",
              "    }\n",
              "\n",
              "    .dataframe tbody tr th {\n",
              "        vertical-align: top;\n",
              "    }\n",
              "\n",
              "    .dataframe thead th {\n",
              "        text-align: right;\n",
              "    }\n",
              "</style>\n",
              "<table border=\"1\" class=\"dataframe\">\n",
              "  <thead>\n",
              "    <tr style=\"text-align: right;\">\n",
              "      <th></th>\n",
              "      <th>user_id</th>\n",
              "      <th>prediction</th>\n",
              "    </tr>\n",
              "  </thead>\n",
              "  <tbody>\n",
              "    <tr>\n",
              "      <th>0</th>\n",
              "      <td>user_2</td>\n",
              "      <td>0.0</td>\n",
              "    </tr>\n",
              "    <tr>\n",
              "      <th>1</th>\n",
              "      <td>user_8</td>\n",
              "      <td>0.0</td>\n",
              "    </tr>\n",
              "    <tr>\n",
              "      <th>2</th>\n",
              "      <td>user_10</td>\n",
              "      <td>0.0</td>\n",
              "    </tr>\n",
              "    <tr>\n",
              "      <th>3</th>\n",
              "      <td>user_13</td>\n",
              "      <td>0.0</td>\n",
              "    </tr>\n",
              "    <tr>\n",
              "      <th>4</th>\n",
              "      <td>user_17</td>\n",
              "      <td>1.0</td>\n",
              "    </tr>\n",
              "  </tbody>\n",
              "</table>\n",
              "</div>"
            ],
            "text/plain": [
              "   user_id  prediction\n",
              "0   user_2         0.0\n",
              "1   user_8         0.0\n",
              "2  user_10         0.0\n",
              "3  user_13         0.0\n",
              "4  user_17         1.0"
            ]
          },
          "metadata": {
            "tags": []
          },
          "execution_count": 158
        }
      ]
    },
    {
      "cell_type": "code",
      "metadata": {
        "id": "rN5t8HeRVFSr",
        "colab_type": "code",
        "colab": {}
      },
      "source": [
        "test2.to_csv(\"/content/drive/My Drive/Project Future/Project/test/test_preds.csv\")"
      ],
      "execution_count": 0,
      "outputs": []
    },
    {
      "cell_type": "code",
      "metadata": {
        "id": "_5HQYR7-WNZj",
        "colab_type": "code",
        "colab": {}
      },
      "source": [
        ""
      ],
      "execution_count": 0,
      "outputs": []
    }
  ]
}